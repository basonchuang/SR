{
 "cells": [
  {
   "cell_type": "markdown",
   "id": "fad933f7",
   "metadata": {
    "heading_collapsed": true
   },
   "source": [
    "# 載入套件"
   ]
  },
  {
   "cell_type": "code",
   "execution_count": 1,
   "id": "2603f92d",
   "metadata": {
    "ExecuteTime": {
     "end_time": "2022-09-02T15:53:53.038084Z",
     "start_time": "2022-09-02T15:53:51.394087Z"
    },
    "hidden": true,
    "scrolled": true
   },
   "outputs": [
    {
     "name": "stderr",
     "output_type": "stream",
     "text": [
      "Using TensorFlow backend.\n"
     ]
    }
   ],
   "source": [
    "import numpy as np\n",
    "import scipy.io.wavfile as wav\n",
    "import pandas as pd\n",
    "import tensorflow as tf\n",
    "import matplotlib.pyplot as plt\n",
    "import os, time, glob, json, csv\n",
    "import librosa.display\n",
    "\n",
    "from python_speech_features import mfcc\n",
    "from sklearn.model_selection import cross_val_score\n",
    "from sklearn.neighbors import KNeighborsClassifier\n",
    "from sklearn.model_selection import train_test_split\n",
    "from sklearn.metrics import f1_score, precision_score, recall_score, confusion_matrix, classification_report\n",
    "from sklearn.preprocessing import StandardScaler\n",
    "from keras.models import Sequential, load_model\n",
    "from keras.callbacks import ModelCheckpoint\n",
    "from keras.layers import Dense, Dropout, LSTM, Flatten, Embedding, GRU, InputLayer, Reshape\n",
    "from tensorflow import keras\n",
    "from keras.utils import to_categorical, plot_model\n",
    "#from wave import open"
   ]
  },
  {
   "cell_type": "markdown",
   "id": "1110e425",
   "metadata": {
    "heading_collapsed": true
   },
   "source": [
    "# 限制GPU記憶體使用"
   ]
  },
  {
   "cell_type": "code",
   "execution_count": 2,
   "id": "c794c357",
   "metadata": {
    "ExecuteTime": {
     "end_time": "2022-09-02T15:53:56.299065Z",
     "start_time": "2022-09-02T15:53:55.945147Z"
    },
    "hidden": true
   },
   "outputs": [
    {
     "name": "stderr",
     "output_type": "stream",
     "text": [
      "2022-09-02 23:53:55.952633: I tensorflow/stream_executor/platform/default/dso_loader.cc:44] Successfully opened dynamic library libcuda.so.1\n",
      "2022-09-02 23:53:56.007009: I tensorflow/stream_executor/cuda/cuda_gpu_executor.cc:981] successful NUMA node read from SysFS had negative value (-1), but there must be at least one NUMA node, so returning NUMA node zero\n",
      "2022-09-02 23:53:56.007235: I tensorflow/core/common_runtime/gpu/gpu_device.cc:1561] Found device 0 with properties: \n",
      "pciBusID: 0000:01:00.0 name: NVIDIA GeForce RTX 3090 computeCapability: 8.6\n",
      "coreClock: 1.695GHz coreCount: 82 deviceMemorySize: 23.70GiB deviceMemoryBandwidth: 871.81GiB/s\n",
      "2022-09-02 23:53:56.007614: I tensorflow/stream_executor/platform/default/dso_loader.cc:44] Successfully opened dynamic library libcudart.so.10.1\n",
      "2022-09-02 23:53:56.010563: I tensorflow/stream_executor/platform/default/dso_loader.cc:44] Successfully opened dynamic library libcublas.so.10\n",
      "2022-09-02 23:53:56.012690: I tensorflow/stream_executor/platform/default/dso_loader.cc:44] Successfully opened dynamic library libcufft.so.10\n",
      "2022-09-02 23:53:56.013074: I tensorflow/stream_executor/platform/default/dso_loader.cc:44] Successfully opened dynamic library libcurand.so.10\n",
      "2022-09-02 23:53:56.015451: I tensorflow/stream_executor/platform/default/dso_loader.cc:44] Successfully opened dynamic library libcusolver.so.10\n",
      "2022-09-02 23:53:56.016588: I tensorflow/stream_executor/platform/default/dso_loader.cc:44] Successfully opened dynamic library libcusparse.so.10\n",
      "2022-09-02 23:53:56.020731: I tensorflow/stream_executor/platform/default/dso_loader.cc:44] Successfully opened dynamic library libcudnn.so.7\n",
      "2022-09-02 23:53:56.020863: I tensorflow/stream_executor/cuda/cuda_gpu_executor.cc:981] successful NUMA node read from SysFS had negative value (-1), but there must be at least one NUMA node, so returning NUMA node zero\n",
      "2022-09-02 23:53:56.021052: I tensorflow/stream_executor/cuda/cuda_gpu_executor.cc:981] successful NUMA node read from SysFS had negative value (-1), but there must be at least one NUMA node, so returning NUMA node zero\n",
      "2022-09-02 23:53:56.021136: I tensorflow/core/common_runtime/gpu/gpu_device.cc:1703] Adding visible gpu devices: 0\n",
      "2022-09-02 23:53:56.022329: I tensorflow/core/platform/cpu_feature_guard.cc:143] Your CPU supports instructions that this TensorFlow binary was not compiled to use: SSE4.1 SSE4.2 AVX AVX2 FMA\n",
      "2022-09-02 23:53:56.048639: I tensorflow/core/platform/profile_utils/cpu_utils.cc:102] CPU Frequency: 2799925000 Hz\n",
      "2022-09-02 23:53:56.049408: I tensorflow/compiler/xla/service/service.cc:168] XLA service 0x562952149240 initialized for platform Host (this does not guarantee that XLA will be used). Devices:\n",
      "2022-09-02 23:53:56.049420: I tensorflow/compiler/xla/service/service.cc:176]   StreamExecutor device (0): Host, Default Version\n",
      "2022-09-02 23:53:56.294622: I tensorflow/stream_executor/cuda/cuda_gpu_executor.cc:981] successful NUMA node read from SysFS had negative value (-1), but there must be at least one NUMA node, so returning NUMA node zero\n",
      "2022-09-02 23:53:56.294743: I tensorflow/compiler/xla/service/service.cc:168] XLA service 0x5629520cd000 initialized for platform CUDA (this does not guarantee that XLA will be used). Devices:\n",
      "2022-09-02 23:53:56.294754: I tensorflow/compiler/xla/service/service.cc:176]   StreamExecutor device (0): NVIDIA GeForce RTX 3090, Compute Capability 8.6\n",
      "2022-09-02 23:53:56.294914: I tensorflow/stream_executor/cuda/cuda_gpu_executor.cc:981] successful NUMA node read from SysFS had negative value (-1), but there must be at least one NUMA node, so returning NUMA node zero\n",
      "2022-09-02 23:53:56.294981: I tensorflow/core/common_runtime/gpu/gpu_device.cc:1561] Found device 0 with properties: \n",
      "pciBusID: 0000:01:00.0 name: NVIDIA GeForce RTX 3090 computeCapability: 8.6\n",
      "coreClock: 1.695GHz coreCount: 82 deviceMemorySize: 23.70GiB deviceMemoryBandwidth: 871.81GiB/s\n",
      "2022-09-02 23:53:56.295017: I tensorflow/stream_executor/platform/default/dso_loader.cc:44] Successfully opened dynamic library libcudart.so.10.1\n",
      "2022-09-02 23:53:56.295031: I tensorflow/stream_executor/platform/default/dso_loader.cc:44] Successfully opened dynamic library libcublas.so.10\n",
      "2022-09-02 23:53:56.295043: I tensorflow/stream_executor/platform/default/dso_loader.cc:44] Successfully opened dynamic library libcufft.so.10\n",
      "2022-09-02 23:53:56.295056: I tensorflow/stream_executor/platform/default/dso_loader.cc:44] Successfully opened dynamic library libcurand.so.10\n",
      "2022-09-02 23:53:56.295068: I tensorflow/stream_executor/platform/default/dso_loader.cc:44] Successfully opened dynamic library libcusolver.so.10\n",
      "2022-09-02 23:53:56.295080: I tensorflow/stream_executor/platform/default/dso_loader.cc:44] Successfully opened dynamic library libcusparse.so.10\n",
      "2022-09-02 23:53:56.295093: I tensorflow/stream_executor/platform/default/dso_loader.cc:44] Successfully opened dynamic library libcudnn.so.7\n",
      "2022-09-02 23:53:56.295132: I tensorflow/stream_executor/cuda/cuda_gpu_executor.cc:981] successful NUMA node read from SysFS had negative value (-1), but there must be at least one NUMA node, so returning NUMA node zero\n",
      "2022-09-02 23:53:56.295215: I tensorflow/stream_executor/cuda/cuda_gpu_executor.cc:981] successful NUMA node read from SysFS had negative value (-1), but there must be at least one NUMA node, so returning NUMA node zero\n",
      "2022-09-02 23:53:56.295270: I tensorflow/core/common_runtime/gpu/gpu_device.cc:1703] Adding visible gpu devices: 0\n",
      "2022-09-02 23:53:56.295297: I tensorflow/stream_executor/platform/default/dso_loader.cc:44] Successfully opened dynamic library libcudart.so.10.1\n",
      "2022-09-02 23:53:56.295435: I tensorflow/core/common_runtime/gpu/gpu_device.cc:1102] Device interconnect StreamExecutor with strength 1 edge matrix:\n",
      "2022-09-02 23:53:56.295443: I tensorflow/core/common_runtime/gpu/gpu_device.cc:1108]      0 \n",
      "2022-09-02 23:53:56.295445: I tensorflow/core/common_runtime/gpu/gpu_device.cc:1121] 0:   N \n",
      "2022-09-02 23:53:56.295488: I tensorflow/stream_executor/cuda/cuda_gpu_executor.cc:981] successful NUMA node read from SysFS had negative value (-1), but there must be at least one NUMA node, so returning NUMA node zero\n",
      "2022-09-02 23:53:56.295573: I tensorflow/stream_executor/cuda/cuda_gpu_executor.cc:981] successful NUMA node read from SysFS had negative value (-1), but there must be at least one NUMA node, so returning NUMA node zero\n",
      "2022-09-02 23:53:56.295641: I tensorflow/core/common_runtime/gpu/gpu_device.cc:1247] Created TensorFlow device (/job:localhost/replica:0/task:0/device:GPU:0 with 4096 MB memory) -> physical GPU (device: 0, name: NVIDIA GeForce RTX 3090, pci bus id: 0000:01:00.0, compute capability: 8.6)\n"
     ]
    }
   ],
   "source": [
    "physical_gpus = tf.config.list_physical_devices(\"GPU\")\n",
    "tf.config.experimental.set_virtual_device_configuration(\n",
    "    physical_gpus[0],\n",
    "    [tf.config.experimental.VirtualDeviceConfiguration(memory_limit=4096)] \n",
    ")\n",
    "logical_gpus = tf.config.list_logical_devices(\"GPU\")"
   ]
  },
  {
   "cell_type": "markdown",
   "id": "40c6dc79",
   "metadata": {},
   "source": [
    "# 準備資料"
   ]
  },
  {
   "cell_type": "code",
   "execution_count": 3,
   "id": "de9c4fca",
   "metadata": {
    "ExecuteTime": {
     "end_time": "2022-09-02T15:53:59.314916Z",
     "start_time": "2022-09-02T15:53:59.303761Z"
    },
    "code_folding": []
   },
   "outputs": [],
   "source": [
    "# https://ithelp.ithome.com.tw/articles/10195763\n",
    "\n",
    "DATA_PATH = \"./dataset/data_sr/x/\"\n",
    "def get_labels(path=DATA_PATH):\n",
    "    labels = os.listdir(path)\n",
    "    label_indices = np.arange(0, len(labels))\n",
    "    return labels, label_indices, to_categorical(label_indices)\n",
    "\n",
    "# Handy function to convert wav2mfcc\n",
    "def wav2mfcc(file_path, max_pad_len):\n",
    "    try:\n",
    "        wave, sr = librosa.load(file_path, mono=True, sr=44100)\n",
    "\n",
    "        mfcc = librosa.feature.mfcc(y=wave, sr=sr)\n",
    "        pad_width = max_pad_len - mfcc.shape[1]\n",
    "        if pad_width < 0:\n",
    "            pad_width = 0\n",
    "            mfcc = mfcc[:,:max_pad_len]\n",
    "        mfcc = np.pad(mfcc, pad_width=((0, 0), (0, pad_width)), mode='constant')\n",
    "        return mfcc\n",
    "        \n",
    "    except:\n",
    "        print(file_path)\n",
    "\n",
    "def save_data_to_array(path=DATA_PATH, max_pad_len=104):\n",
    "    labels, _, _ = get_labels(path)\n",
    "\n",
    "    for label in labels:\n",
    "        # Init mfcc vectors\n",
    "        mfcc_vectors = []\n",
    "\n",
    "        wavfiles = [path + label + '/' + wavfile for wavfile in os.listdir(path + '/' + label)]\n",
    "        for wavfile in wavfiles:\n",
    "            mfcc = wav2mfcc(wavfile, max_pad_len=max_pad_len)\n",
    "            mfcc_vectors.append(mfcc)\n",
    "        print(label+\".npy\", mfcc_vectors)\n",
    "        np.save(label + '.npy', mfcc_vectors)\n",
    "\n",
    "\n",
    "def get_train_test(split_ratio=0.8, random_state=42):\n",
    "    # Get available labels\n",
    "    labels, indices, _ = get_labels(DATA_PATH)\n",
    "\n",
    "    \n",
    "    # Getting first arrays\n",
    "    X = np.load(labels[0] + '.npy', allow_pickle=True)\n",
    "    y = np.zeros(X.shape[0])\n",
    "    \n",
    "\n",
    "    # Append all of the dataset into one single array, same goes for y\n",
    "    for i, label in enumerate(labels[1:]):\n",
    "        x = np.load(label + '.npy', allow_pickle=True)\n",
    "        X = np.vstack((X, x))\n",
    "        y = np.append(y, np.full(x.shape[0], fill_value= (i + 1)))\n",
    "\n",
    "    assert X.shape[0] == len(y)\n",
    "    \n",
    "    X_train, X_temp, y_train, y_temp = train_test_split(X, y, test_size=(1 - split_ratio), random_state=random_state, shuffle=True)\n",
    "    X_test, X_valid, y_test, y_valid = train_test_split(X_temp, y_temp, test_size=0.5, random_state=random_state, shuffle=True)\n",
    "\n",
    "    return X_train, X_test, X_valid, y_train, y_test, y_valid\n",
    "\n",
    "def prepare_dataset(path=DATA_PATH):\n",
    "    labels, _, _ = get_labels(path)\n",
    "    data = {}\n",
    "    for label in labels:\n",
    "        data[label] = {}\n",
    "        data[label]['path'] = [path  + label + '/' + wavfile for wavfile in os.listdir(path + '/' + label)]\n",
    "\n",
    "        vectors = []\n",
    "\n",
    "        for wavfile in data[label]['path']:\n",
    "            wave, sr = librosa.load(wavfile, mono=True, sr=44100)\n",
    "            # Downsampling\n",
    "            wave = wave[::3]\n",
    "            mfcc = librosa.feature.mfcc(wave)\n",
    "            vectors.append(mfcc)\n",
    "\n",
    "        data[label]['mfcc'] = vectors\n",
    "\n",
    "    return data\n",
    "\n",
    "\n",
    "def load_dataset(path=DATA_PATH):\n",
    "    data = prepare_dataset(path)\n",
    "\n",
    "    dataset = []\n",
    "\n",
    "    for key in data:\n",
    "        for mfcc in data[key]['mfcc']:\n",
    "            dataset.append((key, mfcc))\n",
    "\n",
    "    return dataset[:100]"
   ]
  },
  {
   "cell_type": "code",
   "execution_count": null,
   "id": "3fc822d6",
   "metadata": {
    "ExecuteTime": {
     "start_time": "2022-09-02T15:53:15.065Z"
    },
    "code_folding": [
     0
    ]
   },
   "outputs": [],
   "source": [
    "# 不要取最長的，取已知音檔內容的長度（約不到一秒），轉出的第二個特徵長度是 104，因此固定以這個長度去做截斷與補零\n",
    "'''\n",
    "def get_max_pad_len(path):\n",
    "    labels, _, _ = get_labels(path)\n",
    "    max_pad_len = 0\n",
    "    \n",
    "    for label in labels:\n",
    "        wavfiles = [path + label + '/' + wavfile for wavfile in os.listdir(path + '/' + label)]\n",
    "        for wavfile in wavfiles:\n",
    "            wave, sr = librosa.load(wavfile, mono=True, sr=None)\n",
    "            mfcc = librosa.feature.mfcc(y=wave, sr=sr)\n",
    "            if mfcc.shape[1] > max_pad_len:\n",
    "                max_pad_len = mfcc.shape[1]\n",
    "                \n",
    "        print(label + \"Done\")\n",
    "        \n",
    "    return max_pad_len\n",
    "max_pad_len = get_max_pad_len(path)\n",
    "'''"
   ]
  },
  {
   "cell_type": "code",
   "execution_count": 4,
   "id": "eec5a6e5",
   "metadata": {
    "ExecuteTime": {
     "end_time": "2022-09-02T16:37:54.225194Z",
     "start_time": "2022-09-02T15:54:01.771552Z"
    }
   },
   "outputs": [
    {
     "name": "stdout",
     "output_type": "stream",
     "text": [
      "yes.npy "
     ]
    },
    {
     "name": "stderr",
     "output_type": "stream",
     "text": [
      "IOPub data rate exceeded.\n",
      "The notebook server will temporarily stop sending output\n",
      "to the client in order to avoid crashing it.\n",
      "To change this limit, set the config variable\n",
      "`--NotebookApp.iopub_data_rate_limit`.\n",
      "\n",
      "Current values:\n",
      "NotebookApp.iopub_data_rate_limit=1000000.0 (bytes/sec)\n",
      "NotebookApp.rate_limit_window=3.0 (secs)\n",
      "\n"
     ]
    },
    {
     "name": "stdout",
     "output_type": "stream",
     "text": [
      "no.npy "
     ]
    },
    {
     "name": "stderr",
     "output_type": "stream",
     "text": [
      "IOPub data rate exceeded.\n",
      "The notebook server will temporarily stop sending output\n",
      "to the client in order to avoid crashing it.\n",
      "To change this limit, set the config variable\n",
      "`--NotebookApp.iopub_data_rate_limit`.\n",
      "\n",
      "Current values:\n",
      "NotebookApp.iopub_data_rate_limit=1000000.0 (bytes/sec)\n",
      "NotebookApp.rate_limit_window=3.0 (secs)\n",
      "\n"
     ]
    }
   ],
   "source": [
    "save_data_to_array()"
   ]
  },
  {
   "cell_type": "code",
   "execution_count": 7,
   "id": "cfe694fe",
   "metadata": {
    "ExecuteTime": {
     "end_time": "2022-09-05T06:39:24.239190Z",
     "start_time": "2022-09-05T06:39:24.078772Z"
    }
   },
   "outputs": [],
   "source": [
    "X_train, X_test, X_valid, y_train, y_test, y_valid = get_train_test()"
   ]
  },
  {
   "cell_type": "code",
   "execution_count": null,
   "id": "9b282ee0",
   "metadata": {},
   "outputs": [],
   "source": []
  },
  {
   "cell_type": "code",
   "execution_count": 8,
   "id": "07096b33",
   "metadata": {
    "ExecuteTime": {
     "end_time": "2022-09-05T06:39:25.203047Z",
     "start_time": "2022-09-05T06:39:25.200655Z"
    }
   },
   "outputs": [
    {
     "name": "stdout",
     "output_type": "stream",
     "text": [
      "(30101, 20, 104) (30101,)\n",
      "(3763, 20, 104) (3763,)\n",
      "(3763, 20, 104) (3763,)\n"
     ]
    }
   ],
   "source": [
    "print(X_train.shape, y_train.shape)\n",
    "print(X_test.shape, y_test.shape)\n",
    "print(X_valid.shape, y_valid.shape)"
   ]
  },
  {
   "cell_type": "code",
   "execution_count": 11,
   "id": "6ea150a4",
   "metadata": {
    "ExecuteTime": {
     "end_time": "2022-09-05T06:39:55.128007Z",
     "start_time": "2022-09-05T06:39:55.121354Z"
    }
   },
   "outputs": [],
   "source": [
    "X_train = X_train.reshape(X_train.shape[0], 20, 104, 1)\n",
    "X_test = X_test.reshape(X_test.shape[0], 20, 104, 1)\n",
    "X_valid = X_valid.reshape(X_valid.shape[0], 20, 104, 1)\n",
    "\n",
    "y_train_hot = to_categorical(y_train)\n",
    "y_test_hot = to_categorical(y_test)\n",
    "y_valid_hot = to_categorical(y_valid)"
   ]
  },
  {
   "cell_type": "code",
   "execution_count": 12,
   "id": "4d12b32e",
   "metadata": {
    "ExecuteTime": {
     "end_time": "2022-09-05T06:39:55.893980Z",
     "start_time": "2022-09-05T06:39:55.890630Z"
    }
   },
   "outputs": [
    {
     "name": "stdout",
     "output_type": "stream",
     "text": [
      "(30101, 20, 104, 1) (30101,) (30101, 2)\n",
      "(3763, 20, 104, 1) (3763,)\n",
      "(3763, 20, 104, 1) (3763,)\n"
     ]
    }
   ],
   "source": [
    "print(X_train.shape, y_train.shape, y_train_hot.shape)\n",
    "print(X_test.shape, y_test.shape)\n",
    "print(X_valid.shape, y_valid.shape)"
   ]
  },
  {
   "cell_type": "markdown",
   "id": "90599b2a",
   "metadata": {},
   "source": [
    "# 建立模型"
   ]
  },
  {
   "cell_type": "code",
   "execution_count": 27,
   "id": "69c77ee8",
   "metadata": {
    "ExecuteTime": {
     "end_time": "2022-09-05T08:09:28.518050Z",
     "start_time": "2022-09-05T08:09:28.308139Z"
    },
    "code_folding": []
   },
   "outputs": [
    {
     "name": "stdout",
     "output_type": "stream",
     "text": [
      "Model: \"sequential_1\"\n",
      "_________________________________________________________________\n",
      "Layer (type)                 Output Shape              Param #   \n",
      "=================================================================\n",
      "dense_1 (Dense)              (None, 20, 104, 64)       128       \n",
      "_________________________________________________________________\n",
      "dense_2 (Dense)              (None, 20, 104, 64)       4160      \n",
      "_________________________________________________________________\n",
      "dropout_1 (Dropout)          (None, 20, 104, 64)       0         \n",
      "_________________________________________________________________\n",
      "dense_3 (Dense)              (None, 20, 104, 32)       2080      \n",
      "_________________________________________________________________\n",
      "dropout_2 (Dropout)          (None, 20, 104, 32)       0         \n",
      "_________________________________________________________________\n",
      "dense_4 (Dense)              (None, 20, 104, 16)       528       \n",
      "_________________________________________________________________\n",
      "dropout_3 (Dropout)          (None, 20, 104, 16)       0         \n",
      "_________________________________________________________________\n",
      "flatten_1 (Flatten)          (None, 33280)             0         \n",
      "_________________________________________________________________\n",
      "dense_5 (Dense)              (None, 1024)              34079744  \n",
      "_________________________________________________________________\n",
      "dropout_4 (Dropout)          (None, 1024)              0         \n",
      "_________________________________________________________________\n",
      "dense_6 (Dense)              (None, 512)               524800    \n",
      "_________________________________________________________________\n",
      "dropout_5 (Dropout)          (None, 512)               0         \n",
      "_________________________________________________________________\n",
      "dense_7 (Dense)              (None, 256)               131328    \n",
      "_________________________________________________________________\n",
      "dropout_6 (Dropout)          (None, 256)               0         \n",
      "_________________________________________________________________\n",
      "dense_8 (Dense)              (None, 128)               32896     \n",
      "_________________________________________________________________\n",
      "dropout_7 (Dropout)          (None, 128)               0         \n",
      "_________________________________________________________________\n",
      "dense_9 (Dense)              (None, 64)                8256      \n",
      "_________________________________________________________________\n",
      "dropout_8 (Dropout)          (None, 64)                0         \n",
      "_________________________________________________________________\n",
      "dense_10 (Dense)             (None, 8)                 520       \n",
      "_________________________________________________________________\n",
      "dropout_9 (Dropout)          (None, 8)                 0         \n",
      "_________________________________________________________________\n",
      "dense_11 (Dense)             (None, 2)                 18        \n",
      "=================================================================\n",
      "Total params: 34,784,458\n",
      "Trainable params: 34,784,458\n",
      "Non-trainable params: 0\n",
      "_________________________________________________________________\n"
     ]
    }
   ],
   "source": [
    "# 3+ 3\n",
    "model = Sequential()\n",
    "model.add(Dense(64, input_shape=(X_train.shape[1], X_train.shape[2], X_train.shape[3]), activation=\"relu\"))\n",
    "model.add(Dense(64, activation=\"relu\"))\n",
    "model.add(Dropout(0.2))\n",
    "model.add(Dense(32, activation=\"relu\"))\n",
    "model.add(Dropout(0.2))\n",
    "model.add(Dense(16, activation=\"relu\"))\n",
    "model.add(Dropout(0.2))\n",
    "model.add(Flatten())\n",
    "model.add(Dense(1024, activation=\"relu\"))\n",
    "model.add(Dropout(0.2))\n",
    "model.add(Dense(512, activation=\"relu\"))\n",
    "model.add(Dropout(0.2))\n",
    "model.add(Dense(256, activation=\"relu\"))\n",
    "model.add(Dropout(0.2))\n",
    "model.add(Dense(128, activation=\"relu\"))\n",
    "model.add(Dropout(0.2))\n",
    "model.add(Dense(64, activation=\"relu\"))\n",
    "model.add(Dropout(0.2))\n",
    "model.add(Dense(8, activation=\"relu\"))\n",
    "model.add(Dropout(0.2))\n",
    "model.add(Dense(2, activation=\"softmax\"))\n",
    "model.summary()"
   ]
  },
  {
   "cell_type": "code",
   "execution_count": 30,
   "id": "98f1f57e",
   "metadata": {
    "ExecuteTime": {
     "end_time": "2022-08-31T13:45:09.130912Z",
     "start_time": "2022-08-31T13:45:08.969432Z"
    },
    "code_folding": [
     0
    ]
   },
   "outputs": [
    {
     "name": "stdout",
     "output_type": "stream",
     "text": [
      "Model: \"sequential_1\"\n",
      "_________________________________________________________________\n",
      "Layer (type)                 Output Shape              Param #   \n",
      "=================================================================\n",
      "flatten_1 (Flatten)          (None, 1360)              0         \n",
      "_________________________________________________________________\n",
      "dense_1 (Dense)              (None, 512)               696832    \n",
      "_________________________________________________________________\n",
      "dropout_1 (Dropout)          (None, 512)               0         \n",
      "_________________________________________________________________\n",
      "dense_2 (Dense)              (None, 512)               262656    \n",
      "_________________________________________________________________\n",
      "dropout_2 (Dropout)          (None, 512)               0         \n",
      "_________________________________________________________________\n",
      "dense_3 (Dense)              (None, 256)               131328    \n",
      "_________________________________________________________________\n",
      "dropout_3 (Dropout)          (None, 256)               0         \n",
      "_________________________________________________________________\n",
      "dense_4 (Dense)              (None, 128)               32896     \n",
      "_________________________________________________________________\n",
      "dropout_4 (Dropout)          (None, 128)               0         \n",
      "_________________________________________________________________\n",
      "dense_5 (Dense)              (None, 64)                8256      \n",
      "_________________________________________________________________\n",
      "dropout_5 (Dropout)          (None, 64)                0         \n",
      "_________________________________________________________________\n",
      "dense_6 (Dense)              (None, 32)                2080      \n",
      "_________________________________________________________________\n",
      "dropout_6 (Dropout)          (None, 32)                0         \n",
      "_________________________________________________________________\n",
      "dense_7 (Dense)              (None, 2)                 66        \n",
      "=================================================================\n",
      "Total params: 1,134,114\n",
      "Trainable params: 1,134,114\n",
      "Non-trainable params: 0\n",
      "_________________________________________________________________\n"
     ]
    }
   ],
   "source": [
    "#simple\n",
    "model = Sequential()\n",
    "model.add(InputLayer(input_shape=(20, 68, 1)))\n",
    "model.add(Flatten())\n",
    "model.add(Dense(512, activation=\"relu\"))\n",
    "model.add(Dropout(0.2))\n",
    "model.add(Dense(512, activation=\"relu\"))\n",
    "model.add(Dropout(0.2))\n",
    "model.add(Dense(256, activation=\"relu\"))\n",
    "model.add(Dropout(0.2))\n",
    "model.add(Dense(128, activation=\"relu\"))\n",
    "model.add(Dropout(0.2))\n",
    "model.add(Dense(64, activation=\"relu\"))\n",
    "model.add(Dropout(0.2))\n",
    "model.add(Dense(32, activation=\"relu\"))\n",
    "model.add(Dropout(0.2))\n",
    "model.add(Dense(2, activation=\"softmax\"))\n",
    "model.summary()"
   ]
  },
  {
   "cell_type": "code",
   "execution_count": 94,
   "id": "77fb30f7",
   "metadata": {
    "ExecuteTime": {
     "end_time": "2022-09-01T06:54:12.278326Z",
     "start_time": "2022-09-01T06:54:11.991121Z"
    }
   },
   "outputs": [
    {
     "name": "stdout",
     "output_type": "stream",
     "text": [
      "Model: \"sequential_1\"\n",
      "_________________________________________________________________\n",
      "Layer (type)                 Output Shape              Param #   \n",
      "=================================================================\n",
      "gru_1 (GRU)                  (None, 20, 50)            17850     \n",
      "_________________________________________________________________\n",
      "dropout_1 (Dropout)          (None, 20, 50)            0         \n",
      "_________________________________________________________________\n",
      "gru_2 (GRU)                  (None, 20, 50)            15150     \n",
      "_________________________________________________________________\n",
      "dropout_2 (Dropout)          (None, 20, 50)            0         \n",
      "_________________________________________________________________\n",
      "gru_3 (GRU)                  (None, 50)                15150     \n",
      "_________________________________________________________________\n",
      "dropout_3 (Dropout)          (None, 50)                0         \n",
      "_________________________________________________________________\n",
      "dense_1 (Dense)              (None, 2)                 102       \n",
      "=================================================================\n",
      "Total params: 48,252\n",
      "Trainable params: 48,252\n",
      "Non-trainable params: 0\n",
      "_________________________________________________________________\n"
     ]
    }
   ],
   "source": [
    "# GRU\n",
    "model = Sequential()\n",
    "model.add(GRU(50, return_sequences=True,\n",
    "             input_shape=(X_train.shape[1], X_train.shape[2])))\n",
    "model.add(Dropout(0.2))\n",
    "model.add(GRU(50, return_sequences=True))\n",
    "model.add(Dropout(0.2))\n",
    "model.add(GRU(50))\n",
    "model.add(Dropout(0.2))\n",
    "model.add(Dense(2))\n",
    "model.summary()"
   ]
  },
  {
   "cell_type": "code",
   "execution_count": 58,
   "id": "db550534",
   "metadata": {
    "ExecuteTime": {
     "end_time": "2022-08-31T15:22:58.848180Z",
     "start_time": "2022-08-31T15:22:58.582450Z"
    }
   },
   "outputs": [
    {
     "name": "stdout",
     "output_type": "stream",
     "text": [
      "Model: \"sequential_1\"\n",
      "_________________________________________________________________\n",
      "Layer (type)                 Output Shape              Param #   \n",
      "=================================================================\n",
      "lstm_1 (LSTM)                (None, 20, 50)            23800     \n",
      "_________________________________________________________________\n",
      "dropout_1 (Dropout)          (None, 20, 50)            0         \n",
      "_________________________________________________________________\n",
      "lstm_2 (LSTM)                (None, 20, 50)            20200     \n",
      "_________________________________________________________________\n",
      "dropout_2 (Dropout)          (None, 20, 50)            0         \n",
      "_________________________________________________________________\n",
      "lstm_3 (LSTM)                (None, 50)                20200     \n",
      "_________________________________________________________________\n",
      "dropout_3 (Dropout)          (None, 50)                0         \n",
      "_________________________________________________________________\n",
      "dense_1 (Dense)              (None, 2)                 102       \n",
      "=================================================================\n",
      "Total params: 64,302\n",
      "Trainable params: 64,302\n",
      "Non-trainable params: 0\n",
      "_________________________________________________________________\n"
     ]
    }
   ],
   "source": [
    "# LSTM\n",
    "model = Sequential()\n",
    "model.add(LSTM(20, return_sequences=True,\n",
    "              input_shape=(X_train.shape[1], X_train.shape[2])))\n",
    "model.add(Dropout(0.2))\n",
    "model.add(LSTM(20, return_sequences=True))\n",
    "model.add(Dropout(0.2))\n",
    "model.add(LSTM(20))\n",
    "model.add(Dropout(0.2))\n",
    "model.add(Dense(2))\n",
    "model.summary()"
   ]
  },
  {
   "cell_type": "code",
   "execution_count": 28,
   "id": "baeccf8d",
   "metadata": {
    "ExecuteTime": {
     "end_time": "2022-09-05T08:09:33.991760Z",
     "start_time": "2022-09-05T08:09:33.974516Z"
    }
   },
   "outputs": [],
   "source": [
    "model.compile(loss=\"mse\",\n",
    "              optimizer=\"adam\",\n",
    "              metrics=['accuracy'])"
   ]
  },
  {
   "cell_type": "code",
   "execution_count": 26,
   "id": "5c36f8f7",
   "metadata": {
    "ExecuteTime": {
     "end_time": "2022-09-05T08:08:58.685786Z",
     "start_time": "2022-09-05T08:08:58.675199Z"
    }
   },
   "outputs": [],
   "source": [
    "tf.keras.backend.clear_session()"
   ]
  },
  {
   "cell_type": "markdown",
   "id": "e90aa481",
   "metadata": {},
   "source": [
    "# 訓練模型"
   ]
  },
  {
   "cell_type": "code",
   "execution_count": 30,
   "id": "84ebd093",
   "metadata": {
    "ExecuteTime": {
     "end_time": "2022-09-05T08:09:41.465160Z",
     "start_time": "2022-09-05T08:09:41.461734Z"
    },
    "code_folding": []
   },
   "outputs": [],
   "source": [
    "def get_model_path(name):\n",
    "    model_path = name + '/model.h5'\n",
    "    checkpoint_path = name + '/checkpoints'\n",
    "    checkpoint_dir = os.path.dirname(checkpoint_path)\n",
    "    latest = tf.train.latest_checkpoint(checkpoint_dir)\n",
    "    \n",
    "    if not os.path.exists(checkpoint_path):\n",
    "        os.makedirs(checkpoint_path)\n",
    "    \n",
    "    return model_path, checkpoint_path, checkpoint_dir, latest\n",
    "\n",
    "def train_model(model, model_name):\n",
    "    model_path, checkpoint_path, checkpoint_dir, latest = get_model_path(model_name)\n",
    "\n",
    "    model_checkpoint_callback = [ModelCheckpoint(checkpoint_path + '/weights.{epoch:02d}-{val_accuracy:.4f}.hdf5',\n",
    "                                                 monitor='val_accuracy',     \n",
    "                                                 mode='max',\n",
    "                                                 save_best_only=True)]\n",
    "   \n",
    "    history = model.fit(X_train, y_train_hot, \n",
    "                        batch_size=64, epochs=500,\n",
    "                        validation_data=(X_valid, y_valid_hot),\n",
    "                        callbacks=model_checkpoint_callback)\n",
    "    model.save(model_path)\n",
    "    \n",
    "    return history, model"
   ]
  },
  {
   "cell_type": "code",
   "execution_count": 31,
   "id": "ccf59502",
   "metadata": {
    "ExecuteTime": {
     "end_time": "2022-09-05T09:24:50.310523Z",
     "start_time": "2022-09-05T08:09:48.044431Z"
    },
    "hide_input": false
   },
   "outputs": [
    {
     "name": "stdout",
     "output_type": "stream",
     "text": [
      "Train on 30101 samples, validate on 3763 samples\n",
      "Epoch 1/500\n",
      "30101/30101 [==============================] - 9s 307us/step - loss: 0.4825 - accuracy: 0.5039 - val_loss: 0.4916 - val_accuracy: 0.5084\n",
      "Epoch 2/500\n",
      "30101/30101 [==============================] - 9s 298us/step - loss: 0.4688 - accuracy: 0.5005 - val_loss: 0.4916 - val_accuracy: 0.5084\n",
      "Epoch 3/500\n",
      "30101/30101 [==============================] - 9s 297us/step - loss: 0.4495 - accuracy: 0.5005 - val_loss: 0.4916 - val_accuracy: 0.5084\n",
      "Epoch 4/500\n",
      "30101/30101 [==============================] - 9s 298us/step - loss: 0.4529 - accuracy: 0.4984 - val_loss: 0.4916 - val_accuracy: 0.5084\n",
      "Epoch 5/500\n",
      "30101/30101 [==============================] - 9s 298us/step - loss: 0.4515 - accuracy: 0.5001 - val_loss: 0.4916 - val_accuracy: 0.5084\n",
      "Epoch 6/500\n",
      "30101/30101 [==============================] - 9s 299us/step - loss: 0.4827 - accuracy: 0.4990 - val_loss: 0.5084 - val_accuracy: 0.4916\n",
      "Epoch 7/500\n",
      "30101/30101 [==============================] - 9s 298us/step - loss: 0.4933 - accuracy: 0.5003 - val_loss: 0.5084 - val_accuracy: 0.4916\n",
      "Epoch 8/500\n",
      "30101/30101 [==============================] - 9s 298us/step - loss: 0.4925 - accuracy: 0.5009 - val_loss: 0.5084 - val_accuracy: 0.4916\n",
      "Epoch 9/500\n",
      "30101/30101 [==============================] - 9s 298us/step - loss: 0.4881 - accuracy: 0.5042 - val_loss: 0.5084 - val_accuracy: 0.4916\n",
      "Epoch 10/500\n",
      "30101/30101 [==============================] - 9s 299us/step - loss: 0.4946 - accuracy: 0.4978 - val_loss: 0.5084 - val_accuracy: 0.4916\n",
      "Epoch 11/500\n",
      "30101/30101 [==============================] - 9s 298us/step - loss: 0.4933 - accuracy: 0.4971 - val_loss: 0.5084 - val_accuracy: 0.4916\n",
      "Epoch 12/500\n",
      "30101/30101 [==============================] - 9s 299us/step - loss: 0.4907 - accuracy: 0.5014 - val_loss: 0.5084 - val_accuracy: 0.4916\n",
      "Epoch 13/500\n",
      "30101/30101 [==============================] - 9s 298us/step - loss: 0.4920 - accuracy: 0.4993 - val_loss: 0.4916 - val_accuracy: 0.5084\n",
      "Epoch 14/500\n",
      "30101/30101 [==============================] - 9s 298us/step - loss: 0.4887 - accuracy: 0.5003 - val_loss: 0.4916 - val_accuracy: 0.5084\n",
      "Epoch 15/500\n",
      "30101/30101 [==============================] - 9s 299us/step - loss: 0.4906 - accuracy: 0.4976 - val_loss: 0.4916 - val_accuracy: 0.5084\n",
      "Epoch 16/500\n",
      "30101/30101 [==============================] - 9s 297us/step - loss: 0.4907 - accuracy: 0.4975 - val_loss: 0.4916 - val_accuracy: 0.5084\n",
      "Epoch 17/500\n",
      "30101/30101 [==============================] - 9s 299us/step - loss: 0.4906 - accuracy: 0.4982 - val_loss: 0.4916 - val_accuracy: 0.5084\n",
      "Epoch 18/500\n",
      "30101/30101 [==============================] - 9s 299us/step - loss: 0.4901 - accuracy: 0.4988 - val_loss: 0.4916 - val_accuracy: 0.5084\n",
      "Epoch 19/500\n",
      "30101/30101 [==============================] - 9s 298us/step - loss: 0.4897 - accuracy: 0.4986 - val_loss: 0.4916 - val_accuracy: 0.5084\n",
      "Epoch 20/500\n",
      "30101/30101 [==============================] - 9s 299us/step - loss: 0.4876 - accuracy: 0.5016 - val_loss: 0.4916 - val_accuracy: 0.5084\n",
      "Epoch 21/500\n",
      "30101/30101 [==============================] - 9s 299us/step - loss: 0.4891 - accuracy: 0.4999 - val_loss: 0.4916 - val_accuracy: 0.5084\n",
      "Epoch 22/500\n",
      "30101/30101 [==============================] - 9s 298us/step - loss: 0.4922 - accuracy: 0.4962 - val_loss: 0.4916 - val_accuracy: 0.5084\n",
      "Epoch 23/500\n",
      "30101/30101 [==============================] - 9s 298us/step - loss: 0.4915 - accuracy: 0.4969 - val_loss: 0.4916 - val_accuracy: 0.5084\n",
      "Epoch 24/500\n",
      "30101/30101 [==============================] - 9s 299us/step - loss: 0.4845 - accuracy: 0.4993 - val_loss: 0.4916 - val_accuracy: 0.5084\n",
      "Epoch 25/500\n",
      "30101/30101 [==============================] - 9s 298us/step - loss: 0.4777 - accuracy: 0.5004 - val_loss: 0.4916 - val_accuracy: 0.5084\n",
      "Epoch 26/500\n",
      "30101/30101 [==============================] - 9s 297us/step - loss: 0.4789 - accuracy: 0.4979 - val_loss: 0.4916 - val_accuracy: 0.5084\n",
      "Epoch 27/500\n",
      "30101/30101 [==============================] - 9s 298us/step - loss: 0.4627 - accuracy: 0.4972 - val_loss: 0.4916 - val_accuracy: 0.5084\n",
      "Epoch 28/500\n",
      "30101/30101 [==============================] - 9s 299us/step - loss: 0.4611 - accuracy: 0.4981 - val_loss: 0.4916 - val_accuracy: 0.5084\n",
      "Epoch 29/500\n",
      "30101/30101 [==============================] - 9s 298us/step - loss: 0.4522 - accuracy: 0.4987 - val_loss: 0.4916 - val_accuracy: 0.5084\n",
      "Epoch 30/500\n",
      "30101/30101 [==============================] - 9s 298us/step - loss: 0.4519 - accuracy: 0.4972 - val_loss: 0.4916 - val_accuracy: 0.5084\n",
      "Epoch 31/500\n",
      "30101/30101 [==============================] - 9s 298us/step - loss: 0.4503 - accuracy: 0.5012 - val_loss: 0.4916 - val_accuracy: 0.5084\n",
      "Epoch 32/500\n",
      "30101/30101 [==============================] - 9s 299us/step - loss: 0.4501 - accuracy: 0.5015 - val_loss: 0.4916 - val_accuracy: 0.5084\n",
      "Epoch 33/500\n",
      "30101/30101 [==============================] - 9s 299us/step - loss: 0.4518 - accuracy: 0.4988 - val_loss: 0.4916 - val_accuracy: 0.5084\n",
      "Epoch 34/500\n",
      "30101/30101 [==============================] - 9s 299us/step - loss: 0.4509 - accuracy: 0.4985 - val_loss: 0.4916 - val_accuracy: 0.5084\n",
      "Epoch 35/500\n",
      "30101/30101 [==============================] - 9s 299us/step - loss: 0.4508 - accuracy: 0.4984 - val_loss: 0.4916 - val_accuracy: 0.5084\n",
      "Epoch 36/500\n",
      "30101/30101 [==============================] - 9s 298us/step - loss: 0.4512 - accuracy: 0.4993 - val_loss: 0.4916 - val_accuracy: 0.5084\n",
      "Epoch 37/500\n",
      "30101/30101 [==============================] - 9s 299us/step - loss: 0.4523 - accuracy: 0.4982 - val_loss: 0.4916 - val_accuracy: 0.5084\n",
      "Epoch 38/500\n",
      "30101/30101 [==============================] - 9s 299us/step - loss: 0.4521 - accuracy: 0.4984 - val_loss: 0.4916 - val_accuracy: 0.5084\n",
      "Epoch 39/500\n",
      "30101/30101 [==============================] - 9s 299us/step - loss: 0.4500 - accuracy: 0.5011 - val_loss: 0.4916 - val_accuracy: 0.5084\n",
      "Epoch 40/500\n",
      "30101/30101 [==============================] - 9s 298us/step - loss: 0.4512 - accuracy: 0.4997 - val_loss: 0.4916 - val_accuracy: 0.5084\n",
      "Epoch 41/500\n",
      "30101/30101 [==============================] - 9s 299us/step - loss: 0.4508 - accuracy: 0.5011 - val_loss: 0.4916 - val_accuracy: 0.5084\n",
      "Epoch 42/500\n",
      "30101/30101 [==============================] - 9s 299us/step - loss: 0.4524 - accuracy: 0.4946 - val_loss: 0.4916 - val_accuracy: 0.5084\n",
      "Epoch 43/500\n",
      "30101/30101 [==============================] - 9s 301us/step - loss: 0.4501 - accuracy: 0.5000 - val_loss: 0.4916 - val_accuracy: 0.5084\n",
      "Epoch 44/500\n",
      "30101/30101 [==============================] - 9s 300us/step - loss: 0.4510 - accuracy: 0.4968 - val_loss: 0.4916 - val_accuracy: 0.5084\n",
      "Epoch 45/500\n",
      "30101/30101 [==============================] - 9s 297us/step - loss: 0.4490 - accuracy: 0.5018 - val_loss: 0.4916 - val_accuracy: 0.5084\n",
      "Epoch 46/500\n",
      "30101/30101 [==============================] - 9s 298us/step - loss: 0.4516 - accuracy: 0.4952 - val_loss: 0.4916 - val_accuracy: 0.5084\n",
      "Epoch 47/500\n",
      "30101/30101 [==============================] - 9s 298us/step - loss: 0.4498 - accuracy: 0.4994 - val_loss: 0.4916 - val_accuracy: 0.5084\n",
      "Epoch 48/500\n",
      "30101/30101 [==============================] - 9s 298us/step - loss: 0.4512 - accuracy: 0.4981 - val_loss: 0.4916 - val_accuracy: 0.5084\n",
      "Epoch 49/500\n",
      "30101/30101 [==============================] - 9s 299us/step - loss: 0.4505 - accuracy: 0.5015 - val_loss: 0.4916 - val_accuracy: 0.5084\n",
      "Epoch 50/500\n",
      "30101/30101 [==============================] - 9s 297us/step - loss: 0.4520 - accuracy: 0.4974 - val_loss: 0.4916 - val_accuracy: 0.5084\n",
      "Epoch 51/500\n",
      "30101/30101 [==============================] - 9s 299us/step - loss: 0.4517 - accuracy: 0.4987 - val_loss: 0.4916 - val_accuracy: 0.5084\n",
      "Epoch 52/500\n",
      "30101/30101 [==============================] - 9s 298us/step - loss: 0.4507 - accuracy: 0.4974 - val_loss: 0.4916 - val_accuracy: 0.5084\n",
      "Epoch 53/500\n",
      "30101/30101 [==============================] - 9s 299us/step - loss: 0.4511 - accuracy: 0.4991 - val_loss: 0.4916 - val_accuracy: 0.5084\n",
      "Epoch 54/500\n",
      "30101/30101 [==============================] - 9s 298us/step - loss: 0.4524 - accuracy: 0.4968 - val_loss: 0.4916 - val_accuracy: 0.5084\n",
      "Epoch 55/500\n"
     ]
    },
    {
     "name": "stdout",
     "output_type": "stream",
     "text": [
      "30101/30101 [==============================] - 9s 299us/step - loss: 0.4519 - accuracy: 0.4967 - val_loss: 0.4916 - val_accuracy: 0.5084\n",
      "Epoch 56/500\n",
      "30101/30101 [==============================] - 9s 299us/step - loss: 0.4531 - accuracy: 0.4985 - val_loss: 0.4916 - val_accuracy: 0.5084\n",
      "Epoch 57/500\n",
      "30101/30101 [==============================] - 9s 300us/step - loss: 0.4517 - accuracy: 0.4980 - val_loss: 0.4916 - val_accuracy: 0.5084\n",
      "Epoch 58/500\n",
      "30101/30101 [==============================] - 9s 298us/step - loss: 0.4520 - accuracy: 0.4972 - val_loss: 0.4916 - val_accuracy: 0.5084\n",
      "Epoch 59/500\n",
      "30101/30101 [==============================] - 9s 299us/step - loss: 0.4514 - accuracy: 0.4973 - val_loss: 0.4916 - val_accuracy: 0.5084\n",
      "Epoch 60/500\n",
      "30101/30101 [==============================] - 9s 300us/step - loss: 0.4519 - accuracy: 0.4987 - val_loss: 0.4916 - val_accuracy: 0.5084\n",
      "Epoch 61/500\n",
      "30101/30101 [==============================] - 9s 299us/step - loss: 0.4519 - accuracy: 0.4978 - val_loss: 0.4916 - val_accuracy: 0.5084\n",
      "Epoch 62/500\n",
      "30101/30101 [==============================] - 9s 300us/step - loss: 0.4521 - accuracy: 0.4959 - val_loss: 0.4916 - val_accuracy: 0.5084\n",
      "Epoch 63/500\n",
      "30101/30101 [==============================] - 9s 299us/step - loss: 0.4502 - accuracy: 0.5017 - val_loss: 0.4916 - val_accuracy: 0.5084\n",
      "Epoch 64/500\n",
      "30101/30101 [==============================] - 9s 299us/step - loss: 0.4512 - accuracy: 0.4957 - val_loss: 0.4916 - val_accuracy: 0.5084\n",
      "Epoch 65/500\n",
      "30101/30101 [==============================] - 9s 299us/step - loss: 0.4479 - accuracy: 0.5042 - val_loss: 0.4916 - val_accuracy: 0.5084\n",
      "Epoch 66/500\n",
      "30101/30101 [==============================] - 9s 299us/step - loss: 0.4508 - accuracy: 0.4997 - val_loss: 0.4916 - val_accuracy: 0.5084\n",
      "Epoch 67/500\n",
      "30101/30101 [==============================] - 9s 299us/step - loss: 0.4509 - accuracy: 0.4967 - val_loss: 0.4916 - val_accuracy: 0.5084\n",
      "Epoch 68/500\n",
      "30101/30101 [==============================] - 9s 298us/step - loss: 0.4486 - accuracy: 0.5022 - val_loss: 0.4916 - val_accuracy: 0.5084\n",
      "Epoch 69/500\n",
      "30101/30101 [==============================] - 9s 299us/step - loss: 0.4509 - accuracy: 0.4986 - val_loss: 0.4916 - val_accuracy: 0.5084\n",
      "Epoch 70/500\n",
      "30101/30101 [==============================] - 9s 298us/step - loss: 0.4522 - accuracy: 0.4966 - val_loss: 0.4916 - val_accuracy: 0.5084\n",
      "Epoch 71/500\n",
      "30101/30101 [==============================] - 9s 300us/step - loss: 0.4525 - accuracy: 0.4991 - val_loss: 0.4916 - val_accuracy: 0.5084\n",
      "Epoch 72/500\n",
      "30101/30101 [==============================] - 9s 298us/step - loss: 0.4504 - accuracy: 0.4988 - val_loss: 0.4916 - val_accuracy: 0.5084\n",
      "Epoch 73/500\n",
      "30101/30101 [==============================] - 9s 298us/step - loss: 0.4505 - accuracy: 0.5017 - val_loss: 0.4916 - val_accuracy: 0.5084\n",
      "Epoch 74/500\n",
      "30101/30101 [==============================] - 9s 299us/step - loss: 0.4522 - accuracy: 0.4955 - val_loss: 0.4916 - val_accuracy: 0.5084\n",
      "Epoch 75/500\n",
      "30101/30101 [==============================] - 9s 300us/step - loss: 0.4511 - accuracy: 0.4997 - val_loss: 0.4916 - val_accuracy: 0.5084\n",
      "Epoch 76/500\n",
      "30101/30101 [==============================] - 9s 299us/step - loss: 0.4513 - accuracy: 0.4953 - val_loss: 0.4916 - val_accuracy: 0.5084\n",
      "Epoch 77/500\n",
      "30101/30101 [==============================] - 9s 298us/step - loss: 0.4512 - accuracy: 0.4981 - val_loss: 0.4916 - val_accuracy: 0.5084\n",
      "Epoch 78/500\n",
      "30101/30101 [==============================] - 9s 299us/step - loss: 0.4505 - accuracy: 0.5024 - val_loss: 0.4916 - val_accuracy: 0.5084\n",
      "Epoch 79/500\n",
      "30101/30101 [==============================] - 9s 300us/step - loss: 0.4528 - accuracy: 0.4971 - val_loss: 0.4916 - val_accuracy: 0.5084\n",
      "Epoch 80/500\n",
      "30101/30101 [==============================] - 9s 299us/step - loss: 0.4515 - accuracy: 0.5008 - val_loss: 0.4916 - val_accuracy: 0.5084\n",
      "Epoch 81/500\n",
      "30101/30101 [==============================] - 9s 298us/step - loss: 0.4505 - accuracy: 0.4982 - val_loss: 0.4916 - val_accuracy: 0.5084\n",
      "Epoch 82/500\n",
      "30101/30101 [==============================] - 9s 299us/step - loss: 0.4503 - accuracy: 0.5014 - val_loss: 0.4916 - val_accuracy: 0.5084\n",
      "Epoch 83/500\n",
      "30101/30101 [==============================] - 9s 299us/step - loss: 0.4555 - accuracy: 0.4980 - val_loss: 0.4916 - val_accuracy: 0.5084\n",
      "Epoch 84/500\n",
      "30101/30101 [==============================] - 9s 299us/step - loss: 0.4590 - accuracy: 0.5005 - val_loss: 0.4916 - val_accuracy: 0.5084\n",
      "Epoch 85/500\n",
      "30101/30101 [==============================] - 9s 298us/step - loss: 0.4614 - accuracy: 0.4978 - val_loss: 0.4916 - val_accuracy: 0.5084\n",
      "Epoch 86/500\n",
      "30101/30101 [==============================] - 9s 299us/step - loss: 0.4551 - accuracy: 0.4988 - val_loss: 0.4916 - val_accuracy: 0.5084\n",
      "Epoch 87/500\n",
      "30101/30101 [==============================] - 9s 298us/step - loss: 0.4499 - accuracy: 0.5018 - val_loss: 0.4916 - val_accuracy: 0.5084\n",
      "Epoch 88/500\n",
      "30101/30101 [==============================] - 9s 299us/step - loss: 0.4530 - accuracy: 0.4982 - val_loss: 0.4916 - val_accuracy: 0.5084\n",
      "Epoch 89/500\n",
      "30101/30101 [==============================] - 9s 300us/step - loss: 0.4494 - accuracy: 0.4987 - val_loss: 0.4916 - val_accuracy: 0.5084\n",
      "Epoch 90/500\n",
      "30101/30101 [==============================] - 9s 298us/step - loss: 0.4537 - accuracy: 0.4978 - val_loss: 0.4916 - val_accuracy: 0.5084\n",
      "Epoch 91/500\n",
      "30101/30101 [==============================] - 9s 300us/step - loss: 0.4522 - accuracy: 0.4978 - val_loss: 0.4916 - val_accuracy: 0.5084\n",
      "Epoch 92/500\n",
      "30101/30101 [==============================] - 9s 300us/step - loss: 0.4514 - accuracy: 0.4977 - val_loss: 0.4916 - val_accuracy: 0.5084\n",
      "Epoch 93/500\n",
      "30101/30101 [==============================] - 9s 299us/step - loss: 0.4522 - accuracy: 0.4976 - val_loss: 0.4916 - val_accuracy: 0.5084\n",
      "Epoch 94/500\n",
      "30101/30101 [==============================] - 9s 299us/step - loss: 0.4502 - accuracy: 0.5004 - val_loss: 0.4916 - val_accuracy: 0.5084\n",
      "Epoch 95/500\n",
      "30101/30101 [==============================] - 9s 298us/step - loss: 0.4519 - accuracy: 0.4980 - val_loss: 0.4916 - val_accuracy: 0.5084\n",
      "Epoch 96/500\n",
      "30101/30101 [==============================] - 9s 299us/step - loss: 0.4506 - accuracy: 0.4993 - val_loss: 0.4916 - val_accuracy: 0.5084\n",
      "Epoch 97/500\n",
      "30101/30101 [==============================] - 9s 299us/step - loss: 0.4524 - accuracy: 0.4992 - val_loss: 0.4916 - val_accuracy: 0.5084\n",
      "Epoch 98/500\n",
      "30101/30101 [==============================] - 9s 299us/step - loss: 0.4498 - accuracy: 0.4991 - val_loss: 0.4916 - val_accuracy: 0.5084\n",
      "Epoch 99/500\n",
      "30101/30101 [==============================] - 9s 298us/step - loss: 0.4510 - accuracy: 0.4983 - val_loss: 0.4916 - val_accuracy: 0.5084\n",
      "Epoch 100/500\n",
      "30101/30101 [==============================] - 9s 300us/step - loss: 0.4512 - accuracy: 0.4981 - val_loss: 0.4916 - val_accuracy: 0.5084\n",
      "Epoch 101/500\n",
      "30101/30101 [==============================] - 9s 299us/step - loss: 0.4512 - accuracy: 0.4967 - val_loss: 0.4916 - val_accuracy: 0.5084\n",
      "Epoch 102/500\n",
      "30101/30101 [==============================] - 9s 299us/step - loss: 0.4509 - accuracy: 0.4999 - val_loss: 0.4916 - val_accuracy: 0.5084\n",
      "Epoch 103/500\n",
      "30101/30101 [==============================] - 9s 299us/step - loss: 0.4510 - accuracy: 0.4999 - val_loss: 0.4916 - val_accuracy: 0.5084\n",
      "Epoch 104/500\n",
      "30101/30101 [==============================] - 9s 299us/step - loss: 0.4528 - accuracy: 0.4950 - val_loss: 0.4916 - val_accuracy: 0.5084\n",
      "Epoch 105/500\n",
      "30101/30101 [==============================] - 9s 299us/step - loss: 0.4517 - accuracy: 0.4987 - val_loss: 0.4916 - val_accuracy: 0.5084\n",
      "Epoch 106/500\n",
      "30101/30101 [==============================] - 9s 299us/step - loss: 0.4503 - accuracy: 0.5010 - val_loss: 0.4916 - val_accuracy: 0.5084\n",
      "Epoch 107/500\n",
      "30101/30101 [==============================] - 9s 298us/step - loss: 0.4504 - accuracy: 0.4988 - val_loss: 0.4916 - val_accuracy: 0.5084\n",
      "Epoch 108/500\n",
      "30101/30101 [==============================] - 9s 298us/step - loss: 0.4505 - accuracy: 0.5005 - val_loss: 0.4916 - val_accuracy: 0.5084\n",
      "Epoch 109/500\n"
     ]
    },
    {
     "name": "stdout",
     "output_type": "stream",
     "text": [
      "30101/30101 [==============================] - 9s 298us/step - loss: 0.4520 - accuracy: 0.4977 - val_loss: 0.4916 - val_accuracy: 0.5084\n",
      "Epoch 110/500\n",
      "30101/30101 [==============================] - 9s 299us/step - loss: 0.4522 - accuracy: 0.4958 - val_loss: 0.4916 - val_accuracy: 0.5084\n",
      "Epoch 111/500\n",
      "30101/30101 [==============================] - 9s 298us/step - loss: 0.4524 - accuracy: 0.4984 - val_loss: 0.4916 - val_accuracy: 0.5084\n",
      "Epoch 112/500\n",
      "30101/30101 [==============================] - 9s 299us/step - loss: 0.4518 - accuracy: 0.4980 - val_loss: 0.4916 - val_accuracy: 0.5084\n",
      "Epoch 113/500\n",
      "30101/30101 [==============================] - 9s 299us/step - loss: 0.4522 - accuracy: 0.4981 - val_loss: 0.4916 - val_accuracy: 0.5084\n",
      "Epoch 114/500\n",
      "30101/30101 [==============================] - 9s 299us/step - loss: 0.4504 - accuracy: 0.4983 - val_loss: 0.4916 - val_accuracy: 0.5084\n",
      "Epoch 115/500\n",
      "30101/30101 [==============================] - 9s 298us/step - loss: 0.4520 - accuracy: 0.4987 - val_loss: 0.4916 - val_accuracy: 0.5084\n",
      "Epoch 116/500\n",
      "30101/30101 [==============================] - 9s 300us/step - loss: 0.4513 - accuracy: 0.4986 - val_loss: 0.4916 - val_accuracy: 0.5084\n",
      "Epoch 117/500\n",
      "30101/30101 [==============================] - 9s 300us/step - loss: 0.4522 - accuracy: 0.4956 - val_loss: 0.4916 - val_accuracy: 0.5084\n",
      "Epoch 118/500\n",
      "30101/30101 [==============================] - 9s 300us/step - loss: 0.4509 - accuracy: 0.4976 - val_loss: 0.4916 - val_accuracy: 0.5084\n",
      "Epoch 119/500\n",
      "30101/30101 [==============================] - 9s 299us/step - loss: 0.4523 - accuracy: 0.4963 - val_loss: 0.4916 - val_accuracy: 0.5084\n",
      "Epoch 120/500\n",
      "30101/30101 [==============================] - 9s 300us/step - loss: 0.4522 - accuracy: 0.4964 - val_loss: 0.4916 - val_accuracy: 0.5084\n",
      "Epoch 121/500\n",
      "30101/30101 [==============================] - 9s 299us/step - loss: 0.4538 - accuracy: 0.4966 - val_loss: 0.4916 - val_accuracy: 0.5084\n",
      "Epoch 122/500\n",
      "30101/30101 [==============================] - 9s 298us/step - loss: 0.4539 - accuracy: 0.4987 - val_loss: 0.4916 - val_accuracy: 0.5084\n",
      "Epoch 123/500\n",
      "30101/30101 [==============================] - 9s 298us/step - loss: 0.4508 - accuracy: 0.4980 - val_loss: 0.4916 - val_accuracy: 0.5084\n",
      "Epoch 124/500\n",
      "30101/30101 [==============================] - 9s 299us/step - loss: 0.4523 - accuracy: 0.4972 - val_loss: 0.4916 - val_accuracy: 0.5084\n",
      "Epoch 125/500\n",
      "30101/30101 [==============================] - 9s 299us/step - loss: 0.4520 - accuracy: 0.4986 - val_loss: 0.4916 - val_accuracy: 0.5084\n",
      "Epoch 126/500\n",
      "30101/30101 [==============================] - 9s 299us/step - loss: 0.4520 - accuracy: 0.4976 - val_loss: 0.4916 - val_accuracy: 0.5084\n",
      "Epoch 127/500\n",
      "30101/30101 [==============================] - 9s 298us/step - loss: 0.4519 - accuracy: 0.4973 - val_loss: 0.4916 - val_accuracy: 0.5084\n",
      "Epoch 128/500\n",
      "30101/30101 [==============================] - 9s 297us/step - loss: 0.4503 - accuracy: 0.4987 - val_loss: 0.4916 - val_accuracy: 0.5084\n",
      "Epoch 129/500\n",
      "30101/30101 [==============================] - 9s 298us/step - loss: 0.4530 - accuracy: 0.4976 - val_loss: 0.4916 - val_accuracy: 0.5084\n",
      "Epoch 130/500\n",
      "30101/30101 [==============================] - 9s 299us/step - loss: 0.4523 - accuracy: 0.4975 - val_loss: 0.4916 - val_accuracy: 0.5084\n",
      "Epoch 131/500\n",
      "30101/30101 [==============================] - 9s 299us/step - loss: 0.4519 - accuracy: 0.4959 - val_loss: 0.4916 - val_accuracy: 0.5084\n",
      "Epoch 132/500\n",
      "30101/30101 [==============================] - 9s 300us/step - loss: 0.4498 - accuracy: 0.5004 - val_loss: 0.4916 - val_accuracy: 0.5084\n",
      "Epoch 133/500\n",
      "30101/30101 [==============================] - 9s 300us/step - loss: 0.4527 - accuracy: 0.4951 - val_loss: 0.4916 - val_accuracy: 0.5084\n",
      "Epoch 134/500\n",
      "30101/30101 [==============================] - 9s 298us/step - loss: 0.4528 - accuracy: 0.4975 - val_loss: 0.4916 - val_accuracy: 0.5084\n",
      "Epoch 135/500\n",
      "30101/30101 [==============================] - 9s 301us/step - loss: 0.4511 - accuracy: 0.4974 - val_loss: 0.4916 - val_accuracy: 0.5084\n",
      "Epoch 136/500\n",
      "30101/30101 [==============================] - 9s 299us/step - loss: 0.4503 - accuracy: 0.4999 - val_loss: 0.4916 - val_accuracy: 0.5084\n",
      "Epoch 137/500\n",
      "30101/30101 [==============================] - 9s 298us/step - loss: 0.4518 - accuracy: 0.4977 - val_loss: 0.4916 - val_accuracy: 0.5084\n",
      "Epoch 138/500\n",
      "30101/30101 [==============================] - 9s 298us/step - loss: 0.4509 - accuracy: 0.4981 - val_loss: 0.4916 - val_accuracy: 0.5084\n",
      "Epoch 139/500\n",
      "30101/30101 [==============================] - 9s 298us/step - loss: 0.4506 - accuracy: 0.4995 - val_loss: 0.4916 - val_accuracy: 0.5084\n",
      "Epoch 140/500\n",
      "30101/30101 [==============================] - 9s 298us/step - loss: 0.4529 - accuracy: 0.4982 - val_loss: 0.4916 - val_accuracy: 0.5084\n",
      "Epoch 141/500\n",
      "30101/30101 [==============================] - 9s 300us/step - loss: 0.4512 - accuracy: 0.5001 - val_loss: 0.4916 - val_accuracy: 0.5084\n",
      "Epoch 142/500\n",
      "30101/30101 [==============================] - 9s 298us/step - loss: 0.4528 - accuracy: 0.4977 - val_loss: 0.4916 - val_accuracy: 0.5084\n",
      "Epoch 143/500\n",
      "30101/30101 [==============================] - 9s 298us/step - loss: 0.4530 - accuracy: 0.4978 - val_loss: 0.4916 - val_accuracy: 0.5084\n",
      "Epoch 144/500\n",
      "30101/30101 [==============================] - 9s 299us/step - loss: 0.4517 - accuracy: 0.4975 - val_loss: 0.4916 - val_accuracy: 0.5084\n",
      "Epoch 145/500\n",
      "30101/30101 [==============================] - 9s 298us/step - loss: 0.4499 - accuracy: 0.4999 - val_loss: 0.4916 - val_accuracy: 0.5084\n",
      "Epoch 146/500\n",
      "30101/30101 [==============================] - 9s 298us/step - loss: 0.4512 - accuracy: 0.4995 - val_loss: 0.4916 - val_accuracy: 0.5084\n",
      "Epoch 147/500\n",
      "30101/30101 [==============================] - 9s 299us/step - loss: 0.4483 - accuracy: 0.5032 - val_loss: 0.4916 - val_accuracy: 0.5084\n",
      "Epoch 148/500\n",
      "30101/30101 [==============================] - 9s 298us/step - loss: 0.4491 - accuracy: 0.5020 - val_loss: 0.4916 - val_accuracy: 0.5084\n",
      "Epoch 149/500\n",
      "30101/30101 [==============================] - 9s 298us/step - loss: 0.4506 - accuracy: 0.5008 - val_loss: 0.4916 - val_accuracy: 0.5084\n",
      "Epoch 150/500\n",
      "30101/30101 [==============================] - 9s 299us/step - loss: 0.4510 - accuracy: 0.4982 - val_loss: 0.4916 - val_accuracy: 0.5084\n",
      "Epoch 151/500\n",
      "30101/30101 [==============================] - 9s 298us/step - loss: 0.4528 - accuracy: 0.4968 - val_loss: 0.4916 - val_accuracy: 0.5084\n",
      "Epoch 152/500\n",
      "30101/30101 [==============================] - 9s 299us/step - loss: 0.4511 - accuracy: 0.5000 - val_loss: 0.4916 - val_accuracy: 0.5084\n",
      "Epoch 153/500\n",
      "30101/30101 [==============================] - 9s 298us/step - loss: 0.4497 - accuracy: 0.5019 - val_loss: 0.4916 - val_accuracy: 0.5084\n",
      "Epoch 154/500\n",
      "30101/30101 [==============================] - 9s 298us/step - loss: 0.4509 - accuracy: 0.4992 - val_loss: 0.4916 - val_accuracy: 0.5084\n",
      "Epoch 155/500\n",
      "30101/30101 [==============================] - 9s 298us/step - loss: 0.4502 - accuracy: 0.5025 - val_loss: 0.4916 - val_accuracy: 0.5084\n",
      "Epoch 156/500\n",
      "30101/30101 [==============================] - 9s 299us/step - loss: 0.4523 - accuracy: 0.4964 - val_loss: 0.4916 - val_accuracy: 0.5084\n",
      "Epoch 157/500\n",
      "30101/30101 [==============================] - 9s 299us/step - loss: 0.4498 - accuracy: 0.5003 - val_loss: 0.4916 - val_accuracy: 0.5084\n",
      "Epoch 158/500\n",
      "30101/30101 [==============================] - 9s 298us/step - loss: 0.4514 - accuracy: 0.4966 - val_loss: 0.4916 - val_accuracy: 0.5084\n",
      "Epoch 159/500\n",
      "30101/30101 [==============================] - 9s 299us/step - loss: 0.4539 - accuracy: 0.4971 - val_loss: 0.4916 - val_accuracy: 0.5084\n",
      "Epoch 160/500\n",
      "30101/30101 [==============================] - 9s 299us/step - loss: 0.4512 - accuracy: 0.4968 - val_loss: 0.4916 - val_accuracy: 0.5084\n",
      "Epoch 161/500\n",
      "30101/30101 [==============================] - 9s 299us/step - loss: 0.4544 - accuracy: 0.4985 - val_loss: 0.4916 - val_accuracy: 0.5084\n",
      "Epoch 162/500\n",
      "30101/30101 [==============================] - 9s 299us/step - loss: 0.4492 - accuracy: 0.5001 - val_loss: 0.4916 - val_accuracy: 0.5084\n",
      "Epoch 163/500\n"
     ]
    },
    {
     "name": "stdout",
     "output_type": "stream",
     "text": [
      "30101/30101 [==============================] - 9s 299us/step - loss: 0.4503 - accuracy: 0.4979 - val_loss: 0.4916 - val_accuracy: 0.5084\n",
      "Epoch 164/500\n",
      "30101/30101 [==============================] - 9s 297us/step - loss: 0.4507 - accuracy: 0.4989 - val_loss: 0.4916 - val_accuracy: 0.5084\n",
      "Epoch 165/500\n",
      "30101/30101 [==============================] - 9s 299us/step - loss: 0.4523 - accuracy: 0.4970 - val_loss: 0.4916 - val_accuracy: 0.5084\n",
      "Epoch 166/500\n",
      "30101/30101 [==============================] - 9s 299us/step - loss: 0.4521 - accuracy: 0.4980 - val_loss: 0.4916 - val_accuracy: 0.5084\n",
      "Epoch 167/500\n",
      "30101/30101 [==============================] - 9s 298us/step - loss: 0.4504 - accuracy: 0.4986 - val_loss: 0.4916 - val_accuracy: 0.5084\n",
      "Epoch 168/500\n",
      "30101/30101 [==============================] - 9s 299us/step - loss: 0.4505 - accuracy: 0.5000 - val_loss: 0.4916 - val_accuracy: 0.5084\n",
      "Epoch 169/500\n",
      "30101/30101 [==============================] - 9s 299us/step - loss: 0.4511 - accuracy: 0.4987 - val_loss: 0.4916 - val_accuracy: 0.5084\n",
      "Epoch 170/500\n",
      "30101/30101 [==============================] - 9s 300us/step - loss: 0.4518 - accuracy: 0.4969 - val_loss: 0.4916 - val_accuracy: 0.5084\n",
      "Epoch 171/500\n",
      "30101/30101 [==============================] - 9s 300us/step - loss: 0.4526 - accuracy: 0.4969 - val_loss: 0.4916 - val_accuracy: 0.5084\n",
      "Epoch 172/500\n",
      "30101/30101 [==============================] - 9s 300us/step - loss: 0.4519 - accuracy: 0.4977 - val_loss: 0.4916 - val_accuracy: 0.5084\n",
      "Epoch 173/500\n",
      "30101/30101 [==============================] - 9s 298us/step - loss: 0.4490 - accuracy: 0.5035 - val_loss: 0.4916 - val_accuracy: 0.5084\n",
      "Epoch 174/500\n",
      "30101/30101 [==============================] - 9s 299us/step - loss: 0.4501 - accuracy: 0.5023 - val_loss: 0.4916 - val_accuracy: 0.5084\n",
      "Epoch 175/500\n",
      "30101/30101 [==============================] - 9s 298us/step - loss: 0.4512 - accuracy: 0.4981 - val_loss: 0.4916 - val_accuracy: 0.5084\n",
      "Epoch 176/500\n",
      "30101/30101 [==============================] - 9s 300us/step - loss: 0.4492 - accuracy: 0.5041 - val_loss: 0.4916 - val_accuracy: 0.5084\n",
      "Epoch 177/500\n",
      "30101/30101 [==============================] - 9s 300us/step - loss: 0.4526 - accuracy: 0.4992 - val_loss: 0.4916 - val_accuracy: 0.5084\n",
      "Epoch 178/500\n",
      "30101/30101 [==============================] - 9s 299us/step - loss: 0.4529 - accuracy: 0.4977 - val_loss: 0.4916 - val_accuracy: 0.5084\n",
      "Epoch 179/500\n",
      "30101/30101 [==============================] - 9s 299us/step - loss: 0.4488 - accuracy: 0.5009 - val_loss: 0.4916 - val_accuracy: 0.5084\n",
      "Epoch 180/500\n",
      "30101/30101 [==============================] - 9s 298us/step - loss: 0.4515 - accuracy: 0.4998 - val_loss: 0.4916 - val_accuracy: 0.5084\n",
      "Epoch 181/500\n",
      "30101/30101 [==============================] - 9s 299us/step - loss: 0.4510 - accuracy: 0.5002 - val_loss: 0.4916 - val_accuracy: 0.5084\n",
      "Epoch 182/500\n",
      "30101/30101 [==============================] - 9s 298us/step - loss: 0.4509 - accuracy: 0.4990 - val_loss: 0.4916 - val_accuracy: 0.5084\n",
      "Epoch 183/500\n",
      "30101/30101 [==============================] - 9s 299us/step - loss: 0.4520 - accuracy: 0.4986 - val_loss: 0.4916 - val_accuracy: 0.5084\n",
      "Epoch 184/500\n",
      "30101/30101 [==============================] - 9s 299us/step - loss: 0.4526 - accuracy: 0.4980 - val_loss: 0.4916 - val_accuracy: 0.5084\n",
      "Epoch 185/500\n",
      "30101/30101 [==============================] - 9s 300us/step - loss: 0.4518 - accuracy: 0.4973 - val_loss: 0.4916 - val_accuracy: 0.5084\n",
      "Epoch 186/500\n",
      "30101/30101 [==============================] - 9s 300us/step - loss: 0.4505 - accuracy: 0.4987 - val_loss: 0.4916 - val_accuracy: 0.5084\n",
      "Epoch 187/500\n",
      "30101/30101 [==============================] - 9s 299us/step - loss: 0.4514 - accuracy: 0.4972 - val_loss: 0.4916 - val_accuracy: 0.5084\n",
      "Epoch 188/500\n",
      "30101/30101 [==============================] - 9s 297us/step - loss: 0.4522 - accuracy: 0.4973 - val_loss: 0.4916 - val_accuracy: 0.5084\n",
      "Epoch 189/500\n",
      "30101/30101 [==============================] - 9s 298us/step - loss: 0.4511 - accuracy: 0.4996 - val_loss: 0.4916 - val_accuracy: 0.5084\n",
      "Epoch 190/500\n",
      "30101/30101 [==============================] - 9s 299us/step - loss: 0.4506 - accuracy: 0.4995 - val_loss: 0.4916 - val_accuracy: 0.5084\n",
      "Epoch 191/500\n",
      "30101/30101 [==============================] - 9s 298us/step - loss: 0.4518 - accuracy: 0.4966 - val_loss: 0.4916 - val_accuracy: 0.5084\n",
      "Epoch 192/500\n",
      "30101/30101 [==============================] - 9s 300us/step - loss: 0.4516 - accuracy: 0.4973 - val_loss: 0.4916 - val_accuracy: 0.5084\n",
      "Epoch 193/500\n",
      "30101/30101 [==============================] - 9s 300us/step - loss: 0.4516 - accuracy: 0.4990 - val_loss: 0.4916 - val_accuracy: 0.5084\n",
      "Epoch 194/500\n",
      "30101/30101 [==============================] - 9s 299us/step - loss: 0.4510 - accuracy: 0.4971 - val_loss: 0.4916 - val_accuracy: 0.5084\n",
      "Epoch 195/500\n",
      "30101/30101 [==============================] - 9s 298us/step - loss: 0.4522 - accuracy: 0.4985 - val_loss: 0.4916 - val_accuracy: 0.5084\n",
      "Epoch 196/500\n",
      "30101/30101 [==============================] - 9s 298us/step - loss: 0.4515 - accuracy: 0.4979 - val_loss: 0.4916 - val_accuracy: 0.5084\n",
      "Epoch 197/500\n",
      "30101/30101 [==============================] - 9s 299us/step - loss: 0.4530 - accuracy: 0.4984 - val_loss: 0.4916 - val_accuracy: 0.5084\n",
      "Epoch 198/500\n",
      "30101/30101 [==============================] - 9s 299us/step - loss: 0.4517 - accuracy: 0.4978 - val_loss: 0.4916 - val_accuracy: 0.5084\n",
      "Epoch 199/500\n",
      "30101/30101 [==============================] - 9s 298us/step - loss: 0.4530 - accuracy: 0.4976 - val_loss: 0.4916 - val_accuracy: 0.5084\n",
      "Epoch 200/500\n",
      "30101/30101 [==============================] - 9s 300us/step - loss: 0.4527 - accuracy: 0.4986 - val_loss: 0.4916 - val_accuracy: 0.5084\n",
      "Epoch 201/500\n",
      "30101/30101 [==============================] - 9s 299us/step - loss: 0.4515 - accuracy: 0.4968 - val_loss: 0.4916 - val_accuracy: 0.5084\n",
      "Epoch 202/500\n",
      "30101/30101 [==============================] - 9s 299us/step - loss: 0.4516 - accuracy: 0.5000 - val_loss: 0.4916 - val_accuracy: 0.5084\n",
      "Epoch 203/500\n",
      "30101/30101 [==============================] - 9s 298us/step - loss: 0.4526 - accuracy: 0.4989 - val_loss: 0.4916 - val_accuracy: 0.5084\n",
      "Epoch 204/500\n",
      "30101/30101 [==============================] - 9s 298us/step - loss: 0.4518 - accuracy: 0.4971 - val_loss: 0.4916 - val_accuracy: 0.5084\n",
      "Epoch 205/500\n",
      "30101/30101 [==============================] - 9s 298us/step - loss: 0.4507 - accuracy: 0.5005 - val_loss: 0.4916 - val_accuracy: 0.5084\n",
      "Epoch 206/500\n",
      "30101/30101 [==============================] - 9s 299us/step - loss: 0.4512 - accuracy: 0.5013 - val_loss: 0.4916 - val_accuracy: 0.5084\n",
      "Epoch 207/500\n",
      "30101/30101 [==============================] - 9s 301us/step - loss: 0.4522 - accuracy: 0.4978 - val_loss: 0.4916 - val_accuracy: 0.5084\n",
      "Epoch 208/500\n",
      "30101/30101 [==============================] - 9s 299us/step - loss: 0.4497 - accuracy: 0.5024 - val_loss: 0.4916 - val_accuracy: 0.5084\n",
      "Epoch 209/500\n",
      "30101/30101 [==============================] - 9s 299us/step - loss: 0.4510 - accuracy: 0.5019 - val_loss: 0.4916 - val_accuracy: 0.5084\n",
      "Epoch 210/500\n",
      "30101/30101 [==============================] - 9s 298us/step - loss: 0.4499 - accuracy: 0.4999 - val_loss: 0.4916 - val_accuracy: 0.5084\n",
      "Epoch 211/500\n",
      "30101/30101 [==============================] - 9s 298us/step - loss: 0.4502 - accuracy: 0.5011 - val_loss: 0.4916 - val_accuracy: 0.5084\n",
      "Epoch 212/500\n",
      "30101/30101 [==============================] - 9s 298us/step - loss: 0.4501 - accuracy: 0.5008 - val_loss: 0.4916 - val_accuracy: 0.5084\n",
      "Epoch 213/500\n",
      "30101/30101 [==============================] - 9s 297us/step - loss: 0.4503 - accuracy: 0.5007 - val_loss: 0.4916 - val_accuracy: 0.5084\n",
      "Epoch 214/500\n",
      "30101/30101 [==============================] - 9s 300us/step - loss: 0.4506 - accuracy: 0.4974 - val_loss: 0.4916 - val_accuracy: 0.5084\n",
      "Epoch 215/500\n",
      "30101/30101 [==============================] - 9s 296us/step - loss: 0.4520 - accuracy: 0.4970 - val_loss: 0.4916 - val_accuracy: 0.5084\n",
      "Epoch 216/500\n",
      "30101/30101 [==============================] - 9s 299us/step - loss: 0.4519 - accuracy: 0.4974 - val_loss: 0.4916 - val_accuracy: 0.5084\n",
      "Epoch 217/500\n"
     ]
    },
    {
     "name": "stdout",
     "output_type": "stream",
     "text": [
      "30101/30101 [==============================] - 9s 298us/step - loss: 0.4527 - accuracy: 0.4967 - val_loss: 0.4916 - val_accuracy: 0.5084\n",
      "Epoch 218/500\n",
      "30101/30101 [==============================] - 9s 298us/step - loss: 0.4501 - accuracy: 0.5003 - val_loss: 0.4916 - val_accuracy: 0.5084\n",
      "Epoch 219/500\n",
      "30101/30101 [==============================] - 9s 298us/step - loss: 0.4525 - accuracy: 0.4976 - val_loss: 0.4916 - val_accuracy: 0.5084\n",
      "Epoch 220/500\n",
      "30101/30101 [==============================] - 9s 299us/step - loss: 0.4500 - accuracy: 0.5000 - val_loss: 0.4916 - val_accuracy: 0.5084\n",
      "Epoch 221/500\n",
      "30101/30101 [==============================] - 9s 299us/step - loss: 0.4512 - accuracy: 0.4984 - val_loss: 0.4916 - val_accuracy: 0.5084\n",
      "Epoch 222/500\n",
      "30101/30101 [==============================] - 9s 298us/step - loss: 0.4506 - accuracy: 0.5006 - val_loss: 0.4916 - val_accuracy: 0.5084\n",
      "Epoch 223/500\n",
      "30101/30101 [==============================] - 9s 298us/step - loss: 0.4501 - accuracy: 0.4990 - val_loss: 0.4916 - val_accuracy: 0.5084\n",
      "Epoch 224/500\n",
      "30101/30101 [==============================] - 9s 300us/step - loss: 0.4521 - accuracy: 0.4983 - val_loss: 0.4916 - val_accuracy: 0.5084\n",
      "Epoch 225/500\n",
      "30101/30101 [==============================] - 9s 298us/step - loss: 0.4502 - accuracy: 0.4999 - val_loss: 0.4916 - val_accuracy: 0.5084\n",
      "Epoch 226/500\n",
      "30101/30101 [==============================] - 9s 299us/step - loss: 0.4503 - accuracy: 0.4986 - val_loss: 0.4916 - val_accuracy: 0.5084\n",
      "Epoch 227/500\n",
      "30101/30101 [==============================] - 9s 299us/step - loss: 0.4519 - accuracy: 0.4985 - val_loss: 0.4916 - val_accuracy: 0.5084\n",
      "Epoch 228/500\n",
      "30101/30101 [==============================] - 9s 299us/step - loss: 0.4496 - accuracy: 0.5011 - val_loss: 0.4916 - val_accuracy: 0.5084\n",
      "Epoch 229/500\n",
      "30101/30101 [==============================] - 9s 299us/step - loss: 0.4509 - accuracy: 0.4995 - val_loss: 0.4916 - val_accuracy: 0.5084\n",
      "Epoch 230/500\n",
      "30101/30101 [==============================] - 9s 297us/step - loss: 0.4521 - accuracy: 0.4977 - val_loss: 0.4916 - val_accuracy: 0.5084\n",
      "Epoch 231/500\n",
      "30101/30101 [==============================] - 9s 299us/step - loss: 0.4519 - accuracy: 0.4967 - val_loss: 0.4916 - val_accuracy: 0.5084\n",
      "Epoch 232/500\n",
      "30101/30101 [==============================] - 9s 300us/step - loss: 0.4514 - accuracy: 0.4992 - val_loss: 0.4916 - val_accuracy: 0.5084\n",
      "Epoch 233/500\n",
      "30101/30101 [==============================] - 9s 298us/step - loss: 0.4516 - accuracy: 0.4991 - val_loss: 0.4916 - val_accuracy: 0.5084\n",
      "Epoch 234/500\n",
      "30101/30101 [==============================] - 9s 297us/step - loss: 0.4512 - accuracy: 0.4977 - val_loss: 0.4916 - val_accuracy: 0.5084\n",
      "Epoch 235/500\n",
      "30101/30101 [==============================] - 9s 298us/step - loss: 0.4519 - accuracy: 0.4976 - val_loss: 0.4916 - val_accuracy: 0.5084\n",
      "Epoch 236/500\n",
      "30101/30101 [==============================] - 9s 299us/step - loss: 0.4524 - accuracy: 0.4975 - val_loss: 0.4916 - val_accuracy: 0.5084\n",
      "Epoch 237/500\n",
      "30101/30101 [==============================] - 9s 298us/step - loss: 0.4524 - accuracy: 0.4981 - val_loss: 0.4916 - val_accuracy: 0.5084\n",
      "Epoch 238/500\n",
      "30101/30101 [==============================] - 9s 299us/step - loss: 0.4489 - accuracy: 0.5023 - val_loss: 0.4916 - val_accuracy: 0.5084\n",
      "Epoch 239/500\n",
      "30101/30101 [==============================] - 9s 298us/step - loss: 0.4494 - accuracy: 0.5022 - val_loss: 0.4916 - val_accuracy: 0.5084\n",
      "Epoch 240/500\n",
      "30101/30101 [==============================] - 9s 301us/step - loss: 0.4545 - accuracy: 0.4967 - val_loss: 0.4916 - val_accuracy: 0.5084\n",
      "Epoch 241/500\n",
      "30101/30101 [==============================] - 9s 298us/step - loss: 0.4498 - accuracy: 0.4983 - val_loss: 0.4916 - val_accuracy: 0.5084\n",
      "Epoch 242/500\n",
      "30101/30101 [==============================] - 9s 300us/step - loss: 0.4524 - accuracy: 0.4971 - val_loss: 0.4916 - val_accuracy: 0.5084\n",
      "Epoch 243/500\n",
      "30101/30101 [==============================] - 9s 298us/step - loss: 0.4510 - accuracy: 0.4974 - val_loss: 0.4916 - val_accuracy: 0.5084\n",
      "Epoch 244/500\n",
      "30101/30101 [==============================] - 9s 299us/step - loss: 0.4528 - accuracy: 0.4977 - val_loss: 0.4916 - val_accuracy: 0.5084\n",
      "Epoch 245/500\n",
      "30101/30101 [==============================] - 9s 298us/step - loss: 0.4519 - accuracy: 0.4986 - val_loss: 0.4916 - val_accuracy: 0.5084\n",
      "Epoch 246/500\n",
      "30101/30101 [==============================] - 9s 299us/step - loss: 0.4528 - accuracy: 0.4984 - val_loss: 0.4916 - val_accuracy: 0.5084\n",
      "Epoch 247/500\n",
      "30101/30101 [==============================] - 9s 298us/step - loss: 0.4504 - accuracy: 0.4983 - val_loss: 0.4916 - val_accuracy: 0.5084\n",
      "Epoch 248/500\n",
      "30101/30101 [==============================] - 9s 299us/step - loss: 0.4525 - accuracy: 0.4978 - val_loss: 0.4916 - val_accuracy: 0.5084\n",
      "Epoch 249/500\n",
      "30101/30101 [==============================] - 9s 298us/step - loss: 0.4516 - accuracy: 0.4978 - val_loss: 0.4916 - val_accuracy: 0.5084\n",
      "Epoch 250/500\n",
      "30101/30101 [==============================] - 9s 298us/step - loss: 0.4518 - accuracy: 0.4988 - val_loss: 0.4916 - val_accuracy: 0.5084\n",
      "Epoch 251/500\n",
      "30101/30101 [==============================] - 9s 300us/step - loss: 0.4519 - accuracy: 0.4970 - val_loss: 0.4916 - val_accuracy: 0.5084\n",
      "Epoch 252/500\n",
      "30101/30101 [==============================] - 9s 300us/step - loss: 0.4513 - accuracy: 0.4988 - val_loss: 0.4916 - val_accuracy: 0.5084\n",
      "Epoch 253/500\n",
      "30101/30101 [==============================] - 9s 300us/step - loss: 0.4521 - accuracy: 0.4985 - val_loss: 0.4916 - val_accuracy: 0.5084\n",
      "Epoch 254/500\n",
      "30101/30101 [==============================] - 9s 299us/step - loss: 0.4487 - accuracy: 0.5014 - val_loss: 0.4916 - val_accuracy: 0.5084\n",
      "Epoch 255/500\n",
      "30101/30101 [==============================] - 9s 299us/step - loss: 0.4498 - accuracy: 0.5016 - val_loss: 0.4916 - val_accuracy: 0.5084\n",
      "Epoch 256/500\n",
      "30101/30101 [==============================] - 9s 298us/step - loss: 0.4507 - accuracy: 0.5000 - val_loss: 0.4916 - val_accuracy: 0.5084\n",
      "Epoch 257/500\n",
      "30101/30101 [==============================] - 9s 298us/step - loss: 0.4504 - accuracy: 0.5016 - val_loss: 0.4916 - val_accuracy: 0.5084\n",
      "Epoch 258/500\n",
      "30101/30101 [==============================] - 9s 299us/step - loss: 0.4513 - accuracy: 0.4997 - val_loss: 0.4916 - val_accuracy: 0.5084\n",
      "Epoch 259/500\n",
      "30101/30101 [==============================] - 9s 298us/step - loss: 0.4534 - accuracy: 0.4979 - val_loss: 0.4916 - val_accuracy: 0.5084\n",
      "Epoch 260/500\n",
      "30101/30101 [==============================] - 9s 298us/step - loss: 0.4508 - accuracy: 0.4976 - val_loss: 0.4916 - val_accuracy: 0.5084\n",
      "Epoch 261/500\n",
      "30101/30101 [==============================] - 9s 298us/step - loss: 0.4543 - accuracy: 0.4980 - val_loss: 0.4916 - val_accuracy: 0.5084\n",
      "Epoch 262/500\n",
      "30101/30101 [==============================] - 9s 299us/step - loss: 0.4495 - accuracy: 0.4997 - val_loss: 0.4916 - val_accuracy: 0.5084\n",
      "Epoch 263/500\n",
      "30101/30101 [==============================] - 9s 299us/step - loss: 0.4488 - accuracy: 0.5022 - val_loss: 0.4916 - val_accuracy: 0.5084\n",
      "Epoch 264/500\n",
      "30101/30101 [==============================] - 9s 299us/step - loss: 0.4488 - accuracy: 0.5021 - val_loss: 0.4916 - val_accuracy: 0.5084\n",
      "Epoch 265/500\n",
      "30101/30101 [==============================] - 9s 299us/step - loss: 0.4520 - accuracy: 0.4987 - val_loss: 0.4916 - val_accuracy: 0.5084\n",
      "Epoch 266/500\n",
      "30101/30101 [==============================] - 9s 298us/step - loss: 0.4525 - accuracy: 0.5004 - val_loss: 0.4916 - val_accuracy: 0.5084\n",
      "Epoch 267/500\n",
      "30101/30101 [==============================] - 9s 299us/step - loss: 0.4520 - accuracy: 0.4975 - val_loss: 0.4916 - val_accuracy: 0.5084\n",
      "Epoch 268/500\n",
      "30101/30101 [==============================] - 9s 298us/step - loss: 0.4514 - accuracy: 0.4976 - val_loss: 0.4916 - val_accuracy: 0.5084\n",
      "Epoch 269/500\n",
      "30101/30101 [==============================] - 9s 298us/step - loss: 0.4500 - accuracy: 0.5024 - val_loss: 0.4916 - val_accuracy: 0.5084\n",
      "Epoch 270/500\n",
      "30101/30101 [==============================] - 9s 299us/step - loss: 0.4534 - accuracy: 0.4965 - val_loss: 0.4916 - val_accuracy: 0.5084\n",
      "Epoch 271/500\n"
     ]
    },
    {
     "name": "stdout",
     "output_type": "stream",
     "text": [
      "30101/30101 [==============================] - 9s 298us/step - loss: 0.4485 - accuracy: 0.5042 - val_loss: 0.4916 - val_accuracy: 0.5084\n",
      "Epoch 272/500\n",
      "30101/30101 [==============================] - 9s 299us/step - loss: 0.4525 - accuracy: 0.4956 - val_loss: 0.4916 - val_accuracy: 0.5084\n",
      "Epoch 273/500\n",
      "30101/30101 [==============================] - 9s 299us/step - loss: 0.4524 - accuracy: 0.4980 - val_loss: 0.4916 - val_accuracy: 0.5084\n",
      "Epoch 274/500\n",
      "30101/30101 [==============================] - 9s 298us/step - loss: 0.4516 - accuracy: 0.5006 - val_loss: 0.4916 - val_accuracy: 0.5084\n",
      "Epoch 275/500\n",
      "30101/30101 [==============================] - 9s 298us/step - loss: 0.4525 - accuracy: 0.4958 - val_loss: 0.4916 - val_accuracy: 0.5084\n",
      "Epoch 276/500\n",
      "30101/30101 [==============================] - 9s 300us/step - loss: 0.4510 - accuracy: 0.4994 - val_loss: 0.4916 - val_accuracy: 0.5084\n",
      "Epoch 277/500\n",
      "30101/30101 [==============================] - 9s 298us/step - loss: 0.4506 - accuracy: 0.4991 - val_loss: 0.4916 - val_accuracy: 0.5084\n",
      "Epoch 278/500\n",
      "30101/30101 [==============================] - 9s 299us/step - loss: 0.4495 - accuracy: 0.5017 - val_loss: 0.4916 - val_accuracy: 0.5084\n",
      "Epoch 279/500\n",
      "30101/30101 [==============================] - 9s 298us/step - loss: 0.4490 - accuracy: 0.5032 - val_loss: 0.4916 - val_accuracy: 0.5084\n",
      "Epoch 280/500\n",
      "30101/30101 [==============================] - 9s 298us/step - loss: 0.4517 - accuracy: 0.4980 - val_loss: 0.4916 - val_accuracy: 0.5084\n",
      "Epoch 281/500\n",
      "30101/30101 [==============================] - 9s 300us/step - loss: 0.4504 - accuracy: 0.5010 - val_loss: 0.4916 - val_accuracy: 0.5084\n",
      "Epoch 282/500\n",
      "30101/30101 [==============================] - 9s 299us/step - loss: 0.4505 - accuracy: 0.5000 - val_loss: 0.4916 - val_accuracy: 0.5084\n",
      "Epoch 283/500\n",
      "30101/30101 [==============================] - 9s 300us/step - loss: 0.4535 - accuracy: 0.4975 - val_loss: 0.4916 - val_accuracy: 0.5084\n",
      "Epoch 284/500\n",
      "30101/30101 [==============================] - 9s 299us/step - loss: 0.4523 - accuracy: 0.4984 - val_loss: 0.4916 - val_accuracy: 0.5084\n",
      "Epoch 285/500\n",
      "30101/30101 [==============================] - 9s 299us/step - loss: 0.4510 - accuracy: 0.4984 - val_loss: 0.4916 - val_accuracy: 0.5084\n",
      "Epoch 286/500\n",
      "30101/30101 [==============================] - 9s 299us/step - loss: 0.4503 - accuracy: 0.5009 - val_loss: 0.4916 - val_accuracy: 0.5084\n",
      "Epoch 287/500\n",
      "30101/30101 [==============================] - 9s 300us/step - loss: 0.4519 - accuracy: 0.4957 - val_loss: 0.4916 - val_accuracy: 0.5084\n",
      "Epoch 288/500\n",
      "30101/30101 [==============================] - 9s 301us/step - loss: 0.4520 - accuracy: 0.4972 - val_loss: 0.4916 - val_accuracy: 0.5084\n",
      "Epoch 289/500\n",
      "30101/30101 [==============================] - 9s 300us/step - loss: 0.4511 - accuracy: 0.4982 - val_loss: 0.4916 - val_accuracy: 0.5084\n",
      "Epoch 290/500\n",
      "30101/30101 [==============================] - 9s 311us/step - loss: 0.4520 - accuracy: 0.4969 - val_loss: 0.4916 - val_accuracy: 0.5084\n",
      "Epoch 291/500\n",
      "30101/30101 [==============================] - 9s 301us/step - loss: 0.4543 - accuracy: 0.4975 - val_loss: 0.4916 - val_accuracy: 0.5084\n",
      "Epoch 292/500\n",
      "30101/30101 [==============================] - 9s 298us/step - loss: 0.4505 - accuracy: 0.4992 - val_loss: 0.4916 - val_accuracy: 0.5084\n",
      "Epoch 293/500\n",
      "30101/30101 [==============================] - 9s 299us/step - loss: 0.4501 - accuracy: 0.5014 - val_loss: 0.4916 - val_accuracy: 0.5084\n",
      "Epoch 294/500\n",
      "30101/30101 [==============================] - 9s 299us/step - loss: 0.4528 - accuracy: 0.4983 - val_loss: 0.4916 - val_accuracy: 0.5084\n",
      "Epoch 295/500\n",
      "30101/30101 [==============================] - 9s 298us/step - loss: 0.4510 - accuracy: 0.4972 - val_loss: 0.4916 - val_accuracy: 0.5084\n",
      "Epoch 296/500\n",
      "30101/30101 [==============================] - 9s 298us/step - loss: 0.4515 - accuracy: 0.4993 - val_loss: 0.4916 - val_accuracy: 0.5084\n",
      "Epoch 297/500\n",
      "30101/30101 [==============================] - 9s 300us/step - loss: 0.4492 - accuracy: 0.5020 - val_loss: 0.4916 - val_accuracy: 0.5084\n",
      "Epoch 298/500\n",
      "30101/30101 [==============================] - 9s 300us/step - loss: 0.4521 - accuracy: 0.4982 - val_loss: 0.4916 - val_accuracy: 0.5084\n",
      "Epoch 299/500\n",
      "30101/30101 [==============================] - 9s 299us/step - loss: 0.4509 - accuracy: 0.4968 - val_loss: 0.4916 - val_accuracy: 0.5084\n",
      "Epoch 300/500\n",
      "30101/30101 [==============================] - 9s 299us/step - loss: 0.4494 - accuracy: 0.4993 - val_loss: 0.4916 - val_accuracy: 0.5084\n",
      "Epoch 301/500\n",
      "30101/30101 [==============================] - 9s 299us/step - loss: 0.4509 - accuracy: 0.5007 - val_loss: 0.4916 - val_accuracy: 0.5084\n",
      "Epoch 302/500\n",
      "30101/30101 [==============================] - 9s 299us/step - loss: 0.4508 - accuracy: 0.4982 - val_loss: 0.4916 - val_accuracy: 0.5084\n",
      "Epoch 303/500\n",
      "30101/30101 [==============================] - 9s 299us/step - loss: 0.4526 - accuracy: 0.4978 - val_loss: 0.4916 - val_accuracy: 0.5084\n",
      "Epoch 304/500\n",
      "30101/30101 [==============================] - 9s 298us/step - loss: 0.4535 - accuracy: 0.4987 - val_loss: 0.4916 - val_accuracy: 0.5084\n",
      "Epoch 305/500\n",
      "30101/30101 [==============================] - 9s 299us/step - loss: 0.4523 - accuracy: 0.4981 - val_loss: 0.4916 - val_accuracy: 0.5084\n",
      "Epoch 306/500\n",
      "30101/30101 [==============================] - 9s 299us/step - loss: 0.4502 - accuracy: 0.4981 - val_loss: 0.4916 - val_accuracy: 0.5084\n",
      "Epoch 307/500\n",
      "30101/30101 [==============================] - 9s 300us/step - loss: 0.4519 - accuracy: 0.4979 - val_loss: 0.4916 - val_accuracy: 0.5084\n",
      "Epoch 308/500\n",
      "30101/30101 [==============================] - 9s 298us/step - loss: 0.4533 - accuracy: 0.4987 - val_loss: 0.4916 - val_accuracy: 0.5084\n",
      "Epoch 309/500\n",
      "30101/30101 [==============================] - 9s 299us/step - loss: 0.4517 - accuracy: 0.4983 - val_loss: 0.4916 - val_accuracy: 0.5084\n",
      "Epoch 310/500\n",
      "30101/30101 [==============================] - 9s 299us/step - loss: 0.4494 - accuracy: 0.5016 - val_loss: 0.4916 - val_accuracy: 0.5084\n",
      "Epoch 311/500\n",
      "30101/30101 [==============================] - 9s 298us/step - loss: 0.4532 - accuracy: 0.4960 - val_loss: 0.4916 - val_accuracy: 0.5084\n",
      "Epoch 312/500\n",
      "30101/30101 [==============================] - 9s 299us/step - loss: 0.4513 - accuracy: 0.4995 - val_loss: 0.4916 - val_accuracy: 0.5084\n",
      "Epoch 313/500\n",
      "30101/30101 [==============================] - 9s 298us/step - loss: 0.4509 - accuracy: 0.4986 - val_loss: 0.4916 - val_accuracy: 0.5084\n",
      "Epoch 314/500\n",
      "30101/30101 [==============================] - 9s 299us/step - loss: 0.4492 - accuracy: 0.5001 - val_loss: 0.4916 - val_accuracy: 0.5084\n",
      "Epoch 315/500\n",
      "30101/30101 [==============================] - 9s 299us/step - loss: 0.4484 - accuracy: 0.5040 - val_loss: 0.4916 - val_accuracy: 0.5084\n",
      "Epoch 316/500\n",
      "30101/30101 [==============================] - 9s 299us/step - loss: 0.4520 - accuracy: 0.4972 - val_loss: 0.4916 - val_accuracy: 0.5084\n",
      "Epoch 317/500\n",
      "30101/30101 [==============================] - 9s 298us/step - loss: 0.4502 - accuracy: 0.5004 - val_loss: 0.4916 - val_accuracy: 0.5084\n",
      "Epoch 318/500\n",
      "30101/30101 [==============================] - 9s 299us/step - loss: 0.4502 - accuracy: 0.4981 - val_loss: 0.4916 - val_accuracy: 0.5084\n",
      "Epoch 319/500\n",
      "30101/30101 [==============================] - 9s 299us/step - loss: 0.4520 - accuracy: 0.4973 - val_loss: 0.4916 - val_accuracy: 0.5084\n",
      "Epoch 320/500\n",
      "30101/30101 [==============================] - 9s 300us/step - loss: 0.4512 - accuracy: 0.4982 - val_loss: 0.4916 - val_accuracy: 0.5084\n",
      "Epoch 321/500\n",
      "30101/30101 [==============================] - 9s 299us/step - loss: 0.4519 - accuracy: 0.4980 - val_loss: 0.4916 - val_accuracy: 0.5084\n",
      "Epoch 322/500\n",
      "30101/30101 [==============================] - 9s 301us/step - loss: 0.4510 - accuracy: 0.4963 - val_loss: 0.4916 - val_accuracy: 0.5084\n",
      "Epoch 323/500\n",
      "30101/30101 [==============================] - 9s 299us/step - loss: 0.4522 - accuracy: 0.4966 - val_loss: 0.4916 - val_accuracy: 0.5084\n",
      "Epoch 324/500\n",
      "30101/30101 [==============================] - 9s 300us/step - loss: 0.4511 - accuracy: 0.4997 - val_loss: 0.4916 - val_accuracy: 0.5084\n",
      "Epoch 325/500\n"
     ]
    },
    {
     "name": "stdout",
     "output_type": "stream",
     "text": [
      "30101/30101 [==============================] - 9s 299us/step - loss: 0.4507 - accuracy: 0.5009 - val_loss: 0.4916 - val_accuracy: 0.5084\n",
      "Epoch 326/500\n",
      "30101/30101 [==============================] - 9s 300us/step - loss: 0.4496 - accuracy: 0.4987 - val_loss: 0.4916 - val_accuracy: 0.5084\n",
      "Epoch 327/500\n",
      "30101/30101 [==============================] - 9s 299us/step - loss: 0.4515 - accuracy: 0.4992 - val_loss: 0.4916 - val_accuracy: 0.5084\n",
      "Epoch 328/500\n",
      "30101/30101 [==============================] - 9s 299us/step - loss: 0.4527 - accuracy: 0.4970 - val_loss: 0.4916 - val_accuracy: 0.5084\n",
      "Epoch 329/500\n",
      "30101/30101 [==============================] - 9s 299us/step - loss: 0.4501 - accuracy: 0.4996 - val_loss: 0.4916 - val_accuracy: 0.5084\n",
      "Epoch 330/500\n",
      "30101/30101 [==============================] - 9s 299us/step - loss: 0.4528 - accuracy: 0.4953 - val_loss: 0.4916 - val_accuracy: 0.5084\n",
      "Epoch 331/500\n",
      "30101/30101 [==============================] - 9s 304us/step - loss: 0.4502 - accuracy: 0.4983 - val_loss: 0.4916 - val_accuracy: 0.5084\n",
      "Epoch 332/500\n",
      "30101/30101 [==============================] - 9s 300us/step - loss: 0.4505 - accuracy: 0.4997 - val_loss: 0.4916 - val_accuracy: 0.5084\n",
      "Epoch 333/500\n",
      "30101/30101 [==============================] - 9s 299us/step - loss: 0.4478 - accuracy: 0.5060 - val_loss: 0.4916 - val_accuracy: 0.5084\n",
      "Epoch 334/500\n",
      "30101/30101 [==============================] - 9s 300us/step - loss: 0.4516 - accuracy: 0.4979 - val_loss: 0.4916 - val_accuracy: 0.5084\n",
      "Epoch 335/500\n",
      "30101/30101 [==============================] - 9s 299us/step - loss: 0.4511 - accuracy: 0.4992 - val_loss: 0.4916 - val_accuracy: 0.5084\n",
      "Epoch 336/500\n",
      "30101/30101 [==============================] - 9s 304us/step - loss: 0.4499 - accuracy: 0.5010 - val_loss: 0.4916 - val_accuracy: 0.5084\n",
      "Epoch 337/500\n",
      "30101/30101 [==============================] - 9s 300us/step - loss: 0.4528 - accuracy: 0.4975 - val_loss: 0.4916 - val_accuracy: 0.5084\n",
      "Epoch 338/500\n",
      "30101/30101 [==============================] - 9s 299us/step - loss: 0.4529 - accuracy: 0.4978 - val_loss: 0.4916 - val_accuracy: 0.5084\n",
      "Epoch 339/500\n",
      "30101/30101 [==============================] - 9s 298us/step - loss: 0.4523 - accuracy: 0.4978 - val_loss: 0.4916 - val_accuracy: 0.5084\n",
      "Epoch 340/500\n",
      "30101/30101 [==============================] - 9s 301us/step - loss: 0.4518 - accuracy: 0.4974 - val_loss: 0.4916 - val_accuracy: 0.5084\n",
      "Epoch 341/500\n",
      "30101/30101 [==============================] - 9s 297us/step - loss: 0.4498 - accuracy: 0.5008 - val_loss: 0.4916 - val_accuracy: 0.5084\n",
      "Epoch 342/500\n",
      "30101/30101 [==============================] - 9s 300us/step - loss: 0.4523 - accuracy: 0.4967 - val_loss: 0.4916 - val_accuracy: 0.5084\n",
      "Epoch 343/500\n",
      "30101/30101 [==============================] - 9s 297us/step - loss: 0.4516 - accuracy: 0.4978 - val_loss: 0.4916 - val_accuracy: 0.5084\n",
      "Epoch 344/500\n",
      "30101/30101 [==============================] - 9s 299us/step - loss: 0.4497 - accuracy: 0.5018 - val_loss: 0.4916 - val_accuracy: 0.5084\n",
      "Epoch 345/500\n",
      "30101/30101 [==============================] - 9s 301us/step - loss: 0.4509 - accuracy: 0.4986 - val_loss: 0.4916 - val_accuracy: 0.5084\n",
      "Epoch 346/500\n",
      "30101/30101 [==============================] - 9s 301us/step - loss: 0.4499 - accuracy: 0.5008 - val_loss: 0.4916 - val_accuracy: 0.5084\n",
      "Epoch 347/500\n",
      "30101/30101 [==============================] - 9s 299us/step - loss: 0.4517 - accuracy: 0.4966 - val_loss: 0.4916 - val_accuracy: 0.5084\n",
      "Epoch 348/500\n",
      "30101/30101 [==============================] - 9s 301us/step - loss: 0.4504 - accuracy: 0.5014 - val_loss: 0.4916 - val_accuracy: 0.5084\n",
      "Epoch 349/500\n",
      "30101/30101 [==============================] - 9s 298us/step - loss: 0.4508 - accuracy: 0.5007 - val_loss: 0.4916 - val_accuracy: 0.5084\n",
      "Epoch 350/500\n",
      "30101/30101 [==============================] - 9s 303us/step - loss: 0.4525 - accuracy: 0.4960 - val_loss: 0.4916 - val_accuracy: 0.5084\n",
      "Epoch 351/500\n",
      "30101/30101 [==============================] - 9s 300us/step - loss: 0.4508 - accuracy: 0.4981 - val_loss: 0.4916 - val_accuracy: 0.5084\n",
      "Epoch 352/500\n",
      "30101/30101 [==============================] - 9s 298us/step - loss: 0.4516 - accuracy: 0.4959 - val_loss: 0.4916 - val_accuracy: 0.5084\n",
      "Epoch 353/500\n",
      "30101/30101 [==============================] - 9s 299us/step - loss: 0.4508 - accuracy: 0.4999 - val_loss: 0.4916 - val_accuracy: 0.5084\n",
      "Epoch 354/500\n",
      "30101/30101 [==============================] - 9s 302us/step - loss: 0.4499 - accuracy: 0.5013 - val_loss: 0.4916 - val_accuracy: 0.5084\n",
      "Epoch 355/500\n",
      "30101/30101 [==============================] - 9s 298us/step - loss: 0.4497 - accuracy: 0.5012 - val_loss: 0.4916 - val_accuracy: 0.5084\n",
      "Epoch 356/500\n",
      "30101/30101 [==============================] - 9s 298us/step - loss: 0.4531 - accuracy: 0.4977 - val_loss: 0.4916 - val_accuracy: 0.5084\n",
      "Epoch 357/500\n",
      "30101/30101 [==============================] - 9s 298us/step - loss: 0.4527 - accuracy: 0.4975 - val_loss: 0.4916 - val_accuracy: 0.5084\n",
      "Epoch 358/500\n",
      "30101/30101 [==============================] - 9s 298us/step - loss: 0.4513 - accuracy: 0.4989 - val_loss: 0.4916 - val_accuracy: 0.5084\n",
      "Epoch 359/500\n",
      "30101/30101 [==============================] - 9s 301us/step - loss: 0.4528 - accuracy: 0.4976 - val_loss: 0.4916 - val_accuracy: 0.5084\n",
      "Epoch 360/500\n",
      "30101/30101 [==============================] - 9s 300us/step - loss: 0.4520 - accuracy: 0.4955 - val_loss: 0.4916 - val_accuracy: 0.5084\n",
      "Epoch 361/500\n",
      "30101/30101 [==============================] - 9s 299us/step - loss: 0.4487 - accuracy: 0.5015 - val_loss: 0.4916 - val_accuracy: 0.5084\n",
      "Epoch 362/500\n",
      "30101/30101 [==============================] - 9s 299us/step - loss: 0.4505 - accuracy: 0.4955 - val_loss: 0.4916 - val_accuracy: 0.5084\n",
      "Epoch 363/500\n",
      "30101/30101 [==============================] - 9s 299us/step - loss: 0.4491 - accuracy: 0.5036 - val_loss: 0.4916 - val_accuracy: 0.5084\n",
      "Epoch 364/500\n",
      "30101/30101 [==============================] - 9s 299us/step - loss: 0.4489 - accuracy: 0.5018 - val_loss: 0.4916 - val_accuracy: 0.5084\n",
      "Epoch 365/500\n",
      "30101/30101 [==============================] - 9s 299us/step - loss: 0.4514 - accuracy: 0.4971 - val_loss: 0.4916 - val_accuracy: 0.5084\n",
      "Epoch 366/500\n",
      "30101/30101 [==============================] - 9s 300us/step - loss: 0.4537 - accuracy: 0.4974 - val_loss: 0.4916 - val_accuracy: 0.5084\n",
      "Epoch 367/500\n",
      "30101/30101 [==============================] - 9s 299us/step - loss: 0.4493 - accuracy: 0.4997 - val_loss: 0.4916 - val_accuracy: 0.5084\n",
      "Epoch 368/500\n",
      "30101/30101 [==============================] - 9s 300us/step - loss: 0.4518 - accuracy: 0.4996 - val_loss: 0.4916 - val_accuracy: 0.5084\n",
      "Epoch 369/500\n",
      "30101/30101 [==============================] - 9s 302us/step - loss: 0.4503 - accuracy: 0.5003 - val_loss: 0.4916 - val_accuracy: 0.5084\n",
      "Epoch 370/500\n",
      "30101/30101 [==============================] - 9s 300us/step - loss: 0.4544 - accuracy: 0.4964 - val_loss: 0.4916 - val_accuracy: 0.5084\n",
      "Epoch 371/500\n",
      "30101/30101 [==============================] - 9s 300us/step - loss: 0.4491 - accuracy: 0.5010 - val_loss: 0.4916 - val_accuracy: 0.5084\n",
      "Epoch 372/500\n",
      "30101/30101 [==============================] - 9s 299us/step - loss: 0.4532 - accuracy: 0.4956 - val_loss: 0.4916 - val_accuracy: 0.5084\n",
      "Epoch 373/500\n",
      "30101/30101 [==============================] - 9s 299us/step - loss: 0.4513 - accuracy: 0.4999 - val_loss: 0.4916 - val_accuracy: 0.5084\n",
      "Epoch 374/500\n",
      "30101/30101 [==============================] - 9s 300us/step - loss: 0.4522 - accuracy: 0.4980 - val_loss: 0.4916 - val_accuracy: 0.5084\n",
      "Epoch 375/500\n",
      "30101/30101 [==============================] - 10s 334us/step - loss: 0.4511 - accuracy: 0.4979 - val_loss: 0.4916 - val_accuracy: 0.5084\n",
      "Epoch 376/500\n",
      "30101/30101 [==============================] - 10s 326us/step - loss: 0.4476 - accuracy: 0.5047 - val_loss: 0.4916 - val_accuracy: 0.5084\n",
      "Epoch 377/500\n",
      "30101/30101 [==============================] - 9s 300us/step - loss: 0.4517 - accuracy: 0.4955 - val_loss: 0.4916 - val_accuracy: 0.5084\n",
      "Epoch 378/500\n",
      "30101/30101 [==============================] - 9s 298us/step - loss: 0.4535 - accuracy: 0.4979 - val_loss: 0.4916 - val_accuracy: 0.5084\n",
      "Epoch 379/500\n"
     ]
    },
    {
     "name": "stdout",
     "output_type": "stream",
     "text": [
      "30101/30101 [==============================] - 9s 298us/step - loss: 0.4490 - accuracy: 0.5025 - val_loss: 0.4916 - val_accuracy: 0.5084\n",
      "Epoch 380/500\n",
      "30101/30101 [==============================] - 9s 300us/step - loss: 0.4519 - accuracy: 0.4973 - val_loss: 0.4916 - val_accuracy: 0.5084\n",
      "Epoch 381/500\n",
      "30101/30101 [==============================] - 9s 300us/step - loss: 0.4517 - accuracy: 0.4979 - val_loss: 0.4916 - val_accuracy: 0.5084\n",
      "Epoch 382/500\n",
      "30101/30101 [==============================] - 9s 299us/step - loss: 0.4534 - accuracy: 0.4981 - val_loss: 0.4916 - val_accuracy: 0.5084\n",
      "Epoch 383/500\n",
      "30101/30101 [==============================] - 9s 298us/step - loss: 0.4508 - accuracy: 0.4994 - val_loss: 0.4916 - val_accuracy: 0.5084\n",
      "Epoch 384/500\n",
      "30101/30101 [==============================] - 9s 299us/step - loss: 0.4516 - accuracy: 0.4969 - val_loss: 0.4916 - val_accuracy: 0.5084\n",
      "Epoch 385/500\n",
      "30101/30101 [==============================] - 9s 300us/step - loss: 0.4513 - accuracy: 0.4992 - val_loss: 0.4916 - val_accuracy: 0.5084\n",
      "Epoch 386/500\n",
      "30101/30101 [==============================] - 9s 299us/step - loss: 0.4516 - accuracy: 0.4972 - val_loss: 0.4916 - val_accuracy: 0.5084\n",
      "Epoch 387/500\n",
      "30101/30101 [==============================] - 9s 300us/step - loss: 0.4527 - accuracy: 0.4979 - val_loss: 0.4916 - val_accuracy: 0.5084\n",
      "Epoch 388/500\n",
      "30101/30101 [==============================] - 9s 298us/step - loss: 0.4533 - accuracy: 0.4987 - val_loss: 0.4916 - val_accuracy: 0.5084\n",
      "Epoch 389/500\n",
      "30101/30101 [==============================] - 9s 300us/step - loss: 0.4524 - accuracy: 0.4984 - val_loss: 0.4916 - val_accuracy: 0.5084\n",
      "Epoch 390/500\n",
      "30101/30101 [==============================] - 9s 299us/step - loss: 0.4510 - accuracy: 0.4979 - val_loss: 0.4916 - val_accuracy: 0.5084\n",
      "Epoch 391/500\n",
      "30101/30101 [==============================] - 9s 298us/step - loss: 0.4538 - accuracy: 0.4987 - val_loss: 0.4916 - val_accuracy: 0.5084\n",
      "Epoch 392/500\n",
      "30101/30101 [==============================] - 9s 299us/step - loss: 0.4507 - accuracy: 0.4988 - val_loss: 0.4916 - val_accuracy: 0.5084\n",
      "Epoch 393/500\n",
      "30101/30101 [==============================] - 9s 300us/step - loss: 0.4509 - accuracy: 0.4951 - val_loss: 0.4916 - val_accuracy: 0.5084\n",
      "Epoch 394/500\n",
      "30101/30101 [==============================] - 9s 299us/step - loss: 0.4517 - accuracy: 0.4977 - val_loss: 0.4916 - val_accuracy: 0.5084\n",
      "Epoch 395/500\n",
      "30101/30101 [==============================] - 9s 299us/step - loss: 0.4508 - accuracy: 0.4974 - val_loss: 0.4916 - val_accuracy: 0.5084\n",
      "Epoch 396/500\n",
      "30101/30101 [==============================] - 9s 300us/step - loss: 0.4534 - accuracy: 0.4969 - val_loss: 0.4916 - val_accuracy: 0.5084\n",
      "Epoch 397/500\n",
      "30101/30101 [==============================] - 9s 299us/step - loss: 0.4509 - accuracy: 0.5007 - val_loss: 0.4916 - val_accuracy: 0.5084\n",
      "Epoch 398/500\n",
      "30101/30101 [==============================] - 9s 300us/step - loss: 0.4491 - accuracy: 0.5009 - val_loss: 0.4916 - val_accuracy: 0.5084\n",
      "Epoch 399/500\n",
      "30101/30101 [==============================] - 9s 298us/step - loss: 0.4529 - accuracy: 0.4969 - val_loss: 0.4916 - val_accuracy: 0.5084\n",
      "Epoch 400/500\n",
      "30101/30101 [==============================] - 9s 299us/step - loss: 0.4520 - accuracy: 0.4978 - val_loss: 0.4916 - val_accuracy: 0.5084\n",
      "Epoch 401/500\n",
      "30101/30101 [==============================] - 9s 300us/step - loss: 0.4511 - accuracy: 0.4982 - val_loss: 0.4916 - val_accuracy: 0.5084\n",
      "Epoch 402/500\n",
      "30101/30101 [==============================] - 9s 300us/step - loss: 0.4532 - accuracy: 0.4986 - val_loss: 0.4916 - val_accuracy: 0.5084\n",
      "Epoch 403/500\n",
      "30101/30101 [==============================] - 9s 298us/step - loss: 0.4528 - accuracy: 0.4980 - val_loss: 0.4916 - val_accuracy: 0.5084\n",
      "Epoch 404/500\n",
      "30101/30101 [==============================] - 9s 299us/step - loss: 0.4519 - accuracy: 0.4990 - val_loss: 0.4916 - val_accuracy: 0.5084\n",
      "Epoch 405/500\n",
      "30101/30101 [==============================] - 9s 299us/step - loss: 0.4518 - accuracy: 0.4982 - val_loss: 0.4916 - val_accuracy: 0.5084\n",
      "Epoch 406/500\n",
      "30101/30101 [==============================] - 9s 298us/step - loss: 0.4495 - accuracy: 0.5009 - val_loss: 0.4916 - val_accuracy: 0.5084\n",
      "Epoch 407/500\n",
      "30101/30101 [==============================] - 9s 299us/step - loss: 0.4512 - accuracy: 0.4985 - val_loss: 0.4916 - val_accuracy: 0.5084\n",
      "Epoch 408/500\n",
      "30101/30101 [==============================] - 9s 298us/step - loss: 0.4510 - accuracy: 0.4972 - val_loss: 0.4916 - val_accuracy: 0.5084\n",
      "Epoch 409/500\n",
      "30101/30101 [==============================] - 9s 300us/step - loss: 0.4517 - accuracy: 0.4984 - val_loss: 0.4916 - val_accuracy: 0.5084\n",
      "Epoch 410/500\n",
      "30101/30101 [==============================] - 9s 300us/step - loss: 0.4490 - accuracy: 0.5034 - val_loss: 0.4916 - val_accuracy: 0.5084\n",
      "Epoch 411/500\n",
      "30101/30101 [==============================] - 9s 300us/step - loss: 0.4526 - accuracy: 0.4957 - val_loss: 0.4916 - val_accuracy: 0.5084\n",
      "Epoch 412/500\n",
      "30101/30101 [==============================] - 9s 299us/step - loss: 0.4525 - accuracy: 0.4964 - val_loss: 0.4916 - val_accuracy: 0.5084\n",
      "Epoch 413/500\n",
      "30101/30101 [==============================] - 9s 298us/step - loss: 0.4493 - accuracy: 0.5030 - val_loss: 0.4916 - val_accuracy: 0.5084\n",
      "Epoch 414/500\n",
      "30101/30101 [==============================] - 9s 298us/step - loss: 0.4504 - accuracy: 0.5014 - val_loss: 0.4916 - val_accuracy: 0.5084\n",
      "Epoch 415/500\n",
      "30101/30101 [==============================] - 9s 300us/step - loss: 0.4522 - accuracy: 0.4983 - val_loss: 0.4916 - val_accuracy: 0.5084\n",
      "Epoch 416/500\n",
      "30101/30101 [==============================] - 9s 297us/step - loss: 0.4492 - accuracy: 0.5026 - val_loss: 0.4916 - val_accuracy: 0.5084\n",
      "Epoch 417/500\n",
      "30101/30101 [==============================] - 9s 298us/step - loss: 0.4509 - accuracy: 0.4990 - val_loss: 0.4916 - val_accuracy: 0.5084\n",
      "Epoch 418/500\n",
      "30101/30101 [==============================] - 9s 300us/step - loss: 0.4523 - accuracy: 0.4982 - val_loss: 0.4916 - val_accuracy: 0.5084\n",
      "Epoch 419/500\n",
      "30101/30101 [==============================] - 9s 301us/step - loss: 0.4513 - accuracy: 0.4970 - val_loss: 0.4916 - val_accuracy: 0.5084\n",
      "Epoch 420/500\n",
      "30101/30101 [==============================] - 9s 300us/step - loss: 0.4500 - accuracy: 0.5011 - val_loss: 0.4916 - val_accuracy: 0.5084\n",
      "Epoch 421/500\n",
      "30101/30101 [==============================] - 9s 299us/step - loss: 0.4486 - accuracy: 0.5035 - val_loss: 0.4916 - val_accuracy: 0.5084\n",
      "Epoch 422/500\n",
      "30101/30101 [==============================] - 9s 299us/step - loss: 0.4531 - accuracy: 0.4968 - val_loss: 0.4916 - val_accuracy: 0.5084\n",
      "Epoch 423/500\n",
      "30101/30101 [==============================] - 9s 299us/step - loss: 0.4515 - accuracy: 0.4975 - val_loss: 0.4916 - val_accuracy: 0.5084\n",
      "Epoch 424/500\n",
      "30101/30101 [==============================] - 9s 299us/step - loss: 0.4513 - accuracy: 0.4966 - val_loss: 0.4916 - val_accuracy: 0.5084\n",
      "Epoch 425/500\n",
      "30101/30101 [==============================] - 9s 299us/step - loss: 0.4506 - accuracy: 0.5002 - val_loss: 0.4916 - val_accuracy: 0.5084\n",
      "Epoch 426/500\n",
      "30101/30101 [==============================] - 9s 298us/step - loss: 0.4514 - accuracy: 0.4980 - val_loss: 0.4916 - val_accuracy: 0.5084\n",
      "Epoch 427/500\n",
      "30101/30101 [==============================] - 9s 299us/step - loss: 0.4522 - accuracy: 0.4985 - val_loss: 0.4916 - val_accuracy: 0.5084\n",
      "Epoch 428/500\n",
      "30101/30101 [==============================] - 9s 298us/step - loss: 0.4511 - accuracy: 0.4986 - val_loss: 0.4916 - val_accuracy: 0.5084\n",
      "Epoch 429/500\n",
      "30101/30101 [==============================] - 9s 299us/step - loss: 0.4502 - accuracy: 0.5016 - val_loss: 0.4916 - val_accuracy: 0.5084\n",
      "Epoch 430/500\n",
      "30101/30101 [==============================] - 9s 298us/step - loss: 0.4516 - accuracy: 0.4982 - val_loss: 0.4916 - val_accuracy: 0.5084\n",
      "Epoch 431/500\n",
      "30101/30101 [==============================] - 9s 299us/step - loss: 0.4512 - accuracy: 0.4969 - val_loss: 0.4916 - val_accuracy: 0.5084\n",
      "Epoch 432/500\n",
      "30101/30101 [==============================] - 9s 299us/step - loss: 0.4524 - accuracy: 0.4990 - val_loss: 0.4916 - val_accuracy: 0.5084\n",
      "Epoch 433/500\n"
     ]
    },
    {
     "name": "stdout",
     "output_type": "stream",
     "text": [
      "30101/30101 [==============================] - 9s 297us/step - loss: 0.4496 - accuracy: 0.5024 - val_loss: 0.4916 - val_accuracy: 0.5084\n",
      "Epoch 434/500\n",
      "30101/30101 [==============================] - 9s 299us/step - loss: 0.4488 - accuracy: 0.5013 - val_loss: 0.4916 - val_accuracy: 0.5084\n",
      "Epoch 435/500\n",
      "30101/30101 [==============================] - 9s 299us/step - loss: 0.4490 - accuracy: 0.4998 - val_loss: 0.4916 - val_accuracy: 0.5084\n",
      "Epoch 436/500\n",
      "30101/30101 [==============================] - 9s 299us/step - loss: 0.4526 - accuracy: 0.4966 - val_loss: 0.4916 - val_accuracy: 0.5084\n",
      "Epoch 437/500\n",
      "30101/30101 [==============================] - 9s 299us/step - loss: 0.4516 - accuracy: 0.4970 - val_loss: 0.4916 - val_accuracy: 0.5084\n",
      "Epoch 438/500\n",
      "30101/30101 [==============================] - 9s 300us/step - loss: 0.4523 - accuracy: 0.4985 - val_loss: 0.4916 - val_accuracy: 0.5084\n",
      "Epoch 439/500\n",
      "30101/30101 [==============================] - 9s 299us/step - loss: 0.4526 - accuracy: 0.4984 - val_loss: 0.4916 - val_accuracy: 0.5084\n",
      "Epoch 440/500\n",
      "30101/30101 [==============================] - 9s 300us/step - loss: 0.4504 - accuracy: 0.4994 - val_loss: 0.4916 - val_accuracy: 0.5084\n",
      "Epoch 441/500\n",
      "30101/30101 [==============================] - 9s 298us/step - loss: 0.4509 - accuracy: 0.4993 - val_loss: 0.4916 - val_accuracy: 0.5084\n",
      "Epoch 442/500\n",
      "30101/30101 [==============================] - 9s 299us/step - loss: 0.4517 - accuracy: 0.4979 - val_loss: 0.4916 - val_accuracy: 0.5084\n",
      "Epoch 443/500\n",
      "30101/30101 [==============================] - 9s 299us/step - loss: 0.4494 - accuracy: 0.5015 - val_loss: 0.4916 - val_accuracy: 0.5084\n",
      "Epoch 444/500\n",
      "30101/30101 [==============================] - 9s 299us/step - loss: 0.4514 - accuracy: 0.5005 - val_loss: 0.4916 - val_accuracy: 0.5084\n",
      "Epoch 445/500\n",
      "30101/30101 [==============================] - 9s 298us/step - loss: 0.4514 - accuracy: 0.4969 - val_loss: 0.4916 - val_accuracy: 0.5084\n",
      "Epoch 446/500\n",
      "30101/30101 [==============================] - 9s 299us/step - loss: 0.4514 - accuracy: 0.4963 - val_loss: 0.4916 - val_accuracy: 0.5084\n",
      "Epoch 447/500\n",
      "30101/30101 [==============================] - 9s 299us/step - loss: 0.4506 - accuracy: 0.4997 - val_loss: 0.4916 - val_accuracy: 0.5084\n",
      "Epoch 448/500\n",
      "30101/30101 [==============================] - 9s 299us/step - loss: 0.4555 - accuracy: 0.4965 - val_loss: 0.4916 - val_accuracy: 0.5084\n",
      "Epoch 449/500\n",
      "30101/30101 [==============================] - 9s 298us/step - loss: 0.4545 - accuracy: 0.4987 - val_loss: 0.4916 - val_accuracy: 0.5084\n",
      "Epoch 450/500\n",
      "30101/30101 [==============================] - 9s 298us/step - loss: 0.4527 - accuracy: 0.4986 - val_loss: 0.4916 - val_accuracy: 0.5084\n",
      "Epoch 451/500\n",
      "30101/30101 [==============================] - 9s 298us/step - loss: 0.4519 - accuracy: 0.4980 - val_loss: 0.4916 - val_accuracy: 0.5084\n",
      "Epoch 452/500\n",
      "30101/30101 [==============================] - 9s 297us/step - loss: 0.4517 - accuracy: 0.4972 - val_loss: 0.4916 - val_accuracy: 0.5084\n",
      "Epoch 453/500\n",
      "30101/30101 [==============================] - 9s 297us/step - loss: 0.4522 - accuracy: 0.4969 - val_loss: 0.4916 - val_accuracy: 0.5084\n",
      "Epoch 454/500\n",
      "30101/30101 [==============================] - 9s 298us/step - loss: 0.4495 - accuracy: 0.4995 - val_loss: 0.4916 - val_accuracy: 0.5084\n",
      "Epoch 455/500\n",
      "30101/30101 [==============================] - 9s 299us/step - loss: 0.4503 - accuracy: 0.4998 - val_loss: 0.4916 - val_accuracy: 0.5084\n",
      "Epoch 456/500\n",
      "30101/30101 [==============================] - 9s 299us/step - loss: 0.4512 - accuracy: 0.4991 - val_loss: 0.4916 - val_accuracy: 0.5084\n",
      "Epoch 457/500\n",
      "30101/30101 [==============================] - 9s 298us/step - loss: 0.4502 - accuracy: 0.5008 - val_loss: 0.4916 - val_accuracy: 0.5084\n",
      "Epoch 458/500\n",
      "30101/30101 [==============================] - 9s 299us/step - loss: 0.4531 - accuracy: 0.4980 - val_loss: 0.4916 - val_accuracy: 0.5084\n",
      "Epoch 459/500\n",
      "30101/30101 [==============================] - 9s 300us/step - loss: 0.4515 - accuracy: 0.4979 - val_loss: 0.4916 - val_accuracy: 0.5084\n",
      "Epoch 460/500\n",
      "30101/30101 [==============================] - 9s 299us/step - loss: 0.4530 - accuracy: 0.4962 - val_loss: 0.4916 - val_accuracy: 0.5084\n",
      "Epoch 461/500\n",
      "30101/30101 [==============================] - 9s 299us/step - loss: 0.4521 - accuracy: 0.4971 - val_loss: 0.4916 - val_accuracy: 0.5084\n",
      "Epoch 462/500\n",
      "30101/30101 [==============================] - 9s 299us/step - loss: 0.4512 - accuracy: 0.4978 - val_loss: 0.4916 - val_accuracy: 0.5084\n",
      "Epoch 463/500\n",
      "30101/30101 [==============================] - 9s 300us/step - loss: 0.4532 - accuracy: 0.4976 - val_loss: 0.4916 - val_accuracy: 0.5084\n",
      "Epoch 464/500\n",
      "30101/30101 [==============================] - 9s 298us/step - loss: 0.4511 - accuracy: 0.5001 - val_loss: 0.4916 - val_accuracy: 0.5084\n",
      "Epoch 465/500\n",
      "30101/30101 [==============================] - 9s 299us/step - loss: 0.4506 - accuracy: 0.4996 - val_loss: 0.4916 - val_accuracy: 0.5084\n",
      "Epoch 466/500\n",
      "30101/30101 [==============================] - 9s 297us/step - loss: 0.4522 - accuracy: 0.4965 - val_loss: 0.4916 - val_accuracy: 0.5084\n",
      "Epoch 467/500\n",
      "30101/30101 [==============================] - 9s 300us/step - loss: 0.4501 - accuracy: 0.5006 - val_loss: 0.4916 - val_accuracy: 0.5084\n",
      "Epoch 468/500\n",
      "30101/30101 [==============================] - 9s 299us/step - loss: 0.4512 - accuracy: 0.4983 - val_loss: 0.4916 - val_accuracy: 0.5084\n",
      "Epoch 469/500\n",
      "30101/30101 [==============================] - 9s 300us/step - loss: 0.4515 - accuracy: 0.4987 - val_loss: 0.4916 - val_accuracy: 0.5084\n",
      "Epoch 470/500\n",
      "30101/30101 [==============================] - 9s 299us/step - loss: 0.4517 - accuracy: 0.4987 - val_loss: 0.4916 - val_accuracy: 0.5084\n",
      "Epoch 471/500\n",
      "30101/30101 [==============================] - 9s 300us/step - loss: 0.4533 - accuracy: 0.4991 - val_loss: 0.4916 - val_accuracy: 0.5084\n",
      "Epoch 472/500\n",
      "30101/30101 [==============================] - 9s 298us/step - loss: 0.4505 - accuracy: 0.4990 - val_loss: 0.4916 - val_accuracy: 0.5084\n",
      "Epoch 473/500\n",
      "30101/30101 [==============================] - 9s 299us/step - loss: 0.4498 - accuracy: 0.5030 - val_loss: 0.4916 - val_accuracy: 0.5084\n",
      "Epoch 474/500\n",
      "30101/30101 [==============================] - 9s 299us/step - loss: 0.4512 - accuracy: 0.5006 - val_loss: 0.4916 - val_accuracy: 0.5084\n",
      "Epoch 475/500\n",
      "30101/30101 [==============================] - 9s 299us/step - loss: 0.4527 - accuracy: 0.4977 - val_loss: 0.4916 - val_accuracy: 0.5084\n",
      "Epoch 476/500\n",
      "30101/30101 [==============================] - 9s 297us/step - loss: 0.4490 - accuracy: 0.5016 - val_loss: 0.4916 - val_accuracy: 0.5084\n",
      "Epoch 477/500\n",
      "30101/30101 [==============================] - 9s 299us/step - loss: 0.4499 - accuracy: 0.5019 - val_loss: 0.4916 - val_accuracy: 0.5084\n",
      "Epoch 478/500\n",
      "30101/30101 [==============================] - 9s 298us/step - loss: 0.4503 - accuracy: 0.4994 - val_loss: 0.4916 - val_accuracy: 0.5084\n",
      "Epoch 479/500\n",
      "30101/30101 [==============================] - 9s 299us/step - loss: 0.4513 - accuracy: 0.5018 - val_loss: 0.4916 - val_accuracy: 0.5084\n",
      "Epoch 480/500\n",
      "30101/30101 [==============================] - 9s 299us/step - loss: 0.4492 - accuracy: 0.5032 - val_loss: 0.4916 - val_accuracy: 0.5084\n",
      "Epoch 481/500\n",
      "30101/30101 [==============================] - 9s 299us/step - loss: 0.4507 - accuracy: 0.4991 - val_loss: 0.4916 - val_accuracy: 0.5084\n",
      "Epoch 482/500\n",
      "30101/30101 [==============================] - 9s 298us/step - loss: 0.4494 - accuracy: 0.5011 - val_loss: 0.4916 - val_accuracy: 0.5084\n",
      "Epoch 483/500\n",
      "30101/30101 [==============================] - 9s 297us/step - loss: 0.4509 - accuracy: 0.4979 - val_loss: 0.4916 - val_accuracy: 0.5084\n",
      "Epoch 484/500\n",
      "30101/30101 [==============================] - 9s 298us/step - loss: 0.4527 - accuracy: 0.4973 - val_loss: 0.4916 - val_accuracy: 0.5084\n",
      "Epoch 485/500\n",
      "30101/30101 [==============================] - 9s 300us/step - loss: 0.4503 - accuracy: 0.4998 - val_loss: 0.4916 - val_accuracy: 0.5084\n",
      "Epoch 486/500\n",
      "30101/30101 [==============================] - 9s 300us/step - loss: 0.4528 - accuracy: 0.4967 - val_loss: 0.4916 - val_accuracy: 0.5084\n",
      "Epoch 487/500\n"
     ]
    },
    {
     "name": "stdout",
     "output_type": "stream",
     "text": [
      "30101/30101 [==============================] - 9s 298us/step - loss: 0.4506 - accuracy: 0.4981 - val_loss: 0.4916 - val_accuracy: 0.5084\n",
      "Epoch 488/500\n",
      "30101/30101 [==============================] - 9s 299us/step - loss: 0.4488 - accuracy: 0.5041 - val_loss: 0.4916 - val_accuracy: 0.5084\n",
      "Epoch 489/500\n",
      "30101/30101 [==============================] - 9s 299us/step - loss: 0.4521 - accuracy: 0.4995 - val_loss: 0.4916 - val_accuracy: 0.5084\n",
      "Epoch 490/500\n",
      "30101/30101 [==============================] - 9s 298us/step - loss: 0.4497 - accuracy: 0.5014 - val_loss: 0.4916 - val_accuracy: 0.5084\n",
      "Epoch 491/500\n",
      "30101/30101 [==============================] - 9s 299us/step - loss: 0.4517 - accuracy: 0.4991 - val_loss: 0.4916 - val_accuracy: 0.5084\n",
      "Epoch 492/500\n",
      "30101/30101 [==============================] - 9s 297us/step - loss: 0.4518 - accuracy: 0.4966 - val_loss: 0.4916 - val_accuracy: 0.5084\n",
      "Epoch 493/500\n",
      "30101/30101 [==============================] - 9s 299us/step - loss: 0.4488 - accuracy: 0.5005 - val_loss: 0.4916 - val_accuracy: 0.5084\n",
      "Epoch 494/500\n",
      "30101/30101 [==============================] - 9s 299us/step - loss: 0.4526 - accuracy: 0.4952 - val_loss: 0.4916 - val_accuracy: 0.5084\n",
      "Epoch 495/500\n",
      "30101/30101 [==============================] - 9s 298us/step - loss: 0.4503 - accuracy: 0.5005 - val_loss: 0.4916 - val_accuracy: 0.5084\n",
      "Epoch 496/500\n",
      "30101/30101 [==============================] - 9s 300us/step - loss: 0.4505 - accuracy: 0.5018 - val_loss: 0.4916 - val_accuracy: 0.5084\n",
      "Epoch 497/500\n",
      "30101/30101 [==============================] - 9s 299us/step - loss: 0.4519 - accuracy: 0.4985 - val_loss: 0.4916 - val_accuracy: 0.5084\n",
      "Epoch 498/500\n",
      "30101/30101 [==============================] - 9s 298us/step - loss: 0.4525 - accuracy: 0.4974 - val_loss: 0.4916 - val_accuracy: 0.5084\n",
      "Epoch 499/500\n",
      "30101/30101 [==============================] - 9s 299us/step - loss: 0.4516 - accuracy: 0.4971 - val_loss: 0.4916 - val_accuracy: 0.5084\n",
      "Epoch 500/500\n",
      "30101/30101 [==============================] - 9s 297us/step - loss: 0.4495 - accuracy: 0.5016 - val_loss: 0.4916 - val_accuracy: 0.5084\n"
     ]
    }
   ],
   "source": [
    "history, model = train_model(model, '20220905_sr44100_500epoch')"
   ]
  },
  {
   "cell_type": "markdown",
   "id": "c74477b0",
   "metadata": {},
   "source": [
    "# 模型評估"
   ]
  },
  {
   "cell_type": "markdown",
   "id": "06485d4f",
   "metadata": {},
   "source": [
    "- 測試資料集的 loss, accuracy, recall, precision, f1, mse, mae\n",
    "- 訓練時的 loss, accuracy\n",
    "- 驗證資料的 loss, accuracy"
   ]
  },
  {
   "cell_type": "code",
   "execution_count": 32,
   "id": "bada4b21",
   "metadata": {
    "ExecuteTime": {
     "end_time": "2022-09-05T09:29:00.732401Z",
     "start_time": "2022-09-05T09:29:00.722429Z"
    }
   },
   "outputs": [],
   "source": [
    "from keras.models import load_model\n",
    "from sklearn.metrics import f1_score, precision_score, recall_score, confusion_matrix\n",
    "from sklearn.metrics import classification_report\n",
    "import keras\n",
    "import matplotlib.pyplot as plt\n",
    "\n",
    "def plot_loss_accuracy(history):\n",
    "    historydf = pd.DataFrame(history.history, index=history.epoch)\n",
    "    fig = plt.figure(figsize=(8, 6))\n",
    "    historydf.plot(ylim=(0, max(1, historydf.values.max())))\n",
    "    loss = history.history['loss'][-1]\n",
    "    acc = history.history['accuracy'][-1]\n",
    "    plt.title('Loss: %.3f, Accuracy: %.3f' % (loss, acc))\n",
    "    return fig\n",
    "\n",
    "def evaluate_model(model_path, eval_model):\n",
    "    #eval_model = load_model(model_path)\n",
    "    \n",
    "    eval_model.compile(loss='mse',\n",
    "                 optimizer='adam',\n",
    "                 metrics=['accuracy'])\n",
    "    \n",
    "    print(eval_model.summary())\n",
    "    \n",
    "    # loss, acc\n",
    "    loss_train, accuracy_train = eval_model.evaluate(X_train, y_train_hot, verbose=0)\n",
    "    loss_val, accuracy_val = eval_model.evaluate(X_valid, y_valid_hot, verbose=0)\n",
    "    loss_test, accuracy_test = eval_model.evaluate(X_test, y_test_hot, verbose=0)\n",
    "    print(\"訓練\")\n",
    "    print(\"Loss: %0.4f, Accuracy: %0.4f\" %(loss_train, accuracy_train))\n",
    "    print(\"驗證\")\n",
    "    print(\"Loss: %0.4f, Accuracy: %0.4f\" %(loss_val, accuracy_val))\n",
    "    print(\"測試\")\n",
    "    print(\"Loss: %0.4f, Accuracy: %0.4f\" %(loss_test, accuracy_test))\n",
    "    \n",
    "    # test precision, recall, f1\n",
    "    y_pred1 = eval_model.predict(X_test)\n",
    "    y_pred = np.argmax(y_pred1, axis=1)\n",
    "    \n",
    "    precision = precision_score(y_test, y_pred , average=\"macro\")\n",
    "    recall = recall_score(y_test, y_pred , average=\"macro\")\n",
    "    f1 = f1_score(y_test, y_pred , average=\"macro\")\n",
    "    print(\"Precision: %0.4f, Recall: %0.4f, F1: %0.4f\" %(precision, recall, f1))\n",
    "    \n",
    "    # test mse, mae\n",
    "    eval_model.compile(loss=\"mse\", optimizer=\"adam\", metrics=[\"mae\"])\n",
    "    mse, mae = eval_model.evaluate(X_test, y_test_hot)\n",
    "    print(\"MSE: %0.4f, MAE: %0.4f\" %(mse, mae))\n",
    "    \n",
    "    # test classification report\n",
    "    y_pred = eval_model.predict_classes(X_test)\n",
    "    classifi_report = classification_report(y_test, y_pred)\n",
    "    print(classifi_report)\n",
    "    \n",
    "    # loss, accuracy, by epoch\n",
    "    #fig = plot_loss_accuracy(history)\n",
    "    #fig.savefig(model_path.split('/')[0] + '/plot.png')"
   ]
  },
  {
   "cell_type": "code",
   "execution_count": 33,
   "id": "48186e35",
   "metadata": {
    "ExecuteTime": {
     "end_time": "2022-09-05T09:29:28.648818Z",
     "start_time": "2022-09-05T09:29:25.000211Z"
    },
    "code_folding": []
   },
   "outputs": [
    {
     "name": "stdout",
     "output_type": "stream",
     "text": [
      "Model: \"sequential_1\"\n",
      "_________________________________________________________________\n",
      "Layer (type)                 Output Shape              Param #   \n",
      "=================================================================\n",
      "dense_1 (Dense)              (None, 20, 104, 64)       128       \n",
      "_________________________________________________________________\n",
      "dense_2 (Dense)              (None, 20, 104, 64)       4160      \n",
      "_________________________________________________________________\n",
      "dropout_1 (Dropout)          (None, 20, 104, 64)       0         \n",
      "_________________________________________________________________\n",
      "dense_3 (Dense)              (None, 20, 104, 32)       2080      \n",
      "_________________________________________________________________\n",
      "dropout_2 (Dropout)          (None, 20, 104, 32)       0         \n",
      "_________________________________________________________________\n",
      "dense_4 (Dense)              (None, 20, 104, 16)       528       \n",
      "_________________________________________________________________\n",
      "dropout_3 (Dropout)          (None, 20, 104, 16)       0         \n",
      "_________________________________________________________________\n",
      "flatten_1 (Flatten)          (None, 33280)             0         \n",
      "_________________________________________________________________\n",
      "dense_5 (Dense)              (None, 1024)              34079744  \n",
      "_________________________________________________________________\n",
      "dropout_4 (Dropout)          (None, 1024)              0         \n",
      "_________________________________________________________________\n",
      "dense_6 (Dense)              (None, 512)               524800    \n",
      "_________________________________________________________________\n",
      "dropout_5 (Dropout)          (None, 512)               0         \n",
      "_________________________________________________________________\n",
      "dense_7 (Dense)              (None, 256)               131328    \n",
      "_________________________________________________________________\n",
      "dropout_6 (Dropout)          (None, 256)               0         \n",
      "_________________________________________________________________\n",
      "dense_8 (Dense)              (None, 128)               32896     \n",
      "_________________________________________________________________\n",
      "dropout_7 (Dropout)          (None, 128)               0         \n",
      "_________________________________________________________________\n",
      "dense_9 (Dense)              (None, 64)                8256      \n",
      "_________________________________________________________________\n",
      "dropout_8 (Dropout)          (None, 64)                0         \n",
      "_________________________________________________________________\n",
      "dense_10 (Dense)             (None, 8)                 520       \n",
      "_________________________________________________________________\n",
      "dropout_9 (Dropout)          (None, 8)                 0         \n",
      "_________________________________________________________________\n",
      "dense_11 (Dense)             (None, 2)                 18        \n",
      "=================================================================\n",
      "Total params: 34,784,458\n",
      "Trainable params: 34,784,458\n",
      "Non-trainable params: 0\n",
      "_________________________________________________________________\n",
      "None\n",
      "訓練\n",
      "Loss: 0.5014, Accuracy: 0.4986\n",
      "驗證\n",
      "Loss: 0.4916, Accuracy: 0.5084\n",
      "測試\n",
      "Loss: 0.4969, Accuracy: 0.5031\n",
      "Precision: 0.2515, Recall: 0.5000, F1: 0.3347\n",
      " 800/3763 [=====>........................] - ETA: 0s"
     ]
    },
    {
     "name": "stderr",
     "output_type": "stream",
     "text": [
      "/home/bason/.conda/envs/SR/lib/python3.8/site-packages/sklearn/metrics/_classification.py:1327: UndefinedMetricWarning: Precision is ill-defined and being set to 0.0 in labels with no predicted samples. Use `zero_division` parameter to control this behavior.\n",
      "  _warn_prf(average, modifier, msg_start, len(result))\n"
     ]
    },
    {
     "name": "stdout",
     "output_type": "stream",
     "text": [
      "3763/3763 [==============================] - 0s 80us/step\n",
      "MSE: 0.4969, MAE: 0.4969\n",
      "              precision    recall  f1-score   support\n",
      "\n",
      "         0.0       0.00      0.00      0.00      1870\n",
      "         1.0       0.50      1.00      0.67      1893\n",
      "\n",
      "    accuracy                           0.50      3763\n",
      "   macro avg       0.25      0.50      0.33      3763\n",
      "weighted avg       0.25      0.50      0.34      3763\n",
      "\n"
     ]
    },
    {
     "name": "stderr",
     "output_type": "stream",
     "text": [
      "/home/bason/.conda/envs/SR/lib/python3.8/site-packages/sklearn/metrics/_classification.py:1327: UndefinedMetricWarning: Precision and F-score are ill-defined and being set to 0.0 in labels with no predicted samples. Use `zero_division` parameter to control this behavior.\n",
      "  _warn_prf(average, modifier, msg_start, len(result))\n",
      "/home/bason/.conda/envs/SR/lib/python3.8/site-packages/sklearn/metrics/_classification.py:1327: UndefinedMetricWarning: Precision and F-score are ill-defined and being set to 0.0 in labels with no predicted samples. Use `zero_division` parameter to control this behavior.\n",
      "  _warn_prf(average, modifier, msg_start, len(result))\n",
      "/home/bason/.conda/envs/SR/lib/python3.8/site-packages/sklearn/metrics/_classification.py:1327: UndefinedMetricWarning: Precision and F-score are ill-defined and being set to 0.0 in labels with no predicted samples. Use `zero_division` parameter to control this behavior.\n",
      "  _warn_prf(average, modifier, msg_start, len(result))\n"
     ]
    }
   ],
   "source": [
    "#model_path = '2class_5:5_rnn/model.h5'\n",
    "#model_path = '2class_5:5_bilstm/model.h5'\n",
    "#model_path = '2class_origin_rnn/model.h5'\n",
    "#model_path = '2class_origin_bilstm/model.h5'\n",
    "\n",
    "#model_path = 'D7_819_notearlystop/model.h5'\n",
    "#model_path = './831/model.h5'\n",
    "model_path = '20220905_sr44100_500epoch/model.h5'\n",
    "evaluate_model(model_path, model)\n"
   ]
  },
  {
   "cell_type": "code",
   "execution_count": 14,
   "id": "6322988c",
   "metadata": {
    "ExecuteTime": {
     "end_time": "2022-09-02T06:51:17.013247Z",
     "start_time": "2022-09-02T06:51:14.472866Z"
    }
   },
   "outputs": [],
   "source": [
    "from keras.models import load_model\n",
    "model = load_model('twoNet_250epoch/model.h5')"
   ]
  },
  {
   "cell_type": "code",
   "execution_count": 35,
   "id": "ca5ab9d9",
   "metadata": {
    "ExecuteTime": {
     "end_time": "2022-09-05T09:32:21.234833Z",
     "start_time": "2022-09-05T09:32:21.151752Z"
    }
   },
   "outputs": [
    {
     "data": {
      "text/plain": [
       "<Figure size 576x432 with 0 Axes>"
      ]
     },
     "execution_count": 35,
     "metadata": {},
     "output_type": "execute_result"
    },
    {
     "data": {
      "text/plain": [
       "<Figure size 576x432 with 0 Axes>"
      ]
     },
     "metadata": {},
     "output_type": "display_data"
    },
    {
     "data": {
      "image/png": "[encoded data removed]",
      "text/plain": [
       "<Figure size 432x288 with 1 Axes>"
      ]
     },
     "metadata": {
      "needs_background": "light"
     },
     "output_type": "display_data"
    }
   ],
   "source": [
    "plot_loss_accuracy(history)"
   ]
  },
  {
   "cell_type": "markdown",
   "id": "165cf901",
   "metadata": {
    "heading_collapsed": true
   },
   "source": [
    "# 其他"
   ]
  },
  {
   "cell_type": "code",
   "execution_count": 26,
   "id": "795136b9",
   "metadata": {
    "ExecuteTime": {
     "end_time": "2022-09-02T06:55:38.695274Z",
     "start_time": "2022-09-02T06:55:38.419393Z"
    },
    "hidden": true
   },
   "outputs": [
    {
     "name": "stdout",
     "output_type": "stream",
     "text": [
      "[1 1 0 ... 0 1 0]\n"
     ]
    },
    {
     "data": {
      "text/plain": [
       "\"\\nwave, sr = librosa.load('./dataset/data_sr/x_all/1650981038.wav')\\nmfcc = librosa.feature.mfcc(y=wave, sr=sr)\\n\\ny_pred1 = model.predict(mfcc)\\nprint(y_pred1)\\n\""
      ]
     },
     "execution_count": 26,
     "metadata": {},
     "output_type": "execute_result"
    }
   ],
   "source": [
    "#print(X_test[0])\n",
    "y_pred1 = model.predict(X_test)\n",
    "#print(y_pred1)\n",
    "y_pred = np.argmax(y_pred1, axis=1)\n",
    "print(y_pred)\n",
    "'''\n",
    "wave, sr = librosa.load('./dataset/data_sr/x_all/1650981038.wav')\n",
    "mfcc = librosa.feature.mfcc(y=wave, sr=sr)\n",
    "\n",
    "y_pred1 = model.predict(mfcc)\n",
    "print(y_pred1)\n",
    "'''"
   ]
  },
  {
   "cell_type": "code",
   "execution_count": null,
   "id": "1546ed4f",
   "metadata": {
    "ExecuteTime": {
     "end_time": "2022-08-18T17:16:52.083820Z",
     "start_time": "2022-08-18T17:16:52.080161Z"
    },
    "code_folding": [
     0
    ],
    "hidden": true
   },
   "outputs": [],
   "source": [
    "# Tensorboard 紀錄訓練時的指標\n",
    "\n",
    "class Metrics(tf.keras.callbacks.Callback):\n",
    "    def __init__(self, valid_data):\n",
    "        super(Metrics, self).__init__()\n",
    "        self.validation_data = valid_data\n",
    "\n",
    "    def on_epoch_end(self, epoch, logs=None):\n",
    "        logs = logs or {}\n",
    "        val_predict = np.argmax(self.model.predict(self.validation_data[0]), -1)\n",
    "        val_targ = self.validation_data[1]\n",
    "        if len(val_targ.shape) == 2 and val_targ.shape[1] != 1:\n",
    "            val_targ = np.argmax(val_targ, -1)\n",
    "\n",
    "        _val_f1 = f1_score(val_targ, val_predict, average='macro')\n",
    "        _val_recall = recall_score(val_targ, val_predict, average='macro')\n",
    "        _val_precision = precision_score(val_targ, val_predict, average='macro')\n",
    "\n",
    "        logs['val_f1'] = _val_f1\n",
    "        logs['val_recall'] = _val_recall\n",
    "        logs['val_precision'] = _val_precision\n",
    "        print(\" — val_f1: %f — val_precision: %f — val_recall: %f\" % (_val_f1, _val_precision, _val_recall))\n",
    "        return\n",
    "    \n",
    "    # model path\n",
    "def get_model_path(name):\n",
    "    model_path = name + '/model.h5'\n",
    "    checkpoint_path = name + '/checkpoints'\n",
    "    checkpoint_dir = os.path.dirname(checkpoint_path)\n",
    "    latest = tf.train.latest_checkpoint(checkpoint_dir)\n",
    "    \n",
    "    if not os.path.exists(checkpoint_path):\n",
    "        os.makedirs(checkpoint_path)\n",
    "    \n",
    "    return model_path, checkpoint_path, checkpoint_dir, latest\n",
    "\n",
    "def train_model(model, model_name):\n",
    "    model_path, checkpoint_path, checkpoint_dir, latest = get_model_path(model_name)\n",
    "    \n",
    "    \n",
    "    my_callbacks = [tf.keras.callbacks.EarlyStopping(patience=3, monitor = 'val_accuracy')]\n",
    "    history = model.fit(X_train, y_train, epochs=50, validation_data=(X_valid, y_valid), callbacks=my_callbacks)\n",
    "    '''\n",
    "    ck_callback = ModelCheckpoint(checkpoint_path + '/weights.{epoch:02d}-{val_f1:.4f}.hdf5',\n",
    "                                                 monitor='val_accuracy',     \n",
    "                                                 mode='max',\n",
    "                                                 save_best_only=True)\n",
    "    tb_callback = TensorBoard(log_dir=model_name + '/logs', profile_batch=0)\n",
    "   \n",
    "    history = model.fit(X_train, y_train, \n",
    "              batch_size=32, epochs=100,\n",
    "             validation_data=(X_valid, y_valid),\n",
    "             callbacks=[Metrics(valid_data=(X_valid, y_valid)),\n",
    "                         ck_callback,\n",
    "                         tb_callback])\n",
    "     '''\n",
    "    \n",
    "    model.save(model_path)\n",
    "    \n",
    "    return history, model"
   ]
  },
  {
   "cell_type": "code",
   "execution_count": null,
   "id": "95357e16",
   "metadata": {
    "ExecuteTime": {
     "end_time": "2022-07-29T09:04:46.972174Z",
     "start_time": "2022-07-29T01:46:44.171104Z"
    },
    "code_folding": [],
    "hidden": true
   },
   "outputs": [],
   "source": [
    "#2class 5:5 BiLSTM M2\n",
    "model_path = '2class_5:5_bilstm_m2/model.h5'\n",
    "checkpoint_path = './2class_5:5_bilstm_m2/checkpoints'\n",
    "checkpoint_dir = os.path.dirname(checkpoint_path)\n",
    "latest = tf.train.latest_checkpoint(checkpoint_dir)\n",
    "\n",
    "class Metrics(tf.keras.callbacks.Callback):\n",
    "    def __init__(self, valid_data):\n",
    "        super(Metrics, self).__init__()\n",
    "        self.validation_data = valid_data\n",
    "\n",
    "    def on_epoch_end(self, epoch, logs=None):\n",
    "        logs = logs or {}\n",
    "        val_predict = np.argmax(self.model.predict(self.validation_data[0]), -1)\n",
    "        val_targ = self.validation_data[1]\n",
    "        if len(val_targ.shape) == 2 and val_targ.shape[1] != 1:\n",
    "            val_targ = np.argmax(val_targ, -1)\n",
    "\n",
    "        _val_f1 = f1_score(val_targ, val_predict, average='macro')\n",
    "        _val_recall = recall_score(val_targ, val_predict, average='macro')\n",
    "        _val_precision = precision_score(val_targ, val_predict, average='macro')\n",
    "\n",
    "        logs['val_f1'] = _val_f1\n",
    "        logs['val_recall'] = _val_recall\n",
    "        logs['val_precision'] = _val_precision\n",
    "        print(\" — val_f1: %f — val_precision: %f — val_recall: %f\" % (_val_f1, _val_precision, _val_recall))\n",
    "        return\n",
    "    \n",
    "    # 模型儲存\n",
    "if not os.path.exists(checkpoint_path):\n",
    "    os.makedirs(checkpoint_path)\n",
    "    \n",
    "\n",
    "# 按照 accuracy 保存模型\n",
    "ck_callback = ModelCheckpoint('./2class_5:5_bilstm_m2/checkpoints/weights.{epoch:02d}-{val_f1:.4f}.hdf5',\n",
    "                                                 monitor='accuracy',        # 改成 accuracy\n",
    "                                                 mode='max', verbose=2,\n",
    "                                                 save_best_only=True,\n",
    "                                                 save_weights_only=True)\n",
    "tb_callback = TensorBoard(log_dir='./2class_5:5_bilstm_m2/logs', profile_batch=0)\n",
    "\n",
    "model.fit(X_train, y_train, \n",
    "          batch_size=32, epochs=100,\n",
    "         validation_data=(X_valid, y_valid),\n",
    "         callbacks=[Metrics(valid_data=(X_valid, y_valid)),\n",
    "                     ck_callback,\n",
    "                     tb_callback])\n",
    "\n",
    "\n",
    "model.save(model_path)"
   ]
  },
  {
   "cell_type": "code",
   "execution_count": null,
   "id": "6df03134",
   "metadata": {
    "ExecuteTime": {
     "end_time": "2022-07-29T09:42:46.743336Z",
     "start_time": "2022-07-29T09:42:46.285722Z"
    },
    "hidden": true
   },
   "outputs": [],
   "source": [
    "del csv_file, csvfile\n",
    "gc.collect()"
   ]
  },
  {
   "cell_type": "code",
   "execution_count": null,
   "id": "27d2af50",
   "metadata": {
    "hidden": true
   },
   "outputs": [],
   "source": [
    "# 5:5\n",
    "from imblearn.under_sampling import RandomUnderSampler\n",
    "\n",
    "undersample = RandomUnderSampler(sampling_strategy='majority')\n",
    "\n",
    "x_train = x.reshape(x.shape[0], (x.shape[1]*x.shape[2]))\n",
    "\n",
    "X_train_under, y_train_under = undersample.fit_resample(x_train, y)\n",
    "X_train_under = X_train_under.reshape((X_train_under.shape[0], 108, 494))\n",
    "\n",
    "unique, counts = np.unique(y_train_under, return_counts=True)\n",
    "\n",
    "dict(zip(unique, counts))"
   ]
  },
  {
   "cell_type": "code",
   "execution_count": null,
   "id": "bce349f3",
   "metadata": {
    "ExecuteTime": {
     "end_time": "2022-07-31T13:58:25.414520Z",
     "start_time": "2022-07-31T13:58:25.408978Z"
    },
    "hidden": true
   },
   "outputs": [],
   "source": [
    "unique, counts = np.unique(y_train, return_counts=True)\n",
    "\n",
    "dict(zip(unique, counts))"
   ]
  },
  {
   "cell_type": "code",
   "execution_count": null,
   "id": "ad9da3e4",
   "metadata": {
    "ExecuteTime": {
     "end_time": "2022-07-31T13:58:43.621255Z",
     "start_time": "2022-07-31T13:58:43.614891Z"
    },
    "hidden": true
   },
   "outputs": [],
   "source": [
    "unique, counts = np.unique(y_test, return_counts=True)\n",
    "\n",
    "dict(zip(unique, counts))"
   ]
  },
  {
   "cell_type": "code",
   "execution_count": null,
   "id": "a78530ef",
   "metadata": {
    "ExecuteTime": {
     "end_time": "2022-07-31T13:58:52.262824Z",
     "start_time": "2022-07-31T13:58:52.259644Z"
    },
    "hidden": true
   },
   "outputs": [],
   "source": [
    "unique, counts = np.unique(y_valid, return_counts=True)\n",
    "\n",
    "dict(zip(unique, counts))"
   ]
  },
  {
   "cell_type": "code",
   "execution_count": null,
   "id": "dbb86996",
   "metadata": {
    "hidden": true
   },
   "outputs": [],
   "source": [
    "# 將 label為有與 label 為無的檔案名稱取出\n",
    "with open('file_yes.txt', 'w') as f:\n",
    "    for file in file_yes:\n",
    "        f.write(f\"{file}\\n\")\n",
    "\n",
    "with open('file_no.txt', 'w') as f:\n",
    "    for file in file_no:\n",
    "        f.write(f\"{file}\\n\")"
   ]
  },
  {
   "cell_type": "code",
   "execution_count": null,
   "id": "f22d8e1e",
   "metadata": {
    "ExecuteTime": {
     "end_time": "2022-07-31T14:36:19.383822Z",
     "start_time": "2022-07-31T14:36:19.376741Z"
    },
    "hidden": true
   },
   "outputs": [],
   "source": [
    "with open('audio_filename.txt', 'w') as f:\n",
    "    for file in files:\n",
    "        f.write(f\"{file}\\n\")"
   ]
  },
  {
   "cell_type": "code",
   "execution_count": null,
   "id": "d8bab4cb",
   "metadata": {
    "hidden": true
   },
   "outputs": [],
   "source": [
    "print(y.head())"
   ]
  },
  {
   "cell_type": "code",
   "execution_count": null,
   "id": "0988eed9",
   "metadata": {
    "hidden": true
   },
   "outputs": [],
   "source": [
    "with open('audio_test.csv', 'w') as csv_file:\n",
    "    writer = csv.writer(csv_file)\n",
    "    for key, value in d.items():\n",
    "        writer.writerow([key, value])"
   ]
  },
  {
   "cell_type": "code",
   "execution_count": null,
   "id": "910dadd3",
   "metadata": {
    "ExecuteTime": {
     "end_time": "2022-07-15T06:36:06.285998Z",
     "start_time": "2022-07-15T06:36:06.283837Z"
    },
    "hidden": true
   },
   "outputs": [],
   "source": [
    "print(audio.shape)"
   ]
  },
  {
   "cell_type": "code",
   "execution_count": null,
   "id": "7ae606f2",
   "metadata": {
    "ExecuteTime": {
     "end_time": "2022-07-15T08:54:28.629073Z",
     "start_time": "2022-07-15T08:54:28.605697Z"
    },
    "hidden": true
   },
   "outputs": [],
   "source": [
    "x = pd.DataFrame(audio_reshape)\n",
    "x.head()"
   ]
  },
  {
   "cell_type": "code",
   "execution_count": null,
   "id": "1b466f37",
   "metadata": {
    "ExecuteTime": {
     "end_time": "2022-07-15T09:00:12.420670Z",
     "start_time": "2022-07-15T09:00:11.596440Z"
    },
    "hidden": true
   },
   "outputs": [],
   "source": [
    "df = pd.merge(x,y, how=\"right\", left_on=\"檔名\", right_on=\"檔名\")"
   ]
  },
  {
   "cell_type": "code",
   "execution_count": null,
   "id": "557e9b3f",
   "metadata": {
    "ExecuteTime": {
     "end_time": "2022-07-16T05:40:24.457275Z",
     "start_time": "2022-07-16T05:40:24.265903Z"
    },
    "hidden": true
   },
   "outputs": [],
   "source": [
    "audio_reshape = audio.reshape(audio.shape[0], -1)\n",
    "\n",
    "files = []\n",
    "for(dirpath, dirnames, filenames) in os.walk(audio_path):\n",
    "    for filename in filenames:\n",
    "            if filename.endswith('.wav') or filename.endswith('.WAV'):                \n",
    "                #取得 wav的檔名\n",
    "                index = filename.index('.')\n",
    "                filename = filename[:index]\n",
    "                files.append(filename)\n",
    "                \n",
    "#files.remove(1618243237)\n",
    "#files.remove(1618243179)\n",
    "#files.remove(1618243233)\n",
    "'''              \n",
    "b = {}\n",
    "c = []\n",
    "i = 0\n",
    "for a in aa:\n",
    "    b = {\"檔名\":aa[i], \"特徵\":(audio_reshape)}\n",
    "    c.append(b)\n",
    "    i += 1\n",
    "col = [\"檔名\", \"特徵\"]\n",
    "try:\n",
    "    with open('audio_csv.csv', 'w', newline='') as csvfile:\n",
    "        writer = csv.DictWriter(csvfile, fieldnames=col, delimiter =\",\")\n",
    "        writer.writeheader()\n",
    "\n",
    "        for data in c:\n",
    "            writer.writerow(data)\n",
    "except IOError:\n",
    "    print(\"I/O error\")\n",
    "'''"
   ]
  },
  {
   "cell_type": "code",
   "execution_count": null,
   "id": "45573cdd",
   "metadata": {
    "ExecuteTime": {
     "end_time": "2022-07-15T07:22:41.312525Z",
     "start_time": "2022-07-15T07:19:24.118302Z"
    },
    "code_folding": [],
    "hidden": true
   },
   "outputs": [],
   "source": [
    "#\n",
    "audio_reshape.astype(np.float32)\n",
    "print(audio_reshape.shape)"
   ]
  },
  {
   "cell_type": "code",
   "execution_count": null,
   "id": "9dd45fdd",
   "metadata": {
    "ExecuteTime": {
     "end_time": "2022-07-31T16:14:39.842637Z",
     "start_time": "2022-07-31T16:14:37.863787Z"
    },
    "code_folding": [],
    "hidden": true
   },
   "outputs": [],
   "source": [
    "#files\n",
    "\n",
    "import os\n",
    "# 取得 label 檔名與內容\n",
    "def get_labels_and_texts(label_path):\n",
    "    labels = []\n",
    "    labels_path = []\n",
    "    label_texts = []\n",
    "    for(dirpath, dirnames, filenames) in os.walk(label_path):\n",
    "        for filename in filenames:\n",
    "            \n",
    "            #取得 label 的完整路徑，後面進行讀檔\n",
    "            filename_path = os.path.join(dirpath, filename)\n",
    "            labels_path.append(filename_path)\n",
    "\n",
    "            #取得 label的檔名，後面對應到音檔\n",
    "            \n",
    "            try:\n",
    "                index = filename.index(\"_\")\n",
    "            except ValueError:\n",
    "                index = filename.index(\".\")\n",
    "\n",
    "            filename = filename[:index]\n",
    "            \n",
    "            labels.append(filename)\n",
    "    for label_file in labels_path:\n",
    "        #讀取 label 檔，並將 command 以 one-hot encoding 方式改寫 label\n",
    "        try:\n",
    "            with open(label_file) as fd:\n",
    "                data = json.load(fd)\n",
    "                a = 0\n",
    "                #b = 0\n",
    "                #c = 0\n",
    "                #d = 0\n",
    "                if data['command'] == 'Not Activated':\n",
    "                    a = '0'\n",
    "                else:\n",
    "                    a = '1'\n",
    "                data = [a]\n",
    "                label_texts.append(data)\n",
    "                fd.close()\n",
    "        except ValueError:\n",
    "            continue\n",
    "    return labels, label_texts\n",
    "\n",
    "label_path = 'dataset/data_sr/y_data'\n",
    "labels, label_texts = get_labels_and_texts(label_path)\n",
    "\n",
    "print(labels[0], label_texts[0])"
   ]
  },
  {
   "cell_type": "code",
   "execution_count": 11,
   "id": "34a7ae79",
   "metadata": {
    "ExecuteTime": {
     "end_time": "2022-09-02T03:22:20.656090Z",
     "start_time": "2022-09-02T03:22:18.651396Z"
    },
    "hidden": true
   },
   "outputs": [
    {
     "name": "stdout",
     "output_type": "stream",
     "text": [
      "dataset/data_sr/y_data/1621260098.json\n",
      "dataset/data_sr/y_data/1635565858.json\n",
      "dataset/data_sr/y_data/1621260094.json\n",
      "dataset/data_sr/y_data/1627775229.json\n",
      "dataset/data_sr/y_data/1637748628.json\n",
      "dataset/data_sr/y_data/1620877500.json\n",
      "dataset/data_sr/y_data/1618243179.json\n",
      "dataset/data_sr/y_data/1620877516.json\n",
      "dataset/data_sr/y_data/1620955238.json\n",
      "dataset/data_sr/y_data/1629341570.json\n",
      "dataset/data_sr/y_data/1630587053.json\n",
      "dataset/data_sr/y_data/1637748622.json\n",
      "dataset/data_sr/y_data/1637544260.json\n",
      "dataset/data_sr/y_data/1623546876.json\n",
      "dataset/data_sr/y_data/1635565854.json\n",
      "dataset/data_sr/y_data/1627775236.json\n",
      "dataset/data_sr/y_data/1619576718.json\n",
      "dataset/data_sr/y_data/1620898178.json\n",
      "dataset/data_sr/y_data/1626860170.json\n",
      "dataset/data_sr/y_data/1629341577.json\n",
      "dataset/data_sr/y_data/1620898181.json\n",
      "dataset/data_sr/y_data/1627775238.json\n",
      "dataset/data_sr/y_data/1620955240.json\n",
      "dataset/data_sr/y_data/1618243233.json\n",
      "dataset/data_sr/y_data/1626860172.json\n",
      "dataset/data_sr/y_data/1629450355.json\n",
      "dataset/data_sr/y_data/1650866474.json\n",
      "dataset/data_sr/y_data/1635565857.json\n",
      "dataset/data_sr/y_data/1618243237.json\n",
      "dataset/data_sr/y_data/1626860174.json\n",
      "dataset/data_sr/y_data/1650866472.json\n",
      "dataset/data_sr/y_data/1629341588.json\n",
      "dataset/data_sr/y_data/1620877512.json\n",
      "dataset/data_sr/y_data/1622340186.json\n",
      "dataset/data_sr/y_data/1621260096.json\n",
      "dataset/data_sr/y_data/1627956275.json\n",
      "dataset/data_sr/y_data/1620955233.json\n",
      "dataset/data_sr/y_data/1622944740.json\n",
      "dataset/data_sr/y_data/1642158784.json\n",
      "dataset/data_sr/y_data/1620898192.json\n",
      "dataset/data_sr/y_data/1623546872.json\n",
      "dataset/data_sr/y_data/1620955236.json\n",
      "dataset/data_sr/y_data/1621260104.json\n",
      "dataset/data_sr/y_data/1620898174.json\n",
      "dataset/data_sr/y_data/1623373306.json\n",
      "dataset/data_sr/y_data/1626860184.json\n",
      "1632204672 [0, 0, 0, 0, 0, 0, 0, 0, 0, 0, 0, 0]\n"
     ]
    }
   ],
   "source": [
    "#files\n",
    "\n",
    "import os\n",
    "# 取得 label 檔名與內容\n",
    "def get_labels_and_texts(label_path):\n",
    "    labels = []\n",
    "    labels_path = []\n",
    "    label_texts = []\n",
    "    for(dirpath, dirnames, filenames) in os.walk(label_path):\n",
    "        for filename in filenames:\n",
    "            \n",
    "            #取得 label 的完整路徑，後面進行讀檔\n",
    "            filename_path = os.path.join(dirpath, filename)\n",
    "            labels_path.append(filename_path)\n",
    "\n",
    "            #取得 label的檔名，後面對應到音檔\n",
    "            \n",
    "            try:\n",
    "                index = filename.index(\"_\")\n",
    "            except ValueError:\n",
    "                index = filename.index(\".\")\n",
    "\n",
    "            filename = filename[:index]\n",
    "            \n",
    "            labels.append(filename)\n",
    "    for label_file in labels_path:\n",
    "        #讀取 label 檔，並將 command 以 one-hot encoding 方式改寫 label\n",
    "        try:\n",
    "            with open(label_file) as fd:\n",
    "                data = json.load(fd)\n",
    "                command = data['command']\n",
    "                \n",
    "                a = 0\n",
    "                b = 0\n",
    "                c = 0\n",
    "                d = 0\n",
    "                e = 0\n",
    "                f = 0\n",
    "                g = 0\n",
    "                h = 0\n",
    "                i = 0\n",
    "                j = 0\n",
    "                k = 0\n",
    "                l = 0\n",
    "                if command == 'Not Activated':\n",
    "                    a = '1'\n",
    "                elif command == 'open':\n",
    "                    b = '1'\n",
    "                elif command == 'close':\n",
    "                    c = '1'\n",
    "                elif command == 'hold':\n",
    "                    d = '1'\n",
    "                elif command == 'b1':\n",
    "                    e = '1'\n",
    "                elif command == '1':\n",
    "                    f = '1'\n",
    "                elif command == '2':\n",
    "                    g = '1'\n",
    "                elif command == '10':\n",
    "                    h = '1'\n",
    "                elif command == '11':\n",
    "                    i = '1'\n",
    "                elif command == 'cancel_1':\n",
    "                    j = '1'\n",
    "                elif command == 'cancel_2':\n",
    "                    k = '1'\n",
    "                elif command == 'cancel_3':\n",
    "                    l = '1'\n",
    "                    \n",
    "                data = [a, b, c, d, e, f, g, h, i, j, k, l]\n",
    "                \n",
    "                label_texts.append(data)\n",
    "                fd.close()\n",
    "        except ValueError:\n",
    "            print(label_file)\n",
    "    return labels, label_texts\n",
    "\n",
    "label_path = 'dataset/data_sr/y_data'\n",
    "labels, label_texts = get_labels_and_texts(label_path)\n",
    "\n",
    "print(labels[0], label_texts[0])"
   ]
  },
  {
   "cell_type": "code",
   "execution_count": 7,
   "id": "09da4948",
   "metadata": {
    "ExecuteTime": {
     "end_time": "2022-09-02T03:18:26.956037Z",
     "start_time": "2022-09-02T03:18:26.947840Z"
    },
    "hidden": true
   },
   "outputs": [
    {
     "name": "stdout",
     "output_type": "stream",
     "text": [
      "{'alternative': [{'transcript': '請開門', 'confidence': 0.890154}, {'transcript': '好請開門'}, {'transcript': '好慶開嗎'}, {'transcript': '寶慶開嗎'}, {'transcript': '好請開嗎'}], 'final': True, 'strength': 0.0037480354309082017, 'command': 'open'}\n"
     ]
    }
   ],
   "source": [
    "with open('dataset/data_sr/y_data/1633931464.json') as fd:\n",
    "    data = json.load(fd)\n",
    "    print(data)"
   ]
  },
  {
   "cell_type": "code",
   "execution_count": null,
   "id": "ebeb6cf2",
   "metadata": {
    "ExecuteTime": {
     "end_time": "2022-07-31T15:47:34.083089Z",
     "start_time": "2022-07-31T15:47:25.129847Z"
    },
    "hidden": true
   },
   "outputs": [],
   "source": [
    "path = 'dataset/data_sr/y_data'     \n",
    "\n",
    "#獲取該目錄下所有文件，存入列表中\n",
    "fileList = os.listdir ( path )\n",
    "\n",
    "n = 0\n",
    "for(dirpath, dirnames, filenames) in os.walk(label_path):\n",
    "    for filename in filenames:\n",
    "        \n",
    "        #取得 label 的完整路徑，後面進行讀檔\n",
    "        oldname = os.path.join(dirpath, filename)\n",
    "        \n",
    "        try:\n",
    "            index = filename.index(\"_\")\n",
    "        except ValueError:\n",
    "            index = filename.index(\".\")\n",
    "\n",
    "        filename = filename[:index]\n",
    "        \n",
    "        #print(filename)\n",
    "\n",
    "        #設置新文件名\n",
    "        newname = path + os.sep + filename + '.json'\n",
    "        print(oldname)\n",
    "        print(newname)\n",
    "        os . rename ( oldname , newname ) #用os模塊中的rename方法對文件改名print ( oldname , '======>' , newname ) \n",
    "        n += 1\n",
    "        #if n > 10: break\n",
    "\n",
    "  \n",
    "\n",
    "    "
   ]
  },
  {
   "cell_type": "code",
   "execution_count": 12,
   "id": "e00b26db",
   "metadata": {
    "ExecuteTime": {
     "end_time": "2022-09-02T03:23:51.089659Z",
     "start_time": "2022-09-02T03:23:50.963308Z"
    },
    "code_folding": [],
    "hidden": true
   },
   "outputs": [
    {
     "name": "stdout",
     "output_type": "stream",
     "text": [
      "['1632204672', 0, 0, 0, 0, 0, 0, 0, 0, 0, 0, 0, 0]\n"
     ]
    }
   ],
   "source": [
    "import csv\n",
    "#將 檔名與 label 寫入 csv 檔\n",
    "\n",
    "i = 0\n",
    "for label_text in label_texts:\n",
    "    label_text.insert(0, labels[i])\n",
    "    i+=1\n",
    "\n",
    "with open('dataset/data_sr/label_11class.csv', 'w', newline='') as csvfile:\n",
    "    writer = csv.writer(csvfile)\n",
    "    writer.writerow(['檔名','open', 'close', 'hold', 'b1', '1', '2', '10', '11', 'cancel_1', 'cancel_2', 'cancel_3'])\n",
    "    \n",
    "    for label_text in label_texts:\n",
    "        writer.writerow(label_text)\n",
    "print(label_texts[0])\n"
   ]
  },
  {
   "cell_type": "code",
   "execution_count": null,
   "id": "b91a295c",
   "metadata": {
    "ExecuteTime": {
     "end_time": "2022-07-04T18:00:27.820019Z",
     "start_time": "2022-07-04T18:00:09.937313Z"
    },
    "code_folding": [
     0
    ],
    "hidden": true
   },
   "outputs": [],
   "source": [
    "# 將 檔名與特徵寫入 csv 檔\n",
    "\n",
    "aa = []\n",
    "for(dirpath, dirnames, filenames) in os.walk(audio_path):\n",
    "    for filename in filenames:\n",
    "            if filename.endswith('.wav') or filename.endswith('.WAV'):                \n",
    "                #取得 wav的檔名\n",
    "                index = filename.index('.')\n",
    "                filename = filename[:index]\n",
    "                aa.append(filename)\n",
    "\n",
    "a_list = list(audio)\n",
    "i = 0\n",
    "b = {}\n",
    "c = []\n",
    "for a in a_list:\n",
    "    b = {\"檔名\":aa[i],\"特徵\": a}\n",
    "    c.append(b)\n",
    "    i+=1\n",
    "col = [\"檔名\", \"特徵\"]\n",
    "try:\n",
    "    with open(audio_csv_path, 'w', newline='') as csvfile:\n",
    "        writer = csv.DictWriter(csvfile, fieldnames=col)\n",
    "        writer.writeheader()\n",
    "        #writer.writerow(['檔名','特徵'])\n",
    "\n",
    "        for data in c:\n",
    "            writer.writerow(data)\n",
    "except IOError:\n",
    "    print(\"I/O error\")\n"
   ]
  },
  {
   "cell_type": "code",
   "execution_count": null,
   "id": "a6c7b43f",
   "metadata": {
    "hidden": true
   },
   "outputs": [],
   "source": [
    "# 3D Numpy array to a CSV file\n",
    "# reshaping the array from 3D matrice to 2D matrice.\n",
    "arrReshaped = arr.reshape(arr.shape[0], -1)\n",
    "# saving reshaped array to file.\n",
    "np.savetxt(filename, arrReshaped)\n",
    "# retrieving data from file.\n",
    "loadedArr = np.loadtxt(filename)\n",
    "# This loadedArr is a 2D array, therefore we need to convert it to the original array shape.\n",
    "# reshaping to get original matrice with original shape.\n",
    "loadedOriginal = loadedArr.reshape(loadedArr.shape[0], loadedArr.shape[1] // arr.shape[2], arr.shape[2])"
   ]
  },
  {
   "cell_type": "code",
   "execution_count": null,
   "id": "108a2fc3",
   "metadata": {
    "ExecuteTime": {
     "end_time": "2022-07-04T15:51:20.934271Z",
     "start_time": "2022-07-04T15:51:20.910371Z"
    },
    "code_folding": [],
    "hidden": true
   },
   "outputs": [],
   "source": [
    "#load label csv into pd to preview data\n",
    "labels = pd.read_csv(label_csv_path)\n",
    "labels"
   ]
  },
  {
   "cell_type": "code",
   "execution_count": null,
   "id": "90ce388b",
   "metadata": {
    "ExecuteTime": {
     "end_time": "2022-07-04T18:01:04.486671Z",
     "start_time": "2022-07-04T18:01:04.275761Z"
    },
    "code_folding": [],
    "hidden": true
   },
   "outputs": [],
   "source": [
    "#load audio csv into pd to preview data\n",
    "\n",
    "#audios = pd.read_csv(audio_csv_path)\n",
    "#audios\n",
    "\n",
    "\n",
    "with open(audio_csv_path, 'r') as f:\n",
    "    reader = csv.reader(f)\n",
    "    examples = list(reader)\n",
    "del examples[0]\n",
    "#print(examples)\n",
    "\n",
    "nwexamples = []\n",
    "for row in examples:\n",
    "    nwrow = []\n",
    "    for r in row:\n",
    "        #could not convert string to float:\n",
    "        r = np.array(r, dtype=np.float32)\n",
    "        nwrow.append(r)\n",
    "    nwexamples.append(nwrow)\n",
    "print(nwexamples[0])"
   ]
  },
  {
   "cell_type": "code",
   "execution_count": null,
   "id": "e06e50fa",
   "metadata": {
    "ExecuteTime": {
     "end_time": "2022-07-14T21:42:15.621455Z",
     "start_time": "2022-07-14T21:33:46.140708Z"
    },
    "hidden": true
   },
   "outputs": [],
   "source": [
    "m,n,r = audio.shape\n",
    "out_arr = np.column_stack((np.repeat(np.arange(m),n),audio.reshape(m*n,-1)))\n",
    "out_df = pd.DataFrame(out_arr)\n",
    "\n",
    "X = out_df[out_df.columns[:]].values   #dead kernel\n",
    "\n",
    "\n",
    "#np.savetxt('audio.csv', audio, delimiter=',')    # can't save filename"
   ]
  },
  {
   "cell_type": "code",
   "execution_count": null,
   "id": "e8add7c9",
   "metadata": {
    "ExecuteTime": {
     "end_time": "2022-07-14T12:08:43.712458Z",
     "start_time": "2022-07-14T11:48:40.051336Z"
    },
    "code_folding": [
     0
    ],
    "hidden": true
   },
   "outputs": [],
   "source": [
    "# using python_speech_features to extract mfcc feartures\n",
    "from python_speech_features import mfcc\n",
    "from python_speech_features import logfbank\n",
    "import scipy.io.wavfile as wav\n",
    "import numpy\n",
    "import os\n",
    "\n",
    "# directory where we your .wav files are\n",
    "directoryName = \"dataset/data_sr/data\" # put your own directory here\n",
    "# directory to put our results in, you can change the name if you like\n",
    "resultsDirectory = 'dataset/data_sr/audio_sample'\n",
    "\n",
    "# make a new folder in this directory to save our results in\n",
    "if not os.path.exists(resultsDirectory):\n",
    "    os.makedirs(resultsDirectory)\n",
    "\n",
    "# get MFCCs for every .wav file in our specified directory \n",
    "for filename in os.listdir(directoryName):\n",
    "    if filename.endswith('.wav'): # only get MFCCs from .wavs\n",
    "        # read in our file\n",
    "        \n",
    "        try:\n",
    "            (rate,sig) = wav.read(directoryName + \"/\" +filename)\n",
    "        except ValueError:\n",
    "            continue\n",
    "        # get mfcc\n",
    "        mfcc_feat = mfcc(sig,rate)\n",
    "\n",
    "        # get filterbank energies\n",
    "        fbank_feat = logfbank(sig,rate)\n",
    "        \n",
    "        # create a file to save our results in\n",
    "       \n",
    "        outputFile = resultsDirectory + \"/\" + os.path.splitext(filename)[0] + \".csv\"\n",
    "        file = open(outputFile, 'w+') # make file/over write existing file\n",
    "        numpy.savetxt(file, fbank_feat, delimiter=\",\") #save MFCCs as .csv\n",
    "        file.close() # close file"
   ]
  },
  {
   "cell_type": "code",
   "execution_count": null,
   "id": "406a1da8",
   "metadata": {
    "ExecuteTime": {
     "end_time": "2022-07-14T12:19:06.246517Z",
     "start_time": "2022-07-14T12:12:54.273516Z"
    },
    "code_folding": [
     0
    ],
    "hidden": true
   },
   "outputs": [],
   "source": [
    "# read all audio sample csv\n",
    "audio_csvs_path = 'dataset/data_sr/audio_sample'\n",
    "csv = glob.glob(audio_csvs_path + \"/*.csv\")\n",
    "\n",
    "li = []\n",
    "for filename in csv:\n",
    "    df = pd.read_csv(filename, index_col=None, header=0)\n",
    "    li.append(df)\n",
    "    \n",
    "df = pd.concat(li, axis=0, ignore_index=True)\n",
    "df.head()"
   ]
  },
  {
   "cell_type": "code",
   "execution_count": null,
   "id": "c9880eb8",
   "metadata": {
    "ExecuteTime": {
     "end_time": "2022-07-14T12:19:56.187532Z",
     "start_time": "2022-07-14T12:19:56.118386Z"
    },
    "code_folding": [],
    "hidden": true
   },
   "outputs": [],
   "source": [
    "# combine all csvs into one\n",
    "def return_contents(file_name):\n",
    "    with open(file_name) as infile:\n",
    "        reader = csv.reader(infile)\n",
    "        return list(reader)\n",
    "\n",
    "all_files = os.listdir('dataset/data_sr/audio_sample')\n",
    "combined_output = []\n",
    "\n",
    "for file in all_files:\n",
    "    data = return_contents('dataset/data_sr/audio_sample/{}'.format(file))\n",
    "    for row in data:\n",
    "        combined_output.extend(row)\n",
    "\n",
    "with open('dataset/data_sr/audio_sample_2.csv', 'w', newline='') as outfile:\n",
    "    writer = csv.writer(outfile)\n",
    "    writer.writerow(combined_output)"
   ]
  },
  {
   "cell_type": "code",
   "execution_count": null,
   "id": "24c3d12d",
   "metadata": {
    "ExecuteTime": {
     "end_time": "2022-07-04T07:52:44.864601Z",
     "start_time": "2022-07-04T07:52:44.114911Z"
    },
    "code_folding": [],
    "hidden": true
   },
   "outputs": [],
   "source": [
    "# using librosa to extract mfcc features\n",
    "x, sr = librosa.load(wavs[0])\n",
    "\n",
    "#Plot the signal:\n",
    "plt.figure(figsize=(14, 5))\n",
    "librosa.display.waveshow(x, sr=sr)\n",
    "# Zooming in\n",
    "n0 = 9000\n",
    "n1 = 9100\n",
    "plt.figure(figsize=(14, 5))\n",
    "plt.plot(x[n0:n1])\n",
    "plt.grid()\n",
    "\n",
    "fs=10\n",
    "mfccs = librosa.feature.mfcc(x, sr=fs)\n",
    "\n",
    "print(mfccs.shape)\n",
    "#Displaying  the MFCCs:\n",
    "plt.figure(figsize=(15, 7))\n",
    "librosa.display.specshow(mfccs, sr=sr, x_axis='time')"
   ]
  },
  {
   "cell_type": "code",
   "execution_count": null,
   "id": "6558f72d",
   "metadata": {
    "hidden": true
   },
   "outputs": [],
   "source": [
    "audio_reshaped = audio.reshape(audio.shape[0], -1)\n",
    "\n",
    "np.savetxt(\"audio.csv\", audio_reshaped)"
   ]
  },
  {
   "cell_type": "code",
   "execution_count": null,
   "id": "edec3955",
   "metadata": {
    "hidden": true
   },
   "outputs": [],
   "source": []
  },
  {
   "cell_type": "code",
   "execution_count": null,
   "id": "5b7d263b",
   "metadata": {
    "hidden": true
   },
   "outputs": [],
   "source": [
    "files = []\n",
    "for(dirpath, dirnames, filenames) in os.walk(audio_path):\n",
    "    for filename in filenames:\n",
    "            if filename.endswith('.wav') or filename.endswith('.WAV'):                \n",
    "                #取得 wav的檔名\n",
    "                index = filename.index('.')\n",
    "                filename = filename[:index]\n",
    "                files.append(filename)\n",
    "                \n",
    "d = dict()\n",
    "for i in range(len(audio)):\n",
    "    d[files[i]] = audio[i]\n",
    "print(len(d))\n",
    "\n",
    "### Store dictionary d into csv"
   ]
  },
  {
   "cell_type": "code",
   "execution_count": null,
   "id": "eb28e21c",
   "metadata": {
    "ExecuteTime": {
     "end_time": "2022-07-15T02:05:48.906189Z",
     "start_time": "2022-07-15T02:03:31.977629Z"
    },
    "code_folding": [
     3
    ],
    "hidden": true
   },
   "outputs": [],
   "source": [
    "audio_path = 'dataset/data_sr/data'\n",
    "\n",
    "# 將 flac 音檔轉成 wav 音檔\n",
    "def get_flacs(audio_path):\n",
    "    flacs = []\n",
    "    flac_filename = []\n",
    "    for (dirpath, dirnames, filenames) in os.walk(audio_path):\n",
    "        for filename in filenames:\n",
    "            if filename.endswith('.flac'):\n",
    "                filename_path = os.path.join(dirpath, filename)\n",
    "                \n",
    "                index = filename.index(\".\")\n",
    "                    \n",
    "                filename = filename[:index]\n",
    "                flac_filename.append(filename)\n",
    "                \n",
    "                flacs.append(filename_path)\n",
    "    return flacs, flac_filename\n",
    "\n",
    "flacs,flac_filename = get_flacs(audio_path)\n",
    "\n",
    "i = 0\n",
    "for flac in flacs:\n",
    "    try:\n",
    "        audio, sr = sf.read(flac)\n",
    "    except RuntimeError:\n",
    "        print(flac)\n",
    "    sf.write(audio_path+'/'+flac_filename[i]+'.wav', audio, sr, 'PCM_16')\n",
    "    i+=1"
   ]
  },
  {
   "cell_type": "code",
   "execution_count": null,
   "id": "7524d662",
   "metadata": {
    "hidden": true
   },
   "outputs": [],
   "source": [
    "print(df1[\"有指令\"].value_counts())"
   ]
  },
  {
   "cell_type": "markdown",
   "id": "cff8cd53",
   "metadata": {
    "heading_collapsed": true
   },
   "source": [
    "# 分出兩個類別的音檔"
   ]
  },
  {
   "cell_type": "code",
   "execution_count": null,
   "id": "87ef5971",
   "metadata": {
    "ExecuteTime": {
     "end_time": "2022-07-31T16:36:57.603159Z",
     "start_time": "2022-07-31T16:36:57.533689Z"
    },
    "hidden": true
   },
   "outputs": [],
   "source": [
    "audio_filename = []\n",
    "audio_path = 'dataset/data_sr/x_all'\n",
    "\n",
    "for(dirpath, dirnames, filenames) in os.walk(audio_path):\n",
    "    for filename in filenames:\n",
    "            if filename.endswith('.wav') or filename.endswith('.WAV'):                \n",
    "                #取得 wav的檔名\n",
    "                index = filename.index('.')\n",
    "                filename = filename[:index]\n",
    "                audio_filename.append(filename)"
   ]
  },
  {
   "cell_type": "code",
   "execution_count": null,
   "id": "503ca6f8",
   "metadata": {
    "ExecuteTime": {
     "end_time": "2022-07-31T16:36:58.429804Z",
     "start_time": "2022-07-31T16:36:58.422324Z"
    },
    "hidden": true
   },
   "outputs": [],
   "source": [
    "print(len(audio_filename))"
   ]
  },
  {
   "cell_type": "code",
   "execution_count": null,
   "id": "9ea782be",
   "metadata": {
    "ExecuteTime": {
     "end_time": "2022-07-31T16:34:38.504798Z",
     "start_time": "2022-07-31T16:34:35.084160Z"
    },
    "hidden": true
   },
   "outputs": [],
   "source": [
    "def to_str(var):\n",
    "    return str(list(np.reshape(np.asarray(var), (1, np.size(var)))[0]))[1:-1]\n",
    "\n",
    "file_yes = []\n",
    "file_no = []\n",
    "\n",
    "for index, row in y.iterrows():\n",
    "    file = to_str(row['檔名'])\n",
    "    if (row['指令']==0):\n",
    "        file_no.append(file)\n",
    "    else:\n",
    "        file_yes.append(file)\n",
    "    #print(row['檔名'], row['指令'])"
   ]
  },
  {
   "cell_type": "code",
   "execution_count": null,
   "id": "214e3e88",
   "metadata": {
    "ExecuteTime": {
     "end_time": "2022-07-31T16:37:12.782691Z",
     "start_time": "2022-07-31T16:37:12.777892Z"
    },
    "hidden": true
   },
   "outputs": [],
   "source": [
    "print(len(file_yes))"
   ]
  },
  {
   "cell_type": "code",
   "execution_count": null,
   "id": "a2f31f2d",
   "metadata": {
    "ExecuteTime": {
     "end_time": "2022-07-31T16:37:09.473818Z",
     "start_time": "2022-07-31T16:37:09.455383Z"
    },
    "hidden": true
   },
   "outputs": [],
   "source": [
    "setA = set(audio_filename)\n",
    "setB = set(file_yes)\n",
    "setC = set(file_no)\n",
    "\n",
    "setYes = setA & setB\n",
    "setNo = setA & setC"
   ]
  },
  {
   "cell_type": "code",
   "execution_count": null,
   "id": "380cc9b7",
   "metadata": {
    "ExecuteTime": {
     "end_time": "2022-07-31T16:37:09.957193Z",
     "start_time": "2022-07-31T16:37:09.954754Z"
    },
    "hidden": true
   },
   "outputs": [],
   "source": [
    "print(len(setYes), len(setNo))"
   ]
  },
  {
   "cell_type": "code",
   "execution_count": null,
   "id": "648a29e9",
   "metadata": {
    "ExecuteTime": {
     "end_time": "2022-07-31T16:38:05.464769Z",
     "start_time": "2022-07-31T16:38:05.462945Z"
    },
    "hidden": true
   },
   "outputs": [],
   "source": [
    "import shutil\n",
    "\n",
    "file_source = 'dataset/data_sr/x_all/'"
   ]
  },
  {
   "cell_type": "code",
   "execution_count": null,
   "id": "79940c87",
   "metadata": {
    "ExecuteTime": {
     "end_time": "2022-07-31T16:38:53.483581Z",
     "start_time": "2022-07-31T16:38:53.115729Z"
    },
    "hidden": true
   },
   "outputs": [],
   "source": [
    "file_destination = 'dataset/data_sr/x/yes'\n",
    "\n",
    "for i in setYes:\n",
    "        try:\n",
    "            shutil.move(file_source + i + '.wav', file_destination)\n",
    "        except:\n",
    "            print(i)"
   ]
  },
  {
   "cell_type": "code",
   "execution_count": null,
   "id": "7e076ee3",
   "metadata": {
    "ExecuteTime": {
     "end_time": "2022-07-31T16:41:23.718186Z",
     "start_time": "2022-07-31T16:41:22.408650Z"
    },
    "hidden": true
   },
   "outputs": [],
   "source": [
    "file_destination = 'dataset/data_sr/x/no/'\n",
    "\n",
    "for i in setNo:\n",
    "        try:\n",
    "            shutil.move(file_source + i + '.wav', file_destination)\n",
    "        except:\n",
    "            print(i)"
   ]
  },
  {
   "cell_type": "code",
   "execution_count": null,
   "id": "f296f43d",
   "metadata": {
    "hidden": true
   },
   "outputs": [],
   "source": []
  }
 ],
 "metadata": {
  "hide_input": false,
  "kernelspec": {
   "display_name": "SR",
   "language": "python",
   "name": "sr"
  },
  "language_info": {
   "codemirror_mode": {
    "name": "ipython",
    "version": 3
   },
   "file_extension": ".py",
   "mimetype": "text/x-python",
   "name": "python",
   "nbconvert_exporter": "python",
   "pygments_lexer": "ipython3",
   "version": "3.8.13"
  },
  "toc": {
   "base_numbering": 1,
   "nav_menu": {},
   "number_sections": true,
   "sideBar": true,
   "skip_h1_title": false,
   "title_cell": "Table of Contents",
   "title_sidebar": "Contents",
   "toc_cell": false,
   "toc_position": {},
   "toc_section_display": true,
   "toc_window_display": false
  },
  "varInspector": {
   "cols": {
    "lenName": 16,
    "lenType": 16,
    "lenVar": 40
   },
   "kernels_config": {
    "python": {
     "delete_cmd_postfix": "",
     "delete_cmd_prefix": "del ",
     "library": "var_list.py",
     "varRefreshCmd": "print(var_dic_list())"
    },
    "r": {
     "delete_cmd_postfix": ") ",
     "delete_cmd_prefix": "rm(",
     "library": "var_list.r",
     "varRefreshCmd": "cat(var_dic_list()) "
    }
   },
   "oldHeight": 470.844,
   "position": {
    "height": "503.837px",
    "left": "117.998px",
    "right": "20px",
    "top": "25.9965px",
    "width": "567.995px"
   },
   "types_to_exclude": [
    "module",
    "function",
    "builtin_function_or_method",
    "instance",
    "_Feature"
   ],
   "varInspector_section_display": "block",
   "window_display": false
  }
 },
 "nbformat": 4,
 "nbformat_minor": 5
}
