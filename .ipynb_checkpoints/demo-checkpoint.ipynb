{
 "cells": [
  {
   "cell_type": "markdown",
   "id": "fad933f7",
   "metadata": {
    "heading_collapsed": true
   },
   "source": [
    "# 載入套件"
   ]
  },
  {
   "cell_type": "code",
   "execution_count": 1,
   "id": "2603f92d",
   "metadata": {
    "ExecuteTime": {
     "end_time": "2022-09-02T15:53:53.038084Z",
     "start_time": "2022-09-02T15:53:51.394087Z"
    },
    "hidden": true,
    "scrolled": true
   },
   "outputs": [
    {
     "name": "stderr",
     "output_type": "stream",
     "text": [
      "Using TensorFlow backend.\n"
     ]
    }
   ],
   "source": [
    "import numpy as np\n",
    "import scipy.io.wavfile as wav\n",
    "import pandas as pd\n",
    "import tensorflow as tf\n",
    "import matplotlib.pyplot as plt\n",
    "import os, time, glob, json, csv\n",
    "import librosa.display\n",
    "\n",
    "from python_speech_features import mfcc\n",
    "from sklearn.model_selection import cross_val_score\n",
    "from sklearn.neighbors import KNeighborsClassifier\n",
    "from sklearn.model_selection import train_test_split\n",
    "from sklearn.metrics import f1_score, precision_score, recall_score, confusion_matrix, classification_report\n",
    "from sklearn.preprocessing import StandardScaler\n",
    "from keras.models import Sequential, load_model\n",
    "from keras.callbacks import ModelCheckpoint\n",
    "from keras.layers import Dense, Dropout, LSTM, Flatten, Embedding, GRU, InputLayer, Reshape\n",
    "from tensorflow import keras\n",
    "from keras.utils import to_categorical, plot_model\n",
    "#from wave import open"
   ]
  },
  {
   "cell_type": "markdown",
   "id": "1110e425",
   "metadata": {
    "heading_collapsed": true
   },
   "source": [
    "# 限制GPU記憶體使用"
   ]
  },
  {
   "cell_type": "code",
   "execution_count": 2,
   "id": "c794c357",
   "metadata": {
    "ExecuteTime": {
     "end_time": "2022-09-02T15:53:56.299065Z",
     "start_time": "2022-09-02T15:53:55.945147Z"
    },
    "hidden": true
   },
   "outputs": [
    {
     "name": "stderr",
     "output_type": "stream",
     "text": [
      "2022-09-02 23:53:55.952633: I tensorflow/stream_executor/platform/default/dso_loader.cc:44] Successfully opened dynamic library libcuda.so.1\n",
      "2022-09-02 23:53:56.007009: I tensorflow/stream_executor/cuda/cuda_gpu_executor.cc:981] successful NUMA node read from SysFS had negative value (-1), but there must be at least one NUMA node, so returning NUMA node zero\n",
      "2022-09-02 23:53:56.007235: I tensorflow/core/common_runtime/gpu/gpu_device.cc:1561] Found device 0 with properties: \n",
      "pciBusID: 0000:01:00.0 name: NVIDIA GeForce RTX 3090 computeCapability: 8.6\n",
      "coreClock: 1.695GHz coreCount: 82 deviceMemorySize: 23.70GiB deviceMemoryBandwidth: 871.81GiB/s\n",
      "2022-09-02 23:53:56.007614: I tensorflow/stream_executor/platform/default/dso_loader.cc:44] Successfully opened dynamic library libcudart.so.10.1\n",
      "2022-09-02 23:53:56.010563: I tensorflow/stream_executor/platform/default/dso_loader.cc:44] Successfully opened dynamic library libcublas.so.10\n",
      "2022-09-02 23:53:56.012690: I tensorflow/stream_executor/platform/default/dso_loader.cc:44] Successfully opened dynamic library libcufft.so.10\n",
      "2022-09-02 23:53:56.013074: I tensorflow/stream_executor/platform/default/dso_loader.cc:44] Successfully opened dynamic library libcurand.so.10\n",
      "2022-09-02 23:53:56.015451: I tensorflow/stream_executor/platform/default/dso_loader.cc:44] Successfully opened dynamic library libcusolver.so.10\n",
      "2022-09-02 23:53:56.016588: I tensorflow/stream_executor/platform/default/dso_loader.cc:44] Successfully opened dynamic library libcusparse.so.10\n",
      "2022-09-02 23:53:56.020731: I tensorflow/stream_executor/platform/default/dso_loader.cc:44] Successfully opened dynamic library libcudnn.so.7\n",
      "2022-09-02 23:53:56.020863: I tensorflow/stream_executor/cuda/cuda_gpu_executor.cc:981] successful NUMA node read from SysFS had negative value (-1), but there must be at least one NUMA node, so returning NUMA node zero\n",
      "2022-09-02 23:53:56.021052: I tensorflow/stream_executor/cuda/cuda_gpu_executor.cc:981] successful NUMA node read from SysFS had negative value (-1), but there must be at least one NUMA node, so returning NUMA node zero\n",
      "2022-09-02 23:53:56.021136: I tensorflow/core/common_runtime/gpu/gpu_device.cc:1703] Adding visible gpu devices: 0\n",
      "2022-09-02 23:53:56.022329: I tensorflow/core/platform/cpu_feature_guard.cc:143] Your CPU supports instructions that this TensorFlow binary was not compiled to use: SSE4.1 SSE4.2 AVX AVX2 FMA\n",
      "2022-09-02 23:53:56.048639: I tensorflow/core/platform/profile_utils/cpu_utils.cc:102] CPU Frequency: 2799925000 Hz\n",
      "2022-09-02 23:53:56.049408: I tensorflow/compiler/xla/service/service.cc:168] XLA service 0x562952149240 initialized for platform Host (this does not guarantee that XLA will be used). Devices:\n",
      "2022-09-02 23:53:56.049420: I tensorflow/compiler/xla/service/service.cc:176]   StreamExecutor device (0): Host, Default Version\n",
      "2022-09-02 23:53:56.294622: I tensorflow/stream_executor/cuda/cuda_gpu_executor.cc:981] successful NUMA node read from SysFS had negative value (-1), but there must be at least one NUMA node, so returning NUMA node zero\n",
      "2022-09-02 23:53:56.294743: I tensorflow/compiler/xla/service/service.cc:168] XLA service 0x5629520cd000 initialized for platform CUDA (this does not guarantee that XLA will be used). Devices:\n",
      "2022-09-02 23:53:56.294754: I tensorflow/compiler/xla/service/service.cc:176]   StreamExecutor device (0): NVIDIA GeForce RTX 3090, Compute Capability 8.6\n",
      "2022-09-02 23:53:56.294914: I tensorflow/stream_executor/cuda/cuda_gpu_executor.cc:981] successful NUMA node read from SysFS had negative value (-1), but there must be at least one NUMA node, so returning NUMA node zero\n",
      "2022-09-02 23:53:56.294981: I tensorflow/core/common_runtime/gpu/gpu_device.cc:1561] Found device 0 with properties: \n",
      "pciBusID: 0000:01:00.0 name: NVIDIA GeForce RTX 3090 computeCapability: 8.6\n",
      "coreClock: 1.695GHz coreCount: 82 deviceMemorySize: 23.70GiB deviceMemoryBandwidth: 871.81GiB/s\n",
      "2022-09-02 23:53:56.295017: I tensorflow/stream_executor/platform/default/dso_loader.cc:44] Successfully opened dynamic library libcudart.so.10.1\n",
      "2022-09-02 23:53:56.295031: I tensorflow/stream_executor/platform/default/dso_loader.cc:44] Successfully opened dynamic library libcublas.so.10\n",
      "2022-09-02 23:53:56.295043: I tensorflow/stream_executor/platform/default/dso_loader.cc:44] Successfully opened dynamic library libcufft.so.10\n",
      "2022-09-02 23:53:56.295056: I tensorflow/stream_executor/platform/default/dso_loader.cc:44] Successfully opened dynamic library libcurand.so.10\n",
      "2022-09-02 23:53:56.295068: I tensorflow/stream_executor/platform/default/dso_loader.cc:44] Successfully opened dynamic library libcusolver.so.10\n",
      "2022-09-02 23:53:56.295080: I tensorflow/stream_executor/platform/default/dso_loader.cc:44] Successfully opened dynamic library libcusparse.so.10\n",
      "2022-09-02 23:53:56.295093: I tensorflow/stream_executor/platform/default/dso_loader.cc:44] Successfully opened dynamic library libcudnn.so.7\n",
      "2022-09-02 23:53:56.295132: I tensorflow/stream_executor/cuda/cuda_gpu_executor.cc:981] successful NUMA node read from SysFS had negative value (-1), but there must be at least one NUMA node, so returning NUMA node zero\n",
      "2022-09-02 23:53:56.295215: I tensorflow/stream_executor/cuda/cuda_gpu_executor.cc:981] successful NUMA node read from SysFS had negative value (-1), but there must be at least one NUMA node, so returning NUMA node zero\n",
      "2022-09-02 23:53:56.295270: I tensorflow/core/common_runtime/gpu/gpu_device.cc:1703] Adding visible gpu devices: 0\n",
      "2022-09-02 23:53:56.295297: I tensorflow/stream_executor/platform/default/dso_loader.cc:44] Successfully opened dynamic library libcudart.so.10.1\n",
      "2022-09-02 23:53:56.295435: I tensorflow/core/common_runtime/gpu/gpu_device.cc:1102] Device interconnect StreamExecutor with strength 1 edge matrix:\n",
      "2022-09-02 23:53:56.295443: I tensorflow/core/common_runtime/gpu/gpu_device.cc:1108]      0 \n",
      "2022-09-02 23:53:56.295445: I tensorflow/core/common_runtime/gpu/gpu_device.cc:1121] 0:   N \n",
      "2022-09-02 23:53:56.295488: I tensorflow/stream_executor/cuda/cuda_gpu_executor.cc:981] successful NUMA node read from SysFS had negative value (-1), but there must be at least one NUMA node, so returning NUMA node zero\n",
      "2022-09-02 23:53:56.295573: I tensorflow/stream_executor/cuda/cuda_gpu_executor.cc:981] successful NUMA node read from SysFS had negative value (-1), but there must be at least one NUMA node, so returning NUMA node zero\n",
      "2022-09-02 23:53:56.295641: I tensorflow/core/common_runtime/gpu/gpu_device.cc:1247] Created TensorFlow device (/job:localhost/replica:0/task:0/device:GPU:0 with 4096 MB memory) -> physical GPU (device: 0, name: NVIDIA GeForce RTX 3090, pci bus id: 0000:01:00.0, compute capability: 8.6)\n"
     ]
    }
   ],
   "source": [
    "physical_gpus = tf.config.list_physical_devices(\"GPU\")\n",
    "tf.config.experimental.set_virtual_device_configuration(\n",
    "    physical_gpus[0],\n",
    "    [tf.config.experimental.VirtualDeviceConfiguration(memory_limit=4096)] \n",
    ")\n",
    "logical_gpus = tf.config.list_logical_devices(\"GPU\")"
   ]
  },
  {
   "cell_type": "markdown",
   "id": "40c6dc79",
   "metadata": {},
   "source": [
    "# 準備資料"
   ]
  },
  {
   "cell_type": "code",
   "execution_count": 3,
   "id": "de9c4fca",
   "metadata": {
    "ExecuteTime": {
     "end_time": "2022-09-02T15:53:59.314916Z",
     "start_time": "2022-09-02T15:53:59.303761Z"
    },
    "code_folding": []
   },
   "outputs": [],
   "source": [
    "# https://ithelp.ithome.com.tw/articles/10195763\n",
    "\n",
    "DATA_PATH = \"./dataset/data_sr/x/\"\n",
    "def get_labels(path=DATA_PATH):\n",
    "    labels = os.listdir(path)\n",
    "    label_indices = np.arange(0, len(labels))\n",
    "    return labels, label_indices, to_categorical(label_indices)\n",
    "\n",
    "# Handy function to convert wav2mfcc\n",
    "def wav2mfcc(file_path, max_pad_len):\n",
    "    try:\n",
    "        wave, sr = librosa.load(file_path, mono=True, sr=44100)\n",
    "\n",
    "        mfcc = librosa.feature.mfcc(y=wave, sr=sr)\n",
    "        pad_width = max_pad_len - mfcc.shape[1]\n",
    "        if pad_width < 0:\n",
    "            pad_width = 0\n",
    "            mfcc = mfcc[:,:max_pad_len]\n",
    "        mfcc = np.pad(mfcc, pad_width=((0, 0), (0, pad_width)), mode='constant')\n",
    "        return mfcc\n",
    "        \n",
    "    except:\n",
    "        print(file_path)\n",
    "\n",
    "def save_data_to_array(path=DATA_PATH, max_pad_len=104):\n",
    "    labels, _, _ = get_labels(path)\n",
    "\n",
    "    for label in labels:\n",
    "        # Init mfcc vectors\n",
    "        mfcc_vectors = []\n",
    "\n",
    "        wavfiles = [path + label + '/' + wavfile for wavfile in os.listdir(path + '/' + label)]\n",
    "        for wavfile in wavfiles:\n",
    "            mfcc = wav2mfcc(wavfile, max_pad_len=max_pad_len)\n",
    "            mfcc_vectors.append(mfcc)\n",
    "        print(label+\".npy\", mfcc_vectors)\n",
    "        np.save(label + '.npy', mfcc_vectors)\n",
    "\n",
    "\n",
    "def get_train_test(split_ratio=0.8, random_state=42):\n",
    "    # Get available labels\n",
    "    labels, indices, _ = get_labels(DATA_PATH)\n",
    "\n",
    "    \n",
    "    # Getting first arrays\n",
    "    X = np.load(labels[0] + '.npy', allow_pickle=True)\n",
    "    y = np.zeros(X.shape[0])\n",
    "    \n",
    "\n",
    "    # Append all of the dataset into one single array, same goes for y\n",
    "    for i, label in enumerate(labels[1:]):\n",
    "        x = np.load(label + '.npy', allow_pickle=True)\n",
    "        X = np.vstack((X, x))\n",
    "        y = np.append(y, np.full(x.shape[0], fill_value= (i + 1)))\n",
    "\n",
    "    assert X.shape[0] == len(y)\n",
    "    \n",
    "    X_train, X_temp, y_train, y_temp = train_test_split(X, y, test_size=(1 - split_ratio), random_state=random_state, shuffle=True)\n",
    "    X_test, X_valid, y_test, y_valid = train_test_split(X_temp, y_temp, test_size=0.5, random_state=random_state, shuffle=True)\n",
    "\n",
    "    return X_train, X_test, X_valid, y_train, y_test, y_valid\n",
    "\n",
    "def prepare_dataset(path=DATA_PATH):\n",
    "    labels, _, _ = get_labels(path)\n",
    "    data = {}\n",
    "    for label in labels:\n",
    "        data[label] = {}\n",
    "        data[label]['path'] = [path  + label + '/' + wavfile for wavfile in os.listdir(path + '/' + label)]\n",
    "\n",
    "        vectors = []\n",
    "\n",
    "        for wavfile in data[label]['path']:\n",
    "            wave, sr = librosa.load(wavfile, mono=True, sr=16000)\n",
    "            # Downsampling\n",
    "            wave = wave[::3]\n",
    "            mfcc = librosa.feature.mfcc(wave)\n",
    "            vectors.append(mfcc)\n",
    "\n",
    "        data[label]['mfcc'] = vectors\n",
    "\n",
    "    return data\n",
    "\n",
    "\n",
    "def load_dataset(path=DATA_PATH):\n",
    "    data = prepare_dataset(path)\n",
    "\n",
    "    dataset = []\n",
    "\n",
    "    for key in data:\n",
    "        for mfcc in data[key]['mfcc']:\n",
    "            dataset.append((key, mfcc))\n",
    "\n",
    "    return dataset[:100]"
   ]
  },
  {
   "cell_type": "code",
   "execution_count": null,
   "id": "3fc822d6",
   "metadata": {
    "ExecuteTime": {
     "start_time": "2022-09-02T15:53:15.065Z"
    },
    "code_folding": [
     0
    ]
   },
   "outputs": [],
   "source": [
    "# 不要取最長的，取已知音檔內容的長度（約不到一秒），轉出的第二個特徵長度是 104，因此固定以這個長度去做截斷與補零\n",
    "'''\n",
    "def get_max_pad_len(path):\n",
    "    labels, _, _ = get_labels(path)\n",
    "    max_pad_len = 0\n",
    "    \n",
    "    for label in labels:\n",
    "        wavfiles = [path + label + '/' + wavfile for wavfile in os.listdir(path + '/' + label)]\n",
    "        for wavfile in wavfiles:\n",
    "            wave, sr = librosa.load(wavfile, mono=True, sr=None)\n",
    "            mfcc = librosa.feature.mfcc(y=wave, sr=sr)\n",
    "            if mfcc.shape[1] > max_pad_len:\n",
    "                max_pad_len = mfcc.shape[1]\n",
    "                \n",
    "        print(label + \"Done\")\n",
    "        \n",
    "    return max_pad_len\n",
    "max_pad_len = get_max_pad_len(path)\n",
    "'''"
   ]
  },
  {
   "cell_type": "code",
   "execution_count": null,
   "id": "eec5a6e5",
   "metadata": {
    "ExecuteTime": {
     "start_time": "2022-09-02T15:54:00.807Z"
    }
   },
   "outputs": [],
   "source": [
    "save_data_to_array()"
   ]
  },
  {
   "cell_type": "code",
   "execution_count": 19,
   "id": "cfe694fe",
   "metadata": {
    "ExecuteTime": {
     "end_time": "2022-09-02T06:52:51.796789Z",
     "start_time": "2022-09-02T06:52:51.688937Z"
    }
   },
   "outputs": [],
   "source": [
    "X_train, X_test, X_valid, y_train, y_test, y_valid = get_train_test()"
   ]
  },
  {
   "cell_type": "code",
   "execution_count": null,
   "id": "9b282ee0",
   "metadata": {},
   "outputs": [],
   "source": []
  },
  {
   "cell_type": "code",
   "execution_count": 20,
   "id": "07096b33",
   "metadata": {
    "ExecuteTime": {
     "end_time": "2022-09-02T06:52:55.445013Z",
     "start_time": "2022-09-02T06:52:55.439467Z"
    }
   },
   "outputs": [
    {
     "name": "stdout",
     "output_type": "stream",
     "text": [
      "(30101, 20, 68) (30101,)\n",
      "(3763, 20, 68) (3763,)\n",
      "(3763, 20, 68) (3763,)\n"
     ]
    }
   ],
   "source": [
    "print(X_train.shape, y_train.shape)\n",
    "print(X_test.shape, y_test.shape)\n",
    "print(X_valid.shape, y_valid.shape)"
   ]
  },
  {
   "cell_type": "code",
   "execution_count": 21,
   "id": "6ea150a4",
   "metadata": {
    "ExecuteTime": {
     "end_time": "2022-09-02T06:52:59.693391Z",
     "start_time": "2022-09-02T06:52:59.681262Z"
    }
   },
   "outputs": [],
   "source": [
    "X_train = X_train.reshape(X_train.shape[0], 20, 68, 1)\n",
    "X_test = X_test.reshape(X_test.shape[0], 20, 68, 1)\n",
    "X_valid = X_valid.reshape(X_valid.shape[0], 20, 68, 1)\n",
    "\n",
    "y_train_hot = to_categorical(y_train)\n",
    "y_test_hot = to_categorical(y_test)\n",
    "y_valid_hot = to_categorical(y_valid)"
   ]
  },
  {
   "cell_type": "code",
   "execution_count": 22,
   "id": "4d12b32e",
   "metadata": {
    "ExecuteTime": {
     "end_time": "2022-09-02T06:53:00.069781Z",
     "start_time": "2022-09-02T06:53:00.060717Z"
    }
   },
   "outputs": [
    {
     "name": "stdout",
     "output_type": "stream",
     "text": [
      "(30101, 20, 68, 1) (30101,) (30101, 2)\n",
      "(3763, 20, 68, 1) (3763,)\n",
      "(3763, 20, 68, 1) (3763,)\n"
     ]
    }
   ],
   "source": [
    "print(X_train.shape, y_train.shape, y_train_hot.shape)\n",
    "print(X_test.shape, y_test.shape)\n",
    "print(X_valid.shape, y_valid.shape)"
   ]
  },
  {
   "cell_type": "markdown",
   "id": "90599b2a",
   "metadata": {
    "heading_collapsed": true
   },
   "source": [
    "# 建立模型"
   ]
  },
  {
   "cell_type": "code",
   "execution_count": 101,
   "id": "69c77ee8",
   "metadata": {
    "ExecuteTime": {
     "end_time": "2022-09-01T09:41:52.823882Z",
     "start_time": "2022-09-01T09:41:52.614375Z"
    },
    "code_folding": [],
    "hidden": true
   },
   "outputs": [
    {
     "name": "stdout",
     "output_type": "stream",
     "text": [
      "Model: \"sequential_1\"\n",
      "_________________________________________________________________\n",
      "Layer (type)                 Output Shape              Param #   \n",
      "=================================================================\n",
      "dense_1 (Dense)              (None, 20, 68, 64)        128       \n",
      "_________________________________________________________________\n",
      "dense_2 (Dense)              (None, 20, 68, 64)        4160      \n",
      "_________________________________________________________________\n",
      "dropout_1 (Dropout)          (None, 20, 68, 64)        0         \n",
      "_________________________________________________________________\n",
      "dense_3 (Dense)              (None, 20, 68, 32)        2080      \n",
      "_________________________________________________________________\n",
      "dropout_2 (Dropout)          (None, 20, 68, 32)        0         \n",
      "_________________________________________________________________\n",
      "dense_4 (Dense)              (None, 20, 68, 16)        528       \n",
      "_________________________________________________________________\n",
      "dropout_3 (Dropout)          (None, 20, 68, 16)        0         \n",
      "_________________________________________________________________\n",
      "flatten_1 (Flatten)          (None, 21760)             0         \n",
      "_________________________________________________________________\n",
      "dense_5 (Dense)              (None, 1024)              22283264  \n",
      "_________________________________________________________________\n",
      "dropout_4 (Dropout)          (None, 1024)              0         \n",
      "_________________________________________________________________\n",
      "dense_6 (Dense)              (None, 512)               524800    \n",
      "_________________________________________________________________\n",
      "dropout_5 (Dropout)          (None, 512)               0         \n",
      "_________________________________________________________________\n",
      "dense_7 (Dense)              (None, 256)               131328    \n",
      "_________________________________________________________________\n",
      "dropout_6 (Dropout)          (None, 256)               0         \n",
      "_________________________________________________________________\n",
      "dense_8 (Dense)              (None, 128)               32896     \n",
      "_________________________________________________________________\n",
      "dropout_7 (Dropout)          (None, 128)               0         \n",
      "_________________________________________________________________\n",
      "dense_9 (Dense)              (None, 64)                8256      \n",
      "_________________________________________________________________\n",
      "dropout_8 (Dropout)          (None, 64)                0         \n",
      "_________________________________________________________________\n",
      "dense_10 (Dense)             (None, 8)                 520       \n",
      "_________________________________________________________________\n",
      "dropout_9 (Dropout)          (None, 8)                 0         \n",
      "_________________________________________________________________\n",
      "dense_11 (Dense)             (None, 2)                 18        \n",
      "=================================================================\n",
      "Total params: 22,987,978\n",
      "Trainable params: 22,987,978\n",
      "Non-trainable params: 0\n",
      "_________________________________________________________________\n"
     ]
    }
   ],
   "source": [
    "# 3+ 3\n",
    "model = Sequential()\n",
    "model.add(Dense(64, input_shape=(20, 68, 1), activation=\"relu\"))\n",
    "model.add(Dense(64, activation=\"relu\"))\n",
    "model.add(Dropout(0.2))\n",
    "model.add(Dense(32, activation=\"relu\"))\n",
    "model.add(Dropout(0.2))\n",
    "model.add(Dense(16, activation=\"relu\"))\n",
    "model.add(Dropout(0.2))\n",
    "model.add(Flatten())\n",
    "model.add(Dense(1024, activation=\"relu\"))\n",
    "model.add(Dropout(0.2))\n",
    "model.add(Dense(512, activation=\"relu\"))\n",
    "model.add(Dropout(0.2))\n",
    "model.add(Dense(256, activation=\"relu\"))\n",
    "model.add(Dropout(0.2))\n",
    "model.add(Dense(128, activation=\"relu\"))\n",
    "model.add(Dropout(0.2))\n",
    "model.add(Dense(64, activation=\"relu\"))\n",
    "model.add(Dropout(0.2))\n",
    "model.add(Dense(8, activation=\"relu\"))\n",
    "model.add(Dropout(0.2))\n",
    "model.add(Dense(2, activation=\"softmax\"))\n",
    "model.summary()"
   ]
  },
  {
   "cell_type": "code",
   "execution_count": 30,
   "id": "98f1f57e",
   "metadata": {
    "ExecuteTime": {
     "end_time": "2022-08-31T13:45:09.130912Z",
     "start_time": "2022-08-31T13:45:08.969432Z"
    },
    "code_folding": [
     0
    ],
    "hidden": true
   },
   "outputs": [
    {
     "name": "stdout",
     "output_type": "stream",
     "text": [
      "Model: \"sequential_1\"\n",
      "_________________________________________________________________\n",
      "Layer (type)                 Output Shape              Param #   \n",
      "=================================================================\n",
      "flatten_1 (Flatten)          (None, 1360)              0         \n",
      "_________________________________________________________________\n",
      "dense_1 (Dense)              (None, 512)               696832    \n",
      "_________________________________________________________________\n",
      "dropout_1 (Dropout)          (None, 512)               0         \n",
      "_________________________________________________________________\n",
      "dense_2 (Dense)              (None, 512)               262656    \n",
      "_________________________________________________________________\n",
      "dropout_2 (Dropout)          (None, 512)               0         \n",
      "_________________________________________________________________\n",
      "dense_3 (Dense)              (None, 256)               131328    \n",
      "_________________________________________________________________\n",
      "dropout_3 (Dropout)          (None, 256)               0         \n",
      "_________________________________________________________________\n",
      "dense_4 (Dense)              (None, 128)               32896     \n",
      "_________________________________________________________________\n",
      "dropout_4 (Dropout)          (None, 128)               0         \n",
      "_________________________________________________________________\n",
      "dense_5 (Dense)              (None, 64)                8256      \n",
      "_________________________________________________________________\n",
      "dropout_5 (Dropout)          (None, 64)                0         \n",
      "_________________________________________________________________\n",
      "dense_6 (Dense)              (None, 32)                2080      \n",
      "_________________________________________________________________\n",
      "dropout_6 (Dropout)          (None, 32)                0         \n",
      "_________________________________________________________________\n",
      "dense_7 (Dense)              (None, 2)                 66        \n",
      "=================================================================\n",
      "Total params: 1,134,114\n",
      "Trainable params: 1,134,114\n",
      "Non-trainable params: 0\n",
      "_________________________________________________________________\n"
     ]
    }
   ],
   "source": [
    "#simple\n",
    "model = Sequential()\n",
    "model.add(InputLayer(input_shape=(20, 68, 1)))\n",
    "model.add(Flatten())\n",
    "model.add(Dense(512, activation=\"relu\"))\n",
    "model.add(Dropout(0.2))\n",
    "model.add(Dense(512, activation=\"relu\"))\n",
    "model.add(Dropout(0.2))\n",
    "model.add(Dense(256, activation=\"relu\"))\n",
    "model.add(Dropout(0.2))\n",
    "model.add(Dense(128, activation=\"relu\"))\n",
    "model.add(Dropout(0.2))\n",
    "model.add(Dense(64, activation=\"relu\"))\n",
    "model.add(Dropout(0.2))\n",
    "model.add(Dense(32, activation=\"relu\"))\n",
    "model.add(Dropout(0.2))\n",
    "model.add(Dense(2, activation=\"softmax\"))\n",
    "model.summary()"
   ]
  },
  {
   "cell_type": "code",
   "execution_count": 94,
   "id": "77fb30f7",
   "metadata": {
    "ExecuteTime": {
     "end_time": "2022-09-01T06:54:12.278326Z",
     "start_time": "2022-09-01T06:54:11.991121Z"
    },
    "hidden": true
   },
   "outputs": [
    {
     "name": "stdout",
     "output_type": "stream",
     "text": [
      "Model: \"sequential_1\"\n",
      "_________________________________________________________________\n",
      "Layer (type)                 Output Shape              Param #   \n",
      "=================================================================\n",
      "gru_1 (GRU)                  (None, 20, 50)            17850     \n",
      "_________________________________________________________________\n",
      "dropout_1 (Dropout)          (None, 20, 50)            0         \n",
      "_________________________________________________________________\n",
      "gru_2 (GRU)                  (None, 20, 50)            15150     \n",
      "_________________________________________________________________\n",
      "dropout_2 (Dropout)          (None, 20, 50)            0         \n",
      "_________________________________________________________________\n",
      "gru_3 (GRU)                  (None, 50)                15150     \n",
      "_________________________________________________________________\n",
      "dropout_3 (Dropout)          (None, 50)                0         \n",
      "_________________________________________________________________\n",
      "dense_1 (Dense)              (None, 2)                 102       \n",
      "=================================================================\n",
      "Total params: 48,252\n",
      "Trainable params: 48,252\n",
      "Non-trainable params: 0\n",
      "_________________________________________________________________\n"
     ]
    }
   ],
   "source": [
    "# GRU\n",
    "model = Sequential()\n",
    "model.add(GRU(50, return_sequences=True,\n",
    "             input_shape=(X_train.shape[1], X_train.shape[2])))\n",
    "model.add(Dropout(0.2))\n",
    "model.add(GRU(50, return_sequences=True))\n",
    "model.add(Dropout(0.2))\n",
    "model.add(GRU(50))\n",
    "model.add(Dropout(0.2))\n",
    "model.add(Dense(2))\n",
    "model.summary()"
   ]
  },
  {
   "cell_type": "code",
   "execution_count": 58,
   "id": "db550534",
   "metadata": {
    "ExecuteTime": {
     "end_time": "2022-08-31T15:22:58.848180Z",
     "start_time": "2022-08-31T15:22:58.582450Z"
    },
    "hidden": true
   },
   "outputs": [
    {
     "name": "stdout",
     "output_type": "stream",
     "text": [
      "Model: \"sequential_1\"\n",
      "_________________________________________________________________\n",
      "Layer (type)                 Output Shape              Param #   \n",
      "=================================================================\n",
      "lstm_1 (LSTM)                (None, 20, 50)            23800     \n",
      "_________________________________________________________________\n",
      "dropout_1 (Dropout)          (None, 20, 50)            0         \n",
      "_________________________________________________________________\n",
      "lstm_2 (LSTM)                (None, 20, 50)            20200     \n",
      "_________________________________________________________________\n",
      "dropout_2 (Dropout)          (None, 20, 50)            0         \n",
      "_________________________________________________________________\n",
      "lstm_3 (LSTM)                (None, 50)                20200     \n",
      "_________________________________________________________________\n",
      "dropout_3 (Dropout)          (None, 50)                0         \n",
      "_________________________________________________________________\n",
      "dense_1 (Dense)              (None, 2)                 102       \n",
      "=================================================================\n",
      "Total params: 64,302\n",
      "Trainable params: 64,302\n",
      "Non-trainable params: 0\n",
      "_________________________________________________________________\n"
     ]
    }
   ],
   "source": [
    "# LSTM\n",
    "model = Sequential()\n",
    "model.add(LSTM(20, return_sequences=True,\n",
    "              input_shape=(X_train.shape[1], X_train.shape[2])))\n",
    "model.add(Dropout(0.2))\n",
    "model.add(LSTM(20, return_sequences=True))\n",
    "model.add(Dropout(0.2))\n",
    "model.add(LSTM(20))\n",
    "model.add(Dropout(0.2))\n",
    "model.add(Dense(2))\n",
    "model.summary()"
   ]
  },
  {
   "cell_type": "code",
   "execution_count": 106,
   "id": "baeccf8d",
   "metadata": {
    "ExecuteTime": {
     "end_time": "2022-09-01T09:42:07.930879Z",
     "start_time": "2022-09-01T09:42:07.916000Z"
    },
    "hidden": true
   },
   "outputs": [],
   "source": [
    "model.compile(loss=\"mse\",\n",
    "              optimizer=\"adam\",\n",
    "              metrics=['accuracy'])"
   ]
  },
  {
   "cell_type": "code",
   "execution_count": 100,
   "id": "5c36f8f7",
   "metadata": {
    "ExecuteTime": {
     "end_time": "2022-09-01T09:41:43.645159Z",
     "start_time": "2022-09-01T09:41:43.633833Z"
    },
    "hidden": true
   },
   "outputs": [],
   "source": [
    "tf.keras.backend.clear_session()"
   ]
  },
  {
   "cell_type": "markdown",
   "id": "e90aa481",
   "metadata": {
    "heading_collapsed": true
   },
   "source": [
    "# 訓練模型"
   ]
  },
  {
   "cell_type": "code",
   "execution_count": 107,
   "id": "84ebd093",
   "metadata": {
    "ExecuteTime": {
     "end_time": "2022-09-01T09:42:11.510649Z",
     "start_time": "2022-09-01T09:42:11.506648Z"
    },
    "code_folding": [],
    "hidden": true
   },
   "outputs": [],
   "source": [
    "def get_model_path(name):\n",
    "    model_path = name + '/model.h5'\n",
    "    checkpoint_path = name + '/checkpoints'\n",
    "    checkpoint_dir = os.path.dirname(checkpoint_path)\n",
    "    latest = tf.train.latest_checkpoint(checkpoint_dir)\n",
    "    \n",
    "    if not os.path.exists(checkpoint_path):\n",
    "        os.makedirs(checkpoint_path)\n",
    "    \n",
    "    return model_path, checkpoint_path, checkpoint_dir, latest\n",
    "\n",
    "def train_model(model, model_name):\n",
    "    model_path, checkpoint_path, checkpoint_dir, latest = get_model_path(model_name)\n",
    "\n",
    "    model_checkpoint_callback = [ModelCheckpoint(checkpoint_path + '/weights.{epoch:02d}-{val_accuracy:.4f}.hdf5',\n",
    "                                                 monitor='val_accuracy',     \n",
    "                                                 mode='max',\n",
    "                                                 save_best_only=True)]\n",
    "   \n",
    "    history = model.fit(X_train, y_train_hot, \n",
    "                        batch_size=64, epochs=250,\n",
    "                        validation_data=(X_valid, y_valid_hot),\n",
    "                        callbacks=model_checkpoint_callback)\n",
    "    model.save(model_path)\n",
    "    \n",
    "    return history, model"
   ]
  },
  {
   "cell_type": "code",
   "execution_count": 108,
   "id": "ccf59502",
   "metadata": {
    "ExecuteTime": {
     "end_time": "2022-09-01T10:08:41.085800Z",
     "start_time": "2022-09-01T09:42:19.033705Z"
    },
    "hidden": true,
    "hide_input": false
   },
   "outputs": [
    {
     "name": "stdout",
     "output_type": "stream",
     "text": [
      "Train on 30101 samples, validate on 3763 samples\n",
      "Epoch 1/250\n",
      "30101/30101 [==============================] - 7s 220us/step - loss: 0.2530 - accuracy: 0.5041 - val_loss: 0.2500 - val_accuracy: 0.4951\n",
      "Epoch 2/250\n",
      "30101/30101 [==============================] - 6s 207us/step - loss: 0.2492 - accuracy: 0.5179 - val_loss: 0.2377 - val_accuracy: 0.5993\n",
      "Epoch 3/250\n",
      "30101/30101 [==============================] - 6s 209us/step - loss: 0.2381 - accuracy: 0.5707 - val_loss: 0.2299 - val_accuracy: 0.6030\n",
      "Epoch 4/250\n",
      "30101/30101 [==============================] - 6s 209us/step - loss: 0.2308 - accuracy: 0.5930 - val_loss: 0.2278 - val_accuracy: 0.6043\n",
      "Epoch 5/250\n",
      "30101/30101 [==============================] - 6s 209us/step - loss: 0.2299 - accuracy: 0.5984 - val_loss: 0.2313 - val_accuracy: 0.6046\n",
      "Epoch 6/250\n",
      "30101/30101 [==============================] - 6s 209us/step - loss: 0.2279 - accuracy: 0.6001 - val_loss: 0.2275 - val_accuracy: 0.5982\n",
      "Epoch 7/250\n",
      "30101/30101 [==============================] - 6s 210us/step - loss: 0.2269 - accuracy: 0.6002 - val_loss: 0.2281 - val_accuracy: 0.5971\n",
      "Epoch 8/250\n",
      "30101/30101 [==============================] - 6s 210us/step - loss: 0.2258 - accuracy: 0.6043 - val_loss: 0.2266 - val_accuracy: 0.6051\n",
      "Epoch 9/250\n",
      "30101/30101 [==============================] - 6s 210us/step - loss: 0.2255 - accuracy: 0.6066 - val_loss: 0.2253 - val_accuracy: 0.6157\n",
      "Epoch 10/250\n",
      "30101/30101 [==============================] - 6s 210us/step - loss: 0.2236 - accuracy: 0.6104 - val_loss: 0.2244 - val_accuracy: 0.6056\n",
      "Epoch 11/250\n",
      "30101/30101 [==============================] - 6s 209us/step - loss: 0.2224 - accuracy: 0.6155 - val_loss: 0.2242 - val_accuracy: 0.6109\n",
      "Epoch 12/250\n",
      "30101/30101 [==============================] - 6s 210us/step - loss: 0.2206 - accuracy: 0.6196 - val_loss: 0.2217 - val_accuracy: 0.6202\n",
      "Epoch 13/250\n",
      "30101/30101 [==============================] - 6s 209us/step - loss: 0.2174 - accuracy: 0.6354 - val_loss: 0.2295 - val_accuracy: 0.6301\n",
      "Epoch 14/250\n",
      "30101/30101 [==============================] - 6s 210us/step - loss: 0.2119 - accuracy: 0.6520 - val_loss: 0.2287 - val_accuracy: 0.6296\n",
      "Epoch 15/250\n",
      "30101/30101 [==============================] - 6s 209us/step - loss: 0.2064 - accuracy: 0.6665 - val_loss: 0.2149 - val_accuracy: 0.6492\n",
      "Epoch 16/250\n",
      "30101/30101 [==============================] - 6s 210us/step - loss: 0.2017 - accuracy: 0.6791 - val_loss: 0.2157 - val_accuracy: 0.6450\n",
      "Epoch 17/250\n",
      "30101/30101 [==============================] - 6s 210us/step - loss: 0.1961 - accuracy: 0.6928 - val_loss: 0.2172 - val_accuracy: 0.6583\n",
      "Epoch 18/250\n",
      "30101/30101 [==============================] - 6s 212us/step - loss: 0.1889 - accuracy: 0.7087 - val_loss: 0.2178 - val_accuracy: 0.6569\n",
      "Epoch 19/250\n",
      "30101/30101 [==============================] - 6s 210us/step - loss: 0.1815 - accuracy: 0.7230 - val_loss: 0.2201 - val_accuracy: 0.6564\n",
      "Epoch 20/250\n",
      "30101/30101 [==============================] - 6s 208us/step - loss: 0.1731 - accuracy: 0.7413 - val_loss: 0.2232 - val_accuracy: 0.6505\n",
      "Epoch 21/250\n",
      "30101/30101 [==============================] - 6s 211us/step - loss: 0.1638 - accuracy: 0.7602 - val_loss: 0.2235 - val_accuracy: 0.6394\n",
      "Epoch 22/250\n",
      "30101/30101 [==============================] - 6s 209us/step - loss: 0.1535 - accuracy: 0.7780 - val_loss: 0.2293 - val_accuracy: 0.6495\n",
      "Epoch 23/250\n",
      "30101/30101 [==============================] - 6s 209us/step - loss: 0.1408 - accuracy: 0.8001 - val_loss: 0.2382 - val_accuracy: 0.6301\n",
      "Epoch 24/250\n",
      "30101/30101 [==============================] - 6s 209us/step - loss: 0.1327 - accuracy: 0.8125 - val_loss: 0.2526 - val_accuracy: 0.6250\n",
      "Epoch 25/250\n",
      "30101/30101 [==============================] - 6s 210us/step - loss: 0.1232 - accuracy: 0.8283 - val_loss: 0.2506 - val_accuracy: 0.6274\n",
      "Epoch 26/250\n",
      "30101/30101 [==============================] - 6s 210us/step - loss: 0.1108 - accuracy: 0.8496 - val_loss: 0.2649 - val_accuracy: 0.6290\n",
      "Epoch 27/250\n",
      "30101/30101 [==============================] - 6s 209us/step - loss: 0.1011 - accuracy: 0.8629 - val_loss: 0.2574 - val_accuracy: 0.6306\n",
      "Epoch 28/250\n",
      "30101/30101 [==============================] - 6s 209us/step - loss: 0.0930 - accuracy: 0.8778 - val_loss: 0.2893 - val_accuracy: 0.6115\n",
      "Epoch 29/250\n",
      "30101/30101 [==============================] - 6s 209us/step - loss: 0.0868 - accuracy: 0.8847 - val_loss: 0.2790 - val_accuracy: 0.6221\n",
      "Epoch 30/250\n",
      "30101/30101 [==============================] - 6s 208us/step - loss: 0.0793 - accuracy: 0.8948 - val_loss: 0.2890 - val_accuracy: 0.6221\n",
      "Epoch 31/250\n",
      "30101/30101 [==============================] - 6s 211us/step - loss: 0.0736 - accuracy: 0.9021 - val_loss: 0.3051 - val_accuracy: 0.6139\n",
      "Epoch 32/250\n",
      "30101/30101 [==============================] - 6s 209us/step - loss: 0.0703 - accuracy: 0.9077 - val_loss: 0.2788 - val_accuracy: 0.6240\n",
      "Epoch 33/250\n",
      "30101/30101 [==============================] - 6s 209us/step - loss: 0.0658 - accuracy: 0.9144 - val_loss: 0.2790 - val_accuracy: 0.6288\n",
      "Epoch 34/250\n",
      "30101/30101 [==============================] - 6s 210us/step - loss: 0.0617 - accuracy: 0.9183 - val_loss: 0.2987 - val_accuracy: 0.6264\n",
      "Epoch 35/250\n",
      "30101/30101 [==============================] - 6s 209us/step - loss: 0.0573 - accuracy: 0.9258 - val_loss: 0.2997 - val_accuracy: 0.6280\n",
      "Epoch 36/250\n",
      "30101/30101 [==============================] - 6s 210us/step - loss: 0.0545 - accuracy: 0.9304 - val_loss: 0.3045 - val_accuracy: 0.6301\n",
      "Epoch 37/250\n",
      "30101/30101 [==============================] - 6s 209us/step - loss: 0.0535 - accuracy: 0.9313 - val_loss: 0.2884 - val_accuracy: 0.6359\n",
      "Epoch 38/250\n",
      "30101/30101 [==============================] - 6s 210us/step - loss: 0.0501 - accuracy: 0.9362 - val_loss: 0.2965 - val_accuracy: 0.6301\n",
      "Epoch 39/250\n",
      "30101/30101 [==============================] - 6s 210us/step - loss: 0.0485 - accuracy: 0.9382 - val_loss: 0.3020 - val_accuracy: 0.6280\n",
      "Epoch 40/250\n",
      "30101/30101 [==============================] - 6s 210us/step - loss: 0.0470 - accuracy: 0.9392 - val_loss: 0.3069 - val_accuracy: 0.6258\n",
      "Epoch 41/250\n",
      "30101/30101 [==============================] - 6s 211us/step - loss: 0.0437 - accuracy: 0.9451 - val_loss: 0.3092 - val_accuracy: 0.6256\n",
      "Epoch 42/250\n",
      "30101/30101 [==============================] - 6s 209us/step - loss: 0.0418 - accuracy: 0.9467 - val_loss: 0.3095 - val_accuracy: 0.6250\n",
      "Epoch 43/250\n",
      "30101/30101 [==============================] - 6s 210us/step - loss: 0.0410 - accuracy: 0.9463 - val_loss: 0.2930 - val_accuracy: 0.6280\n",
      "Epoch 44/250\n",
      "30101/30101 [==============================] - 6s 209us/step - loss: 0.0402 - accuracy: 0.9491 - val_loss: 0.2976 - val_accuracy: 0.6375\n",
      "Epoch 45/250\n",
      "30101/30101 [==============================] - 6s 210us/step - loss: 0.0386 - accuracy: 0.9504 - val_loss: 0.2875 - val_accuracy: 0.6399\n",
      "Epoch 46/250\n",
      "30101/30101 [==============================] - 6s 209us/step - loss: 0.0355 - accuracy: 0.9555 - val_loss: 0.3032 - val_accuracy: 0.6314\n",
      "Epoch 47/250\n",
      "30101/30101 [==============================] - 6s 210us/step - loss: 0.0351 - accuracy: 0.9554 - val_loss: 0.3078 - val_accuracy: 0.6333\n",
      "Epoch 48/250\n",
      "30101/30101 [==============================] - 6s 209us/step - loss: 0.0351 - accuracy: 0.9552 - val_loss: 0.2993 - val_accuracy: 0.6163\n",
      "Epoch 49/250\n",
      "30101/30101 [==============================] - 6s 210us/step - loss: 0.0337 - accuracy: 0.9573 - val_loss: 0.3181 - val_accuracy: 0.6210\n",
      "Epoch 50/250\n",
      "30101/30101 [==============================] - 6s 209us/step - loss: 0.0332 - accuracy: 0.9567 - val_loss: 0.3171 - val_accuracy: 0.6264\n",
      "Epoch 51/250\n",
      "30101/30101 [==============================] - 6s 209us/step - loss: 0.0319 - accuracy: 0.9595 - val_loss: 0.3044 - val_accuracy: 0.6240\n",
      "Epoch 52/250\n",
      "30101/30101 [==============================] - 6s 209us/step - loss: 0.0307 - accuracy: 0.9607 - val_loss: 0.3175 - val_accuracy: 0.6277\n",
      "Epoch 53/250\n",
      "30101/30101 [==============================] - 6s 210us/step - loss: 0.0309 - accuracy: 0.9613 - val_loss: 0.3224 - val_accuracy: 0.6232\n",
      "Epoch 54/250\n",
      "30101/30101 [==============================] - 6s 210us/step - loss: 0.0299 - accuracy: 0.9615 - val_loss: 0.3245 - val_accuracy: 0.6181\n",
      "Epoch 55/250\n",
      "30101/30101 [==============================] - 6s 210us/step - loss: 0.0287 - accuracy: 0.9639 - val_loss: 0.3085 - val_accuracy: 0.6253\n",
      "Epoch 56/250\n",
      "30101/30101 [==============================] - 6s 209us/step - loss: 0.0289 - accuracy: 0.9629 - val_loss: 0.3067 - val_accuracy: 0.6272\n",
      "Epoch 57/250\n",
      "30101/30101 [==============================] - 6s 210us/step - loss: 0.0278 - accuracy: 0.9656 - val_loss: 0.3249 - val_accuracy: 0.6266\n",
      "Epoch 58/250\n",
      "30101/30101 [==============================] - 6s 209us/step - loss: 0.0262 - accuracy: 0.9668 - val_loss: 0.3100 - val_accuracy: 0.6274\n",
      "Epoch 59/250\n",
      "30101/30101 [==============================] - 6s 207us/step - loss: 0.0275 - accuracy: 0.9655 - val_loss: 0.3085 - val_accuracy: 0.6309\n",
      "Epoch 60/250\n",
      "30101/30101 [==============================] - 6s 209us/step - loss: 0.0267 - accuracy: 0.9659 - val_loss: 0.3270 - val_accuracy: 0.6115\n",
      "Epoch 61/250\n",
      "30101/30101 [==============================] - 6s 209us/step - loss: 0.0260 - accuracy: 0.9670 - val_loss: 0.3140 - val_accuracy: 0.6256\n",
      "Epoch 62/250\n",
      "30101/30101 [==============================] - 6s 210us/step - loss: 0.0248 - accuracy: 0.9689 - val_loss: 0.3276 - val_accuracy: 0.6192\n",
      "Epoch 63/250\n",
      "30101/30101 [==============================] - 6s 210us/step - loss: 0.0240 - accuracy: 0.9696 - val_loss: 0.3282 - val_accuracy: 0.6165\n",
      "Epoch 64/250\n",
      "30101/30101 [==============================] - 6s 209us/step - loss: 0.0237 - accuracy: 0.9703 - val_loss: 0.3271 - val_accuracy: 0.6301\n",
      "Epoch 65/250\n",
      "30101/30101 [==============================] - 6s 210us/step - loss: 0.0240 - accuracy: 0.9692 - val_loss: 0.3083 - val_accuracy: 0.6277\n",
      "Epoch 66/250\n",
      "30101/30101 [==============================] - 6s 212us/step - loss: 0.0227 - accuracy: 0.9709 - val_loss: 0.3223 - val_accuracy: 0.6176\n",
      "Epoch 67/250\n",
      "30101/30101 [==============================] - 6s 209us/step - loss: 0.0227 - accuracy: 0.9707 - val_loss: 0.3215 - val_accuracy: 0.6256\n",
      "Epoch 68/250\n",
      "30101/30101 [==============================] - 6s 209us/step - loss: 0.0208 - accuracy: 0.9738 - val_loss: 0.3279 - val_accuracy: 0.6163\n",
      "Epoch 69/250\n",
      "30101/30101 [==============================] - 6s 210us/step - loss: 0.0204 - accuracy: 0.9743 - val_loss: 0.3251 - val_accuracy: 0.6242\n",
      "Epoch 70/250\n",
      "30101/30101 [==============================] - 6s 210us/step - loss: 0.0219 - accuracy: 0.9719 - val_loss: 0.3151 - val_accuracy: 0.6253\n",
      "Epoch 71/250\n",
      "30101/30101 [==============================] - 6s 210us/step - loss: 0.0204 - accuracy: 0.9742 - val_loss: 0.3209 - val_accuracy: 0.6213\n",
      "Epoch 72/250\n",
      "30101/30101 [==============================] - 6s 210us/step - loss: 0.0214 - accuracy: 0.9738 - val_loss: 0.3102 - val_accuracy: 0.6362\n",
      "Epoch 73/250\n",
      "30101/30101 [==============================] - 6s 210us/step - loss: 0.0198 - accuracy: 0.9750 - val_loss: 0.3223 - val_accuracy: 0.6272\n",
      "Epoch 74/250\n",
      "30101/30101 [==============================] - 6s 210us/step - loss: 0.0199 - accuracy: 0.9747 - val_loss: 0.3143 - val_accuracy: 0.6317\n",
      "Epoch 75/250\n",
      "30101/30101 [==============================] - 6s 209us/step - loss: 0.0208 - accuracy: 0.9740 - val_loss: 0.3229 - val_accuracy: 0.6216\n",
      "Epoch 76/250\n",
      "30101/30101 [==============================] - 6s 208us/step - loss: 0.0192 - accuracy: 0.9759 - val_loss: 0.3273 - val_accuracy: 0.6184\n",
      "Epoch 77/250\n",
      "30101/30101 [==============================] - 6s 209us/step - loss: 0.0183 - accuracy: 0.9767 - val_loss: 0.3291 - val_accuracy: 0.6171\n",
      "Epoch 78/250\n",
      "30101/30101 [==============================] - 6s 210us/step - loss: 0.0178 - accuracy: 0.9786 - val_loss: 0.3198 - val_accuracy: 0.6274\n",
      "Epoch 79/250\n",
      "30101/30101 [==============================] - 6s 209us/step - loss: 0.0183 - accuracy: 0.9770 - val_loss: 0.3324 - val_accuracy: 0.6149\n",
      "Epoch 80/250\n",
      "30101/30101 [==============================] - 6s 210us/step - loss: 0.0179 - accuracy: 0.9774 - val_loss: 0.3219 - val_accuracy: 0.6285\n",
      "Epoch 81/250\n",
      "30101/30101 [==============================] - 6s 208us/step - loss: 0.0189 - accuracy: 0.9760 - val_loss: 0.3150 - val_accuracy: 0.6280\n",
      "Epoch 82/250\n",
      "30101/30101 [==============================] - 6s 209us/step - loss: 0.0186 - accuracy: 0.9767 - val_loss: 0.3117 - val_accuracy: 0.6351\n",
      "Epoch 83/250\n",
      "30101/30101 [==============================] - 6s 210us/step - loss: 0.0174 - accuracy: 0.9785 - val_loss: 0.3117 - val_accuracy: 0.6357\n",
      "Epoch 84/250\n",
      "30101/30101 [==============================] - 6s 209us/step - loss: 0.0178 - accuracy: 0.9778 - val_loss: 0.3162 - val_accuracy: 0.6349\n",
      "Epoch 85/250\n",
      "30101/30101 [==============================] - 6s 211us/step - loss: 0.0187 - accuracy: 0.9766 - val_loss: 0.3193 - val_accuracy: 0.6311\n",
      "Epoch 86/250\n",
      "30101/30101 [==============================] - 6s 210us/step - loss: 0.0170 - accuracy: 0.9781 - val_loss: 0.3371 - val_accuracy: 0.6216\n",
      "Epoch 87/250\n",
      "30101/30101 [==============================] - 6s 209us/step - loss: 0.0167 - accuracy: 0.9794 - val_loss: 0.3227 - val_accuracy: 0.6311\n",
      "Epoch 88/250\n",
      "30101/30101 [==============================] - 6s 209us/step - loss: 0.0165 - accuracy: 0.9799 - val_loss: 0.3241 - val_accuracy: 0.6245\n",
      "Epoch 89/250\n",
      "30101/30101 [==============================] - 6s 208us/step - loss: 0.0150 - accuracy: 0.9813 - val_loss: 0.3051 - val_accuracy: 0.6319\n",
      "Epoch 90/250\n",
      "30101/30101 [==============================] - 6s 210us/step - loss: 0.0164 - accuracy: 0.9794 - val_loss: 0.3252 - val_accuracy: 0.6226\n",
      "Epoch 91/250\n",
      "30101/30101 [==============================] - 6s 209us/step - loss: 0.0156 - accuracy: 0.9803 - val_loss: 0.3216 - val_accuracy: 0.6242\n",
      "Epoch 92/250\n",
      "30101/30101 [==============================] - 6s 210us/step - loss: 0.0154 - accuracy: 0.9807 - val_loss: 0.3288 - val_accuracy: 0.6250\n",
      "Epoch 93/250\n",
      "30101/30101 [==============================] - 6s 210us/step - loss: 0.0155 - accuracy: 0.9807 - val_loss: 0.3175 - val_accuracy: 0.6325\n",
      "Epoch 94/250\n",
      "30101/30101 [==============================] - 6s 210us/step - loss: 0.0155 - accuracy: 0.9809 - val_loss: 0.3300 - val_accuracy: 0.6152\n",
      "Epoch 95/250\n",
      "30101/30101 [==============================] - 6s 209us/step - loss: 0.0138 - accuracy: 0.9835 - val_loss: 0.3293 - val_accuracy: 0.6157\n",
      "Epoch 96/250\n",
      "30101/30101 [==============================] - 6s 210us/step - loss: 0.0158 - accuracy: 0.9799 - val_loss: 0.3173 - val_accuracy: 0.6245\n",
      "Epoch 97/250\n",
      "30101/30101 [==============================] - 6s 210us/step - loss: 0.0139 - accuracy: 0.9827 - val_loss: 0.3220 - val_accuracy: 0.6280\n",
      "Epoch 98/250\n",
      "30101/30101 [==============================] - 6s 210us/step - loss: 0.0157 - accuracy: 0.9800 - val_loss: 0.3340 - val_accuracy: 0.6136\n",
      "Epoch 99/250\n",
      "30101/30101 [==============================] - 6s 209us/step - loss: 0.0144 - accuracy: 0.9811 - val_loss: 0.3264 - val_accuracy: 0.6256\n",
      "Epoch 100/250\n",
      "30101/30101 [==============================] - 6s 209us/step - loss: 0.0147 - accuracy: 0.9815 - val_loss: 0.3264 - val_accuracy: 0.6266\n",
      "Epoch 101/250\n",
      "30101/30101 [==============================] - 6s 210us/step - loss: 0.0141 - accuracy: 0.9824 - val_loss: 0.3329 - val_accuracy: 0.6280\n",
      "Epoch 102/250\n",
      "30101/30101 [==============================] - 6s 210us/step - loss: 0.0126 - accuracy: 0.9839 - val_loss: 0.3347 - val_accuracy: 0.6168\n",
      "Epoch 103/250\n",
      "30101/30101 [==============================] - 6s 210us/step - loss: 0.0137 - accuracy: 0.9826 - val_loss: 0.3246 - val_accuracy: 0.6346\n",
      "Epoch 104/250\n",
      "30101/30101 [==============================] - 6s 210us/step - loss: 0.0132 - accuracy: 0.9840 - val_loss: 0.3257 - val_accuracy: 0.6277\n",
      "Epoch 105/250\n",
      "30101/30101 [==============================] - 6s 208us/step - loss: 0.0138 - accuracy: 0.9828 - val_loss: 0.3100 - val_accuracy: 0.6309\n",
      "Epoch 106/250\n",
      "30101/30101 [==============================] - 6s 209us/step - loss: 0.0136 - accuracy: 0.9821 - val_loss: 0.3223 - val_accuracy: 0.6293\n",
      "Epoch 107/250\n",
      "30101/30101 [==============================] - 6s 209us/step - loss: 0.0136 - accuracy: 0.9827 - val_loss: 0.3264 - val_accuracy: 0.6200\n",
      "Epoch 108/250\n",
      "30101/30101 [==============================] - 6s 209us/step - loss: 0.0123 - accuracy: 0.9846 - val_loss: 0.3260 - val_accuracy: 0.6237\n",
      "Epoch 109/250\n"
     ]
    },
    {
     "name": "stdout",
     "output_type": "stream",
     "text": [
      "30101/30101 [==============================] - 6s 209us/step - loss: 0.0133 - accuracy: 0.9829 - val_loss: 0.3305 - val_accuracy: 0.6269\n",
      "Epoch 110/250\n",
      "30101/30101 [==============================] - 6s 209us/step - loss: 0.0127 - accuracy: 0.9841 - val_loss: 0.3128 - val_accuracy: 0.6354\n",
      "Epoch 111/250\n",
      "30101/30101 [==============================] - 6s 209us/step - loss: 0.0132 - accuracy: 0.9829 - val_loss: 0.3189 - val_accuracy: 0.6362\n",
      "Epoch 112/250\n",
      "30101/30101 [==============================] - 6s 210us/step - loss: 0.0126 - accuracy: 0.9844 - val_loss: 0.3247 - val_accuracy: 0.6250\n",
      "Epoch 113/250\n",
      "30101/30101 [==============================] - 6s 208us/step - loss: 0.0130 - accuracy: 0.9845 - val_loss: 0.3228 - val_accuracy: 0.6261\n",
      "Epoch 114/250\n",
      "30101/30101 [==============================] - 6s 210us/step - loss: 0.0138 - accuracy: 0.9830 - val_loss: 0.3203 - val_accuracy: 0.6285\n",
      "Epoch 115/250\n",
      "30101/30101 [==============================] - 6s 210us/step - loss: 0.0129 - accuracy: 0.9844 - val_loss: 0.3235 - val_accuracy: 0.6258\n",
      "Epoch 116/250\n",
      "30101/30101 [==============================] - 6s 210us/step - loss: 0.0111 - accuracy: 0.9858 - val_loss: 0.3256 - val_accuracy: 0.6293\n",
      "Epoch 117/250\n",
      "30101/30101 [==============================] - 6s 209us/step - loss: 0.0110 - accuracy: 0.9867 - val_loss: 0.3330 - val_accuracy: 0.6248\n",
      "Epoch 118/250\n",
      "30101/30101 [==============================] - 6s 210us/step - loss: 0.0122 - accuracy: 0.9849 - val_loss: 0.3252 - val_accuracy: 0.6192\n",
      "Epoch 119/250\n",
      "30101/30101 [==============================] - 6s 210us/step - loss: 0.0132 - accuracy: 0.9837 - val_loss: 0.3332 - val_accuracy: 0.6248\n",
      "Epoch 120/250\n",
      "30101/30101 [==============================] - 6s 210us/step - loss: 0.0113 - accuracy: 0.9855 - val_loss: 0.3322 - val_accuracy: 0.6256\n",
      "Epoch 121/250\n",
      "30101/30101 [==============================] - 6s 209us/step - loss: 0.0116 - accuracy: 0.9858 - val_loss: 0.3316 - val_accuracy: 0.6274\n",
      "Epoch 122/250\n",
      "30101/30101 [==============================] - 6s 209us/step - loss: 0.0115 - accuracy: 0.9859 - val_loss: 0.3361 - val_accuracy: 0.6205\n",
      "Epoch 123/250\n",
      "30101/30101 [==============================] - 6s 210us/step - loss: 0.0121 - accuracy: 0.9846 - val_loss: 0.3258 - val_accuracy: 0.6330\n",
      "Epoch 124/250\n",
      "30101/30101 [==============================] - 6s 210us/step - loss: 0.0113 - accuracy: 0.9865 - val_loss: 0.3262 - val_accuracy: 0.6261\n",
      "Epoch 125/250\n",
      "30101/30101 [==============================] - 6s 210us/step - loss: 0.0111 - accuracy: 0.9862 - val_loss: 0.3303 - val_accuracy: 0.6258\n",
      "Epoch 126/250\n",
      "30101/30101 [==============================] - 6s 208us/step - loss: 0.0118 - accuracy: 0.9851 - val_loss: 0.3366 - val_accuracy: 0.6202\n",
      "Epoch 127/250\n",
      "30101/30101 [==============================] - 6s 210us/step - loss: 0.0109 - accuracy: 0.9865 - val_loss: 0.3398 - val_accuracy: 0.6181\n",
      "Epoch 128/250\n",
      "30101/30101 [==============================] - 6s 210us/step - loss: 0.0108 - accuracy: 0.9864 - val_loss: 0.3348 - val_accuracy: 0.6200\n",
      "Epoch 129/250\n",
      "30101/30101 [==============================] - 6s 209us/step - loss: 0.0116 - accuracy: 0.9859 - val_loss: 0.3309 - val_accuracy: 0.6192\n",
      "Epoch 130/250\n",
      "30101/30101 [==============================] - 6s 209us/step - loss: 0.0103 - accuracy: 0.9870 - val_loss: 0.3304 - val_accuracy: 0.6208\n",
      "Epoch 131/250\n",
      "30101/30101 [==============================] - 6s 210us/step - loss: 0.0101 - accuracy: 0.9872 - val_loss: 0.3141 - val_accuracy: 0.6269\n",
      "Epoch 132/250\n",
      "30101/30101 [==============================] - 6s 210us/step - loss: 0.0108 - accuracy: 0.9863 - val_loss: 0.3396 - val_accuracy: 0.6269\n",
      "Epoch 133/250\n",
      "30101/30101 [==============================] - 6s 210us/step - loss: 0.0103 - accuracy: 0.9876 - val_loss: 0.3415 - val_accuracy: 0.6221\n",
      "Epoch 134/250\n",
      "30101/30101 [==============================] - 6s 211us/step - loss: 0.0109 - accuracy: 0.9862 - val_loss: 0.3271 - val_accuracy: 0.6248\n",
      "Epoch 135/250\n",
      "30101/30101 [==============================] - 6s 212us/step - loss: 0.0102 - accuracy: 0.9873 - val_loss: 0.3366 - val_accuracy: 0.6226\n",
      "Epoch 136/250\n",
      "30101/30101 [==============================] - 6s 209us/step - loss: 0.0112 - accuracy: 0.9867 - val_loss: 0.3335 - val_accuracy: 0.6245\n",
      "Epoch 137/250\n",
      "30101/30101 [==============================] - 6s 208us/step - loss: 0.0104 - accuracy: 0.9867 - val_loss: 0.3236 - val_accuracy: 0.6298\n",
      "Epoch 138/250\n",
      "30101/30101 [==============================] - 6s 210us/step - loss: 0.0109 - accuracy: 0.9871 - val_loss: 0.3383 - val_accuracy: 0.6184\n",
      "Epoch 139/250\n",
      "30101/30101 [==============================] - 6s 208us/step - loss: 0.0109 - accuracy: 0.9862 - val_loss: 0.3332 - val_accuracy: 0.6285\n",
      "Epoch 140/250\n",
      "30101/30101 [==============================] - 6s 211us/step - loss: 0.0123 - accuracy: 0.9848 - val_loss: 0.3392 - val_accuracy: 0.6245\n",
      "Epoch 141/250\n",
      "30101/30101 [==============================] - 6s 210us/step - loss: 0.0109 - accuracy: 0.9865 - val_loss: 0.3260 - val_accuracy: 0.6242\n",
      "Epoch 142/250\n",
      "30101/30101 [==============================] - 6s 211us/step - loss: 0.0112 - accuracy: 0.9861 - val_loss: 0.3390 - val_accuracy: 0.6266\n",
      "Epoch 143/250\n",
      "30101/30101 [==============================] - 6s 210us/step - loss: 0.0112 - accuracy: 0.9858 - val_loss: 0.3520 - val_accuracy: 0.6083\n",
      "Epoch 144/250\n",
      "30101/30101 [==============================] - 6s 209us/step - loss: 0.0106 - accuracy: 0.9871 - val_loss: 0.3429 - val_accuracy: 0.6168\n",
      "Epoch 145/250\n",
      "30101/30101 [==============================] - 6s 210us/step - loss: 0.0106 - accuracy: 0.9871 - val_loss: 0.3330 - val_accuracy: 0.6248\n",
      "Epoch 146/250\n",
      "30101/30101 [==============================] - 6s 209us/step - loss: 0.0106 - accuracy: 0.9871 - val_loss: 0.3262 - val_accuracy: 0.6234\n",
      "Epoch 147/250\n",
      "30101/30101 [==============================] - 6s 209us/step - loss: 0.0096 - accuracy: 0.9880 - val_loss: 0.3393 - val_accuracy: 0.6240\n",
      "Epoch 148/250\n",
      "30101/30101 [==============================] - 6s 210us/step - loss: 0.0112 - accuracy: 0.9862 - val_loss: 0.3376 - val_accuracy: 0.6245\n",
      "Epoch 149/250\n",
      "30101/30101 [==============================] - 6s 210us/step - loss: 0.0100 - accuracy: 0.9874 - val_loss: 0.3370 - val_accuracy: 0.6197\n",
      "Epoch 150/250\n",
      "30101/30101 [==============================] - 6s 210us/step - loss: 0.0110 - accuracy: 0.9869 - val_loss: 0.3498 - val_accuracy: 0.6149\n",
      "Epoch 151/250\n",
      "30101/30101 [==============================] - 6s 210us/step - loss: 0.0090 - accuracy: 0.9891 - val_loss: 0.3371 - val_accuracy: 0.6128\n",
      "Epoch 152/250\n",
      "30101/30101 [==============================] - 6s 209us/step - loss: 0.0100 - accuracy: 0.9877 - val_loss: 0.3511 - val_accuracy: 0.6022\n",
      "Epoch 153/250\n",
      "30101/30101 [==============================] - 6s 210us/step - loss: 0.0103 - accuracy: 0.9871 - val_loss: 0.3352 - val_accuracy: 0.6197\n",
      "Epoch 154/250\n",
      "30101/30101 [==============================] - 6s 210us/step - loss: 0.0102 - accuracy: 0.9871 - val_loss: 0.3389 - val_accuracy: 0.6147\n",
      "Epoch 155/250\n",
      "30101/30101 [==============================] - 6s 210us/step - loss: 0.0096 - accuracy: 0.9882 - val_loss: 0.3451 - val_accuracy: 0.6168\n",
      "Epoch 156/250\n",
      "30101/30101 [==============================] - 6s 210us/step - loss: 0.0090 - accuracy: 0.9885 - val_loss: 0.3367 - val_accuracy: 0.6264\n",
      "Epoch 157/250\n",
      "30101/30101 [==============================] - 6s 209us/step - loss: 0.0095 - accuracy: 0.9886 - val_loss: 0.3360 - val_accuracy: 0.6208\n",
      "Epoch 158/250\n",
      "30101/30101 [==============================] - 6s 210us/step - loss: 0.0094 - accuracy: 0.9885 - val_loss: 0.3389 - val_accuracy: 0.6208\n",
      "Epoch 159/250\n",
      "30101/30101 [==============================] - 6s 210us/step - loss: 0.0092 - accuracy: 0.9882 - val_loss: 0.3258 - val_accuracy: 0.6266\n",
      "Epoch 160/250\n",
      "30101/30101 [==============================] - 6s 209us/step - loss: 0.0087 - accuracy: 0.9888 - val_loss: 0.3341 - val_accuracy: 0.6261\n",
      "Epoch 161/250\n",
      "30101/30101 [==============================] - 6s 210us/step - loss: 0.0099 - accuracy: 0.9878 - val_loss: 0.3360 - val_accuracy: 0.6258\n",
      "Epoch 162/250\n",
      "30101/30101 [==============================] - 6s 210us/step - loss: 0.0089 - accuracy: 0.9889 - val_loss: 0.3303 - val_accuracy: 0.6192\n",
      "Epoch 163/250\n",
      "30101/30101 [==============================] - 6s 208us/step - loss: 0.0089 - accuracy: 0.9890 - val_loss: 0.3311 - val_accuracy: 0.6253\n",
      "Epoch 164/250\n",
      "30101/30101 [==============================] - 6s 210us/step - loss: 0.0093 - accuracy: 0.9888 - val_loss: 0.3271 - val_accuracy: 0.6288\n",
      "Epoch 165/250\n",
      "30101/30101 [==============================] - 6s 210us/step - loss: 0.0087 - accuracy: 0.9892 - val_loss: 0.3458 - val_accuracy: 0.6123\n",
      "Epoch 166/250\n",
      "30101/30101 [==============================] - 6s 212us/step - loss: 0.0085 - accuracy: 0.9890 - val_loss: 0.3532 - val_accuracy: 0.6179\n",
      "Epoch 167/250\n",
      "30101/30101 [==============================] - 6s 210us/step - loss: 0.0095 - accuracy: 0.9884 - val_loss: 0.3449 - val_accuracy: 0.6224\n",
      "Epoch 168/250\n",
      "30101/30101 [==============================] - 6s 210us/step - loss: 0.0095 - accuracy: 0.9887 - val_loss: 0.3311 - val_accuracy: 0.6266\n",
      "Epoch 169/250\n",
      "30101/30101 [==============================] - 6s 209us/step - loss: 0.0093 - accuracy: 0.9884 - val_loss: 0.3342 - val_accuracy: 0.6216\n",
      "Epoch 170/250\n",
      "30101/30101 [==============================] - 6s 210us/step - loss: 0.0091 - accuracy: 0.9886 - val_loss: 0.3341 - val_accuracy: 0.6210\n",
      "Epoch 171/250\n",
      "30101/30101 [==============================] - 6s 209us/step - loss: 0.0099 - accuracy: 0.9880 - val_loss: 0.3448 - val_accuracy: 0.6189\n",
      "Epoch 172/250\n",
      "30101/30101 [==============================] - 6s 210us/step - loss: 0.0093 - accuracy: 0.9886 - val_loss: 0.3389 - val_accuracy: 0.6224\n",
      "Epoch 173/250\n",
      "30101/30101 [==============================] - 6s 212us/step - loss: 0.0094 - accuracy: 0.9884 - val_loss: 0.3384 - val_accuracy: 0.6226\n",
      "Epoch 174/250\n",
      "30101/30101 [==============================] - 6s 210us/step - loss: 0.0104 - accuracy: 0.9867 - val_loss: 0.3350 - val_accuracy: 0.6234\n",
      "Epoch 175/250\n",
      "30101/30101 [==============================] - 6s 209us/step - loss: 0.0085 - accuracy: 0.9897 - val_loss: 0.3418 - val_accuracy: 0.6202\n",
      "Epoch 176/250\n",
      "30101/30101 [==============================] - 6s 210us/step - loss: 0.0095 - accuracy: 0.9878 - val_loss: 0.3328 - val_accuracy: 0.6277\n",
      "Epoch 177/250\n",
      "30101/30101 [==============================] - 6s 210us/step - loss: 0.0086 - accuracy: 0.9891 - val_loss: 0.3283 - val_accuracy: 0.6327\n",
      "Epoch 178/250\n",
      "30101/30101 [==============================] - 6s 210us/step - loss: 0.0090 - accuracy: 0.9886 - val_loss: 0.3297 - val_accuracy: 0.6290\n",
      "Epoch 179/250\n",
      "30101/30101 [==============================] - 6s 208us/step - loss: 0.0088 - accuracy: 0.9887 - val_loss: 0.3413 - val_accuracy: 0.6269\n",
      "Epoch 180/250\n",
      "30101/30101 [==============================] - 6s 208us/step - loss: 0.0081 - accuracy: 0.9897 - val_loss: 0.3242 - val_accuracy: 0.6309\n",
      "Epoch 181/250\n",
      "30101/30101 [==============================] - 6s 210us/step - loss: 0.0086 - accuracy: 0.9892 - val_loss: 0.3221 - val_accuracy: 0.6176\n",
      "Epoch 182/250\n",
      "30101/30101 [==============================] - 6s 210us/step - loss: 0.0093 - accuracy: 0.9882 - val_loss: 0.3268 - val_accuracy: 0.6242\n",
      "Epoch 183/250\n",
      "30101/30101 [==============================] - 6s 211us/step - loss: 0.0084 - accuracy: 0.9895 - val_loss: 0.3247 - val_accuracy: 0.6351\n",
      "Epoch 184/250\n",
      "30101/30101 [==============================] - 6s 209us/step - loss: 0.0080 - accuracy: 0.9898 - val_loss: 0.3367 - val_accuracy: 0.6221\n",
      "Epoch 185/250\n",
      "30101/30101 [==============================] - 6s 210us/step - loss: 0.0083 - accuracy: 0.9898 - val_loss: 0.3366 - val_accuracy: 0.6282\n",
      "Epoch 186/250\n",
      "30101/30101 [==============================] - 6s 210us/step - loss: 0.0078 - accuracy: 0.9905 - val_loss: 0.3331 - val_accuracy: 0.6208\n",
      "Epoch 187/250\n",
      "30101/30101 [==============================] - 6s 209us/step - loss: 0.0075 - accuracy: 0.9906 - val_loss: 0.3293 - val_accuracy: 0.6277\n",
      "Epoch 188/250\n",
      "30101/30101 [==============================] - 6s 210us/step - loss: 0.0077 - accuracy: 0.9905 - val_loss: 0.3466 - val_accuracy: 0.6163\n",
      "Epoch 189/250\n",
      "30101/30101 [==============================] - 6s 210us/step - loss: 0.0080 - accuracy: 0.9898 - val_loss: 0.3437 - val_accuracy: 0.6245\n",
      "Epoch 190/250\n",
      "30101/30101 [==============================] - 6s 209us/step - loss: 0.0083 - accuracy: 0.9900 - val_loss: 0.3410 - val_accuracy: 0.6229\n",
      "Epoch 191/250\n",
      "30101/30101 [==============================] - 6s 208us/step - loss: 0.0081 - accuracy: 0.9900 - val_loss: 0.3221 - val_accuracy: 0.6229\n",
      "Epoch 192/250\n",
      "30101/30101 [==============================] - 6s 211us/step - loss: 0.0074 - accuracy: 0.9911 - val_loss: 0.3292 - val_accuracy: 0.6261\n",
      "Epoch 193/250\n",
      "30101/30101 [==============================] - 6s 210us/step - loss: 0.0080 - accuracy: 0.9899 - val_loss: 0.3346 - val_accuracy: 0.6256\n",
      "Epoch 194/250\n",
      "30101/30101 [==============================] - 6s 209us/step - loss: 0.0080 - accuracy: 0.9902 - val_loss: 0.3307 - val_accuracy: 0.6202\n",
      "Epoch 195/250\n",
      "30101/30101 [==============================] - 6s 209us/step - loss: 0.0080 - accuracy: 0.9900 - val_loss: 0.3367 - val_accuracy: 0.6234\n",
      "Epoch 196/250\n",
      "30101/30101 [==============================] - 6s 209us/step - loss: 0.0067 - accuracy: 0.9919 - val_loss: 0.3408 - val_accuracy: 0.6202\n",
      "Epoch 197/250\n",
      "30101/30101 [==============================] - 6s 210us/step - loss: 0.0078 - accuracy: 0.9905 - val_loss: 0.3388 - val_accuracy: 0.6248\n",
      "Epoch 198/250\n",
      "30101/30101 [==============================] - 6s 210us/step - loss: 0.0078 - accuracy: 0.9905 - val_loss: 0.3415 - val_accuracy: 0.6187\n",
      "Epoch 199/250\n",
      "30101/30101 [==============================] - 6s 210us/step - loss: 0.0073 - accuracy: 0.9913 - val_loss: 0.3426 - val_accuracy: 0.6218\n",
      "Epoch 200/250\n",
      "30101/30101 [==============================] - 6s 210us/step - loss: 0.0064 - accuracy: 0.9918 - val_loss: 0.3411 - val_accuracy: 0.6173\n",
      "Epoch 201/250\n",
      "30101/30101 [==============================] - 6s 210us/step - loss: 0.0075 - accuracy: 0.9906 - val_loss: 0.3410 - val_accuracy: 0.6141\n",
      "Epoch 202/250\n",
      "30101/30101 [==============================] - 6s 210us/step - loss: 0.0078 - accuracy: 0.9906 - val_loss: 0.3451 - val_accuracy: 0.6086\n",
      "Epoch 203/250\n",
      "30101/30101 [==============================] - 6s 209us/step - loss: 0.0079 - accuracy: 0.9905 - val_loss: 0.3255 - val_accuracy: 0.6250\n",
      "Epoch 204/250\n",
      "30101/30101 [==============================] - 6s 210us/step - loss: 0.0077 - accuracy: 0.9901 - val_loss: 0.3255 - val_accuracy: 0.6248\n",
      "Epoch 205/250\n",
      "30101/30101 [==============================] - 6s 210us/step - loss: 0.0076 - accuracy: 0.9906 - val_loss: 0.3319 - val_accuracy: 0.6213\n",
      "Epoch 206/250\n",
      "30101/30101 [==============================] - 6s 211us/step - loss: 0.0074 - accuracy: 0.9908 - val_loss: 0.3312 - val_accuracy: 0.6202\n",
      "Epoch 207/250\n",
      "30101/30101 [==============================] - 6s 210us/step - loss: 0.0081 - accuracy: 0.9899 - val_loss: 0.3420 - val_accuracy: 0.6173\n",
      "Epoch 208/250\n",
      "30101/30101 [==============================] - 6s 209us/step - loss: 0.0068 - accuracy: 0.9912 - val_loss: 0.3322 - val_accuracy: 0.6210\n",
      "Epoch 209/250\n",
      "30101/30101 [==============================] - 6s 209us/step - loss: 0.0065 - accuracy: 0.9914 - val_loss: 0.3533 - val_accuracy: 0.6123\n",
      "Epoch 210/250\n",
      "30101/30101 [==============================] - 6s 209us/step - loss: 0.0068 - accuracy: 0.9914 - val_loss: 0.3398 - val_accuracy: 0.6197\n",
      "Epoch 211/250\n",
      "30101/30101 [==============================] - 6s 210us/step - loss: 0.0073 - accuracy: 0.9909 - val_loss: 0.3403 - val_accuracy: 0.6229\n",
      "Epoch 212/250\n",
      "30101/30101 [==============================] - 6s 209us/step - loss: 0.0065 - accuracy: 0.9918 - val_loss: 0.3479 - val_accuracy: 0.6144\n",
      "Epoch 213/250\n",
      "30101/30101 [==============================] - 6s 211us/step - loss: 0.0081 - accuracy: 0.9898 - val_loss: 0.3456 - val_accuracy: 0.6149\n",
      "Epoch 214/250\n",
      "30101/30101 [==============================] - 6s 210us/step - loss: 0.0075 - accuracy: 0.9902 - val_loss: 0.3330 - val_accuracy: 0.6200\n",
      "Epoch 215/250\n",
      "30101/30101 [==============================] - 6s 210us/step - loss: 0.0067 - accuracy: 0.9918 - val_loss: 0.3474 - val_accuracy: 0.6115\n",
      "Epoch 216/250\n",
      "30101/30101 [==============================] - 6s 210us/step - loss: 0.0076 - accuracy: 0.9908 - val_loss: 0.3436 - val_accuracy: 0.6109\n",
      "Epoch 217/250\n"
     ]
    },
    {
     "name": "stdout",
     "output_type": "stream",
     "text": [
      "30101/30101 [==============================] - 6s 211us/step - loss: 0.0064 - accuracy: 0.9921 - val_loss: 0.3319 - val_accuracy: 0.6189\n",
      "Epoch 218/250\n",
      "30101/30101 [==============================] - 6s 209us/step - loss: 0.0061 - accuracy: 0.9925 - val_loss: 0.3509 - val_accuracy: 0.6112\n",
      "Epoch 219/250\n",
      "30101/30101 [==============================] - 6s 210us/step - loss: 0.0064 - accuracy: 0.9920 - val_loss: 0.3486 - val_accuracy: 0.6136\n",
      "Epoch 220/250\n",
      "30101/30101 [==============================] - 6s 209us/step - loss: 0.0069 - accuracy: 0.9911 - val_loss: 0.3440 - val_accuracy: 0.6117\n",
      "Epoch 221/250\n",
      "30101/30101 [==============================] - 6s 210us/step - loss: 0.0064 - accuracy: 0.9919 - val_loss: 0.3361 - val_accuracy: 0.6197\n",
      "Epoch 222/250\n",
      "30101/30101 [==============================] - 6s 210us/step - loss: 0.0065 - accuracy: 0.9920 - val_loss: 0.3496 - val_accuracy: 0.6078\n",
      "Epoch 223/250\n",
      "30101/30101 [==============================] - 6s 209us/step - loss: 0.0073 - accuracy: 0.9911 - val_loss: 0.3364 - val_accuracy: 0.6224\n",
      "Epoch 224/250\n",
      "30101/30101 [==============================] - 6s 210us/step - loss: 0.0069 - accuracy: 0.9914 - val_loss: 0.3375 - val_accuracy: 0.6319\n",
      "Epoch 225/250\n",
      "30101/30101 [==============================] - 6s 208us/step - loss: 0.0076 - accuracy: 0.9901 - val_loss: 0.3410 - val_accuracy: 0.6205\n",
      "Epoch 226/250\n",
      "30101/30101 [==============================] - 6s 209us/step - loss: 0.0073 - accuracy: 0.9911 - val_loss: 0.3477 - val_accuracy: 0.6131\n",
      "Epoch 227/250\n",
      "30101/30101 [==============================] - 6s 209us/step - loss: 0.0081 - accuracy: 0.9904 - val_loss: 0.3418 - val_accuracy: 0.6163\n",
      "Epoch 228/250\n",
      "30101/30101 [==============================] - 6s 210us/step - loss: 0.0070 - accuracy: 0.9909 - val_loss: 0.3441 - val_accuracy: 0.6208\n",
      "Epoch 229/250\n",
      "30101/30101 [==============================] - 6s 209us/step - loss: 0.0070 - accuracy: 0.9916 - val_loss: 0.3460 - val_accuracy: 0.6160\n",
      "Epoch 230/250\n",
      "30101/30101 [==============================] - 6s 207us/step - loss: 0.0064 - accuracy: 0.9925 - val_loss: 0.3510 - val_accuracy: 0.6131\n",
      "Epoch 231/250\n",
      "30101/30101 [==============================] - 6s 210us/step - loss: 0.0068 - accuracy: 0.9917 - val_loss: 0.3467 - val_accuracy: 0.6112\n",
      "Epoch 232/250\n",
      "30101/30101 [==============================] - 6s 209us/step - loss: 0.0063 - accuracy: 0.9921 - val_loss: 0.3362 - val_accuracy: 0.6192\n",
      "Epoch 233/250\n",
      "30101/30101 [==============================] - 6s 210us/step - loss: 0.0067 - accuracy: 0.9913 - val_loss: 0.3540 - val_accuracy: 0.6115\n",
      "Epoch 234/250\n",
      "30101/30101 [==============================] - 6s 210us/step - loss: 0.0061 - accuracy: 0.9924 - val_loss: 0.3516 - val_accuracy: 0.6083\n",
      "Epoch 235/250\n",
      "30101/30101 [==============================] - 6s 210us/step - loss: 0.0070 - accuracy: 0.9915 - val_loss: 0.3345 - val_accuracy: 0.6192\n",
      "Epoch 236/250\n",
      "30101/30101 [==============================] - 6s 210us/step - loss: 0.0070 - accuracy: 0.9912 - val_loss: 0.3432 - val_accuracy: 0.6125\n",
      "Epoch 237/250\n",
      "30101/30101 [==============================] - 6s 210us/step - loss: 0.0058 - accuracy: 0.9926 - val_loss: 0.3461 - val_accuracy: 0.6102\n",
      "Epoch 238/250\n",
      "30101/30101 [==============================] - 6s 211us/step - loss: 0.0072 - accuracy: 0.9914 - val_loss: 0.3345 - val_accuracy: 0.6245\n",
      "Epoch 239/250\n",
      "30101/30101 [==============================] - 6s 211us/step - loss: 0.0058 - accuracy: 0.9928 - val_loss: 0.3440 - val_accuracy: 0.6216\n",
      "Epoch 240/250\n",
      "30101/30101 [==============================] - 6s 210us/step - loss: 0.0064 - accuracy: 0.9921 - val_loss: 0.3371 - val_accuracy: 0.6192\n",
      "Epoch 241/250\n",
      "30101/30101 [==============================] - 6s 210us/step - loss: 0.0068 - accuracy: 0.9916 - val_loss: 0.3453 - val_accuracy: 0.6139\n",
      "Epoch 242/250\n",
      "30101/30101 [==============================] - 6s 210us/step - loss: 0.0074 - accuracy: 0.9909 - val_loss: 0.3528 - val_accuracy: 0.6080\n",
      "Epoch 243/250\n",
      "30101/30101 [==============================] - 6s 210us/step - loss: 0.0069 - accuracy: 0.9914 - val_loss: 0.3495 - val_accuracy: 0.6088\n",
      "Epoch 244/250\n",
      "30101/30101 [==============================] - 6s 212us/step - loss: 0.0076 - accuracy: 0.9908 - val_loss: 0.3378 - val_accuracy: 0.6224\n",
      "Epoch 245/250\n",
      "30101/30101 [==============================] - 6s 209us/step - loss: 0.0075 - accuracy: 0.9909 - val_loss: 0.3411 - val_accuracy: 0.6123\n",
      "Epoch 246/250\n",
      "30101/30101 [==============================] - 6s 209us/step - loss: 0.0064 - accuracy: 0.9919 - val_loss: 0.3468 - val_accuracy: 0.6155\n",
      "Epoch 247/250\n",
      "30101/30101 [==============================] - 6s 210us/step - loss: 0.0058 - accuracy: 0.9924 - val_loss: 0.3414 - val_accuracy: 0.6152\n",
      "Epoch 248/250\n",
      "30101/30101 [==============================] - 6s 210us/step - loss: 0.0061 - accuracy: 0.9924 - val_loss: 0.3323 - val_accuracy: 0.6133\n",
      "Epoch 249/250\n",
      "30101/30101 [==============================] - 6s 210us/step - loss: 0.0062 - accuracy: 0.9918 - val_loss: 0.3307 - val_accuracy: 0.6277\n",
      "Epoch 250/250\n",
      "30101/30101 [==============================] - 6s 210us/step - loss: 0.0061 - accuracy: 0.9920 - val_loss: 0.3493 - val_accuracy: 0.6112\n"
     ]
    }
   ],
   "source": [
    "history, model = train_model(model, 'twoNet_250epoch')"
   ]
  },
  {
   "cell_type": "markdown",
   "id": "c74477b0",
   "metadata": {
    "heading_collapsed": true
   },
   "source": [
    "# 模型評估"
   ]
  },
  {
   "cell_type": "markdown",
   "id": "06485d4f",
   "metadata": {
    "hidden": true
   },
   "source": [
    "- 測試資料集的 loss, accuracy, recall, precision, f1, mse, mae\n",
    "- 訓練時的 loss, accuracy\n",
    "- 驗證資料的 loss, accuracy"
   ]
  },
  {
   "cell_type": "code",
   "execution_count": 61,
   "id": "bada4b21",
   "metadata": {
    "ExecuteTime": {
     "end_time": "2022-08-31T15:53:39.608775Z",
     "start_time": "2022-08-31T15:53:39.600204Z"
    },
    "hidden": true
   },
   "outputs": [],
   "source": [
    "from keras.models import load_model\n",
    "from sklearn.metrics import f1_score, precision_score, recall_score, confusion_matrix\n",
    "from sklearn.metrics import classification_report\n",
    "import keras\n",
    "import matplotlib.pyplot as plt\n",
    "\n",
    "def plot_loss_accuracy(history):\n",
    "    historydf = pd.DataFrame(history.history, index=history.epoch)\n",
    "    fig = plt.figure(figsize=(8, 6))\n",
    "    historydf.plot(ylim=(0, max(1, historydf.values.max())))\n",
    "    loss = history.history['loss'][-1]\n",
    "    acc = history.history['accuracy'][-1]\n",
    "    plt.title('Loss: %.3f, Accuracy: %.3f' % (loss, acc))\n",
    "    return fig\n",
    "\n",
    "def evaluate_model(model_path, eval_model):\n",
    "    #eval_model = load_model(model_path)\n",
    "    \n",
    "    eval_model.compile(loss='mse',\n",
    "                 optimizer='adam',\n",
    "                 metrics=['accuracy'])\n",
    "    \n",
    "    print(eval_model.summary())\n",
    "    \n",
    "    # loss, acc\n",
    "    loss_train, accuracy_train = eval_model.evaluate(X_train, y_train_hot, verbose=0)\n",
    "    loss_val, accuracy_val = eval_model.evaluate(X_valid, y_valid_hot, verbose=0)\n",
    "    loss_test, accuracy_test = eval_model.evaluate(X_test, y_test_hot, verbose=0)\n",
    "    print(\"訓練\")\n",
    "    print(\"Loss: %0.4f, Accuracy: %0.4f\" %(loss_train, accuracy_train))\n",
    "    print(\"驗證\")\n",
    "    print(\"Loss: %0.4f, Accuracy: %0.4f\" %(loss_val, accuracy_val))\n",
    "    print(\"測試\")\n",
    "    print(\"Loss: %0.4f, Accuracy: %0.4f\" %(loss_test, accuracy_test))\n",
    "    \n",
    "    # test precision, recall, f1\n",
    "    y_pred1 = eval_model.predict(X_test)\n",
    "    y_pred = np.argmax(y_pred1, axis=1)\n",
    "    \n",
    "    precision = precision_score(y_test, y_pred , average=\"macro\")\n",
    "    recall = recall_score(y_test, y_pred , average=\"macro\")\n",
    "    f1 = f1_score(y_test, y_pred , average=\"macro\")\n",
    "    print(\"Precision: %0.4f, Recall: %0.4f, F1: %0.4f\" %(precision, recall, f1))\n",
    "    \n",
    "    # test mse, mae\n",
    "    eval_model.compile(loss=\"mse\", optimizer=\"adam\", metrics=[\"mae\"])\n",
    "    mse, mae = eval_model.evaluate(X_test, y_test_hot)\n",
    "    print(\"MSE: %0.4f, MAE: %0.4f\" %(mse, mae))\n",
    "    \n",
    "    # test classification report\n",
    "    y_pred = eval_model.predict_classes(X_test)\n",
    "    classifi_report = classification_report(y_test, y_pred)\n",
    "    print(classifi_report)\n",
    "    \n",
    "    # loss, accuracy, by epoch\n",
    "    #fig = plot_loss_accuracy(history)\n",
    "    #fig.savefig(model_path.split('/')[0] + '/plot.png')"
   ]
  },
  {
   "cell_type": "code",
   "execution_count": 109,
   "id": "48186e35",
   "metadata": {
    "ExecuteTime": {
     "end_time": "2022-09-01T11:08:28.232219Z",
     "start_time": "2022-09-01T11:08:25.431776Z"
    },
    "code_folding": [],
    "hidden": true
   },
   "outputs": [
    {
     "name": "stdout",
     "output_type": "stream",
     "text": [
      "Model: \"sequential_1\"\n",
      "_________________________________________________________________\n",
      "Layer (type)                 Output Shape              Param #   \n",
      "=================================================================\n",
      "dense_1 (Dense)              (None, 20, 68, 64)        128       \n",
      "_________________________________________________________________\n",
      "dense_2 (Dense)              (None, 20, 68, 64)        4160      \n",
      "_________________________________________________________________\n",
      "dropout_1 (Dropout)          (None, 20, 68, 64)        0         \n",
      "_________________________________________________________________\n",
      "dense_3 (Dense)              (None, 20, 68, 32)        2080      \n",
      "_________________________________________________________________\n",
      "dropout_2 (Dropout)          (None, 20, 68, 32)        0         \n",
      "_________________________________________________________________\n",
      "dense_4 (Dense)              (None, 20, 68, 16)        528       \n",
      "_________________________________________________________________\n",
      "dropout_3 (Dropout)          (None, 20, 68, 16)        0         \n",
      "_________________________________________________________________\n",
      "flatten_1 (Flatten)          (None, 21760)             0         \n",
      "_________________________________________________________________\n",
      "dense_5 (Dense)              (None, 1024)              22283264  \n",
      "_________________________________________________________________\n",
      "dropout_4 (Dropout)          (None, 1024)              0         \n",
      "_________________________________________________________________\n",
      "dense_6 (Dense)              (None, 512)               524800    \n",
      "_________________________________________________________________\n",
      "dropout_5 (Dropout)          (None, 512)               0         \n",
      "_________________________________________________________________\n",
      "dense_7 (Dense)              (None, 256)               131328    \n",
      "_________________________________________________________________\n",
      "dropout_6 (Dropout)          (None, 256)               0         \n",
      "_________________________________________________________________\n",
      "dense_8 (Dense)              (None, 128)               32896     \n",
      "_________________________________________________________________\n",
      "dropout_7 (Dropout)          (None, 128)               0         \n",
      "_________________________________________________________________\n",
      "dense_9 (Dense)              (None, 64)                8256      \n",
      "_________________________________________________________________\n",
      "dropout_8 (Dropout)          (None, 64)                0         \n",
      "_________________________________________________________________\n",
      "dense_10 (Dense)             (None, 8)                 520       \n",
      "_________________________________________________________________\n",
      "dropout_9 (Dropout)          (None, 8)                 0         \n",
      "_________________________________________________________________\n",
      "dense_11 (Dense)             (None, 2)                 18        \n",
      "=================================================================\n",
      "Total params: 22,987,978\n",
      "Trainable params: 22,987,978\n",
      "Non-trainable params: 0\n",
      "_________________________________________________________________\n",
      "None\n",
      "訓練\n",
      "Loss: 0.0004, Accuracy: 0.9995\n",
      "驗證\n",
      "Loss: 0.3493, Accuracy: 0.6112\n",
      "測試\n",
      "Loss: 0.3398, Accuracy: 0.6226\n",
      "Precision: 0.6229, Recall: 0.6225, F1: 0.6222\n",
      "3763/3763 [==============================] - 0s 64us/step\n",
      "MSE: 0.3398, MAE: 0.3790\n",
      "              precision    recall  f1-score   support\n",
      "\n",
      "         0.0       0.63      0.59      0.61      1870\n",
      "         1.0       0.62      0.65      0.64      1893\n",
      "\n",
      "    accuracy                           0.62      3763\n",
      "   macro avg       0.62      0.62      0.62      3763\n",
      "weighted avg       0.62      0.62      0.62      3763\n",
      "\n"
     ]
    }
   ],
   "source": [
    "#model_path = '2class_5:5_rnn/model.h5'\n",
    "#model_path = '2class_5:5_bilstm/model.h5'\n",
    "#model_path = '2class_origin_rnn/model.h5'\n",
    "#model_path = '2class_origin_bilstm/model.h5'\n",
    "\n",
    "#model_path = 'D7_819_notearlystop/model.h5'\n",
    "#model_path = './831/model.h5'\n",
    "model_path = 'twoNet_250epoch/model.h5'\n",
    "evaluate_model(model_path, model)\n"
   ]
  },
  {
   "cell_type": "code",
   "execution_count": 14,
   "id": "6322988c",
   "metadata": {
    "ExecuteTime": {
     "end_time": "2022-09-02T06:51:17.013247Z",
     "start_time": "2022-09-02T06:51:14.472866Z"
    },
    "hidden": true
   },
   "outputs": [],
   "source": [
    "from keras.models import load_model\n",
    "model = load_model('twoNet_250epoch/model.h5')"
   ]
  },
  {
   "cell_type": "code",
   "execution_count": 110,
   "id": "ca5ab9d9",
   "metadata": {
    "ExecuteTime": {
     "end_time": "2022-09-01T11:08:28.335142Z",
     "start_time": "2022-09-01T11:08:28.250260Z"
    },
    "hidden": true
   },
   "outputs": [
    {
     "data": {
      "text/plain": [
       "<Figure size 576x432 with 0 Axes>"
      ]
     },
     "execution_count": 110,
     "metadata": {},
     "output_type": "execute_result"
    },
    {
     "data": {
      "text/plain": [
       "<Figure size 576x432 with 0 Axes>"
      ]
     },
     "metadata": {},
     "output_type": "display_data"
    },
    {
     "data": {
      "image/png": "[encoded data removed]",
      "text/plain": [
       "<Figure size 432x288 with 1 Axes>"
      ]
     },
     "metadata": {
      "needs_background": "light"
     },
     "output_type": "display_data"
    }
   ],
   "source": [
    "plot_loss_accuracy(history)"
   ]
  },
  {
   "cell_type": "markdown",
   "id": "165cf901",
   "metadata": {
    "heading_collapsed": true
   },
   "source": [
    "# 其他"
   ]
  },
  {
   "cell_type": "code",
   "execution_count": 26,
   "id": "795136b9",
   "metadata": {
    "ExecuteTime": {
     "end_time": "2022-09-02T06:55:38.695274Z",
     "start_time": "2022-09-02T06:55:38.419393Z"
    },
    "hidden": true
   },
   "outputs": [
    {
     "name": "stdout",
     "output_type": "stream",
     "text": [
      "[1 1 0 ... 0 1 0]\n"
     ]
    },
    {
     "data": {
      "text/plain": [
       "\"\\nwave, sr = librosa.load('./dataset/data_sr/x_all/1650981038.wav')\\nmfcc = librosa.feature.mfcc(y=wave, sr=sr)\\n\\ny_pred1 = model.predict(mfcc)\\nprint(y_pred1)\\n\""
      ]
     },
     "execution_count": 26,
     "metadata": {},
     "output_type": "execute_result"
    }
   ],
   "source": [
    "#print(X_test[0])\n",
    "y_pred1 = model.predict(X_test)\n",
    "#print(y_pred1)\n",
    "y_pred = np.argmax(y_pred1, axis=1)\n",
    "print(y_pred)\n",
    "'''\n",
    "wave, sr = librosa.load('./dataset/data_sr/x_all/1650981038.wav')\n",
    "mfcc = librosa.feature.mfcc(y=wave, sr=sr)\n",
    "\n",
    "y_pred1 = model.predict(mfcc)\n",
    "print(y_pred1)\n",
    "'''"
   ]
  },
  {
   "cell_type": "code",
   "execution_count": null,
   "id": "1546ed4f",
   "metadata": {
    "ExecuteTime": {
     "end_time": "2022-08-18T17:16:52.083820Z",
     "start_time": "2022-08-18T17:16:52.080161Z"
    },
    "code_folding": [
     0
    ],
    "hidden": true
   },
   "outputs": [],
   "source": [
    "# Tensorboard 紀錄訓練時的指標\n",
    "\n",
    "class Metrics(tf.keras.callbacks.Callback):\n",
    "    def __init__(self, valid_data):\n",
    "        super(Metrics, self).__init__()\n",
    "        self.validation_data = valid_data\n",
    "\n",
    "    def on_epoch_end(self, epoch, logs=None):\n",
    "        logs = logs or {}\n",
    "        val_predict = np.argmax(self.model.predict(self.validation_data[0]), -1)\n",
    "        val_targ = self.validation_data[1]\n",
    "        if len(val_targ.shape) == 2 and val_targ.shape[1] != 1:\n",
    "            val_targ = np.argmax(val_targ, -1)\n",
    "\n",
    "        _val_f1 = f1_score(val_targ, val_predict, average='macro')\n",
    "        _val_recall = recall_score(val_targ, val_predict, average='macro')\n",
    "        _val_precision = precision_score(val_targ, val_predict, average='macro')\n",
    "\n",
    "        logs['val_f1'] = _val_f1\n",
    "        logs['val_recall'] = _val_recall\n",
    "        logs['val_precision'] = _val_precision\n",
    "        print(\" — val_f1: %f — val_precision: %f — val_recall: %f\" % (_val_f1, _val_precision, _val_recall))\n",
    "        return\n",
    "    \n",
    "    # model path\n",
    "def get_model_path(name):\n",
    "    model_path = name + '/model.h5'\n",
    "    checkpoint_path = name + '/checkpoints'\n",
    "    checkpoint_dir = os.path.dirname(checkpoint_path)\n",
    "    latest = tf.train.latest_checkpoint(checkpoint_dir)\n",
    "    \n",
    "    if not os.path.exists(checkpoint_path):\n",
    "        os.makedirs(checkpoint_path)\n",
    "    \n",
    "    return model_path, checkpoint_path, checkpoint_dir, latest\n",
    "\n",
    "def train_model(model, model_name):\n",
    "    model_path, checkpoint_path, checkpoint_dir, latest = get_model_path(model_name)\n",
    "    \n",
    "    \n",
    "    my_callbacks = [tf.keras.callbacks.EarlyStopping(patience=3, monitor = 'val_accuracy')]\n",
    "    history = model.fit(X_train, y_train, epochs=50, validation_data=(X_valid, y_valid), callbacks=my_callbacks)\n",
    "    '''\n",
    "    ck_callback = ModelCheckpoint(checkpoint_path + '/weights.{epoch:02d}-{val_f1:.4f}.hdf5',\n",
    "                                                 monitor='val_accuracy',     \n",
    "                                                 mode='max',\n",
    "                                                 save_best_only=True)\n",
    "    tb_callback = TensorBoard(log_dir=model_name + '/logs', profile_batch=0)\n",
    "   \n",
    "    history = model.fit(X_train, y_train, \n",
    "              batch_size=32, epochs=100,\n",
    "             validation_data=(X_valid, y_valid),\n",
    "             callbacks=[Metrics(valid_data=(X_valid, y_valid)),\n",
    "                         ck_callback,\n",
    "                         tb_callback])\n",
    "     '''\n",
    "    \n",
    "    model.save(model_path)\n",
    "    \n",
    "    return history, model"
   ]
  },
  {
   "cell_type": "code",
   "execution_count": null,
   "id": "95357e16",
   "metadata": {
    "ExecuteTime": {
     "end_time": "2022-07-29T09:04:46.972174Z",
     "start_time": "2022-07-29T01:46:44.171104Z"
    },
    "code_folding": [],
    "hidden": true
   },
   "outputs": [],
   "source": [
    "#2class 5:5 BiLSTM M2\n",
    "model_path = '2class_5:5_bilstm_m2/model.h5'\n",
    "checkpoint_path = './2class_5:5_bilstm_m2/checkpoints'\n",
    "checkpoint_dir = os.path.dirname(checkpoint_path)\n",
    "latest = tf.train.latest_checkpoint(checkpoint_dir)\n",
    "\n",
    "class Metrics(tf.keras.callbacks.Callback):\n",
    "    def __init__(self, valid_data):\n",
    "        super(Metrics, self).__init__()\n",
    "        self.validation_data = valid_data\n",
    "\n",
    "    def on_epoch_end(self, epoch, logs=None):\n",
    "        logs = logs or {}\n",
    "        val_predict = np.argmax(self.model.predict(self.validation_data[0]), -1)\n",
    "        val_targ = self.validation_data[1]\n",
    "        if len(val_targ.shape) == 2 and val_targ.shape[1] != 1:\n",
    "            val_targ = np.argmax(val_targ, -1)\n",
    "\n",
    "        _val_f1 = f1_score(val_targ, val_predict, average='macro')\n",
    "        _val_recall = recall_score(val_targ, val_predict, average='macro')\n",
    "        _val_precision = precision_score(val_targ, val_predict, average='macro')\n",
    "\n",
    "        logs['val_f1'] = _val_f1\n",
    "        logs['val_recall'] = _val_recall\n",
    "        logs['val_precision'] = _val_precision\n",
    "        print(\" — val_f1: %f — val_precision: %f — val_recall: %f\" % (_val_f1, _val_precision, _val_recall))\n",
    "        return\n",
    "    \n",
    "    # 模型儲存\n",
    "if not os.path.exists(checkpoint_path):\n",
    "    os.makedirs(checkpoint_path)\n",
    "    \n",
    "\n",
    "# 按照 accuracy 保存模型\n",
    "ck_callback = ModelCheckpoint('./2class_5:5_bilstm_m2/checkpoints/weights.{epoch:02d}-{val_f1:.4f}.hdf5',\n",
    "                                                 monitor='accuracy',        # 改成 accuracy\n",
    "                                                 mode='max', verbose=2,\n",
    "                                                 save_best_only=True,\n",
    "                                                 save_weights_only=True)\n",
    "tb_callback = TensorBoard(log_dir='./2class_5:5_bilstm_m2/logs', profile_batch=0)\n",
    "\n",
    "model.fit(X_train, y_train, \n",
    "          batch_size=32, epochs=100,\n",
    "         validation_data=(X_valid, y_valid),\n",
    "         callbacks=[Metrics(valid_data=(X_valid, y_valid)),\n",
    "                     ck_callback,\n",
    "                     tb_callback])\n",
    "\n",
    "\n",
    "model.save(model_path)"
   ]
  },
  {
   "cell_type": "code",
   "execution_count": null,
   "id": "6df03134",
   "metadata": {
    "ExecuteTime": {
     "end_time": "2022-07-29T09:42:46.743336Z",
     "start_time": "2022-07-29T09:42:46.285722Z"
    },
    "hidden": true
   },
   "outputs": [],
   "source": [
    "del csv_file, csvfile\n",
    "gc.collect()"
   ]
  },
  {
   "cell_type": "code",
   "execution_count": null,
   "id": "27d2af50",
   "metadata": {
    "hidden": true
   },
   "outputs": [],
   "source": [
    "# 5:5\n",
    "from imblearn.under_sampling import RandomUnderSampler\n",
    "\n",
    "undersample = RandomUnderSampler(sampling_strategy='majority')\n",
    "\n",
    "x_train = x.reshape(x.shape[0], (x.shape[1]*x.shape[2]))\n",
    "\n",
    "X_train_under, y_train_under = undersample.fit_resample(x_train, y)\n",
    "X_train_under = X_train_under.reshape((X_train_under.shape[0], 108, 494))\n",
    "\n",
    "unique, counts = np.unique(y_train_under, return_counts=True)\n",
    "\n",
    "dict(zip(unique, counts))"
   ]
  },
  {
   "cell_type": "code",
   "execution_count": null,
   "id": "bce349f3",
   "metadata": {
    "ExecuteTime": {
     "end_time": "2022-07-31T13:58:25.414520Z",
     "start_time": "2022-07-31T13:58:25.408978Z"
    },
    "hidden": true
   },
   "outputs": [],
   "source": [
    "unique, counts = np.unique(y_train, return_counts=True)\n",
    "\n",
    "dict(zip(unique, counts))"
   ]
  },
  {
   "cell_type": "code",
   "execution_count": null,
   "id": "ad9da3e4",
   "metadata": {
    "ExecuteTime": {
     "end_time": "2022-07-31T13:58:43.621255Z",
     "start_time": "2022-07-31T13:58:43.614891Z"
    },
    "hidden": true
   },
   "outputs": [],
   "source": [
    "unique, counts = np.unique(y_test, return_counts=True)\n",
    "\n",
    "dict(zip(unique, counts))"
   ]
  },
  {
   "cell_type": "code",
   "execution_count": null,
   "id": "a78530ef",
   "metadata": {
    "ExecuteTime": {
     "end_time": "2022-07-31T13:58:52.262824Z",
     "start_time": "2022-07-31T13:58:52.259644Z"
    },
    "hidden": true
   },
   "outputs": [],
   "source": [
    "unique, counts = np.unique(y_valid, return_counts=True)\n",
    "\n",
    "dict(zip(unique, counts))"
   ]
  },
  {
   "cell_type": "code",
   "execution_count": null,
   "id": "dbb86996",
   "metadata": {
    "hidden": true
   },
   "outputs": [],
   "source": [
    "# 將 label為有與 label 為無的檔案名稱取出\n",
    "with open('file_yes.txt', 'w') as f:\n",
    "    for file in file_yes:\n",
    "        f.write(f\"{file}\\n\")\n",
    "\n",
    "with open('file_no.txt', 'w') as f:\n",
    "    for file in file_no:\n",
    "        f.write(f\"{file}\\n\")"
   ]
  },
  {
   "cell_type": "code",
   "execution_count": null,
   "id": "f22d8e1e",
   "metadata": {
    "ExecuteTime": {
     "end_time": "2022-07-31T14:36:19.383822Z",
     "start_time": "2022-07-31T14:36:19.376741Z"
    },
    "hidden": true
   },
   "outputs": [],
   "source": [
    "with open('audio_filename.txt', 'w') as f:\n",
    "    for file in files:\n",
    "        f.write(f\"{file}\\n\")"
   ]
  },
  {
   "cell_type": "code",
   "execution_count": null,
   "id": "d8bab4cb",
   "metadata": {
    "hidden": true
   },
   "outputs": [],
   "source": [
    "print(y.head())"
   ]
  },
  {
   "cell_type": "code",
   "execution_count": null,
   "id": "0988eed9",
   "metadata": {
    "hidden": true
   },
   "outputs": [],
   "source": [
    "with open('audio_test.csv', 'w') as csv_file:\n",
    "    writer = csv.writer(csv_file)\n",
    "    for key, value in d.items():\n",
    "        writer.writerow([key, value])"
   ]
  },
  {
   "cell_type": "code",
   "execution_count": null,
   "id": "910dadd3",
   "metadata": {
    "ExecuteTime": {
     "end_time": "2022-07-15T06:36:06.285998Z",
     "start_time": "2022-07-15T06:36:06.283837Z"
    },
    "hidden": true
   },
   "outputs": [],
   "source": [
    "print(audio.shape)"
   ]
  },
  {
   "cell_type": "code",
   "execution_count": null,
   "id": "7ae606f2",
   "metadata": {
    "ExecuteTime": {
     "end_time": "2022-07-15T08:54:28.629073Z",
     "start_time": "2022-07-15T08:54:28.605697Z"
    },
    "hidden": true
   },
   "outputs": [],
   "source": [
    "x = pd.DataFrame(audio_reshape)\n",
    "x.head()"
   ]
  },
  {
   "cell_type": "code",
   "execution_count": null,
   "id": "1b466f37",
   "metadata": {
    "ExecuteTime": {
     "end_time": "2022-07-15T09:00:12.420670Z",
     "start_time": "2022-07-15T09:00:11.596440Z"
    },
    "hidden": true
   },
   "outputs": [],
   "source": [
    "df = pd.merge(x,y, how=\"right\", left_on=\"檔名\", right_on=\"檔名\")"
   ]
  },
  {
   "cell_type": "code",
   "execution_count": null,
   "id": "557e9b3f",
   "metadata": {
    "ExecuteTime": {
     "end_time": "2022-07-16T05:40:24.457275Z",
     "start_time": "2022-07-16T05:40:24.265903Z"
    },
    "hidden": true
   },
   "outputs": [],
   "source": [
    "audio_reshape = audio.reshape(audio.shape[0], -1)\n",
    "\n",
    "files = []\n",
    "for(dirpath, dirnames, filenames) in os.walk(audio_path):\n",
    "    for filename in filenames:\n",
    "            if filename.endswith('.wav') or filename.endswith('.WAV'):                \n",
    "                #取得 wav的檔名\n",
    "                index = filename.index('.')\n",
    "                filename = filename[:index]\n",
    "                files.append(filename)\n",
    "                \n",
    "#files.remove(1618243237)\n",
    "#files.remove(1618243179)\n",
    "#files.remove(1618243233)\n",
    "'''              \n",
    "b = {}\n",
    "c = []\n",
    "i = 0\n",
    "for a in aa:\n",
    "    b = {\"檔名\":aa[i], \"特徵\":(audio_reshape)}\n",
    "    c.append(b)\n",
    "    i += 1\n",
    "col = [\"檔名\", \"特徵\"]\n",
    "try:\n",
    "    with open('audio_csv.csv', 'w', newline='') as csvfile:\n",
    "        writer = csv.DictWriter(csvfile, fieldnames=col, delimiter =\",\")\n",
    "        writer.writeheader()\n",
    "\n",
    "        for data in c:\n",
    "            writer.writerow(data)\n",
    "except IOError:\n",
    "    print(\"I/O error\")\n",
    "'''"
   ]
  },
  {
   "cell_type": "code",
   "execution_count": null,
   "id": "45573cdd",
   "metadata": {
    "ExecuteTime": {
     "end_time": "2022-07-15T07:22:41.312525Z",
     "start_time": "2022-07-15T07:19:24.118302Z"
    },
    "code_folding": [],
    "hidden": true
   },
   "outputs": [],
   "source": [
    "#\n",
    "audio_reshape.astype(np.float32)\n",
    "print(audio_reshape.shape)"
   ]
  },
  {
   "cell_type": "code",
   "execution_count": null,
   "id": "9dd45fdd",
   "metadata": {
    "ExecuteTime": {
     "end_time": "2022-07-31T16:14:39.842637Z",
     "start_time": "2022-07-31T16:14:37.863787Z"
    },
    "code_folding": [],
    "hidden": true
   },
   "outputs": [],
   "source": [
    "#files\n",
    "\n",
    "import os\n",
    "# 取得 label 檔名與內容\n",
    "def get_labels_and_texts(label_path):\n",
    "    labels = []\n",
    "    labels_path = []\n",
    "    label_texts = []\n",
    "    for(dirpath, dirnames, filenames) in os.walk(label_path):\n",
    "        for filename in filenames:\n",
    "            \n",
    "            #取得 label 的完整路徑，後面進行讀檔\n",
    "            filename_path = os.path.join(dirpath, filename)\n",
    "            labels_path.append(filename_path)\n",
    "\n",
    "            #取得 label的檔名，後面對應到音檔\n",
    "            \n",
    "            try:\n",
    "                index = filename.index(\"_\")\n",
    "            except ValueError:\n",
    "                index = filename.index(\".\")\n",
    "\n",
    "            filename = filename[:index]\n",
    "            \n",
    "            labels.append(filename)\n",
    "    for label_file in labels_path:\n",
    "        #讀取 label 檔，並將 command 以 one-hot encoding 方式改寫 label\n",
    "        try:\n",
    "            with open(label_file) as fd:\n",
    "                data = json.load(fd)\n",
    "                a = 0\n",
    "                #b = 0\n",
    "                #c = 0\n",
    "                #d = 0\n",
    "                if data['command'] == 'Not Activated':\n",
    "                    a = '0'\n",
    "                else:\n",
    "                    a = '1'\n",
    "                data = [a]\n",
    "                label_texts.append(data)\n",
    "                fd.close()\n",
    "        except ValueError:\n",
    "            continue\n",
    "    return labels, label_texts\n",
    "\n",
    "label_path = 'dataset/data_sr/y_data'\n",
    "labels, label_texts = get_labels_and_texts(label_path)\n",
    "\n",
    "print(labels[0], label_texts[0])"
   ]
  },
  {
   "cell_type": "code",
   "execution_count": 11,
   "id": "34a7ae79",
   "metadata": {
    "ExecuteTime": {
     "end_time": "2022-09-02T03:22:20.656090Z",
     "start_time": "2022-09-02T03:22:18.651396Z"
    },
    "hidden": true
   },
   "outputs": [
    {
     "name": "stdout",
     "output_type": "stream",
     "text": [
      "dataset/data_sr/y_data/1621260098.json\n",
      "dataset/data_sr/y_data/1635565858.json\n",
      "dataset/data_sr/y_data/1621260094.json\n",
      "dataset/data_sr/y_data/1627775229.json\n",
      "dataset/data_sr/y_data/1637748628.json\n",
      "dataset/data_sr/y_data/1620877500.json\n",
      "dataset/data_sr/y_data/1618243179.json\n",
      "dataset/data_sr/y_data/1620877516.json\n",
      "dataset/data_sr/y_data/1620955238.json\n",
      "dataset/data_sr/y_data/1629341570.json\n",
      "dataset/data_sr/y_data/1630587053.json\n",
      "dataset/data_sr/y_data/1637748622.json\n",
      "dataset/data_sr/y_data/1637544260.json\n",
      "dataset/data_sr/y_data/1623546876.json\n",
      "dataset/data_sr/y_data/1635565854.json\n",
      "dataset/data_sr/y_data/1627775236.json\n",
      "dataset/data_sr/y_data/1619576718.json\n",
      "dataset/data_sr/y_data/1620898178.json\n",
      "dataset/data_sr/y_data/1626860170.json\n",
      "dataset/data_sr/y_data/1629341577.json\n",
      "dataset/data_sr/y_data/1620898181.json\n",
      "dataset/data_sr/y_data/1627775238.json\n",
      "dataset/data_sr/y_data/1620955240.json\n",
      "dataset/data_sr/y_data/1618243233.json\n",
      "dataset/data_sr/y_data/1626860172.json\n",
      "dataset/data_sr/y_data/1629450355.json\n",
      "dataset/data_sr/y_data/1650866474.json\n",
      "dataset/data_sr/y_data/1635565857.json\n",
      "dataset/data_sr/y_data/1618243237.json\n",
      "dataset/data_sr/y_data/1626860174.json\n",
      "dataset/data_sr/y_data/1650866472.json\n",
      "dataset/data_sr/y_data/1629341588.json\n",
      "dataset/data_sr/y_data/1620877512.json\n",
      "dataset/data_sr/y_data/1622340186.json\n",
      "dataset/data_sr/y_data/1621260096.json\n",
      "dataset/data_sr/y_data/1627956275.json\n",
      "dataset/data_sr/y_data/1620955233.json\n",
      "dataset/data_sr/y_data/1622944740.json\n",
      "dataset/data_sr/y_data/1642158784.json\n",
      "dataset/data_sr/y_data/1620898192.json\n",
      "dataset/data_sr/y_data/1623546872.json\n",
      "dataset/data_sr/y_data/1620955236.json\n",
      "dataset/data_sr/y_data/1621260104.json\n",
      "dataset/data_sr/y_data/1620898174.json\n",
      "dataset/data_sr/y_data/1623373306.json\n",
      "dataset/data_sr/y_data/1626860184.json\n",
      "1632204672 [0, 0, 0, 0, 0, 0, 0, 0, 0, 0, 0, 0]\n"
     ]
    }
   ],
   "source": [
    "#files\n",
    "\n",
    "import os\n",
    "# 取得 label 檔名與內容\n",
    "def get_labels_and_texts(label_path):\n",
    "    labels = []\n",
    "    labels_path = []\n",
    "    label_texts = []\n",
    "    for(dirpath, dirnames, filenames) in os.walk(label_path):\n",
    "        for filename in filenames:\n",
    "            \n",
    "            #取得 label 的完整路徑，後面進行讀檔\n",
    "            filename_path = os.path.join(dirpath, filename)\n",
    "            labels_path.append(filename_path)\n",
    "\n",
    "            #取得 label的檔名，後面對應到音檔\n",
    "            \n",
    "            try:\n",
    "                index = filename.index(\"_\")\n",
    "            except ValueError:\n",
    "                index = filename.index(\".\")\n",
    "\n",
    "            filename = filename[:index]\n",
    "            \n",
    "            labels.append(filename)\n",
    "    for label_file in labels_path:\n",
    "        #讀取 label 檔，並將 command 以 one-hot encoding 方式改寫 label\n",
    "        try:\n",
    "            with open(label_file) as fd:\n",
    "                data = json.load(fd)\n",
    "                command = data['command']\n",
    "                \n",
    "                a = 0\n",
    "                b = 0\n",
    "                c = 0\n",
    "                d = 0\n",
    "                e = 0\n",
    "                f = 0\n",
    "                g = 0\n",
    "                h = 0\n",
    "                i = 0\n",
    "                j = 0\n",
    "                k = 0\n",
    "                l = 0\n",
    "                if command == 'Not Activated':\n",
    "                    a = '1'\n",
    "                elif command == 'open':\n",
    "                    b = '1'\n",
    "                elif command == 'close':\n",
    "                    c = '1'\n",
    "                elif command == 'hold':\n",
    "                    d = '1'\n",
    "                elif command == 'b1':\n",
    "                    e = '1'\n",
    "                elif command == '1':\n",
    "                    f = '1'\n",
    "                elif command == '2':\n",
    "                    g = '1'\n",
    "                elif command == '10':\n",
    "                    h = '1'\n",
    "                elif command == '11':\n",
    "                    i = '1'\n",
    "                elif command == 'cancel_1':\n",
    "                    j = '1'\n",
    "                elif command == 'cancel_2':\n",
    "                    k = '1'\n",
    "                elif command == 'cancel_3':\n",
    "                    l = '1'\n",
    "                    \n",
    "                data = [a, b, c, d, e, f, g, h, i, j, k, l]\n",
    "                \n",
    "                label_texts.append(data)\n",
    "                fd.close()\n",
    "        except ValueError:\n",
    "            print(label_file)\n",
    "    return labels, label_texts\n",
    "\n",
    "label_path = 'dataset/data_sr/y_data'\n",
    "labels, label_texts = get_labels_and_texts(label_path)\n",
    "\n",
    "print(labels[0], label_texts[0])"
   ]
  },
  {
   "cell_type": "code",
   "execution_count": 7,
   "id": "09da4948",
   "metadata": {
    "ExecuteTime": {
     "end_time": "2022-09-02T03:18:26.956037Z",
     "start_time": "2022-09-02T03:18:26.947840Z"
    },
    "hidden": true
   },
   "outputs": [
    {
     "name": "stdout",
     "output_type": "stream",
     "text": [
      "{'alternative': [{'transcript': '請開門', 'confidence': 0.890154}, {'transcript': '好請開門'}, {'transcript': '好慶開嗎'}, {'transcript': '寶慶開嗎'}, {'transcript': '好請開嗎'}], 'final': True, 'strength': 0.0037480354309082017, 'command': 'open'}\n"
     ]
    }
   ],
   "source": [
    "with open('dataset/data_sr/y_data/1633931464.json') as fd:\n",
    "    data = json.load(fd)\n",
    "    print(data)"
   ]
  },
  {
   "cell_type": "code",
   "execution_count": null,
   "id": "ebeb6cf2",
   "metadata": {
    "ExecuteTime": {
     "end_time": "2022-07-31T15:47:34.083089Z",
     "start_time": "2022-07-31T15:47:25.129847Z"
    },
    "hidden": true
   },
   "outputs": [],
   "source": [
    "path = 'dataset/data_sr/y_data'     \n",
    "\n",
    "#獲取該目錄下所有文件，存入列表中\n",
    "fileList = os.listdir ( path )\n",
    "\n",
    "n = 0\n",
    "for(dirpath, dirnames, filenames) in os.walk(label_path):\n",
    "    for filename in filenames:\n",
    "        \n",
    "        #取得 label 的完整路徑，後面進行讀檔\n",
    "        oldname = os.path.join(dirpath, filename)\n",
    "        \n",
    "        try:\n",
    "            index = filename.index(\"_\")\n",
    "        except ValueError:\n",
    "            index = filename.index(\".\")\n",
    "\n",
    "        filename = filename[:index]\n",
    "        \n",
    "        #print(filename)\n",
    "\n",
    "        #設置新文件名\n",
    "        newname = path + os.sep + filename + '.json'\n",
    "        print(oldname)\n",
    "        print(newname)\n",
    "        os . rename ( oldname , newname ) #用os模塊中的rename方法對文件改名print ( oldname , '======>' , newname ) \n",
    "        n += 1\n",
    "        #if n > 10: break\n",
    "\n",
    "  \n",
    "\n",
    "    "
   ]
  },
  {
   "cell_type": "code",
   "execution_count": 12,
   "id": "e00b26db",
   "metadata": {
    "ExecuteTime": {
     "end_time": "2022-09-02T03:23:51.089659Z",
     "start_time": "2022-09-02T03:23:50.963308Z"
    },
    "code_folding": [],
    "hidden": true
   },
   "outputs": [
    {
     "name": "stdout",
     "output_type": "stream",
     "text": [
      "['1632204672', 0, 0, 0, 0, 0, 0, 0, 0, 0, 0, 0, 0]\n"
     ]
    }
   ],
   "source": [
    "import csv\n",
    "#將 檔名與 label 寫入 csv 檔\n",
    "\n",
    "i = 0\n",
    "for label_text in label_texts:\n",
    "    label_text.insert(0, labels[i])\n",
    "    i+=1\n",
    "\n",
    "with open('dataset/data_sr/label_11class.csv', 'w', newline='') as csvfile:\n",
    "    writer = csv.writer(csvfile)\n",
    "    writer.writerow(['檔名','open', 'close', 'hold', 'b1', '1', '2', '10', '11', 'cancel_1', 'cancel_2', 'cancel_3'])\n",
    "    \n",
    "    for label_text in label_texts:\n",
    "        writer.writerow(label_text)\n",
    "print(label_texts[0])\n"
   ]
  },
  {
   "cell_type": "code",
   "execution_count": null,
   "id": "b91a295c",
   "metadata": {
    "ExecuteTime": {
     "end_time": "2022-07-04T18:00:27.820019Z",
     "start_time": "2022-07-04T18:00:09.937313Z"
    },
    "code_folding": [
     0
    ],
    "hidden": true
   },
   "outputs": [],
   "source": [
    "# 將 檔名與特徵寫入 csv 檔\n",
    "\n",
    "aa = []\n",
    "for(dirpath, dirnames, filenames) in os.walk(audio_path):\n",
    "    for filename in filenames:\n",
    "            if filename.endswith('.wav') or filename.endswith('.WAV'):                \n",
    "                #取得 wav的檔名\n",
    "                index = filename.index('.')\n",
    "                filename = filename[:index]\n",
    "                aa.append(filename)\n",
    "\n",
    "a_list = list(audio)\n",
    "i = 0\n",
    "b = {}\n",
    "c = []\n",
    "for a in a_list:\n",
    "    b = {\"檔名\":aa[i],\"特徵\": a}\n",
    "    c.append(b)\n",
    "    i+=1\n",
    "col = [\"檔名\", \"特徵\"]\n",
    "try:\n",
    "    with open(audio_csv_path, 'w', newline='') as csvfile:\n",
    "        writer = csv.DictWriter(csvfile, fieldnames=col)\n",
    "        writer.writeheader()\n",
    "        #writer.writerow(['檔名','特徵'])\n",
    "\n",
    "        for data in c:\n",
    "            writer.writerow(data)\n",
    "except IOError:\n",
    "    print(\"I/O error\")\n"
   ]
  },
  {
   "cell_type": "code",
   "execution_count": null,
   "id": "a6c7b43f",
   "metadata": {
    "hidden": true
   },
   "outputs": [],
   "source": [
    "# 3D Numpy array to a CSV file\n",
    "# reshaping the array from 3D matrice to 2D matrice.\n",
    "arrReshaped = arr.reshape(arr.shape[0], -1)\n",
    "# saving reshaped array to file.\n",
    "np.savetxt(filename, arrReshaped)\n",
    "# retrieving data from file.\n",
    "loadedArr = np.loadtxt(filename)\n",
    "# This loadedArr is a 2D array, therefore we need to convert it to the original array shape.\n",
    "# reshaping to get original matrice with original shape.\n",
    "loadedOriginal = loadedArr.reshape(loadedArr.shape[0], loadedArr.shape[1] // arr.shape[2], arr.shape[2])"
   ]
  },
  {
   "cell_type": "code",
   "execution_count": null,
   "id": "108a2fc3",
   "metadata": {
    "ExecuteTime": {
     "end_time": "2022-07-04T15:51:20.934271Z",
     "start_time": "2022-07-04T15:51:20.910371Z"
    },
    "code_folding": [],
    "hidden": true
   },
   "outputs": [],
   "source": [
    "#load label csv into pd to preview data\n",
    "labels = pd.read_csv(label_csv_path)\n",
    "labels"
   ]
  },
  {
   "cell_type": "code",
   "execution_count": null,
   "id": "90ce388b",
   "metadata": {
    "ExecuteTime": {
     "end_time": "2022-07-04T18:01:04.486671Z",
     "start_time": "2022-07-04T18:01:04.275761Z"
    },
    "code_folding": [],
    "hidden": true
   },
   "outputs": [],
   "source": [
    "#load audio csv into pd to preview data\n",
    "\n",
    "#audios = pd.read_csv(audio_csv_path)\n",
    "#audios\n",
    "\n",
    "\n",
    "with open(audio_csv_path, 'r') as f:\n",
    "    reader = csv.reader(f)\n",
    "    examples = list(reader)\n",
    "del examples[0]\n",
    "#print(examples)\n",
    "\n",
    "nwexamples = []\n",
    "for row in examples:\n",
    "    nwrow = []\n",
    "    for r in row:\n",
    "        #could not convert string to float:\n",
    "        r = np.array(r, dtype=np.float32)\n",
    "        nwrow.append(r)\n",
    "    nwexamples.append(nwrow)\n",
    "print(nwexamples[0])"
   ]
  },
  {
   "cell_type": "code",
   "execution_count": null,
   "id": "e06e50fa",
   "metadata": {
    "ExecuteTime": {
     "end_time": "2022-07-14T21:42:15.621455Z",
     "start_time": "2022-07-14T21:33:46.140708Z"
    },
    "hidden": true
   },
   "outputs": [],
   "source": [
    "m,n,r = audio.shape\n",
    "out_arr = np.column_stack((np.repeat(np.arange(m),n),audio.reshape(m*n,-1)))\n",
    "out_df = pd.DataFrame(out_arr)\n",
    "\n",
    "X = out_df[out_df.columns[:]].values   #dead kernel\n",
    "\n",
    "\n",
    "#np.savetxt('audio.csv', audio, delimiter=',')    # can't save filename"
   ]
  },
  {
   "cell_type": "code",
   "execution_count": null,
   "id": "e8add7c9",
   "metadata": {
    "ExecuteTime": {
     "end_time": "2022-07-14T12:08:43.712458Z",
     "start_time": "2022-07-14T11:48:40.051336Z"
    },
    "code_folding": [
     0
    ],
    "hidden": true
   },
   "outputs": [],
   "source": [
    "# using python_speech_features to extract mfcc feartures\n",
    "from python_speech_features import mfcc\n",
    "from python_speech_features import logfbank\n",
    "import scipy.io.wavfile as wav\n",
    "import numpy\n",
    "import os\n",
    "\n",
    "# directory where we your .wav files are\n",
    "directoryName = \"dataset/data_sr/data\" # put your own directory here\n",
    "# directory to put our results in, you can change the name if you like\n",
    "resultsDirectory = 'dataset/data_sr/audio_sample'\n",
    "\n",
    "# make a new folder in this directory to save our results in\n",
    "if not os.path.exists(resultsDirectory):\n",
    "    os.makedirs(resultsDirectory)\n",
    "\n",
    "# get MFCCs for every .wav file in our specified directory \n",
    "for filename in os.listdir(directoryName):\n",
    "    if filename.endswith('.wav'): # only get MFCCs from .wavs\n",
    "        # read in our file\n",
    "        \n",
    "        try:\n",
    "            (rate,sig) = wav.read(directoryName + \"/\" +filename)\n",
    "        except ValueError:\n",
    "            continue\n",
    "        # get mfcc\n",
    "        mfcc_feat = mfcc(sig,rate)\n",
    "\n",
    "        # get filterbank energies\n",
    "        fbank_feat = logfbank(sig,rate)\n",
    "        \n",
    "        # create a file to save our results in\n",
    "       \n",
    "        outputFile = resultsDirectory + \"/\" + os.path.splitext(filename)[0] + \".csv\"\n",
    "        file = open(outputFile, 'w+') # make file/over write existing file\n",
    "        numpy.savetxt(file, fbank_feat, delimiter=\",\") #save MFCCs as .csv\n",
    "        file.close() # close file"
   ]
  },
  {
   "cell_type": "code",
   "execution_count": null,
   "id": "406a1da8",
   "metadata": {
    "ExecuteTime": {
     "end_time": "2022-07-14T12:19:06.246517Z",
     "start_time": "2022-07-14T12:12:54.273516Z"
    },
    "code_folding": [
     0
    ],
    "hidden": true
   },
   "outputs": [],
   "source": [
    "# read all audio sample csv\n",
    "audio_csvs_path = 'dataset/data_sr/audio_sample'\n",
    "csv = glob.glob(audio_csvs_path + \"/*.csv\")\n",
    "\n",
    "li = []\n",
    "for filename in csv:\n",
    "    df = pd.read_csv(filename, index_col=None, header=0)\n",
    "    li.append(df)\n",
    "    \n",
    "df = pd.concat(li, axis=0, ignore_index=True)\n",
    "df.head()"
   ]
  },
  {
   "cell_type": "code",
   "execution_count": null,
   "id": "c9880eb8",
   "metadata": {
    "ExecuteTime": {
     "end_time": "2022-07-14T12:19:56.187532Z",
     "start_time": "2022-07-14T12:19:56.118386Z"
    },
    "code_folding": [],
    "hidden": true
   },
   "outputs": [],
   "source": [
    "# combine all csvs into one\n",
    "def return_contents(file_name):\n",
    "    with open(file_name) as infile:\n",
    "        reader = csv.reader(infile)\n",
    "        return list(reader)\n",
    "\n",
    "all_files = os.listdir('dataset/data_sr/audio_sample')\n",
    "combined_output = []\n",
    "\n",
    "for file in all_files:\n",
    "    data = return_contents('dataset/data_sr/audio_sample/{}'.format(file))\n",
    "    for row in data:\n",
    "        combined_output.extend(row)\n",
    "\n",
    "with open('dataset/data_sr/audio_sample_2.csv', 'w', newline='') as outfile:\n",
    "    writer = csv.writer(outfile)\n",
    "    writer.writerow(combined_output)"
   ]
  },
  {
   "cell_type": "code",
   "execution_count": null,
   "id": "24c3d12d",
   "metadata": {
    "ExecuteTime": {
     "end_time": "2022-07-04T07:52:44.864601Z",
     "start_time": "2022-07-04T07:52:44.114911Z"
    },
    "code_folding": [],
    "hidden": true
   },
   "outputs": [],
   "source": [
    "# using librosa to extract mfcc features\n",
    "x, sr = librosa.load(wavs[0])\n",
    "\n",
    "#Plot the signal:\n",
    "plt.figure(figsize=(14, 5))\n",
    "librosa.display.waveshow(x, sr=sr)\n",
    "# Zooming in\n",
    "n0 = 9000\n",
    "n1 = 9100\n",
    "plt.figure(figsize=(14, 5))\n",
    "plt.plot(x[n0:n1])\n",
    "plt.grid()\n",
    "\n",
    "fs=10\n",
    "mfccs = librosa.feature.mfcc(x, sr=fs)\n",
    "\n",
    "print(mfccs.shape)\n",
    "#Displaying  the MFCCs:\n",
    "plt.figure(figsize=(15, 7))\n",
    "librosa.display.specshow(mfccs, sr=sr, x_axis='time')"
   ]
  },
  {
   "cell_type": "code",
   "execution_count": null,
   "id": "6558f72d",
   "metadata": {
    "hidden": true
   },
   "outputs": [],
   "source": [
    "audio_reshaped = audio.reshape(audio.shape[0], -1)\n",
    "\n",
    "np.savetxt(\"audio.csv\", audio_reshaped)"
   ]
  },
  {
   "cell_type": "code",
   "execution_count": null,
   "id": "edec3955",
   "metadata": {
    "hidden": true
   },
   "outputs": [],
   "source": []
  },
  {
   "cell_type": "code",
   "execution_count": null,
   "id": "5b7d263b",
   "metadata": {
    "hidden": true
   },
   "outputs": [],
   "source": [
    "files = []\n",
    "for(dirpath, dirnames, filenames) in os.walk(audio_path):\n",
    "    for filename in filenames:\n",
    "            if filename.endswith('.wav') or filename.endswith('.WAV'):                \n",
    "                #取得 wav的檔名\n",
    "                index = filename.index('.')\n",
    "                filename = filename[:index]\n",
    "                files.append(filename)\n",
    "                \n",
    "d = dict()\n",
    "for i in range(len(audio)):\n",
    "    d[files[i]] = audio[i]\n",
    "print(len(d))\n",
    "\n",
    "### Store dictionary d into csv"
   ]
  },
  {
   "cell_type": "code",
   "execution_count": null,
   "id": "eb28e21c",
   "metadata": {
    "ExecuteTime": {
     "end_time": "2022-07-15T02:05:48.906189Z",
     "start_time": "2022-07-15T02:03:31.977629Z"
    },
    "code_folding": [
     3
    ],
    "hidden": true
   },
   "outputs": [],
   "source": [
    "audio_path = 'dataset/data_sr/data'\n",
    "\n",
    "# 將 flac 音檔轉成 wav 音檔\n",
    "def get_flacs(audio_path):\n",
    "    flacs = []\n",
    "    flac_filename = []\n",
    "    for (dirpath, dirnames, filenames) in os.walk(audio_path):\n",
    "        for filename in filenames:\n",
    "            if filename.endswith('.flac'):\n",
    "                filename_path = os.path.join(dirpath, filename)\n",
    "                \n",
    "                index = filename.index(\".\")\n",
    "                    \n",
    "                filename = filename[:index]\n",
    "                flac_filename.append(filename)\n",
    "                \n",
    "                flacs.append(filename_path)\n",
    "    return flacs, flac_filename\n",
    "\n",
    "flacs,flac_filename = get_flacs(audio_path)\n",
    "\n",
    "i = 0\n",
    "for flac in flacs:\n",
    "    try:\n",
    "        audio, sr = sf.read(flac)\n",
    "    except RuntimeError:\n",
    "        print(flac)\n",
    "    sf.write(audio_path+'/'+flac_filename[i]+'.wav', audio, sr, 'PCM_16')\n",
    "    i+=1"
   ]
  },
  {
   "cell_type": "code",
   "execution_count": null,
   "id": "7524d662",
   "metadata": {
    "hidden": true
   },
   "outputs": [],
   "source": [
    "print(df1[\"有指令\"].value_counts())"
   ]
  },
  {
   "cell_type": "markdown",
   "id": "cff8cd53",
   "metadata": {
    "heading_collapsed": true
   },
   "source": [
    "# 分出兩個類別的音檔"
   ]
  },
  {
   "cell_type": "code",
   "execution_count": null,
   "id": "87ef5971",
   "metadata": {
    "ExecuteTime": {
     "end_time": "2022-07-31T16:36:57.603159Z",
     "start_time": "2022-07-31T16:36:57.533689Z"
    },
    "hidden": true
   },
   "outputs": [],
   "source": [
    "audio_filename = []\n",
    "audio_path = 'dataset/data_sr/x_all'\n",
    "\n",
    "for(dirpath, dirnames, filenames) in os.walk(audio_path):\n",
    "    for filename in filenames:\n",
    "            if filename.endswith('.wav') or filename.endswith('.WAV'):                \n",
    "                #取得 wav的檔名\n",
    "                index = filename.index('.')\n",
    "                filename = filename[:index]\n",
    "                audio_filename.append(filename)"
   ]
  },
  {
   "cell_type": "code",
   "execution_count": null,
   "id": "503ca6f8",
   "metadata": {
    "ExecuteTime": {
     "end_time": "2022-07-31T16:36:58.429804Z",
     "start_time": "2022-07-31T16:36:58.422324Z"
    },
    "hidden": true
   },
   "outputs": [],
   "source": [
    "print(len(audio_filename))"
   ]
  },
  {
   "cell_type": "code",
   "execution_count": null,
   "id": "9ea782be",
   "metadata": {
    "ExecuteTime": {
     "end_time": "2022-07-31T16:34:38.504798Z",
     "start_time": "2022-07-31T16:34:35.084160Z"
    },
    "hidden": true
   },
   "outputs": [],
   "source": [
    "def to_str(var):\n",
    "    return str(list(np.reshape(np.asarray(var), (1, np.size(var)))[0]))[1:-1]\n",
    "\n",
    "file_yes = []\n",
    "file_no = []\n",
    "\n",
    "for index, row in y.iterrows():\n",
    "    file = to_str(row['檔名'])\n",
    "    if (row['指令']==0):\n",
    "        file_no.append(file)\n",
    "    else:\n",
    "        file_yes.append(file)\n",
    "    #print(row['檔名'], row['指令'])"
   ]
  },
  {
   "cell_type": "code",
   "execution_count": null,
   "id": "214e3e88",
   "metadata": {
    "ExecuteTime": {
     "end_time": "2022-07-31T16:37:12.782691Z",
     "start_time": "2022-07-31T16:37:12.777892Z"
    },
    "hidden": true
   },
   "outputs": [],
   "source": [
    "print(len(file_yes))"
   ]
  },
  {
   "cell_type": "code",
   "execution_count": null,
   "id": "a2f31f2d",
   "metadata": {
    "ExecuteTime": {
     "end_time": "2022-07-31T16:37:09.473818Z",
     "start_time": "2022-07-31T16:37:09.455383Z"
    },
    "hidden": true
   },
   "outputs": [],
   "source": [
    "setA = set(audio_filename)\n",
    "setB = set(file_yes)\n",
    "setC = set(file_no)\n",
    "\n",
    "setYes = setA & setB\n",
    "setNo = setA & setC"
   ]
  },
  {
   "cell_type": "code",
   "execution_count": null,
   "id": "380cc9b7",
   "metadata": {
    "ExecuteTime": {
     "end_time": "2022-07-31T16:37:09.957193Z",
     "start_time": "2022-07-31T16:37:09.954754Z"
    },
    "hidden": true
   },
   "outputs": [],
   "source": [
    "print(len(setYes), len(setNo))"
   ]
  },
  {
   "cell_type": "code",
   "execution_count": null,
   "id": "648a29e9",
   "metadata": {
    "ExecuteTime": {
     "end_time": "2022-07-31T16:38:05.464769Z",
     "start_time": "2022-07-31T16:38:05.462945Z"
    },
    "hidden": true
   },
   "outputs": [],
   "source": [
    "import shutil\n",
    "\n",
    "file_source = 'dataset/data_sr/x_all/'"
   ]
  },
  {
   "cell_type": "code",
   "execution_count": null,
   "id": "79940c87",
   "metadata": {
    "ExecuteTime": {
     "end_time": "2022-07-31T16:38:53.483581Z",
     "start_time": "2022-07-31T16:38:53.115729Z"
    },
    "hidden": true
   },
   "outputs": [],
   "source": [
    "file_destination = 'dataset/data_sr/x/yes'\n",
    "\n",
    "for i in setYes:\n",
    "        try:\n",
    "            shutil.move(file_source + i + '.wav', file_destination)\n",
    "        except:\n",
    "            print(i)"
   ]
  },
  {
   "cell_type": "code",
   "execution_count": null,
   "id": "7e076ee3",
   "metadata": {
    "ExecuteTime": {
     "end_time": "2022-07-31T16:41:23.718186Z",
     "start_time": "2022-07-31T16:41:22.408650Z"
    },
    "hidden": true
   },
   "outputs": [],
   "source": [
    "file_destination = 'dataset/data_sr/x/no/'\n",
    "\n",
    "for i in setNo:\n",
    "        try:\n",
    "            shutil.move(file_source + i + '.wav', file_destination)\n",
    "        except:\n",
    "            print(i)"
   ]
  },
  {
   "cell_type": "code",
   "execution_count": null,
   "id": "f296f43d",
   "metadata": {
    "hidden": true
   },
   "outputs": [],
   "source": []
  }
 ],
 "metadata": {
  "hide_input": false,
  "kernelspec": {
   "display_name": "SR",
   "language": "python",
   "name": "sr"
  },
  "language_info": {
   "codemirror_mode": {
    "name": "ipython",
    "version": 3
   },
   "file_extension": ".py",
   "mimetype": "text/x-python",
   "name": "python",
   "nbconvert_exporter": "python",
   "pygments_lexer": "ipython3",
   "version": "3.8.13"
  },
  "toc": {
   "base_numbering": 1,
   "nav_menu": {},
   "number_sections": true,
   "sideBar": true,
   "skip_h1_title": false,
   "title_cell": "Table of Contents",
   "title_sidebar": "Contents",
   "toc_cell": false,
   "toc_position": {},
   "toc_section_display": true,
   "toc_window_display": false
  },
  "varInspector": {
   "cols": {
    "lenName": 16,
    "lenType": 16,
    "lenVar": 40
   },
   "kernels_config": {
    "python": {
     "delete_cmd_postfix": "",
     "delete_cmd_prefix": "del ",
     "library": "var_list.py",
     "varRefreshCmd": "print(var_dic_list())"
    },
    "r": {
     "delete_cmd_postfix": ") ",
     "delete_cmd_prefix": "rm(",
     "library": "var_list.r",
     "varRefreshCmd": "cat(var_dic_list()) "
    }
   },
   "oldHeight": 470.844,
   "position": {
    "height": "503.837px",
    "left": "117.998px",
    "right": "20px",
    "top": "25.9965px",
    "width": "567.995px"
   },
   "types_to_exclude": [
    "module",
    "function",
    "builtin_function_or_method",
    "instance",
    "_Feature"
   ],
   "varInspector_section_display": "block",
   "window_display": true
  }
 },
 "nbformat": 4,
 "nbformat_minor": 5
}
