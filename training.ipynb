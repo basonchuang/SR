{
 "cells": [
  {
   "cell_type": "code",
   "execution_count": 1,
   "id": "d4dc6363",
   "metadata": {
    "ExecuteTime": {
     "end_time": "2022-07-10T12:28:49.342365Z",
     "start_time": "2022-07-10T12:28:48.022067Z"
    }
   },
   "outputs": [],
   "source": [
    "import numpy as np\n",
    "import pandas as pd\n",
    "import tensorflow as tf\n",
    "import matplotlib.pyplot as plt\n",
    "from sklearn.model_selection import train_test_split\n",
    "from sklearn.preprocessing import StandardScaler"
   ]
  },
  {
   "cell_type": "code",
   "execution_count": 2,
   "id": "d06ea573",
   "metadata": {
    "ExecuteTime": {
     "end_time": "2022-07-10T12:28:51.070872Z",
     "start_time": "2022-07-10T12:28:50.815975Z"
    }
   },
   "outputs": [
    {
     "name": "stderr",
     "output_type": "stream",
     "text": [
      "2022-07-10 20:28:50.818141: I tensorflow/stream_executor/platform/default/dso_loader.cc:44] Successfully opened dynamic library libcuda.so.1\n",
      "2022-07-10 20:28:50.884183: I tensorflow/stream_executor/cuda/cuda_gpu_executor.cc:981] successful NUMA node read from SysFS had negative value (-1), but there must be at least one NUMA node, so returning NUMA node zero\n",
      "2022-07-10 20:28:50.884321: I tensorflow/core/common_runtime/gpu/gpu_device.cc:1561] Found device 0 with properties: \n",
      "pciBusID: 0000:01:00.0 name: NVIDIA GeForce RTX 3090 computeCapability: 8.6\n",
      "coreClock: 1.695GHz coreCount: 82 deviceMemorySize: 23.70GiB deviceMemoryBandwidth: 871.81GiB/s\n",
      "2022-07-10 20:28:50.884542: I tensorflow/stream_executor/platform/default/dso_loader.cc:44] Successfully opened dynamic library libcudart.so.10.1\n",
      "2022-07-10 20:28:50.886066: I tensorflow/stream_executor/platform/default/dso_loader.cc:44] Successfully opened dynamic library libcublas.so.10\n",
      "2022-07-10 20:28:50.887352: I tensorflow/stream_executor/platform/default/dso_loader.cc:44] Successfully opened dynamic library libcufft.so.10\n",
      "2022-07-10 20:28:50.887573: I tensorflow/stream_executor/platform/default/dso_loader.cc:44] Successfully opened dynamic library libcurand.so.10\n",
      "2022-07-10 20:28:50.889079: I tensorflow/stream_executor/platform/default/dso_loader.cc:44] Successfully opened dynamic library libcusolver.so.10\n",
      "2022-07-10 20:28:50.889848: I tensorflow/stream_executor/platform/default/dso_loader.cc:44] Successfully opened dynamic library libcusparse.so.10\n",
      "2022-07-10 20:28:50.892919: I tensorflow/stream_executor/platform/default/dso_loader.cc:44] Successfully opened dynamic library libcudnn.so.7\n",
      "2022-07-10 20:28:50.893022: I tensorflow/stream_executor/cuda/cuda_gpu_executor.cc:981] successful NUMA node read from SysFS had negative value (-1), but there must be at least one NUMA node, so returning NUMA node zero\n",
      "2022-07-10 20:28:50.893164: I tensorflow/stream_executor/cuda/cuda_gpu_executor.cc:981] successful NUMA node read from SysFS had negative value (-1), but there must be at least one NUMA node, so returning NUMA node zero\n",
      "2022-07-10 20:28:50.893242: I tensorflow/core/common_runtime/gpu/gpu_device.cc:1703] Adding visible gpu devices: 0\n",
      "2022-07-10 20:28:50.893984: I tensorflow/core/platform/cpu_feature_guard.cc:143] Your CPU supports instructions that this TensorFlow binary was not compiled to use: SSE4.1 SSE4.2 AVX AVX2 FMA\n",
      "2022-07-10 20:28:50.920139: I tensorflow/core/platform/profile_utils/cpu_utils.cc:102] CPU Frequency: 2799925000 Hz\n",
      "2022-07-10 20:28:50.921218: I tensorflow/compiler/xla/service/service.cc:168] XLA service 0x5630e9d97f00 initialized for platform Host (this does not guarantee that XLA will be used). Devices:\n",
      "2022-07-10 20:28:50.921228: I tensorflow/compiler/xla/service/service.cc:176]   StreamExecutor device (0): Host, Default Version\n",
      "2022-07-10 20:28:50.921337: I tensorflow/stream_executor/cuda/cuda_gpu_executor.cc:981] successful NUMA node read from SysFS had negative value (-1), but there must be at least one NUMA node, so returning NUMA node zero\n",
      "2022-07-10 20:28:50.921401: I tensorflow/core/common_runtime/gpu/gpu_device.cc:1561] Found device 0 with properties: \n",
      "pciBusID: 0000:01:00.0 name: NVIDIA GeForce RTX 3090 computeCapability: 8.6\n",
      "coreClock: 1.695GHz coreCount: 82 deviceMemorySize: 23.70GiB deviceMemoryBandwidth: 871.81GiB/s\n",
      "2022-07-10 20:28:50.921423: I tensorflow/stream_executor/platform/default/dso_loader.cc:44] Successfully opened dynamic library libcudart.so.10.1\n",
      "2022-07-10 20:28:50.921434: I tensorflow/stream_executor/platform/default/dso_loader.cc:44] Successfully opened dynamic library libcublas.so.10\n",
      "2022-07-10 20:28:50.921443: I tensorflow/stream_executor/platform/default/dso_loader.cc:44] Successfully opened dynamic library libcufft.so.10\n",
      "2022-07-10 20:28:50.921453: I tensorflow/stream_executor/platform/default/dso_loader.cc:44] Successfully opened dynamic library libcurand.so.10\n",
      "2022-07-10 20:28:50.921462: I tensorflow/stream_executor/platform/default/dso_loader.cc:44] Successfully opened dynamic library libcusolver.so.10\n",
      "2022-07-10 20:28:50.921472: I tensorflow/stream_executor/platform/default/dso_loader.cc:44] Successfully opened dynamic library libcusparse.so.10\n",
      "2022-07-10 20:28:50.921481: I tensorflow/stream_executor/platform/default/dso_loader.cc:44] Successfully opened dynamic library libcudnn.so.7\n",
      "2022-07-10 20:28:50.921516: I tensorflow/stream_executor/cuda/cuda_gpu_executor.cc:981] successful NUMA node read from SysFS had negative value (-1), but there must be at least one NUMA node, so returning NUMA node zero\n",
      "2022-07-10 20:28:50.921592: I tensorflow/stream_executor/cuda/cuda_gpu_executor.cc:981] successful NUMA node read from SysFS had negative value (-1), but there must be at least one NUMA node, so returning NUMA node zero\n",
      "2022-07-10 20:28:50.921637: I tensorflow/core/common_runtime/gpu/gpu_device.cc:1703] Adding visible gpu devices: 0\n",
      "2022-07-10 20:28:50.921659: I tensorflow/stream_executor/platform/default/dso_loader.cc:44] Successfully opened dynamic library libcudart.so.10.1\n",
      "2022-07-10 20:28:51.066304: I tensorflow/core/common_runtime/gpu/gpu_device.cc:1102] Device interconnect StreamExecutor with strength 1 edge matrix:\n",
      "2022-07-10 20:28:51.066322: I tensorflow/core/common_runtime/gpu/gpu_device.cc:1108]      0 \n",
      "2022-07-10 20:28:51.066326: I tensorflow/core/common_runtime/gpu/gpu_device.cc:1121] 0:   N \n",
      "2022-07-10 20:28:51.066451: I tensorflow/stream_executor/cuda/cuda_gpu_executor.cc:981] successful NUMA node read from SysFS had negative value (-1), but there must be at least one NUMA node, so returning NUMA node zero\n",
      "2022-07-10 20:28:51.066572: I tensorflow/stream_executor/cuda/cuda_gpu_executor.cc:981] successful NUMA node read from SysFS had negative value (-1), but there must be at least one NUMA node, so returning NUMA node zero\n",
      "2022-07-10 20:28:51.066653: I tensorflow/stream_executor/cuda/cuda_gpu_executor.cc:981] successful NUMA node read from SysFS had negative value (-1), but there must be at least one NUMA node, so returning NUMA node zero\n",
      "2022-07-10 20:28:51.066723: I tensorflow/core/common_runtime/gpu/gpu_device.cc:1247] Created TensorFlow device (/job:localhost/replica:0/task:0/device:GPU:0 with 4096 MB memory) -> physical GPU (device: 0, name: NVIDIA GeForce RTX 3090, pci bus id: 0000:01:00.0, compute capability: 8.6)\n",
      "2022-07-10 20:28:51.067909: I tensorflow/compiler/xla/service/service.cc:168] XLA service 0x5630eb781960 initialized for platform CUDA (this does not guarantee that XLA will be used). Devices:\n",
      "2022-07-10 20:28:51.067917: I tensorflow/compiler/xla/service/service.cc:176]   StreamExecutor device (0): NVIDIA GeForce RTX 3090, Compute Capability 8.6\n"
     ]
    }
   ],
   "source": [
    "physical_gpus = tf.config.list_physical_devices(\"GPU\")\n",
    "tf.config.experimental.set_virtual_device_configuration(\n",
    "    physical_gpus[0],\n",
    "    [tf.config.experimental.VirtualDeviceConfiguration(memory_limit=4096)] \n",
    ")\n",
    "logical_gpus = tf.config.list_logical_devices(\"GPU\")"
   ]
  },
  {
   "cell_type": "code",
   "execution_count": 3,
   "id": "974d5e1d",
   "metadata": {
    "ExecuteTime": {
     "end_time": "2022-07-10T12:28:53.886180Z",
     "start_time": "2022-07-10T12:28:53.880348Z"
    }
   },
   "outputs": [],
   "source": [
    "x_path = \"dataset/data_sr/audio_sample.csv\"\n",
    "y_path = \"dataset/data_sr/label_sample.csv\""
   ]
  },
  {
   "cell_type": "code",
   "execution_count": 4,
   "id": "41874fae",
   "metadata": {
    "ExecuteTime": {
     "end_time": "2022-07-10T12:28:55.361153Z",
     "start_time": "2022-07-10T12:28:55.109121Z"
    }
   },
   "outputs": [],
   "source": [
    "x = pd.read_csv(x_path)\n",
    "y = pd.read_csv(y_path)"
   ]
  },
  {
   "cell_type": "code",
   "execution_count": 5,
   "id": "e73c8116",
   "metadata": {
    "ExecuteTime": {
     "end_time": "2022-07-10T12:28:55.896582Z",
     "start_time": "2022-07-10T12:28:55.888170Z"
    }
   },
   "outputs": [
    {
     "data": {
      "text/html": [
       "<div>\n",
       "<style scoped>\n",
       "    .dataframe tbody tr th:only-of-type {\n",
       "        vertical-align: middle;\n",
       "    }\n",
       "\n",
       "    .dataframe tbody tr th {\n",
       "        vertical-align: top;\n",
       "    }\n",
       "\n",
       "    .dataframe thead th {\n",
       "        text-align: right;\n",
       "    }\n",
       "</style>\n",
       "<table border=\"1\" class=\"dataframe\">\n",
       "  <thead>\n",
       "    <tr style=\"text-align: right;\">\n",
       "      <th></th>\n",
       "      <th>檔名</th>\n",
       "      <th>特徵</th>\n",
       "    </tr>\n",
       "  </thead>\n",
       "  <tbody>\n",
       "    <tr>\n",
       "      <th>0</th>\n",
       "      <td>1631855145</td>\n",
       "      <td>[[ 0.12715088  0.12715088  0.12715088 ...  0.1...</td>\n",
       "    </tr>\n",
       "    <tr>\n",
       "      <th>1</th>\n",
       "      <td>1619349620</td>\n",
       "      <td>[[ 0.06157185  0.06157185  0.06157185 ...  0.0...</td>\n",
       "    </tr>\n",
       "    <tr>\n",
       "      <th>2</th>\n",
       "      <td>1618415564</td>\n",
       "      <td>[[ 0.01064791  0.01064791  0.01064791 ...  0.0...</td>\n",
       "    </tr>\n",
       "    <tr>\n",
       "      <th>3</th>\n",
       "      <td>1627011377</td>\n",
       "      <td>[[ 0.15257801  0.15257801  0.15257801 ...  0.1...</td>\n",
       "    </tr>\n",
       "    <tr>\n",
       "      <th>4</th>\n",
       "      <td>1633141439</td>\n",
       "      <td>[[ 0.04986587  0.04986587  0.04986587 ...  0.0...</td>\n",
       "    </tr>\n",
       "  </tbody>\n",
       "</table>\n",
       "</div>"
      ],
      "text/plain": [
       "           檔名                                                 特徵\n",
       "0  1631855145  [[ 0.12715088  0.12715088  0.12715088 ...  0.1...\n",
       "1  1619349620  [[ 0.06157185  0.06157185  0.06157185 ...  0.0...\n",
       "2  1618415564  [[ 0.01064791  0.01064791  0.01064791 ...  0.0...\n",
       "3  1627011377  [[ 0.15257801  0.15257801  0.15257801 ...  0.1...\n",
       "4  1633141439  [[ 0.04986587  0.04986587  0.04986587 ...  0.0..."
      ]
     },
     "execution_count": 5,
     "metadata": {},
     "output_type": "execute_result"
    }
   ],
   "source": [
    "x.head()"
   ]
  },
  {
   "cell_type": "code",
   "execution_count": 6,
   "id": "75f344a2",
   "metadata": {
    "ExecuteTime": {
     "end_time": "2022-07-10T12:28:57.974771Z",
     "start_time": "2022-07-10T12:28:57.970809Z"
    }
   },
   "outputs": [
    {
     "data": {
      "text/html": [
       "<div>\n",
       "<style scoped>\n",
       "    .dataframe tbody tr th:only-of-type {\n",
       "        vertical-align: middle;\n",
       "    }\n",
       "\n",
       "    .dataframe tbody tr th {\n",
       "        vertical-align: top;\n",
       "    }\n",
       "\n",
       "    .dataframe thead th {\n",
       "        text-align: right;\n",
       "    }\n",
       "</style>\n",
       "<table border=\"1\" class=\"dataframe\">\n",
       "  <thead>\n",
       "    <tr style=\"text-align: right;\">\n",
       "      <th></th>\n",
       "      <th>檔名</th>\n",
       "      <th>請開</th>\n",
       "      <th>請關</th>\n",
       "      <th>請保持</th>\n",
       "      <th>其他</th>\n",
       "    </tr>\n",
       "  </thead>\n",
       "  <tbody>\n",
       "    <tr>\n",
       "      <th>0</th>\n",
       "      <td>1633056677</td>\n",
       "      <td>0</td>\n",
       "      <td>0</td>\n",
       "      <td>0</td>\n",
       "      <td>1</td>\n",
       "    </tr>\n",
       "    <tr>\n",
       "      <th>1</th>\n",
       "      <td>1648290403</td>\n",
       "      <td>0</td>\n",
       "      <td>0</td>\n",
       "      <td>0</td>\n",
       "      <td>1</td>\n",
       "    </tr>\n",
       "    <tr>\n",
       "      <th>2</th>\n",
       "      <td>1651108191</td>\n",
       "      <td>0</td>\n",
       "      <td>0</td>\n",
       "      <td>0</td>\n",
       "      <td>1</td>\n",
       "    </tr>\n",
       "    <tr>\n",
       "      <th>3</th>\n",
       "      <td>1632317974</td>\n",
       "      <td>0</td>\n",
       "      <td>0</td>\n",
       "      <td>0</td>\n",
       "      <td>1</td>\n",
       "    </tr>\n",
       "    <tr>\n",
       "      <th>4</th>\n",
       "      <td>1637285404</td>\n",
       "      <td>0</td>\n",
       "      <td>0</td>\n",
       "      <td>0</td>\n",
       "      <td>1</td>\n",
       "    </tr>\n",
       "  </tbody>\n",
       "</table>\n",
       "</div>"
      ],
      "text/plain": [
       "           檔名  請開  請關  請保持  其他\n",
       "0  1633056677   0   0    0   1\n",
       "1  1648290403   0   0    0   1\n",
       "2  1651108191   0   0    0   1\n",
       "3  1632317974   0   0    0   1\n",
       "4  1637285404   0   0    0   1"
      ]
     },
     "execution_count": 6,
     "metadata": {},
     "output_type": "execute_result"
    }
   ],
   "source": [
    "y.head()"
   ]
  },
  {
   "cell_type": "code",
   "execution_count": 7,
   "id": "c5019bae",
   "metadata": {
    "ExecuteTime": {
     "end_time": "2022-07-10T12:28:58.864929Z",
     "start_time": "2022-07-10T12:28:58.847766Z"
    }
   },
   "outputs": [],
   "source": [
    "df = pd.merge(x,y, how=\"left\", left_on=\"檔名\", right_on=\"檔名\")"
   ]
  },
  {
   "cell_type": "code",
   "execution_count": 8,
   "id": "629cd2a9",
   "metadata": {
    "ExecuteTime": {
     "end_time": "2022-07-10T12:29:00.452920Z",
     "start_time": "2022-07-10T12:29:00.447461Z"
    }
   },
   "outputs": [
    {
     "data": {
      "text/html": [
       "<div>\n",
       "<style scoped>\n",
       "    .dataframe tbody tr th:only-of-type {\n",
       "        vertical-align: middle;\n",
       "    }\n",
       "\n",
       "    .dataframe tbody tr th {\n",
       "        vertical-align: top;\n",
       "    }\n",
       "\n",
       "    .dataframe thead th {\n",
       "        text-align: right;\n",
       "    }\n",
       "</style>\n",
       "<table border=\"1\" class=\"dataframe\">\n",
       "  <thead>\n",
       "    <tr style=\"text-align: right;\">\n",
       "      <th></th>\n",
       "      <th>檔名</th>\n",
       "      <th>特徵</th>\n",
       "      <th>請開</th>\n",
       "      <th>請關</th>\n",
       "      <th>請保持</th>\n",
       "      <th>其他</th>\n",
       "    </tr>\n",
       "  </thead>\n",
       "  <tbody>\n",
       "    <tr>\n",
       "      <th>0</th>\n",
       "      <td>1631855145</td>\n",
       "      <td>[[ 0.12715088  0.12715088  0.12715088 ...  0.1...</td>\n",
       "      <td>0.0</td>\n",
       "      <td>0.0</td>\n",
       "      <td>0.0</td>\n",
       "      <td>1.0</td>\n",
       "    </tr>\n",
       "    <tr>\n",
       "      <th>1</th>\n",
       "      <td>1619349620</td>\n",
       "      <td>[[ 0.06157185  0.06157185  0.06157185 ...  0.0...</td>\n",
       "      <td>1.0</td>\n",
       "      <td>0.0</td>\n",
       "      <td>0.0</td>\n",
       "      <td>0.0</td>\n",
       "    </tr>\n",
       "    <tr>\n",
       "      <th>2</th>\n",
       "      <td>1618415564</td>\n",
       "      <td>[[ 0.01064791  0.01064791  0.01064791 ...  0.0...</td>\n",
       "      <td>0.0</td>\n",
       "      <td>0.0</td>\n",
       "      <td>0.0</td>\n",
       "      <td>1.0</td>\n",
       "    </tr>\n",
       "    <tr>\n",
       "      <th>3</th>\n",
       "      <td>1627011377</td>\n",
       "      <td>[[ 0.15257801  0.15257801  0.15257801 ...  0.1...</td>\n",
       "      <td>0.0</td>\n",
       "      <td>0.0</td>\n",
       "      <td>0.0</td>\n",
       "      <td>1.0</td>\n",
       "    </tr>\n",
       "    <tr>\n",
       "      <th>4</th>\n",
       "      <td>1633141439</td>\n",
       "      <td>[[ 0.04986587  0.04986587  0.04986587 ...  0.0...</td>\n",
       "      <td>0.0</td>\n",
       "      <td>0.0</td>\n",
       "      <td>0.0</td>\n",
       "      <td>1.0</td>\n",
       "    </tr>\n",
       "  </tbody>\n",
       "</table>\n",
       "</div>"
      ],
      "text/plain": [
       "           檔名                                                 特徵   請開   請關  \\\n",
       "0  1631855145  [[ 0.12715088  0.12715088  0.12715088 ...  0.1...  0.0  0.0   \n",
       "1  1619349620  [[ 0.06157185  0.06157185  0.06157185 ...  0.0...  1.0  0.0   \n",
       "2  1618415564  [[ 0.01064791  0.01064791  0.01064791 ...  0.0...  0.0  0.0   \n",
       "3  1627011377  [[ 0.15257801  0.15257801  0.15257801 ...  0.1...  0.0  0.0   \n",
       "4  1633141439  [[ 0.04986587  0.04986587  0.04986587 ...  0.0...  0.0  0.0   \n",
       "\n",
       "   請保持   其他  \n",
       "0  0.0  1.0  \n",
       "1  0.0  0.0  \n",
       "2  0.0  1.0  \n",
       "3  0.0  1.0  \n",
       "4  0.0  1.0  "
      ]
     },
     "execution_count": 8,
     "metadata": {},
     "output_type": "execute_result"
    }
   ],
   "source": [
    "df.head()"
   ]
  },
  {
   "cell_type": "code",
   "execution_count": 9,
   "id": "d30bbb8d",
   "metadata": {
    "ExecuteTime": {
     "end_time": "2022-07-10T12:29:01.187014Z",
     "start_time": "2022-07-10T12:29:01.180534Z"
    }
   },
   "outputs": [
    {
     "data": {
      "text/plain": [
       "(85484, 2)"
      ]
     },
     "execution_count": 9,
     "metadata": {},
     "output_type": "execute_result"
    }
   ],
   "source": [
    "x.shape"
   ]
  },
  {
   "cell_type": "code",
   "execution_count": 10,
   "id": "9fca6efa",
   "metadata": {
    "ExecuteTime": {
     "end_time": "2022-07-10T12:29:02.229014Z",
     "start_time": "2022-07-10T12:29:02.219074Z"
    }
   },
   "outputs": [
    {
     "data": {
      "text/plain": [
       "(91148, 5)"
      ]
     },
     "execution_count": 10,
     "metadata": {},
     "output_type": "execute_result"
    }
   ],
   "source": [
    "y.shape"
   ]
  },
  {
   "cell_type": "code",
   "execution_count": 11,
   "id": "bb7013cc",
   "metadata": {
    "ExecuteTime": {
     "end_time": "2022-07-10T12:29:03.073036Z",
     "start_time": "2022-07-10T12:29:03.070708Z"
    }
   },
   "outputs": [
    {
     "data": {
      "text/plain": [
       "(91652, 6)"
      ]
     },
     "execution_count": 11,
     "metadata": {},
     "output_type": "execute_result"
    }
   ],
   "source": [
    "df.shape"
   ]
  },
  {
   "cell_type": "code",
   "execution_count": 12,
   "id": "f3c9af2c",
   "metadata": {
    "ExecuteTime": {
     "end_time": "2022-07-10T12:29:04.838249Z",
     "start_time": "2022-07-10T12:29:04.819777Z"
    }
   },
   "outputs": [],
   "source": [
    "df = df.dropna()"
   ]
  },
  {
   "cell_type": "code",
   "execution_count": 13,
   "id": "85f4d801",
   "metadata": {
    "ExecuteTime": {
     "end_time": "2022-07-10T12:29:05.470444Z",
     "start_time": "2022-07-10T12:29:05.465219Z"
    }
   },
   "outputs": [],
   "source": [
    "X = df[df.columns[1]].values\n",
    "y = df[df.columns[2:6]].values"
   ]
  },
  {
   "cell_type": "code",
   "execution_count": 14,
   "id": "54eb72ba",
   "metadata": {
    "ExecuteTime": {
     "end_time": "2022-07-10T12:29:06.128439Z",
     "start_time": "2022-07-10T12:29:06.125728Z"
    }
   },
   "outputs": [
    {
     "data": {
      "text/plain": [
       "((91110,), (91110, 4))"
      ]
     },
     "execution_count": 14,
     "metadata": {},
     "output_type": "execute_result"
    }
   ],
   "source": [
    "X.shape, y.shape"
   ]
  },
  {
   "cell_type": "code",
   "execution_count": 15,
   "id": "f55d69c6",
   "metadata": {
    "ExecuteTime": {
     "end_time": "2022-07-10T12:29:06.749587Z",
     "start_time": "2022-07-10T12:29:06.738601Z"
    }
   },
   "outputs": [],
   "source": [
    "X_train, X_temp, y_train, y_temp = train_test_split(X, y, test_size=0.4, random_state=0)\n",
    "X_valid, X_test, y_valid, y_test = train_test_split(X_temp, y_temp, test_size=0.5, random_state=0)"
   ]
  },
  {
   "cell_type": "code",
   "execution_count": 16,
   "id": "17dbe1a3",
   "metadata": {
    "ExecuteTime": {
     "end_time": "2022-07-10T12:29:07.671268Z",
     "start_time": "2022-07-10T12:29:07.662723Z"
    }
   },
   "outputs": [],
   "source": [
    "model = tf.keras.Sequential([\n",
    "                             tf.keras.layers.Dense(16, activation='relu'), # if x <= 0 --> 0, x > 0 --> x\n",
    "                             tf.keras.layers.Dense(16, activation='relu'),\n",
    "                             tf.keras.layers.Dense(4, activation=\"sigmoid\")\n",
    "])"
   ]
  },
  {
   "cell_type": "code",
   "execution_count": 17,
   "id": "91403bc7",
   "metadata": {
    "ExecuteTime": {
     "end_time": "2022-07-10T12:29:09.070657Z",
     "start_time": "2022-07-10T12:29:08.305477Z"
    }
   },
   "outputs": [],
   "source": [
    "model.compile(optimizer=tf.keras.optimizers.Adam(learning_rate=0.001),\n",
    "              loss=tf.keras.losses.BinaryCrossentropy(),\n",
    "              metrics=['accuracy'])"
   ]
  },
  {
   "cell_type": "code",
   "execution_count": null,
   "id": "db202de0",
   "metadata": {
    "ExecuteTime": {
     "start_time": "2022-07-10T12:29:10.175Z"
    }
   },
   "outputs": [
    {
     "name": "stderr",
     "output_type": "stream",
     "text": [
      "2022-07-10 20:29:10.404263: W tensorflow/core/framework/op_kernel.cc:1730] OP_REQUIRES failed at cast_op.cc:123 : Unimplemented: Cast string to float is not supported\n",
      "2022-07-10 20:29:10.405573: I tensorflow/stream_executor/platform/default/dso_loader.cc:44] Successfully opened dynamic library libcublas.so.10\n"
     ]
    }
   ],
   "source": [
    "model.evaluate(X_train, y_train)"
   ]
  },
  {
   "cell_type": "code",
   "execution_count": null,
   "id": "9dff72de",
   "metadata": {
    "ExecuteTime": {
     "start_time": "2022-07-10T12:29:13.499Z"
    }
   },
   "outputs": [],
   "source": [
    "model.evaluate(X_valid, y_valid)"
   ]
  },
  {
   "cell_type": "code",
   "execution_count": null,
   "id": "823dfba3",
   "metadata": {
    "ExecuteTime": {
     "start_time": "2022-07-10T12:29:14.024Z"
    }
   },
   "outputs": [],
   "source": [
    "model.fit(X_train, y_train, batch_size=16, epochs=20, validation_data=(X_valid, y_valid))"
   ]
  },
  {
   "cell_type": "code",
   "execution_count": null,
   "id": "d18ffbae",
   "metadata": {
    "ExecuteTime": {
     "start_time": "2022-07-10T12:29:15.199Z"
    }
   },
   "outputs": [],
   "source": [
    "model.evaluate(X_test, y_test)"
   ]
  }
 ],
 "metadata": {
  "hide_input": false,
  "kernelspec": {
   "display_name": "SR",
   "language": "python",
   "name": "sr"
  },
  "language_info": {
   "codemirror_mode": {
    "name": "ipython",
    "version": 3
   },
   "file_extension": ".py",
   "mimetype": "text/x-python",
   "name": "python",
   "nbconvert_exporter": "python",
   "pygments_lexer": "ipython3",
   "version": "3.8.13"
  },
  "toc": {
   "base_numbering": 1,
   "nav_menu": {},
   "number_sections": true,
   "sideBar": true,
   "skip_h1_title": false,
   "title_cell": "Table of Contents",
   "title_sidebar": "Contents",
   "toc_cell": false,
   "toc_position": {},
   "toc_section_display": true,
   "toc_window_display": false
  },
  "varInspector": {
   "cols": {
    "lenName": 16,
    "lenType": 16,
    "lenVar": 40
   },
   "kernels_config": {
    "python": {
     "delete_cmd_postfix": "",
     "delete_cmd_prefix": "del ",
     "library": "var_list.py",
     "varRefreshCmd": "print(var_dic_list())"
    },
    "r": {
     "delete_cmd_postfix": ") ",
     "delete_cmd_prefix": "rm(",
     "library": "var_list.r",
     "varRefreshCmd": "cat(var_dic_list()) "
    }
   },
   "types_to_exclude": [
    "module",
    "function",
    "builtin_function_or_method",
    "instance",
    "_Feature"
   ],
   "window_display": false
  }
 },
 "nbformat": 4,
 "nbformat_minor": 5
}
