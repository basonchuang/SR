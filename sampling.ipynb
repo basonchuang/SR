{
 "cells": [
  {
   "cell_type": "code",
   "execution_count": 42,
   "id": "2603f92d",
   "metadata": {
    "ExecuteTime": {
     "end_time": "2022-07-04T17:54:34.933049Z",
     "start_time": "2022-07-04T17:54:34.926804Z"
    }
   },
   "outputs": [],
   "source": [
    "import numpy as np\n",
    "import scipy.io.wavfile as wav\n",
    "import pandas as pd\n",
    "import matplotlib.pyplot as plt\n",
    "import soundfile as sf\n",
    "from python_speech_features import mfcc\n",
    "import os, time, glob, json, torch, csv, librosa\n",
    "import librosa.display\n",
    "#from wave import open"
   ]
  },
  {
   "cell_type": "code",
   "execution_count": 43,
   "id": "3290cbb3",
   "metadata": {
    "ExecuteTime": {
     "end_time": "2022-07-04T17:54:42.683181Z",
     "start_time": "2022-07-04T17:54:42.680911Z"
    },
    "code_folding": []
   },
   "outputs": [],
   "source": [
    "#各檔案路徑\n",
    "audio_path = 'dataset/data_sr/data'\n",
    "label_path = 'dataset/data_sr/data'\n",
    "\n",
    "audio_csv_path = 'dataset/data_sr/audio_sample.csv'\n",
    "label_csv_path = 'dataset/data_sr/label_sample.csv'"
   ]
  },
  {
   "cell_type": "code",
   "execution_count": 9,
   "id": "9dd45fdd",
   "metadata": {
    "ExecuteTime": {
     "end_time": "2022-07-04T15:50:59.692522Z",
     "start_time": "2022-07-04T15:50:57.228670Z"
    },
    "code_folding": [
     0
    ]
   },
   "outputs": [
    {
     "name": "stdout",
     "output_type": "stream",
     "text": [
      "1633056677 [0, 0, 0, 1]\n"
     ]
    }
   ],
   "source": [
    "# 取得 label 檔名與內容\n",
    "def get_labels_and_texts(label_path):\n",
    "    labels = []\n",
    "    labels_path = []\n",
    "    label_texts = []\n",
    "    for(dirpath, dirnames, filenames) in os.walk(label_path):\n",
    "        for filename in filenames:\n",
    "            if filename.endswith('.json'):\n",
    "                #取得 label 的完整路徑，後面進行讀檔\n",
    "                filename_path = os.path.join(dirpath, filename)\n",
    "                labels_path.append(filename_path)\n",
    "                \n",
    "                #取得 label的檔名，後面對應到音檔\n",
    "                try:\n",
    "                    index = filename.index(\"_\")\n",
    "                except ValueError:\n",
    "                    index = filename.index(\".\")\n",
    "                    \n",
    "                filename = filename[:index]\n",
    "                labels.append(filename)\n",
    "    for label_file in labels_path:\n",
    "        #讀取 label 檔，並將 command 以 one-hot encoding 方式改寫 label\n",
    "        try:\n",
    "            with open(label_file) as fd:\n",
    "                data = json.load(fd)\n",
    "                a = 0\n",
    "                b = 0\n",
    "                c = 0\n",
    "                d = 0\n",
    "                if data['command'] == 'open':\n",
    "                    a = 1\n",
    "                elif data['command'] == 'close':\n",
    "                    b = 1\n",
    "                elif data['command'] == 'hold':\n",
    "                    c = 1\n",
    "                else:\n",
    "                    d = 1\n",
    "                data = [a,b,c,d]\n",
    "                label_texts.append(data)\n",
    "                fd.close()\n",
    "        except ValueError:\n",
    "            continue\n",
    "    return labels, label_texts\n",
    "\n",
    "labels, label_texts = get_labels_and_texts(label_path)\n",
    "\n",
    "print(labels[0], label_texts[0])"
   ]
  },
  {
   "cell_type": "code",
   "execution_count": 10,
   "id": "e00b26db",
   "metadata": {
    "ExecuteTime": {
     "end_time": "2022-07-04T15:51:10.025597Z",
     "start_time": "2022-07-04T15:51:09.953845Z"
    },
    "code_folding": [
     0
    ]
   },
   "outputs": [
    {
     "name": "stdout",
     "output_type": "stream",
     "text": [
      "['1633056677', 0, 0, 0, 1]\n"
     ]
    }
   ],
   "source": [
    "#將 檔名與 label 寫入 csv 檔\n",
    "'''\n",
    "i = 0\n",
    "for label_text in label_texts:\n",
    "    label_text.insert(0, labels[i])\n",
    "    i+=1\n",
    "\n",
    "with open(label_csv_path, 'w', newline='') as csvfile:\n",
    "    writer = csv.writer(csvfile)\n",
    "    writer.writerow(['檔名','請開', '請關', '請保持', '其他'])\n",
    "    \n",
    "    for label_text in label_texts:\n",
    "        writer.writerow(label_text)\n",
    "print(label_texts[0])\n",
    "'''"
   ]
  },
  {
   "cell_type": "code",
   "execution_count": 44,
   "id": "c800ee88",
   "metadata": {
    "ExecuteTime": {
     "end_time": "2022-07-04T17:54:50.575533Z",
     "start_time": "2022-07-04T17:54:50.383375Z"
    },
    "code_folding": [
     0
    ]
   },
   "outputs": [],
   "source": [
    "# 取得 wav 音檔路徑\n",
    "def get_wavs(wav_path):\n",
    "    wavs = []\n",
    "    for (dirpath, dirnames, filenames) in os.walk(wav_path):\n",
    "        for filename in filenames:\n",
    "            if filename.endswith('.wav') or filename.endswith('.WAV'):\n",
    "                filename_path = os.path.join(dirpath, filename)\n",
    "                wavs.append(filename_path)\n",
    "    return wavs\n",
    "\n",
    "wavs = get_wavs(audio_path)"
   ]
  },
  {
   "cell_type": "code",
   "execution_count": 40,
   "id": "eb28e21c",
   "metadata": {
    "ExecuteTime": {
     "end_time": "2022-07-04T17:33:53.139849Z",
     "start_time": "2022-07-04T17:27:19.146215Z"
    },
    "code_folding": [
     0
    ]
   },
   "outputs": [
    {
     "name": "stdout",
     "output_type": "stream",
     "text": [
      "dataset/data_sr/data/1623372994.flac\n",
      "dataset/data_sr/data/1623373198.flac\n",
      "dataset/data_sr/data/1624246529.flac\n",
      "dataset/data_sr/data/1619576718.flac\n",
      "dataset/data_sr/data/1623373076.flac\n",
      "dataset/data_sr/data/1623373306.flac\n",
      "dataset/data_sr/data/1620697758.flac\n",
      "dataset/data_sr/data/1624246517.flac\n",
      "dataset/data_sr/data/1620697415.flac\n",
      "dataset/data_sr/data/1620697761.flac\n",
      "dataset/data_sr/data/1620698062.flac\n",
      "dataset/data_sr/data/1623373169.flac\n",
      "dataset/data_sr/data/1620698334.flac\n",
      "dataset/data_sr/data/1623373060.flac\n",
      "dataset/data_sr/data/1620697764.flac\n",
      "dataset/data_sr/data/1623372974.flac\n",
      "dataset/data_sr/data/1620697767.flac\n",
      "dataset/data_sr/data/1620697512.flac\n"
     ]
    }
   ],
   "source": [
    "# 將 flac 音檔轉成 wav 音檔\n",
    "def get_flacs(audio_path):\n",
    "    flacs = []\n",
    "    flac_filename = []\n",
    "    for (dirpath, dirnames, filenames) in os.walk(audio_path):\n",
    "        for filename in filenames:\n",
    "            if filename.endswith('.flac'):\n",
    "                filename_path = os.path.join(dirpath, filename)\n",
    "                \n",
    "                index = filename.index(\".\")\n",
    "                    \n",
    "                filename = filename[:index]\n",
    "                flac_filename.append(filename)\n",
    "                \n",
    "                flacs.append(filename_path)\n",
    "    return flacs, flac_filename\n",
    "\n",
    "flacs,flac_filename = get_flacs(audio_path)\n",
    "\n",
    "i = 0\n",
    "for flac in flacs:\n",
    "    try:\n",
    "        audio, sr = sf.read(flac)\n",
    "    except RuntimeError:\n",
    "        print(flac)\n",
    "    sf.write(audio_path+'/'+flac_filename[i]+'.wav', audio, sr, 'PCM_16')\n",
    "    i+=1"
   ]
  },
  {
   "cell_type": "code",
   "execution_count": 45,
   "id": "1b2ff661",
   "metadata": {
    "ExecuteTime": {
     "end_time": "2022-07-04T17:59:54.344774Z",
     "start_time": "2022-07-04T17:54:58.321428Z"
    },
    "code_folding": [
     0,
     27,
     106
    ]
   },
   "outputs": [
    {
     "name": "stdout",
     "output_type": "stream",
     "text": [
      "dataset/data_sr/data/1618243237.wav\n",
      "\n",
      "dataset/data_sr/data/1618243179.wav\n",
      "\n",
      "dataset/data_sr/data/1618243233.wav\n",
      "\n"
     ]
    }
   ],
   "source": [
    "# mfcc function\n",
    "# 将音频数据转为时间序列（列）和MFCC（行）的矩阵，将对应的译文转成字向量\n",
    "def get_mfccs(wavs, n_input, contexts):\n",
    "    file = []\n",
    "    audio = []\n",
    "    audio_len = []\n",
    "    \n",
    "    for wav_file in wavs:\n",
    "        # load audio and convert to features\n",
    "        audio_data = audiofile_to_input_vector(wav_file, n_input, contexts)\n",
    "        try:\n",
    "            audio_data = audio_data.astype('float32')\n",
    "            \n",
    "            file.append(wav_file)\n",
    "            audio.append(audio_data)\n",
    "            audio_len.append(np.int32(len(audio_data)))\n",
    "        except AttributeError:\n",
    "            print()\n",
    " \n",
    "    audio = np.asarray(audio,dtype=object)\n",
    "    audio_len = np.asarray(audio_len)\n",
    "    \n",
    "    return file, audio, audio_len\n",
    " \n",
    "# 将音频信息转成MFCC特征\n",
    "# 参数说明---audio_filename：音频文件   numcep：梅尔倒谱系数个数\n",
    "#       numcontext：对于每个时间段，要包含的上下文样本个数\n",
    "def audiofile_to_input_vector(audio_filename, numcep, numcontext):\n",
    "    # 加载音频文件\n",
    "    try:\n",
    "        fs, audio = wav.read(audio_filename)\n",
    "        orig_inputs = mfcc(audio, samplerate=fs, numcep=numcep)\n",
    "        # 打印MFCC系数的形状，得到比如(955, 26)的形状\n",
    "        # 955表示时间序列，26表示每个序列的MFCC的特征值为26个\n",
    "        # 这个形状因文件而异，不同文件可能有不同长度的时间序列，但是，每个序列的特征值数量都是一样的\n",
    "        #print('orig_inputs shape', np.shape(orig_inputs))\n",
    "\n",
    "        # 因为我们使用双向循环神经网络来训练,它的输出包含正、反向的结\n",
    "        # 果,相当于每一个时间序列都扩大了一倍,所以\n",
    "        # 为了保证总时序不变,使用orig_inputs =\n",
    "        # orig_inputs[::2]对orig_inputs每隔一行进行一次\n",
    "        # 取样。这样被忽略的那个序列可以用后文中反向\n",
    "        # RNN生成的输出来代替,维持了总的序列长度。\n",
    "        orig_inputs = orig_inputs[::2]  # (478, 26)\n",
    "        # print(np.shape(orig_inputs))\n",
    "        # 因为我们讲解和实际使用的numcontext=9，所以下面的备注我都以numcontext=9来讲解\n",
    "        # 这里装的就是我们要返回的数据，因为同时要考虑前9个和后9个时间序列，\n",
    "        # 所以每个时间序列组合了19*26=494个MFCC特征数\n",
    "        train_inputs = np.array([], np.float32)\n",
    "        train_inputs.resize((orig_inputs.shape[0], numcep + 2 * numcep * numcontext))\n",
    "        #print('train_inputs shape', np.shape(train_inputs))#)(478, 494)\n",
    "\n",
    "        # Prepare pre-fix post fix context\n",
    "        empty_mfcc = np.array([])\n",
    "        empty_mfcc.resize((numcep))\n",
    "\n",
    "        # Prepare train_inputs with past and future contexts\n",
    "        # time_slices保存的是时间切片，也就是有多少个时间序列\n",
    "        time_slices = range(train_inputs.shape[0])\n",
    "\n",
    "        # context_past_min和context_future_max用来计算哪些序列需要补零\n",
    "        context_past_min = time_slices[0] + numcontext\n",
    "        context_future_max = time_slices[-1] - numcontext\n",
    "\n",
    "        # 开始遍历所有序列\n",
    "        for time_slice in time_slices:\n",
    "            # 对前9个时间序列的MFCC特征补0，不需要补零的，则直接获取前9个时间序列的特征\n",
    "            need_empty_past = max(0, (context_past_min - time_slice))\n",
    "            empty_source_past = list(empty_mfcc for empty_slots in range(need_empty_past))\n",
    "            data_source_past = orig_inputs[max(0, time_slice - numcontext):time_slice]\n",
    "            assert (len(empty_source_past) + len(data_source_past) == numcontext)\n",
    "\n",
    "            # 对后9个时间序列的MFCC特征补0，不需要补零的，则直接获取后9个时间序列的特征\n",
    "            need_empty_future = max(0, (time_slice - context_future_max))\n",
    "            empty_source_future = list(empty_mfcc for empty_slots in range(need_empty_future))\n",
    "            data_source_future = orig_inputs[time_slice + 1:time_slice + numcontext + 1]\n",
    "            assert (len(empty_source_future) + len(data_source_future) == numcontext)\n",
    "\n",
    "            # 前9个时间序列的特征\n",
    "            if need_empty_past:\n",
    "                past = np.concatenate((empty_source_past, data_source_past))\n",
    "            else:\n",
    "                past = data_source_past\n",
    "            # 后9个时间序列的特征\n",
    "            if need_empty_future:\n",
    "                future = np.concatenate((data_source_future, empty_source_future))\n",
    "            else:\n",
    "                future = data_source_future\n",
    "\n",
    "            # 将前9个时间序列和当前时间序列以及后9个时间序列组合\n",
    "            past = np.reshape(past, numcontext * numcep)\n",
    "            now = orig_inputs[time_slice]\n",
    "            future = np.reshape(future, numcontext * numcep)\n",
    "\n",
    "            train_inputs[time_slice] = np.concatenate((past, now, future))\n",
    "            assert (len(train_inputs[time_slice]) == numcep + 2 * numcep * numcontext)\n",
    "\n",
    "        # 将数据使用正太分布标准化，减去均值然后再除以方差\n",
    "        train_inputs = (train_inputs - np.mean(train_inputs)) / np.std(train_inputs)\n",
    "\n",
    "        return train_inputs\n",
    "    except ValueError:\n",
    "        print(audio_filename)\n",
    "    \n",
    " \n",
    "#对齐处理\n",
    "def pad_sequences(sequences, maxlen=None, dtype=np.float32,\n",
    "                  padding='post', truncating='post', value=0.):\n",
    "    #[478 512 503 406 481 509 422 465]\n",
    "    lengths = np.asarray([len(s) for s in sequences], dtype=np.int64)\n",
    " \n",
    "    nb_samples = len(sequences)\n",
    " \n",
    "    #maxlen，该批次中，最长的序列长度\n",
    "    if maxlen is None:\n",
    "        maxlen = np.max(lengths)\n",
    " \n",
    "    # 在下面的主循环中，从第一个非空序列中获取样本形状以检查一致性\n",
    "    sample_shape = tuple()\n",
    "    for s in sequences:\n",
    "        if len(s) > 0:\n",
    "            sample_shape = np.asarray(s).shape[1:]\n",
    "            break\n",
    " \n",
    "    x = (np.ones((nb_samples, maxlen) + sample_shape) * value).astype(dtype)\n",
    "    for idx, s in enumerate(sequences):\n",
    "        if len(s) == 0:\n",
    "            continue  # 序列为空，跳过\n",
    " \n",
    "        #post表示后补零，pre表示前补零\n",
    "        if truncating == 'pre':\n",
    "            trunc = s[-maxlen:]\n",
    "        elif truncating == 'post':\n",
    "            trunc = s[:maxlen]\n",
    "        else:\n",
    "            raise ValueError('Truncating type \"%s\" not understood' % truncating)\n",
    " \n",
    "        # check `trunc` has expected shape\n",
    "        trunc = np.asarray(trunc, dtype=dtype)\n",
    "        if trunc.shape[1:] != sample_shape:\n",
    "            raise ValueError('Shape of sample %s of sequence at position %s is different from expected shape %s' %\n",
    "                             (trunc.shape[1:], idx, sample_shape))\n",
    " \n",
    "        if padding == 'post':\n",
    "            x[idx, :len(trunc)] = trunc\n",
    "        elif padding == 'pre':\n",
    "            x[idx, -len(trunc):] = trunc\n",
    "        else:\n",
    "            raise ValueError('Padding type \"%s\" not understood' % padding)\n",
    " \n",
    "    return x, lengths\n",
    "\n",
    "\n",
    "# 梅尔倒谱系数的个数\n",
    "n_input = 26\n",
    "# 对于每个时间序列，要包含上下文样本的个数\n",
    "contexts = 9\n",
    "\n",
    "file, audio, audio_len = get_mfccs(wavs, n_input, contexts)\n",
    "audio, audio_len = pad_sequences(audio)"
   ]
  },
  {
   "cell_type": "code",
   "execution_count": 46,
   "id": "b91a295c",
   "metadata": {
    "ExecuteTime": {
     "end_time": "2022-07-04T18:00:27.820019Z",
     "start_time": "2022-07-04T18:00:09.937313Z"
    },
    "code_folding": []
   },
   "outputs": [],
   "source": [
    "# 將 檔名與特徵寫入 csv 檔\n",
    "\n",
    "aa = []\n",
    "for(dirpath, dirnames, filenames) in os.walk(audio_path):\n",
    "    for filename in filenames:\n",
    "            if filename.endswith('.wav') or filename.endswith('.WAV'):                \n",
    "                #取得 wav的檔名\n",
    "                index = filename.index('.')\n",
    "                filename = filename[:index]\n",
    "                aa.append(filename)\n",
    "\n",
    "a_list = list(audio)\n",
    "i = 0\n",
    "b = {}\n",
    "c = []\n",
    "for a in a_list:\n",
    "    b = {\"檔名\":aa[i],\"特徵\": a}\n",
    "    c.append(b)\n",
    "    i+=1\n",
    "col = [\"檔名\", \"特徵\"]\n",
    "try:\n",
    "    with open(audio_csv_path, 'w', newline='') as csvfile:\n",
    "        writer = csv.DictWriter(csvfile, fieldnames=col)\n",
    "        writer.writeheader()\n",
    "        #writer.writerow(['檔名','特徵'])\n",
    "\n",
    "        for data in c:\n",
    "            writer.writerow(data)\n",
    "except IOError:\n",
    "    print(\"I/O error\")\n"
   ]
  },
  {
   "cell_type": "code",
   "execution_count": 11,
   "id": "108a2fc3",
   "metadata": {
    "ExecuteTime": {
     "end_time": "2022-07-04T15:51:20.934271Z",
     "start_time": "2022-07-04T15:51:20.910371Z"
    },
    "code_folding": [
     0
    ]
   },
   "outputs": [
    {
     "data": {
      "text/html": [
       "<div>\n",
       "<style scoped>\n",
       "    .dataframe tbody tr th:only-of-type {\n",
       "        vertical-align: middle;\n",
       "    }\n",
       "\n",
       "    .dataframe tbody tr th {\n",
       "        vertical-align: top;\n",
       "    }\n",
       "\n",
       "    .dataframe thead th {\n",
       "        text-align: right;\n",
       "    }\n",
       "</style>\n",
       "<table border=\"1\" class=\"dataframe\">\n",
       "  <thead>\n",
       "    <tr style=\"text-align: right;\">\n",
       "      <th></th>\n",
       "      <th>檔名</th>\n",
       "      <th>請開</th>\n",
       "      <th>請關</th>\n",
       "      <th>請保持</th>\n",
       "      <th>其他</th>\n",
       "    </tr>\n",
       "  </thead>\n",
       "  <tbody>\n",
       "    <tr>\n",
       "      <th>0</th>\n",
       "      <td>1633056677</td>\n",
       "      <td>0</td>\n",
       "      <td>0</td>\n",
       "      <td>0</td>\n",
       "      <td>1</td>\n",
       "    </tr>\n",
       "    <tr>\n",
       "      <th>1</th>\n",
       "      <td>1648290403</td>\n",
       "      <td>0</td>\n",
       "      <td>0</td>\n",
       "      <td>0</td>\n",
       "      <td>1</td>\n",
       "    </tr>\n",
       "    <tr>\n",
       "      <th>2</th>\n",
       "      <td>1651108191</td>\n",
       "      <td>0</td>\n",
       "      <td>0</td>\n",
       "      <td>0</td>\n",
       "      <td>1</td>\n",
       "    </tr>\n",
       "    <tr>\n",
       "      <th>3</th>\n",
       "      <td>1632317974</td>\n",
       "      <td>0</td>\n",
       "      <td>0</td>\n",
       "      <td>0</td>\n",
       "      <td>1</td>\n",
       "    </tr>\n",
       "    <tr>\n",
       "      <th>4</th>\n",
       "      <td>1637285404</td>\n",
       "      <td>0</td>\n",
       "      <td>0</td>\n",
       "      <td>0</td>\n",
       "      <td>1</td>\n",
       "    </tr>\n",
       "    <tr>\n",
       "      <th>...</th>\n",
       "      <td>...</td>\n",
       "      <td>...</td>\n",
       "      <td>...</td>\n",
       "      <td>...</td>\n",
       "      <td>...</td>\n",
       "    </tr>\n",
       "    <tr>\n",
       "      <th>91143</th>\n",
       "      <td>1632585432</td>\n",
       "      <td>0</td>\n",
       "      <td>0</td>\n",
       "      <td>0</td>\n",
       "      <td>1</td>\n",
       "    </tr>\n",
       "    <tr>\n",
       "      <th>91144</th>\n",
       "      <td>1631260537</td>\n",
       "      <td>0</td>\n",
       "      <td>0</td>\n",
       "      <td>0</td>\n",
       "      <td>1</td>\n",
       "    </tr>\n",
       "    <tr>\n",
       "      <th>91145</th>\n",
       "      <td>1633837183</td>\n",
       "      <td>0</td>\n",
       "      <td>0</td>\n",
       "      <td>0</td>\n",
       "      <td>1</td>\n",
       "    </tr>\n",
       "    <tr>\n",
       "      <th>91146</th>\n",
       "      <td>1631060620</td>\n",
       "      <td>0</td>\n",
       "      <td>0</td>\n",
       "      <td>0</td>\n",
       "      <td>1</td>\n",
       "    </tr>\n",
       "    <tr>\n",
       "      <th>91147</th>\n",
       "      <td>1650519643</td>\n",
       "      <td>0</td>\n",
       "      <td>0</td>\n",
       "      <td>0</td>\n",
       "      <td>1</td>\n",
       "    </tr>\n",
       "  </tbody>\n",
       "</table>\n",
       "<p>91148 rows × 5 columns</p>\n",
       "</div>"
      ],
      "text/plain": [
       "               檔名  請開  請關  請保持  其他\n",
       "0      1633056677   0   0    0   1\n",
       "1      1648290403   0   0    0   1\n",
       "2      1651108191   0   0    0   1\n",
       "3      1632317974   0   0    0   1\n",
       "4      1637285404   0   0    0   1\n",
       "...           ...  ..  ..  ...  ..\n",
       "91143  1632585432   0   0    0   1\n",
       "91144  1631260537   0   0    0   1\n",
       "91145  1633837183   0   0    0   1\n",
       "91146  1631060620   0   0    0   1\n",
       "91147  1650519643   0   0    0   1\n",
       "\n",
       "[91148 rows x 5 columns]"
      ]
     },
     "execution_count": 11,
     "metadata": {},
     "output_type": "execute_result"
    }
   ],
   "source": [
    "#load label csv into pd to preview data\n",
    "labels = pd.read_csv(label_csv_path)\n",
    "labels"
   ]
  },
  {
   "cell_type": "code",
   "execution_count": 47,
   "id": "90ce388b",
   "metadata": {
    "ExecuteTime": {
     "end_time": "2022-07-04T18:01:04.486671Z",
     "start_time": "2022-07-04T18:01:04.275761Z"
    },
    "code_folding": [
     0
    ]
   },
   "outputs": [
    {
     "data": {
      "text/html": [
       "<div>\n",
       "<style scoped>\n",
       "    .dataframe tbody tr th:only-of-type {\n",
       "        vertical-align: middle;\n",
       "    }\n",
       "\n",
       "    .dataframe tbody tr th {\n",
       "        vertical-align: top;\n",
       "    }\n",
       "\n",
       "    .dataframe thead th {\n",
       "        text-align: right;\n",
       "    }\n",
       "</style>\n",
       "<table border=\"1\" class=\"dataframe\">\n",
       "  <thead>\n",
       "    <tr style=\"text-align: right;\">\n",
       "      <th></th>\n",
       "      <th>檔名</th>\n",
       "      <th>特徵</th>\n",
       "    </tr>\n",
       "  </thead>\n",
       "  <tbody>\n",
       "    <tr>\n",
       "      <th>0</th>\n",
       "      <td>1631855145</td>\n",
       "      <td>[[ 0.12715088  0.12715088  0.12715088 ...  0.1...</td>\n",
       "    </tr>\n",
       "    <tr>\n",
       "      <th>1</th>\n",
       "      <td>1619349620</td>\n",
       "      <td>[[ 0.06157185  0.06157185  0.06157185 ...  0.0...</td>\n",
       "    </tr>\n",
       "    <tr>\n",
       "      <th>2</th>\n",
       "      <td>1618415564</td>\n",
       "      <td>[[ 0.01064791  0.01064791  0.01064791 ...  0.0...</td>\n",
       "    </tr>\n",
       "    <tr>\n",
       "      <th>3</th>\n",
       "      <td>1627011377</td>\n",
       "      <td>[[ 0.15257801  0.15257801  0.15257801 ...  0.1...</td>\n",
       "    </tr>\n",
       "    <tr>\n",
       "      <th>4</th>\n",
       "      <td>1633141439</td>\n",
       "      <td>[[ 0.04986587  0.04986587  0.04986587 ...  0.0...</td>\n",
       "    </tr>\n",
       "    <tr>\n",
       "      <th>...</th>\n",
       "      <td>...</td>\n",
       "      <td>...</td>\n",
       "    </tr>\n",
       "    <tr>\n",
       "      <th>85479</th>\n",
       "      <td>1632813265</td>\n",
       "      <td>[[0.11326524 0.11326524 0.11326524 ... 0.11937...</td>\n",
       "    </tr>\n",
       "    <tr>\n",
       "      <th>85480</th>\n",
       "      <td>1619505028</td>\n",
       "      <td>[[ 0.04749758  0.04749758  0.04749758 ...  0.0...</td>\n",
       "    </tr>\n",
       "    <tr>\n",
       "      <th>85481</th>\n",
       "      <td>1642131941</td>\n",
       "      <td>[[ 0.1067288   0.1067288   0.1067288  ...  0.1...</td>\n",
       "    </tr>\n",
       "    <tr>\n",
       "      <th>85482</th>\n",
       "      <td>1642252224</td>\n",
       "      <td>[[ 4.2699456e-02  4.2699456e-02  4.2699456e-02...</td>\n",
       "    </tr>\n",
       "    <tr>\n",
       "      <th>85483</th>\n",
       "      <td>1630159174</td>\n",
       "      <td>[[ 0.06383675  0.06383675  0.06383675 ...  0.0...</td>\n",
       "    </tr>\n",
       "  </tbody>\n",
       "</table>\n",
       "<p>85484 rows × 2 columns</p>\n",
       "</div>"
      ],
      "text/plain": [
       "               檔名                                                 特徵\n",
       "0      1631855145  [[ 0.12715088  0.12715088  0.12715088 ...  0.1...\n",
       "1      1619349620  [[ 0.06157185  0.06157185  0.06157185 ...  0.0...\n",
       "2      1618415564  [[ 0.01064791  0.01064791  0.01064791 ...  0.0...\n",
       "3      1627011377  [[ 0.15257801  0.15257801  0.15257801 ...  0.1...\n",
       "4      1633141439  [[ 0.04986587  0.04986587  0.04986587 ...  0.0...\n",
       "...           ...                                                ...\n",
       "85479  1632813265  [[0.11326524 0.11326524 0.11326524 ... 0.11937...\n",
       "85480  1619505028  [[ 0.04749758  0.04749758  0.04749758 ...  0.0...\n",
       "85481  1642131941  [[ 0.1067288   0.1067288   0.1067288  ...  0.1...\n",
       "85482  1642252224  [[ 4.2699456e-02  4.2699456e-02  4.2699456e-02...\n",
       "85483  1630159174  [[ 0.06383675  0.06383675  0.06383675 ...  0.0...\n",
       "\n",
       "[85484 rows x 2 columns]"
      ]
     },
     "execution_count": 47,
     "metadata": {},
     "output_type": "execute_result"
    }
   ],
   "source": [
    "#load audio csv into pd to preview data\n",
    "audios = pd.read_csv(audio_csv_path)\n",
    "audios"
   ]
  },
  {
   "cell_type": "code",
   "execution_count": null,
   "id": "c9880eb8",
   "metadata": {
    "ExecuteTime": {
     "end_time": "2022-06-29T06:50:34.844258Z",
     "start_time": "2022-06-29T06:50:08.123275Z"
    },
    "code_folding": [
     0
    ]
   },
   "outputs": [],
   "source": [
    "# combine all csvs into one\n",
    "def return_contents(file_name):\n",
    "    with open(file_name) as infile:\n",
    "        reader = csv.reader(infile)\n",
    "        return list(reader)\n",
    "\n",
    "all_files = os.listdir('dataset/data_sr/audio_sample')\n",
    "combined_output = []\n",
    "\n",
    "for file in all_files:\n",
    "    data = return_contents('dataset/data_sr/audio_sample/{}'.format(file))\n",
    "    for row in data:\n",
    "        combined_output.extend(row)\n",
    "\n",
    "with open('dataset/data_sr/audio_sample.csv', 'w', newline='') as outfile:\n",
    "    writer = csv.writer(outfile)\n",
    "    writer.writerow(combined_output)"
   ]
  },
  {
   "cell_type": "code",
   "execution_count": null,
   "id": "406a1da8",
   "metadata": {
    "ExecuteTime": {
     "start_time": "2022-06-29T07:16:22.469Z"
    },
    "code_folding": [
     0
    ]
   },
   "outputs": [],
   "source": [
    "# read all audio sample csv\n",
    "audio_csvs_path = 'dataset/data_sr/audio_sample'\n",
    "csv = glob.glob(audio_csvs_path + \"/*.csv\")\n",
    "\n",
    "li = []\n",
    "for filename in csv:\n",
    "    df = pd.read_csv(filename, index_col=None, header=0)\n",
    "    li.append(df)\n",
    "    \n",
    "df = pd.concat(li, axis=0, ignore_index=True)\n",
    "df.head()"
   ]
  },
  {
   "cell_type": "code",
   "execution_count": null,
   "id": "e8add7c9",
   "metadata": {
    "ExecuteTime": {
     "end_time": "2022-06-29T05:51:37.326016Z",
     "start_time": "2022-06-29T05:51:00.199942Z"
    },
    "code_folding": [
     0
    ]
   },
   "outputs": [],
   "source": [
    "# using python_speech_features to extract mfcc feartures\n",
    "from python_speech_features import mfcc\n",
    "from python_speech_features import logfbank\n",
    "import scipy.io.wavfile as wav\n",
    "import numpy\n",
    "import os\n",
    "\n",
    "# directory where we your .wav files are\n",
    "directoryName = \"dataset/data_sr/train\" # put your own directory here\n",
    "# directory to put our results in, you can change the name if you like\n",
    "resultsDirectory = 'dataset/data_sr/audio_sample'\n",
    "\n",
    "# make a new folder in this directory to save our results in\n",
    "if not os.path.exists(resultsDirectory):\n",
    "    os.makedirs(resultsDirectory)\n",
    "\n",
    "# get MFCCs for every .wav file in our specified directory \n",
    "for filename in os.listdir(directoryName):\n",
    "    if filename.endswith('.wav'): # only get MFCCs from .wavs\n",
    "        # read in our file\n",
    "        '''\n",
    "        try:\n",
    "            (rate,sig) = wav.read(directoryName + \"/\" +filename)\n",
    "        except ValueError:\n",
    "            continue\n",
    "        # get mfcc\n",
    "        mfcc_feat = mfcc(sig,rate)\n",
    "\n",
    "        # get filterbank energies\n",
    "        fbank_feat = logfbank(sig,rate)\n",
    "        '''\n",
    "        # create a file to save our results in\n",
    "       \n",
    "        outputFile = resultsDirectory + \"/\" + os.path.splitext(filename)[0] + \".csv\"\n",
    "        file = open(outputFile, 'w+') # make file/over write existing file\n",
    "        numpy.savetxt(file, fbank_feat, delimiter=\",\") #save MFCCs as .csv\n",
    "        file.close() # close file"
   ]
  },
  {
   "cell_type": "code",
   "execution_count": 44,
   "id": "24c3d12d",
   "metadata": {
    "ExecuteTime": {
     "end_time": "2022-07-04T07:52:44.864601Z",
     "start_time": "2022-07-04T07:52:44.114911Z"
    },
    "code_folding": [
     0
    ],
    "collapsed": true
   },
   "outputs": [
    {
     "name": "stdout",
     "output_type": "stream",
     "text": [
      "(20, 73)\n",
      "(20, 73)\n"
     ]
    },
    {
     "name": "stderr",
     "output_type": "stream",
     "text": [
      "/tmp/ipykernel_25494/3710940075.py:15: FutureWarning: Pass y=[ 0.00934298  0.00031414 -0.01070536 ... -0.03821031 -0.04278069\n",
      " -0.02737672] as keyword args. From version 0.10 passing these as positional arguments will result in an error\n",
      "  mfccs = librosa.feature.mfcc(x, sr=fs)\n"
     ]
    },
    {
     "data": {
      "image/png": "[encoded data removed]",
      "text/plain": [
       "<Figure size 1008x360 with 1 Axes>"
      ]
     },
     "metadata": {
      "needs_background": "light"
     },
     "output_type": "display_data"
    },
    {
     "data": {
      "image/png": "[encoded data removed]",
      "text/plain": [
       "<Figure size 1008x360 with 1 Axes>"
      ]
     },
     "metadata": {
      "needs_background": "light"
     },
     "output_type": "display_data"
    },
    {
     "data": {
      "image/png": "[encoded data removed]",
      "text/plain": [
       "<Figure size 1080x504 with 1 Axes>"
      ]
     },
     "metadata": {
      "needs_background": "light"
     },
     "output_type": "display_data"
    }
   ],
   "source": [
    "# using librosa to extract mfcc features\n",
    "x, sr = librosa.load(wavs[0])\n",
    "\n",
    "#Plot the signal:\n",
    "plt.figure(figsize=(14, 5))\n",
    "librosa.display.waveshow(x, sr=sr)\n",
    "# Zooming in\n",
    "n0 = 9000\n",
    "n1 = 9100\n",
    "plt.figure(figsize=(14, 5))\n",
    "plt.plot(x[n0:n1])\n",
    "plt.grid()\n",
    "\n",
    "fs=10\n",
    "mfccs = librosa.feature.mfcc(x, sr=fs)\n",
    "\n",
    "print(mfccs.shape)\n",
    "#Displaying  the MFCCs:\n",
    "plt.figure(figsize=(15, 7))\n",
    "librosa.display.specshow(mfccs, sr=sr, x_axis='time')"
   ]
  }
 ],
 "metadata": {
  "hide_input": false,
  "kernelspec": {
   "display_name": "SR",
   "language": "python",
   "name": "sr"
  },
  "language_info": {
   "codemirror_mode": {
    "name": "ipython",
    "version": 3
   },
   "file_extension": ".py",
   "mimetype": "text/x-python",
   "name": "python",
   "nbconvert_exporter": "python",
   "pygments_lexer": "ipython3",
   "version": "3.8.13"
  },
  "toc": {
   "base_numbering": 1,
   "nav_menu": {},
   "number_sections": true,
   "sideBar": true,
   "skip_h1_title": false,
   "title_cell": "Table of Contents",
   "title_sidebar": "Contents",
   "toc_cell": false,
   "toc_position": {},
   "toc_section_display": true,
   "toc_window_display": false
  },
  "varInspector": {
   "cols": {
    "lenName": 16,
    "lenType": 16,
    "lenVar": 40
   },
   "kernels_config": {
    "python": {
     "delete_cmd_postfix": "",
     "delete_cmd_prefix": "del ",
     "library": "var_list.py",
     "varRefreshCmd": "print(var_dic_list())"
    },
    "r": {
     "delete_cmd_postfix": ") ",
     "delete_cmd_prefix": "rm(",
     "library": "var_list.r",
     "varRefreshCmd": "cat(var_dic_list()) "
    }
   },
   "types_to_exclude": [
    "module",
    "function",
    "builtin_function_or_method",
    "instance",
    "_Feature"
   ],
   "window_display": false
  }
 },
 "nbformat": 4,
 "nbformat_minor": 5
}
