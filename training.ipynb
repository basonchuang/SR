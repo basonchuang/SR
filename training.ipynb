{
 "cells": [
  {
   "cell_type": "code",
   "execution_count": 1,
   "id": "d4dc6363",
   "metadata": {
    "ExecuteTime": {
     "end_time": "2022-07-14T18:28:36.360833Z",
     "start_time": "2022-07-14T18:28:35.965337Z"
    }
   },
   "outputs": [
    {
     "name": "stderr",
     "output_type": "stream",
     "text": [
      "Using TensorFlow backend.\n"
     ]
    }
   ],
   "source": [
    "import numpy as np\n",
    "import pandas as pd\n",
    "import tensorflow as tf\n",
    "import matplotlib.pyplot as plt\n",
    "import os, librosa, csv\n",
    "from sklearn.model_selection import train_test_split\n",
    "from sklearn.preprocessing import StandardScaler\n",
    "from keras.models import Sequential\n",
    "from keras.layers import Dense, Dropout, LSTM, Flatten\n",
    "from tqdm import tqdm"
   ]
  },
  {
   "cell_type": "code",
   "execution_count": 24,
   "id": "f0a4336c",
   "metadata": {
    "ExecuteTime": {
     "end_time": "2022-07-14T15:31:54.658597Z",
     "start_time": "2022-07-14T15:31:54.231406Z"
    }
   },
   "outputs": [
    {
     "name": "stderr",
     "output_type": "stream",
     "text": [
      "2022-07-16 19:13:03.881031: I tensorflow/stream_executor/cuda/cuda_gpu_executor.cc:981] successful NUMA node read from SysFS had negative value (-1), but there must be at least one NUMA node, so returning NUMA node zero\n",
      "2022-07-16 19:13:03.881130: I tensorflow/core/common_runtime/gpu/gpu_device.cc:1561] Found device 0 with properties: \n",
      "pciBusID: 0000:01:00.0 name: NVIDIA GeForce RTX 3090 computeCapability: 8.6\n",
      "coreClock: 1.695GHz coreCount: 82 deviceMemorySize: 23.70GiB deviceMemoryBandwidth: 871.81GiB/s\n",
      "2022-07-16 19:13:03.881173: I tensorflow/stream_executor/platform/default/dso_loader.cc:44] Successfully opened dynamic library libcudart.so.10.1\n",
      "2022-07-16 19:13:03.881186: I tensorflow/stream_executor/platform/default/dso_loader.cc:44] Successfully opened dynamic library libcublas.so.10\n",
      "2022-07-16 19:13:03.881198: I tensorflow/stream_executor/platform/default/dso_loader.cc:44] Successfully opened dynamic library libcufft.so.10\n",
      "2022-07-16 19:13:03.881210: I tensorflow/stream_executor/platform/default/dso_loader.cc:44] Successfully opened dynamic library libcurand.so.10\n",
      "2022-07-16 19:13:03.881221: I tensorflow/stream_executor/platform/default/dso_loader.cc:44] Successfully opened dynamic library libcusolver.so.10\n",
      "2022-07-16 19:13:03.881232: I tensorflow/stream_executor/platform/default/dso_loader.cc:44] Successfully opened dynamic library libcusparse.so.10\n",
      "2022-07-16 19:13:03.881244: I tensorflow/stream_executor/platform/default/dso_loader.cc:44] Successfully opened dynamic library libcudnn.so.7\n",
      "2022-07-16 19:13:03.881293: I tensorflow/stream_executor/cuda/cuda_gpu_executor.cc:981] successful NUMA node read from SysFS had negative value (-1), but there must be at least one NUMA node, so returning NUMA node zero\n",
      "2022-07-16 19:13:03.881377: I tensorflow/stream_executor/cuda/cuda_gpu_executor.cc:981] successful NUMA node read from SysFS had negative value (-1), but there must be at least one NUMA node, so returning NUMA node zero\n",
      "2022-07-16 19:13:03.881425: I tensorflow/core/common_runtime/gpu/gpu_device.cc:1703] Adding visible gpu devices: 0\n",
      "2022-07-16 19:13:04.033458: I tensorflow/core/common_runtime/gpu/gpu_device.cc:1102] Device interconnect StreamExecutor with strength 1 edge matrix:\n",
      "2022-07-16 19:13:04.033476: I tensorflow/core/common_runtime/gpu/gpu_device.cc:1108]      0 \n",
      "2022-07-16 19:13:04.033480: I tensorflow/core/common_runtime/gpu/gpu_device.cc:1121] 0:   N \n",
      "2022-07-16 19:13:04.033614: I tensorflow/stream_executor/cuda/cuda_gpu_executor.cc:981] successful NUMA node read from SysFS had negative value (-1), but there must be at least one NUMA node, so returning NUMA node zero\n",
      "2022-07-16 19:13:04.033729: I tensorflow/stream_executor/cuda/cuda_gpu_executor.cc:981] successful NUMA node read from SysFS had negative value (-1), but there must be at least one NUMA node, so returning NUMA node zero\n",
      "2022-07-16 19:13:04.033813: I tensorflow/stream_executor/cuda/cuda_gpu_executor.cc:981] successful NUMA node read from SysFS had negative value (-1), but there must be at least one NUMA node, so returning NUMA node zero\n",
      "2022-07-16 19:13:04.033877: I tensorflow/core/common_runtime/gpu/gpu_device.cc:1247] Created TensorFlow device (/job:localhost/replica:0/task:0/device:GPU:0 with 4096 MB memory) -> physical GPU (device: 0, name: NVIDIA GeForce RTX 3090, pci bus id: 0000:01:00.0, compute capability: 8.6)\n",
      "2022-07-16 19:13:04.035809: I tensorflow/compiler/xla/service/service.cc:168] XLA service 0x56326b935450 initialized for platform CUDA (this does not guarantee that XLA will be used). Devices:\n",
      "2022-07-16 19:13:04.035819: I tensorflow/compiler/xla/service/service.cc:176]   StreamExecutor device (0): NVIDIA GeForce RTX 3090, Compute Capability 8.6\n"
     ]
    }
   ],
   "source": [
    "physical_gpus = tf.config.list_physical_devices(\"GPU\")\n",
    "tf.config.experimental.set_virtual_device_configuration(\n",
    "    physical_gpus[0],\n",
    "    [tf.config.experimental.VirtualDeviceConfiguration(memory_limit=4096)] \n",
    ")\n",
    "logical_gpus = tf.config.list_logical_devices(\"GPU\")"
   ]
  },
  {
   "cell_type": "code",
   "execution_count": 2,
   "id": "974d5e1d",
   "metadata": {
    "ExecuteTime": {
     "end_time": "2022-07-15T08:46:25.782544Z",
     "start_time": "2022-07-15T08:46:25.780072Z"
    }
   },
   "outputs": [],
   "source": [
    "#x_path = \"dataset/data_sr/audio_sample.csv\"\n",
    "x_path = \"dataset/data_sr/audio_sample.csv\"\n",
    "y_path = \"dataset/data_sr/label_sample.csv\""
   ]
  },
  {
   "cell_type": "code",
   "execution_count": 3,
   "id": "41874fae",
   "metadata": {
    "ExecuteTime": {
     "end_time": "2022-07-15T08:46:30.430563Z",
     "start_time": "2022-07-15T08:46:30.189633Z"
    }
   },
   "outputs": [],
   "source": [
    "x = pd.read_csv(x_path)\n",
    "y = pd.read_csv(y_path)"
   ]
  },
  {
   "cell_type": "code",
   "execution_count": 4,
   "id": "e73c8116",
   "metadata": {
    "ExecuteTime": {
     "end_time": "2022-07-15T08:46:34.850923Z",
     "start_time": "2022-07-15T08:46:34.846559Z"
    }
   },
   "outputs": [
    {
     "data": {
      "text/html": [
       "<div>\n",
       "<style scoped>\n",
       "    .dataframe tbody tr th:only-of-type {\n",
       "        vertical-align: middle;\n",
       "    }\n",
       "\n",
       "    .dataframe tbody tr th {\n",
       "        vertical-align: top;\n",
       "    }\n",
       "\n",
       "    .dataframe thead th {\n",
       "        text-align: right;\n",
       "    }\n",
       "</style>\n",
       "<table border=\"1\" class=\"dataframe\">\n",
       "  <thead>\n",
       "    <tr style=\"text-align: right;\">\n",
       "      <th></th>\n",
       "      <th>檔名</th>\n",
       "      <th>特徵</th>\n",
       "    </tr>\n",
       "  </thead>\n",
       "  <tbody>\n",
       "    <tr>\n",
       "      <th>0</th>\n",
       "      <td>1631855145</td>\n",
       "      <td>[[ 0.12715088  0.12715088  0.12715088 ...  0.1...</td>\n",
       "    </tr>\n",
       "    <tr>\n",
       "      <th>1</th>\n",
       "      <td>1619349620</td>\n",
       "      <td>[[ 0.06157185  0.06157185  0.06157185 ...  0.0...</td>\n",
       "    </tr>\n",
       "    <tr>\n",
       "      <th>2</th>\n",
       "      <td>1618415564</td>\n",
       "      <td>[[ 0.01064791  0.01064791  0.01064791 ...  0.0...</td>\n",
       "    </tr>\n",
       "    <tr>\n",
       "      <th>3</th>\n",
       "      <td>1627011377</td>\n",
       "      <td>[[ 0.15257801  0.15257801  0.15257801 ...  0.1...</td>\n",
       "    </tr>\n",
       "    <tr>\n",
       "      <th>4</th>\n",
       "      <td>1633141439</td>\n",
       "      <td>[[ 0.04986587  0.04986587  0.04986587 ...  0.0...</td>\n",
       "    </tr>\n",
       "  </tbody>\n",
       "</table>\n",
       "</div>"
      ],
      "text/plain": [
       "           檔名                                                 特徵\n",
       "0  1631855145  [[ 0.12715088  0.12715088  0.12715088 ...  0.1...\n",
       "1  1619349620  [[ 0.06157185  0.06157185  0.06157185 ...  0.0...\n",
       "2  1618415564  [[ 0.01064791  0.01064791  0.01064791 ...  0.0...\n",
       "3  1627011377  [[ 0.15257801  0.15257801  0.15257801 ...  0.1...\n",
       "4  1633141439  [[ 0.04986587  0.04986587  0.04986587 ...  0.0..."
      ]
     },
     "execution_count": 4,
     "metadata": {},
     "output_type": "execute_result"
    }
   ],
   "source": [
    "#x[\"特徵\"] = pd.to_numeric(x[\"特徵\"], errors='coerce')\n",
    "x.head()"
   ]
  },
  {
   "cell_type": "code",
   "execution_count": 5,
   "id": "28a056cd",
   "metadata": {},
   "outputs": [
    {
     "name": "stdout",
     "output_type": "stream",
     "text": [
      "檔名     int64\n",
      "特徵    object\n",
      "dtype: object\n"
     ]
    }
   ],
   "source": [
    "print(x.dtypes)"
   ]
  },
  {
   "cell_type": "code",
   "execution_count": 6,
   "id": "c774ca51",
   "metadata": {},
   "outputs": [],
   "source": [
    "\n",
    "#x[\"特徵\"] = pd.to_numeric(x[\"特徵\"])"
   ]
  },
  {
   "cell_type": "code",
   "execution_count": 9,
   "id": "75f344a2",
   "metadata": {
    "ExecuteTime": {
     "end_time": "2022-07-15T08:46:39.545167Z",
     "start_time": "2022-07-15T08:46:39.540394Z"
    }
   },
   "outputs": [
    {
     "data": {
      "text/html": [
       "<div>\n",
       "<style scoped>\n",
       "    .dataframe tbody tr th:only-of-type {\n",
       "        vertical-align: middle;\n",
       "    }\n",
       "\n",
       "    .dataframe tbody tr th {\n",
       "        vertical-align: top;\n",
       "    }\n",
       "\n",
       "    .dataframe thead th {\n",
       "        text-align: right;\n",
       "    }\n",
       "</style>\n",
       "<table border=\"1\" class=\"dataframe\">\n",
       "  <thead>\n",
       "    <tr style=\"text-align: right;\">\n",
       "      <th></th>\n",
       "      <th>檔名</th>\n",
       "      <th>請開</th>\n",
       "      <th>請關</th>\n",
       "      <th>請保持</th>\n",
       "      <th>其他</th>\n",
       "    </tr>\n",
       "  </thead>\n",
       "  <tbody>\n",
       "    <tr>\n",
       "      <th>0</th>\n",
       "      <td>1633056677</td>\n",
       "      <td>0</td>\n",
       "      <td>0</td>\n",
       "      <td>0</td>\n",
       "      <td>1</td>\n",
       "    </tr>\n",
       "    <tr>\n",
       "      <th>1</th>\n",
       "      <td>1648290403</td>\n",
       "      <td>0</td>\n",
       "      <td>0</td>\n",
       "      <td>0</td>\n",
       "      <td>1</td>\n",
       "    </tr>\n",
       "    <tr>\n",
       "      <th>2</th>\n",
       "      <td>1651108191</td>\n",
       "      <td>0</td>\n",
       "      <td>0</td>\n",
       "      <td>0</td>\n",
       "      <td>1</td>\n",
       "    </tr>\n",
       "    <tr>\n",
       "      <th>3</th>\n",
       "      <td>1632317974</td>\n",
       "      <td>0</td>\n",
       "      <td>0</td>\n",
       "      <td>0</td>\n",
       "      <td>1</td>\n",
       "    </tr>\n",
       "    <tr>\n",
       "      <th>4</th>\n",
       "      <td>1637285404</td>\n",
       "      <td>0</td>\n",
       "      <td>0</td>\n",
       "      <td>0</td>\n",
       "      <td>1</td>\n",
       "    </tr>\n",
       "  </tbody>\n",
       "</table>\n",
       "</div>"
      ],
      "text/plain": [
       "           檔名  請開  請關  請保持  其他\n",
       "0  1633056677   0   0    0   1\n",
       "1  1648290403   0   0    0   1\n",
       "2  1651108191   0   0    0   1\n",
       "3  1632317974   0   0    0   1\n",
       "4  1637285404   0   0    0   1"
      ]
     },
     "execution_count": 9,
     "metadata": {},
     "output_type": "execute_result"
    }
   ],
   "source": [
    "y.head()"
   ]
  },
  {
   "cell_type": "code",
   "execution_count": 10,
   "id": "c5019bae",
   "metadata": {
    "ExecuteTime": {
     "end_time": "2022-07-15T08:46:44.291218Z",
     "start_time": "2022-07-15T08:46:44.274672Z"
    }
   },
   "outputs": [],
   "source": [
    "df = pd.merge(x,y, how=\"left\", left_on=\"檔名\", right_on=\"檔名\")"
   ]
  },
  {
   "cell_type": "code",
   "execution_count": 11,
   "id": "629cd2a9",
   "metadata": {
    "ExecuteTime": {
     "end_time": "2022-07-15T08:46:48.992617Z",
     "start_time": "2022-07-15T08:46:48.982205Z"
    }
   },
   "outputs": [
    {
     "data": {
      "text/html": [
       "<div>\n",
       "<style scoped>\n",
       "    .dataframe tbody tr th:only-of-type {\n",
       "        vertical-align: middle;\n",
       "    }\n",
       "\n",
       "    .dataframe tbody tr th {\n",
       "        vertical-align: top;\n",
       "    }\n",
       "\n",
       "    .dataframe thead th {\n",
       "        text-align: right;\n",
       "    }\n",
       "</style>\n",
       "<table border=\"1\" class=\"dataframe\">\n",
       "  <thead>\n",
       "    <tr style=\"text-align: right;\">\n",
       "      <th></th>\n",
       "      <th>檔名</th>\n",
       "      <th>特徵</th>\n",
       "      <th>請開</th>\n",
       "      <th>請關</th>\n",
       "      <th>請保持</th>\n",
       "      <th>其他</th>\n",
       "    </tr>\n",
       "  </thead>\n",
       "  <tbody>\n",
       "    <tr>\n",
       "      <th>0</th>\n",
       "      <td>1631855145</td>\n",
       "      <td>[[ 0.12715088  0.12715088  0.12715088 ...  0.1...</td>\n",
       "      <td>0.0</td>\n",
       "      <td>0.0</td>\n",
       "      <td>0.0</td>\n",
       "      <td>1.0</td>\n",
       "    </tr>\n",
       "    <tr>\n",
       "      <th>1</th>\n",
       "      <td>1619349620</td>\n",
       "      <td>[[ 0.06157185  0.06157185  0.06157185 ...  0.0...</td>\n",
       "      <td>1.0</td>\n",
       "      <td>0.0</td>\n",
       "      <td>0.0</td>\n",
       "      <td>0.0</td>\n",
       "    </tr>\n",
       "    <tr>\n",
       "      <th>2</th>\n",
       "      <td>1618415564</td>\n",
       "      <td>[[ 0.01064791  0.01064791  0.01064791 ...  0.0...</td>\n",
       "      <td>0.0</td>\n",
       "      <td>0.0</td>\n",
       "      <td>0.0</td>\n",
       "      <td>1.0</td>\n",
       "    </tr>\n",
       "    <tr>\n",
       "      <th>3</th>\n",
       "      <td>1627011377</td>\n",
       "      <td>[[ 0.15257801  0.15257801  0.15257801 ...  0.1...</td>\n",
       "      <td>0.0</td>\n",
       "      <td>0.0</td>\n",
       "      <td>0.0</td>\n",
       "      <td>1.0</td>\n",
       "    </tr>\n",
       "    <tr>\n",
       "      <th>4</th>\n",
       "      <td>1633141439</td>\n",
       "      <td>[[ 0.04986587  0.04986587  0.04986587 ...  0.0...</td>\n",
       "      <td>0.0</td>\n",
       "      <td>0.0</td>\n",
       "      <td>0.0</td>\n",
       "      <td>1.0</td>\n",
       "    </tr>\n",
       "  </tbody>\n",
       "</table>\n",
       "</div>"
      ],
      "text/plain": [
       "           檔名                                                 特徵   請開   請關  \\\n",
       "0  1631855145  [[ 0.12715088  0.12715088  0.12715088 ...  0.1...  0.0  0.0   \n",
       "1  1619349620  [[ 0.06157185  0.06157185  0.06157185 ...  0.0...  1.0  0.0   \n",
       "2  1618415564  [[ 0.01064791  0.01064791  0.01064791 ...  0.0...  0.0  0.0   \n",
       "3  1627011377  [[ 0.15257801  0.15257801  0.15257801 ...  0.1...  0.0  0.0   \n",
       "4  1633141439  [[ 0.04986587  0.04986587  0.04986587 ...  0.0...  0.0  0.0   \n",
       "\n",
       "   請保持   其他  \n",
       "0  0.0  1.0  \n",
       "1  0.0  0.0  \n",
       "2  0.0  1.0  \n",
       "3  0.0  1.0  \n",
       "4  0.0  1.0  "
      ]
     },
     "execution_count": 11,
     "metadata": {},
     "output_type": "execute_result"
    }
   ],
   "source": [
    "df.head()"
   ]
  },
  {
   "cell_type": "code",
   "execution_count": 12,
   "id": "bb7013cc",
   "metadata": {
    "ExecuteTime": {
     "end_time": "2022-07-15T08:46:53.720193Z",
     "start_time": "2022-07-15T08:46:53.717181Z"
    }
   },
   "outputs": [
    {
     "data": {
      "text/plain": [
       "(91652, 6)"
      ]
     },
     "execution_count": 12,
     "metadata": {},
     "output_type": "execute_result"
    }
   ],
   "source": [
    "df.shape"
   ]
  },
  {
   "cell_type": "code",
   "execution_count": 13,
   "id": "f3c9af2c",
   "metadata": {
    "ExecuteTime": {
     "end_time": "2022-07-15T08:46:58.432324Z",
     "start_time": "2022-07-15T08:46:58.420433Z"
    }
   },
   "outputs": [],
   "source": [
    "df = df.dropna()"
   ]
  },
  {
   "cell_type": "code",
   "execution_count": 14,
   "id": "0193f35f",
   "metadata": {
    "ExecuteTime": {
     "end_time": "2022-07-15T08:47:03.088034Z",
     "start_time": "2022-07-15T08:47:03.081012Z"
    }
   },
   "outputs": [
    {
     "data": {
      "text/plain": [
       "(91110, 6)"
      ]
     },
     "execution_count": 14,
     "metadata": {},
     "output_type": "execute_result"
    }
   ],
   "source": [
    "df.shape"
   ]
  },
  {
   "cell_type": "code",
   "execution_count": 37,
   "id": "85f4d801",
   "metadata": {
    "ExecuteTime": {
     "end_time": "2022-07-15T08:47:07.787364Z",
     "start_time": "2022-07-15T08:47:07.783595Z"
    }
   },
   "outputs": [],
   "source": [
    "# X values -> don't read string, read float\n",
    "X = df[df.columns[1]].values\n",
    "y = df[df.columns[2:6]].values"
   ]
  },
  {
   "cell_type": "code",
   "execution_count": 16,
   "id": "55d4f653",
   "metadata": {},
   "outputs": [],
   "source": [
    "#a = X.tobytes()\n",
    "#X = np.frombuffer(a, dtype=float)"
   ]
  },
  {
   "cell_type": "code",
   "execution_count": 38,
   "id": "7ef291a2",
   "metadata": {},
   "outputs": [
    {
     "name": "stdout",
     "output_type": "stream",
     "text": [
      "['[[ 0.12715088  0.12715088  0.12715088 ...  0.10713703  0.00662959\\n   0.12239534]\\n [ 0.12715088  0.12715088  0.12715088 ...  0.1450959  -0.11178505\\n  -0.04536566]\\n [ 0.12715088  0.12715088  0.12715088 ...  0.15172765  0.05275317\\n   0.15467575]\\n ...\\n [ 1.6946012  -0.009485   -0.5138868  ...  0.12715088  0.12715088\\n   0.12715088]\\n [ 1.6336005   0.1152609  -0.7340485  ...  0.12715088  0.12715088\\n   0.12715088]\\n [ 1.6119637  -0.05145656 -0.8914775  ...  0.12715088  0.12715088\\n   0.12715088]]'\n",
      " '[[ 0.06157185  0.06157185  0.06157185 ...  0.05296574  0.06363794\\n  -0.01879503]\\n [ 0.06157185  0.06157185  0.06157185 ...  0.07545546  0.14161375\\n  -0.04537746]\\n [ 0.06157185  0.06157185  0.06157185 ...  0.08640184  0.07667358\\n  -0.09694857]\\n ...\\n [ 0.          0.          0.         ...  0.          0.\\n   0.        ]\\n [ 0.          0.          0.         ...  0.          0.\\n   0.        ]\\n [ 0.          0.          0.         ...  0.          0.\\n   0.        ]]'\n",
      " '[[ 0.01064791  0.01064791  0.01064791 ...  0.01712668  0.0469002\\n  -0.09910088]\\n [ 0.01064791  0.01064791  0.01064791 ...  0.02180739 -0.02104563\\n  -0.17089342]\\n [ 0.01064791  0.01064791  0.01064791 ...  0.02724262  0.01500858\\n  -0.158233  ]\\n ...\\n [ 0.          0.          0.         ...  0.          0.\\n   0.        ]\\n [ 0.          0.          0.         ...  0.          0.\\n   0.        ]\\n [ 0.          0.          0.         ...  0.          0.\\n   0.        ]]'\n",
      " ...\n",
      " '[[ 0.1067288   0.1067288   0.1067288  ...  0.1174033   0.17589423\\n   0.09069744]\\n [ 0.1067288   0.1067288   0.1067288  ...  0.12080994  0.00885105\\n  -0.13225068]\\n [ 0.1067288   0.1067288   0.1067288  ...  0.11466141 -0.03965762\\n  -0.26080617]\\n ...\\n [ 0.          0.          0.         ...  0.          0.\\n   0.        ]\\n [ 0.          0.          0.         ...  0.          0.\\n   0.        ]\\n [ 0.          0.          0.         ...  0.          0.\\n   0.        ]]'\n",
      " '[[ 4.2699456e-02  4.2699456e-02  4.2699456e-02 ...  9.5978074e-02\\n   1.7447667e-01  4.1581118e-01]\\n [ 4.2699456e-02  4.2699456e-02  4.2699456e-02 ...  7.5144082e-02\\n  -1.5736269e-03  2.6708335e-01]\\n [ 4.2699456e-02  4.2699456e-02  4.2699456e-02 ...  6.2463693e-02\\n   2.5696668e-03  1.6266058e-01]\\n ...\\n [ 1.9330821e+00  2.0791483e+00  4.2713767e-01 ...  4.2699456e-02\\n   4.2699456e-02  4.2699456e-02]\\n [ 1.8952501e+00  2.2130780e+00  4.4884783e-01 ...  4.2699456e-02\\n   4.2699456e-02  4.2699456e-02]\\n [ 1.8927047e+00  2.2416692e+00  7.3794973e-01 ...  4.2699456e-02\\n   4.2699456e-02  4.2699456e-02]]'\n",
      " '[[ 0.06383675  0.06383675  0.06383675 ...  0.04278659  0.10868272\\n   0.03979727]\\n [ 0.06383675  0.06383675  0.06383675 ...  0.05128792  0.13179624\\n  -0.06098617]\\n [ 0.06383675  0.06383675  0.06383675 ...  0.02741614  0.11488978\\n   0.03138211]\\n ...\\n [ 0.          0.          0.         ...  0.          0.\\n   0.        ]\\n [ 0.          0.          0.         ...  0.          0.\\n   0.        ]\\n [ 0.          0.          0.         ...  0.          0.\\n   0.        ]]']\n"
     ]
    }
   ],
   "source": [
    "print(X)"
   ]
  },
  {
   "cell_type": "code",
   "execution_count": 39,
   "id": "54eb72ba",
   "metadata": {
    "ExecuteTime": {
     "end_time": "2022-07-15T08:47:12.512514Z",
     "start_time": "2022-07-15T08:47:12.509787Z"
    }
   },
   "outputs": [
    {
     "data": {
      "text/plain": [
       "((91110,), (91110, 4))"
      ]
     },
     "execution_count": 39,
     "metadata": {},
     "output_type": "execute_result"
    }
   ],
   "source": [
    "X.shape, y.shape"
   ]
  },
  {
   "cell_type": "code",
   "execution_count": 40,
   "id": "f55d69c6",
   "metadata": {
    "ExecuteTime": {
     "end_time": "2022-07-15T08:47:17.121829Z",
     "start_time": "2022-07-15T08:47:17.106490Z"
    }
   },
   "outputs": [],
   "source": [
    "X_train, X_temp, y_train, y_temp = train_test_split(X, y, test_size=0.4, random_state=0)\n",
    "X_valid, X_test, y_valid, y_test = train_test_split(X_temp, y_temp, test_size=0.5, random_state=0)"
   ]
  },
  {
   "cell_type": "code",
   "execution_count": 41,
   "id": "7cbe7ca3",
   "metadata": {
    "ExecuteTime": {
     "end_time": "2022-07-15T08:47:21.828930Z",
     "start_time": "2022-07-15T08:47:21.826450Z"
    }
   },
   "outputs": [],
   "source": [
    "X_train = np.reshape(X_train, (X_train.shape[0], 1))\n",
    "#X_train.reshape((X_train[0]), 1)\n",
    "#X_train.reshape((-1, 1, 108, 494))\n",
    "X_test = np.reshape(X_test, (X_test.shape[0], 1))\n",
    "X_valid = np.reshape(X_valid, (X_valid.shape[0], 1))"
   ]
  },
  {
   "cell_type": "code",
   "execution_count": 42,
   "id": "9020d87b",
   "metadata": {},
   "outputs": [
    {
     "name": "stdout",
     "output_type": "stream",
     "text": [
      "(91110,)\n"
     ]
    }
   ],
   "source": [
    "print(X.shape)"
   ]
  },
  {
   "cell_type": "code",
   "execution_count": 43,
   "id": "fc45639e",
   "metadata": {
    "ExecuteTime": {
     "end_time": "2022-07-15T08:47:26.918240Z",
     "start_time": "2022-07-15T08:47:26.791221Z"
    }
   },
   "outputs": [
    {
     "name": "stdout",
     "output_type": "stream",
     "text": [
      "Model: \"sequential_5\"\n",
      "_________________________________________________________________\n",
      "Layer (type)                 Output Shape              Param #   \n",
      "=================================================================\n",
      "dense_8 (Dense)              (None, 54666, 16)         32        \n",
      "_________________________________________________________________\n",
      "dense_9 (Dense)              (None, 54666, 4)          68        \n",
      "=================================================================\n",
      "Total params: 100\n",
      "Trainable params: 100\n",
      "Non-trainable params: 0\n",
      "_________________________________________________________________\n"
     ]
    }
   ],
   "source": [
    "model = Sequential()\n",
    "model.add(Dense(16, activation='relu', input_shape=(X_train.shape)))\n",
    "model.add(Dense(4, activation='sigmoid'))\n",
    "model.summary()"
   ]
  },
  {
   "cell_type": "code",
   "execution_count": 44,
   "id": "91403bc7",
   "metadata": {
    "ExecuteTime": {
     "end_time": "2022-07-15T08:47:31.346692Z",
     "start_time": "2022-07-15T08:47:31.321127Z"
    }
   },
   "outputs": [],
   "source": [
    "model.compile(optimizer=tf.keras.optimizers.Adam(learning_rate=0.001),\n",
    "              loss=tf.keras.losses.BinaryCrossentropy(),\n",
    "              metrics=['accuracy'])"
   ]
  },
  {
   "cell_type": "code",
   "execution_count": 45,
   "id": "823dfba3",
   "metadata": {
    "ExecuteTime": {
     "end_time": "2022-07-15T08:47:35.818513Z",
     "start_time": "2022-07-15T08:47:35.750190Z"
    }
   },
   "outputs": [
    {
     "ename": "ValueError",
     "evalue": "Error when checking input: expected dense_8_input to have 3 dimensions, but got array with shape (54666, 1)",
     "output_type": "error",
     "traceback": [
      "\u001b[0;31m---------------------------------------------------------------------------\u001b[0m",
      "\u001b[0;31mValueError\u001b[0m                                Traceback (most recent call last)",
      "Input \u001b[0;32mIn [45]\u001b[0m, in \u001b[0;36m<cell line: 1>\u001b[0;34m()\u001b[0m\n\u001b[0;32m----> 1\u001b[0m \u001b[43mmodel\u001b[49m\u001b[38;5;241;43m.\u001b[39;49m\u001b[43mfit\u001b[49m\u001b[43m(\u001b[49m\u001b[43mX_train\u001b[49m\u001b[43m,\u001b[49m\u001b[43m \u001b[49m\u001b[43my_train\u001b[49m\u001b[43m,\u001b[49m\u001b[43m \u001b[49m\u001b[43mbatch_size\u001b[49m\u001b[38;5;241;43m=\u001b[39;49m\u001b[38;5;241;43m16\u001b[39;49m\u001b[43m,\u001b[49m\u001b[43m \u001b[49m\u001b[43mepochs\u001b[49m\u001b[38;5;241;43m=\u001b[39;49m\u001b[38;5;241;43m20\u001b[39;49m\u001b[43m)\u001b[49m\n",
      "File \u001b[0;32m~/.conda/envs/SR/lib/python3.8/site-packages/keras/engine/training.py:1150\u001b[0m, in \u001b[0;36mModel.fit\u001b[0;34m(self, x, y, batch_size, epochs, verbose, callbacks, validation_split, validation_data, shuffle, class_weight, sample_weight, initial_epoch, steps_per_epoch, validation_steps, validation_freq, max_queue_size, workers, use_multiprocessing, **kwargs)\u001b[0m\n\u001b[1;32m   1133\u001b[0m     \u001b[38;5;28;01mreturn\u001b[39;00m \u001b[38;5;28mself\u001b[39m\u001b[38;5;241m.\u001b[39mfit_generator(\n\u001b[1;32m   1134\u001b[0m         x,\n\u001b[1;32m   1135\u001b[0m         steps_per_epoch\u001b[38;5;241m=\u001b[39msteps_per_epoch,\n\u001b[0;32m   (...)\u001b[0m\n\u001b[1;32m   1146\u001b[0m         shuffle\u001b[38;5;241m=\u001b[39mshuffle,\n\u001b[1;32m   1147\u001b[0m         initial_epoch\u001b[38;5;241m=\u001b[39minitial_epoch)\n\u001b[1;32m   1149\u001b[0m \u001b[38;5;66;03m# Case 2: Symbolic tensors or Numpy array-like.\u001b[39;00m\n\u001b[0;32m-> 1150\u001b[0m x, y, sample_weights \u001b[38;5;241m=\u001b[39m \u001b[38;5;28;43mself\u001b[39;49m\u001b[38;5;241;43m.\u001b[39;49m\u001b[43m_standardize_user_data\u001b[49m\u001b[43m(\u001b[49m\n\u001b[1;32m   1151\u001b[0m \u001b[43m    \u001b[49m\u001b[43mx\u001b[49m\u001b[43m,\u001b[49m\u001b[43m \u001b[49m\u001b[43my\u001b[49m\u001b[43m,\u001b[49m\n\u001b[1;32m   1152\u001b[0m \u001b[43m    \u001b[49m\u001b[43msample_weight\u001b[49m\u001b[38;5;241;43m=\u001b[39;49m\u001b[43msample_weight\u001b[49m\u001b[43m,\u001b[49m\n\u001b[1;32m   1153\u001b[0m \u001b[43m    \u001b[49m\u001b[43mclass_weight\u001b[49m\u001b[38;5;241;43m=\u001b[39;49m\u001b[43mclass_weight\u001b[49m\u001b[43m,\u001b[49m\n\u001b[1;32m   1154\u001b[0m \u001b[43m    \u001b[49m\u001b[43mbatch_size\u001b[49m\u001b[38;5;241;43m=\u001b[39;49m\u001b[43mbatch_size\u001b[49m\u001b[43m)\u001b[49m\n\u001b[1;32m   1156\u001b[0m \u001b[38;5;66;03m# Prepare validation data.\u001b[39;00m\n\u001b[1;32m   1157\u001b[0m do_validation \u001b[38;5;241m=\u001b[39m \u001b[38;5;28;01mFalse\u001b[39;00m\n",
      "File \u001b[0;32m~/.conda/envs/SR/lib/python3.8/site-packages/keras/engine/training.py:574\u001b[0m, in \u001b[0;36mModel._standardize_user_data\u001b[0;34m(self, x, y, sample_weight, class_weight, check_array_lengths, batch_size)\u001b[0m\n\u001b[1;32m    571\u001b[0m     feed_input_shapes \u001b[38;5;241m=\u001b[39m \u001b[38;5;28mself\u001b[39m\u001b[38;5;241m.\u001b[39m_feed_input_shapes\n\u001b[1;32m    573\u001b[0m \u001b[38;5;66;03m# Standardize the inputs.\u001b[39;00m\n\u001b[0;32m--> 574\u001b[0m x \u001b[38;5;241m=\u001b[39m \u001b[43mtraining_utils\u001b[49m\u001b[38;5;241;43m.\u001b[39;49m\u001b[43mstandardize_input_data\u001b[49m\u001b[43m(\u001b[49m\n\u001b[1;32m    575\u001b[0m \u001b[43m    \u001b[49m\u001b[43mx\u001b[49m\u001b[43m,\u001b[49m\n\u001b[1;32m    576\u001b[0m \u001b[43m    \u001b[49m\u001b[43mfeed_input_names\u001b[49m\u001b[43m,\u001b[49m\n\u001b[1;32m    577\u001b[0m \u001b[43m    \u001b[49m\u001b[43mfeed_input_shapes\u001b[49m\u001b[43m,\u001b[49m\n\u001b[1;32m    578\u001b[0m \u001b[43m    \u001b[49m\u001b[43mcheck_batch_axis\u001b[49m\u001b[38;5;241;43m=\u001b[39;49m\u001b[38;5;28;43;01mFalse\u001b[39;49;00m\u001b[43m,\u001b[49m\u001b[43m  \u001b[49m\u001b[38;5;66;43;03m# Don't enforce the batch size.\u001b[39;49;00m\n\u001b[1;32m    579\u001b[0m \u001b[43m    \u001b[49m\u001b[43mexception_prefix\u001b[49m\u001b[38;5;241;43m=\u001b[39;49m\u001b[38;5;124;43m'\u001b[39;49m\u001b[38;5;124;43minput\u001b[39;49m\u001b[38;5;124;43m'\u001b[39;49m\u001b[43m)\u001b[49m\n\u001b[1;32m    581\u001b[0m \u001b[38;5;28;01mif\u001b[39;00m y \u001b[38;5;129;01mis\u001b[39;00m \u001b[38;5;129;01mnot\u001b[39;00m \u001b[38;5;28;01mNone\u001b[39;00m:\n\u001b[1;32m    582\u001b[0m     \u001b[38;5;28;01mif\u001b[39;00m \u001b[38;5;129;01mnot\u001b[39;00m \u001b[38;5;28mself\u001b[39m\u001b[38;5;241m.\u001b[39m_is_graph_network:\n",
      "File \u001b[0;32m~/.conda/envs/SR/lib/python3.8/site-packages/keras/engine/training_utils.py:131\u001b[0m, in \u001b[0;36mstandardize_input_data\u001b[0;34m(data, names, shapes, check_batch_axis, exception_prefix)\u001b[0m\n\u001b[1;32m    129\u001b[0m shape \u001b[38;5;241m=\u001b[39m shapes[i]\n\u001b[1;32m    130\u001b[0m \u001b[38;5;28;01mif\u001b[39;00m data[i]\u001b[38;5;241m.\u001b[39mndim \u001b[38;5;241m!=\u001b[39m \u001b[38;5;28mlen\u001b[39m(shape):\n\u001b[0;32m--> 131\u001b[0m     \u001b[38;5;28;01mraise\u001b[39;00m \u001b[38;5;167;01mValueError\u001b[39;00m(\n\u001b[1;32m    132\u001b[0m         \u001b[38;5;124m'\u001b[39m\u001b[38;5;124mError when checking \u001b[39m\u001b[38;5;124m'\u001b[39m \u001b[38;5;241m+\u001b[39m exception_prefix \u001b[38;5;241m+\u001b[39m\n\u001b[1;32m    133\u001b[0m         \u001b[38;5;124m'\u001b[39m\u001b[38;5;124m: expected \u001b[39m\u001b[38;5;124m'\u001b[39m \u001b[38;5;241m+\u001b[39m names[i] \u001b[38;5;241m+\u001b[39m \u001b[38;5;124m'\u001b[39m\u001b[38;5;124m to have \u001b[39m\u001b[38;5;124m'\u001b[39m \u001b[38;5;241m+\u001b[39m\n\u001b[1;32m    134\u001b[0m         \u001b[38;5;28mstr\u001b[39m(\u001b[38;5;28mlen\u001b[39m(shape)) \u001b[38;5;241m+\u001b[39m \u001b[38;5;124m'\u001b[39m\u001b[38;5;124m dimensions, but got array \u001b[39m\u001b[38;5;124m'\u001b[39m\n\u001b[1;32m    135\u001b[0m         \u001b[38;5;124m'\u001b[39m\u001b[38;5;124mwith shape \u001b[39m\u001b[38;5;124m'\u001b[39m \u001b[38;5;241m+\u001b[39m \u001b[38;5;28mstr\u001b[39m(data_shape))\n\u001b[1;32m    136\u001b[0m \u001b[38;5;28;01mif\u001b[39;00m \u001b[38;5;129;01mnot\u001b[39;00m check_batch_axis:\n\u001b[1;32m    137\u001b[0m     data_shape \u001b[38;5;241m=\u001b[39m data_shape[\u001b[38;5;241m1\u001b[39m:]\n",
      "\u001b[0;31mValueError\u001b[0m: Error when checking input: expected dense_8_input to have 3 dimensions, but got array with shape (54666, 1)"
     ]
    }
   ],
   "source": [
    "model.fit(X_train, y_train, batch_size=16, epochs=20)"
   ]
  },
  {
   "cell_type": "code",
   "execution_count": null,
   "id": "db202de0",
   "metadata": {
    "ExecuteTime": {
     "end_time": "2022-07-14T09:19:34.210724Z",
     "start_time": "2022-07-14T09:19:33.600342Z"
    }
   },
   "outputs": [],
   "source": [
    "model.evaluate(X_train, y_train)"
   ]
  },
  {
   "cell_type": "code",
   "execution_count": null,
   "id": "9dff72de",
   "metadata": {
    "ExecuteTime": {
     "start_time": "2022-07-14T09:12:53.284Z"
    }
   },
   "outputs": [],
   "source": [
    "model.evaluate(X_valid, y_valid)"
   ]
  },
  {
   "cell_type": "code",
   "execution_count": null,
   "id": "d18ffbae",
   "metadata": {
    "ExecuteTime": {
     "start_time": "2022-07-14T09:12:54.584Z"
    }
   },
   "outputs": [],
   "source": [
    "model.evaluate(X_test, y_test)"
   ]
  },
  {
   "cell_type": "code",
   "execution_count": null,
   "id": "17dbe1a3",
   "metadata": {
    "ExecuteTime": {
     "end_time": "2022-07-14T09:29:39.756116Z",
     "start_time": "2022-07-14T09:29:39.305416Z"
    }
   },
   "outputs": [],
   "source": [
    "model = Sequential()\n",
    "model.add(LSTM(50, return_sequences=True, \n",
    "               input_shape=(X_train.shape[0], 1)))\n",
    "model.add(Dropout(0.2))\n",
    "model.add(LSTM(50, return_sequences=True))\n",
    "model.add(Dropout(0.2))\n",
    "model.add(LSTM(50))\n",
    "model.add(Dropout(0.2))\n",
    "model.add(Dense(4))\n",
    "model.summary()"
   ]
  },
  {
   "cell_type": "code",
   "execution_count": null,
   "id": "1f0774c6",
   "metadata": {},
   "outputs": [],
   "source": [
    "EMBEDDING_SIZE = 128\n",
    "HIDDEN_LAYER_SIZE = 64\n",
    "BATCH_SIZE = 32\n",
    "NUM_EPOCHS = 10\n",
    "\n",
    "model.add(Embedding(vocab_size, EMBEDDING_SIZE,input_length=MAX_SENTENCE_LENGTH))"
   ]
  },
  {
   "cell_type": "code",
   "execution_count": 26,
   "id": "b6f837e9",
   "metadata": {
    "ExecuteTime": {
     "end_time": "2022-07-14T15:35:03.787073Z",
     "start_time": "2022-07-14T15:35:00.870427Z"
    }
   },
   "outputs": [],
   "source": [
    "X = list(X)\n",
    "a = []\n",
    "count = 0\n",
    "for x in X:\n",
    "    x = x.strip(\"[]\")\n",
    "    x = x.strip()\n",
    "    x = x.split(\"\\n\")\n",
    "    b = []\n",
    "    for i in x:\n",
    "        i = i.strip()\n",
    "        i = i.split(' ')\n",
    "        b.append(i)\n",
    "    count += 1\n",
    "    a.append(b)\n",
    "\n",
    "X = np.array(a, dtype=object)"
   ]
  }
 ],
 "metadata": {
  "hide_input": false,
  "kernelspec": {
   "display_name": "SR",
   "language": "python",
   "name": "sr"
  },
  "language_info": {
   "codemirror_mode": {
    "name": "ipython",
    "version": 3
   },
   "file_extension": ".py",
   "mimetype": "text/x-python",
   "name": "python",
   "nbconvert_exporter": "python",
   "pygments_lexer": "ipython3",
   "version": "3.8.13"
  },
  "toc": {
   "base_numbering": 1,
   "nav_menu": {},
   "number_sections": true,
   "sideBar": true,
   "skip_h1_title": false,
   "title_cell": "Table of Contents",
   "title_sidebar": "Contents",
   "toc_cell": false,
   "toc_position": {},
   "toc_section_display": true,
   "toc_window_display": false
  },
  "varInspector": {
   "cols": {
    "lenName": 16,
    "lenType": 16,
    "lenVar": 40
   },
   "kernels_config": {
    "python": {
     "delete_cmd_postfix": "",
     "delete_cmd_prefix": "del ",
     "library": "var_list.py",
     "varRefreshCmd": "print(var_dic_list())"
    },
    "r": {
     "delete_cmd_postfix": ") ",
     "delete_cmd_prefix": "rm(",
     "library": "var_list.r",
     "varRefreshCmd": "cat(var_dic_list()) "
    }
   },
   "types_to_exclude": [
    "module",
    "function",
    "builtin_function_or_method",
    "instance",
    "_Feature"
   ],
   "window_display": false
  }
 },
 "nbformat": 4,
 "nbformat_minor": 5
}
